{
 "cells": [
  {
   "cell_type": "markdown",
   "metadata": {
    "id": "KkjE_WtP2FmF",
    "slideshow": {
     "slide_type": "slide"
    }
   },
   "source": [
    "# Cancer Mortality Rate Prediction"
   ]
  },
  {
   "cell_type": "markdown",
   "metadata": {
    "id": "oSEICHXcMKp8",
    "slideshow": {
     "slide_type": "skip"
    }
   },
   "source": [
    "# Frame the problem"
   ]
  },
  {
   "cell_type": "markdown",
   "metadata": {
    "id": "AakF2UDrMUff"
   },
   "source": [
    "## Objective: "
   ]
  },
  {
   "cell_type": "markdown",
   "metadata": {
    "id": "Tj4jETyLON32"
   },
   "source": [
    "The objective of this project is to predict cancer mortality rates using data from several counties in the United States. \n",
    "In this presentation I will show you how I designed my solution to predicting cancer mortality rates using a machine learning algorithm. "
   ]
  },
  {
   "cell_type": "markdown",
   "metadata": {
    "id": "0aOoNC7SMbdg",
    "slideshow": {
     "slide_type": "slide"
    }
   },
   "source": [
    "## Type of Task: "
   ]
  },
  {
   "cell_type": "markdown",
   "metadata": {
    "id": "hkGGx_0INO0Z"
   },
   "source": [
    "This task would fall into supervised learning because the model would be trained with labeled examples and each instance comes with an expected output. "
   ]
  },
  {
   "cell_type": "markdown",
   "metadata": {
    "id": "9fPkWVZ9NnB3",
    "slideshow": {
     "slide_type": "-"
    }
   },
   "source": [
    "## How will model performance be measured?"
   ]
  },
  {
   "cell_type": "markdown",
   "metadata": {
    "id": "UewiovqjO-q0"
   },
   "source": [
    "My solution for predicting cancer mortality rates will be using the root mean squared error performance measure. I have selected this performance measure because it the performance measure I am most familiar with using, and for many it is the performance measure of choice for regression-based machine learning algorithms."
   ]
  },
  {
   "cell_type": "markdown",
   "metadata": {
    "id": "Wq_0Ov689jdh",
    "slideshow": {
     "slide_type": "slide"
    }
   },
   "source": [
    "# Obtaining and Downloading Data"
   ]
  },
  {
   "cell_type": "markdown",
   "metadata": {},
   "source": [
    "The dataset being used for this solution will be the OLS Regression challenge dataset collected and formed by the user Noah Rippner from https://data.world/. The exact dataset can be found from the following hyperlink. https://data.world/nrippner/ols-regression-challenge"
   ]
  },
  {
   "cell_type": "code",
   "execution_count": 1,
   "metadata": {
    "id": "ZiYZMDdi7cEd"
   },
   "outputs": [],
   "source": [
    "import pandas as pd\n",
    "import numpy as np\n",
    "import matplotlib.pyplot as plt\n",
    "import seaborn as sns"
   ]
  },
  {
   "cell_type": "code",
   "execution_count": 2,
   "metadata": {
    "id": "PE9-Mq_48PiO"
   },
   "outputs": [],
   "source": [
    "url = \"https://query.data.world/s/muw4qlj3euwikk2x5ekfdey6cfokwj\"\n",
    "df = pd.read_csv(url, encoding='latin-1')"
   ]
  },
  {
   "cell_type": "markdown",
   "metadata": {
    "id": "MRXuFth_9nCY",
    "slideshow": {
     "slide_type": "slide"
    }
   },
   "source": [
    "## Examine Data"
   ]
  },
  {
   "cell_type": "markdown",
   "metadata": {
    "id": "IyMfQLjl2h-Z"
   },
   "source": [
    "Here we can see that there is numerical data, categorical, null data, and a lot of atttributes. "
   ]
  },
  {
   "cell_type": "code",
   "execution_count": 3,
   "metadata": {
    "colab": {
     "base_uri": "https://localhost:8080/",
     "height": 386
    },
    "id": "ujYI_WaV8zsc",
    "outputId": "bd0927c9-3f22-4a28-d8c4-8f897b0887fc"
   },
   "outputs": [
    {
     "data": {
      "text/html": [
       "\n",
       "  <div id=\"df-ccb12075-7c14-4ee8-92b0-4850338032db\">\n",
       "    <div class=\"colab-df-container\">\n",
       "      <div>\n",
       "<style scoped>\n",
       "    .dataframe tbody tr th:only-of-type {\n",
       "        vertical-align: middle;\n",
       "    }\n",
       "\n",
       "    .dataframe tbody tr th {\n",
       "        vertical-align: top;\n",
       "    }\n",
       "\n",
       "    .dataframe thead th {\n",
       "        text-align: right;\n",
       "    }\n",
       "</style>\n",
       "<table border=\"1\" class=\"dataframe\">\n",
       "  <thead>\n",
       "    <tr style=\"text-align: right;\">\n",
       "      <th></th>\n",
       "      <th>avgAnnCount</th>\n",
       "      <th>avgDeathsPerYear</th>\n",
       "      <th>TARGET_deathRate</th>\n",
       "      <th>incidenceRate</th>\n",
       "      <th>medIncome</th>\n",
       "      <th>popEst2015</th>\n",
       "      <th>povertyPercent</th>\n",
       "      <th>studyPerCap</th>\n",
       "      <th>binnedInc</th>\n",
       "      <th>MedianAge</th>\n",
       "      <th>...</th>\n",
       "      <th>PctPrivateCoverageAlone</th>\n",
       "      <th>PctEmpPrivCoverage</th>\n",
       "      <th>PctPublicCoverage</th>\n",
       "      <th>PctPublicCoverageAlone</th>\n",
       "      <th>PctWhite</th>\n",
       "      <th>PctBlack</th>\n",
       "      <th>PctAsian</th>\n",
       "      <th>PctOtherRace</th>\n",
       "      <th>PctMarriedHouseholds</th>\n",
       "      <th>BirthRate</th>\n",
       "    </tr>\n",
       "  </thead>\n",
       "  <tbody>\n",
       "    <tr>\n",
       "      <th>0</th>\n",
       "      <td>1397.0</td>\n",
       "      <td>469</td>\n",
       "      <td>164.9</td>\n",
       "      <td>489.8</td>\n",
       "      <td>61898</td>\n",
       "      <td>260131</td>\n",
       "      <td>11.2</td>\n",
       "      <td>499.748204</td>\n",
       "      <td>(61494.5, 125635]</td>\n",
       "      <td>39.3</td>\n",
       "      <td>...</td>\n",
       "      <td>NaN</td>\n",
       "      <td>41.6</td>\n",
       "      <td>32.9</td>\n",
       "      <td>14.0</td>\n",
       "      <td>81.780529</td>\n",
       "      <td>2.594728</td>\n",
       "      <td>4.821857</td>\n",
       "      <td>1.843479</td>\n",
       "      <td>52.856076</td>\n",
       "      <td>6.118831</td>\n",
       "    </tr>\n",
       "    <tr>\n",
       "      <th>1</th>\n",
       "      <td>173.0</td>\n",
       "      <td>70</td>\n",
       "      <td>161.3</td>\n",
       "      <td>411.6</td>\n",
       "      <td>48127</td>\n",
       "      <td>43269</td>\n",
       "      <td>18.6</td>\n",
       "      <td>23.111234</td>\n",
       "      <td>(48021.6, 51046.4]</td>\n",
       "      <td>33.0</td>\n",
       "      <td>...</td>\n",
       "      <td>53.8</td>\n",
       "      <td>43.6</td>\n",
       "      <td>31.1</td>\n",
       "      <td>15.3</td>\n",
       "      <td>89.228509</td>\n",
       "      <td>0.969102</td>\n",
       "      <td>2.246233</td>\n",
       "      <td>3.741352</td>\n",
       "      <td>45.372500</td>\n",
       "      <td>4.333096</td>\n",
       "    </tr>\n",
       "    <tr>\n",
       "      <th>2</th>\n",
       "      <td>102.0</td>\n",
       "      <td>50</td>\n",
       "      <td>174.7</td>\n",
       "      <td>349.7</td>\n",
       "      <td>49348</td>\n",
       "      <td>21026</td>\n",
       "      <td>14.6</td>\n",
       "      <td>47.560164</td>\n",
       "      <td>(48021.6, 51046.4]</td>\n",
       "      <td>45.0</td>\n",
       "      <td>...</td>\n",
       "      <td>43.5</td>\n",
       "      <td>34.9</td>\n",
       "      <td>42.1</td>\n",
       "      <td>21.1</td>\n",
       "      <td>90.922190</td>\n",
       "      <td>0.739673</td>\n",
       "      <td>0.465898</td>\n",
       "      <td>2.747358</td>\n",
       "      <td>54.444868</td>\n",
       "      <td>3.729488</td>\n",
       "    </tr>\n",
       "    <tr>\n",
       "      <th>3</th>\n",
       "      <td>427.0</td>\n",
       "      <td>202</td>\n",
       "      <td>194.8</td>\n",
       "      <td>430.4</td>\n",
       "      <td>44243</td>\n",
       "      <td>75882</td>\n",
       "      <td>17.1</td>\n",
       "      <td>342.637253</td>\n",
       "      <td>(42724.4, 45201]</td>\n",
       "      <td>42.8</td>\n",
       "      <td>...</td>\n",
       "      <td>40.3</td>\n",
       "      <td>35.0</td>\n",
       "      <td>45.3</td>\n",
       "      <td>25.0</td>\n",
       "      <td>91.744686</td>\n",
       "      <td>0.782626</td>\n",
       "      <td>1.161359</td>\n",
       "      <td>1.362643</td>\n",
       "      <td>51.021514</td>\n",
       "      <td>4.603841</td>\n",
       "    </tr>\n",
       "    <tr>\n",
       "      <th>4</th>\n",
       "      <td>57.0</td>\n",
       "      <td>26</td>\n",
       "      <td>144.4</td>\n",
       "      <td>350.1</td>\n",
       "      <td>49955</td>\n",
       "      <td>10321</td>\n",
       "      <td>12.5</td>\n",
       "      <td>0.000000</td>\n",
       "      <td>(48021.6, 51046.4]</td>\n",
       "      <td>48.3</td>\n",
       "      <td>...</td>\n",
       "      <td>43.9</td>\n",
       "      <td>35.1</td>\n",
       "      <td>44.0</td>\n",
       "      <td>22.7</td>\n",
       "      <td>94.104024</td>\n",
       "      <td>0.270192</td>\n",
       "      <td>0.665830</td>\n",
       "      <td>0.492135</td>\n",
       "      <td>54.027460</td>\n",
       "      <td>6.796657</td>\n",
       "    </tr>\n",
       "  </tbody>\n",
       "</table>\n",
       "<p>5 rows × 34 columns</p>\n",
       "</div>\n",
       "      <button class=\"colab-df-convert\" onclick=\"convertToInteractive('df-ccb12075-7c14-4ee8-92b0-4850338032db')\"\n",
       "              title=\"Convert this dataframe to an interactive table.\"\n",
       "              style=\"display:none;\">\n",
       "        \n",
       "  <svg xmlns=\"http://www.w3.org/2000/svg\" height=\"24px\"viewBox=\"0 0 24 24\"\n",
       "       width=\"24px\">\n",
       "    <path d=\"M0 0h24v24H0V0z\" fill=\"none\"/>\n",
       "    <path d=\"M18.56 5.44l.94 2.06.94-2.06 2.06-.94-2.06-.94-.94-2.06-.94 2.06-2.06.94zm-11 1L8.5 8.5l.94-2.06 2.06-.94-2.06-.94L8.5 2.5l-.94 2.06-2.06.94zm10 10l.94 2.06.94-2.06 2.06-.94-2.06-.94-.94-2.06-.94 2.06-2.06.94z\"/><path d=\"M17.41 7.96l-1.37-1.37c-.4-.4-.92-.59-1.43-.59-.52 0-1.04.2-1.43.59L10.3 9.45l-7.72 7.72c-.78.78-.78 2.05 0 2.83L4 21.41c.39.39.9.59 1.41.59.51 0 1.02-.2 1.41-.59l7.78-7.78 2.81-2.81c.8-.78.8-2.07 0-2.86zM5.41 20L4 18.59l7.72-7.72 1.47 1.35L5.41 20z\"/>\n",
       "  </svg>\n",
       "      </button>\n",
       "      \n",
       "  <style>\n",
       "    .colab-df-container {\n",
       "      display:flex;\n",
       "      flex-wrap:wrap;\n",
       "      gap: 12px;\n",
       "    }\n",
       "\n",
       "    .colab-df-convert {\n",
       "      background-color: #E8F0FE;\n",
       "      border: none;\n",
       "      border-radius: 50%;\n",
       "      cursor: pointer;\n",
       "      display: none;\n",
       "      fill: #1967D2;\n",
       "      height: 32px;\n",
       "      padding: 0 0 0 0;\n",
       "      width: 32px;\n",
       "    }\n",
       "\n",
       "    .colab-df-convert:hover {\n",
       "      background-color: #E2EBFA;\n",
       "      box-shadow: 0px 1px 2px rgba(60, 64, 67, 0.3), 0px 1px 3px 1px rgba(60, 64, 67, 0.15);\n",
       "      fill: #174EA6;\n",
       "    }\n",
       "\n",
       "    [theme=dark] .colab-df-convert {\n",
       "      background-color: #3B4455;\n",
       "      fill: #D2E3FC;\n",
       "    }\n",
       "\n",
       "    [theme=dark] .colab-df-convert:hover {\n",
       "      background-color: #434B5C;\n",
       "      box-shadow: 0px 1px 3px 1px rgba(0, 0, 0, 0.15);\n",
       "      filter: drop-shadow(0px 1px 2px rgba(0, 0, 0, 0.3));\n",
       "      fill: #FFFFFF;\n",
       "    }\n",
       "  </style>\n",
       "\n",
       "      <script>\n",
       "        const buttonEl =\n",
       "          document.querySelector('#df-ccb12075-7c14-4ee8-92b0-4850338032db button.colab-df-convert');\n",
       "        buttonEl.style.display =\n",
       "          google.colab.kernel.accessAllowed ? 'block' : 'none';\n",
       "\n",
       "        async function convertToInteractive(key) {\n",
       "          const element = document.querySelector('#df-ccb12075-7c14-4ee8-92b0-4850338032db');\n",
       "          const dataTable =\n",
       "            await google.colab.kernel.invokeFunction('convertToInteractive',\n",
       "                                                     [key], {});\n",
       "          if (!dataTable) return;\n",
       "\n",
       "          const docLinkHtml = 'Like what you see? Visit the ' +\n",
       "            '<a target=\"_blank\" href=https://colab.research.google.com/notebooks/data_table.ipynb>data table notebook</a>'\n",
       "            + ' to learn more about interactive tables.';\n",
       "          element.innerHTML = '';\n",
       "          dataTable['output_type'] = 'display_data';\n",
       "          await google.colab.output.renderOutput(dataTable, element);\n",
       "          const docLink = document.createElement('div');\n",
       "          docLink.innerHTML = docLinkHtml;\n",
       "          element.appendChild(docLink);\n",
       "        }\n",
       "      </script>\n",
       "    </div>\n",
       "  </div>\n",
       "  "
      ],
      "text/plain": [
       "   avgAnnCount  avgDeathsPerYear  TARGET_deathRate  incidenceRate  medIncome  \\\n",
       "0       1397.0               469             164.9          489.8      61898   \n",
       "1        173.0                70             161.3          411.6      48127   \n",
       "2        102.0                50             174.7          349.7      49348   \n",
       "3        427.0               202             194.8          430.4      44243   \n",
       "4         57.0                26             144.4          350.1      49955   \n",
       "\n",
       "   popEst2015  povertyPercent  studyPerCap           binnedInc  MedianAge  \\\n",
       "0      260131            11.2   499.748204   (61494.5, 125635]       39.3   \n",
       "1       43269            18.6    23.111234  (48021.6, 51046.4]       33.0   \n",
       "2       21026            14.6    47.560164  (48021.6, 51046.4]       45.0   \n",
       "3       75882            17.1   342.637253    (42724.4, 45201]       42.8   \n",
       "4       10321            12.5     0.000000  (48021.6, 51046.4]       48.3   \n",
       "\n",
       "   ...  PctPrivateCoverageAlone  PctEmpPrivCoverage PctPublicCoverage  \\\n",
       "0  ...                      NaN                41.6              32.9   \n",
       "1  ...                     53.8                43.6              31.1   \n",
       "2  ...                     43.5                34.9              42.1   \n",
       "3  ...                     40.3                35.0              45.3   \n",
       "4  ...                     43.9                35.1              44.0   \n",
       "\n",
       "   PctPublicCoverageAlone   PctWhite  PctBlack  PctAsian  PctOtherRace  \\\n",
       "0                    14.0  81.780529  2.594728  4.821857      1.843479   \n",
       "1                    15.3  89.228509  0.969102  2.246233      3.741352   \n",
       "2                    21.1  90.922190  0.739673  0.465898      2.747358   \n",
       "3                    25.0  91.744686  0.782626  1.161359      1.362643   \n",
       "4                    22.7  94.104024  0.270192  0.665830      0.492135   \n",
       "\n",
       "   PctMarriedHouseholds  BirthRate  \n",
       "0             52.856076   6.118831  \n",
       "1             45.372500   4.333096  \n",
       "2             54.444868   3.729488  \n",
       "3             51.021514   4.603841  \n",
       "4             54.027460   6.796657  \n",
       "\n",
       "[5 rows x 34 columns]"
      ]
     },
     "execution_count": 3,
     "metadata": {},
     "output_type": "execute_result"
    }
   ],
   "source": [
    "df.head()"
   ]
  },
  {
   "cell_type": "code",
   "execution_count": 4,
   "metadata": {
    "colab": {
     "base_uri": "https://localhost:8080/"
    },
    "id": "C095AnbP9MOm",
    "outputId": "6ba24ec7-c4ba-4e13-dbdf-32be5255b216",
    "scrolled": true,
    "slideshow": {
     "slide_type": "slide"
    }
   },
   "outputs": [
    {
     "name": "stdout",
     "output_type": "stream",
     "text": [
      "<class 'pandas.core.frame.DataFrame'>\n",
      "RangeIndex: 3047 entries, 0 to 3046\n",
      "Data columns (total 34 columns):\n",
      " #   Column                   Non-Null Count  Dtype  \n",
      "---  ------                   --------------  -----  \n",
      " 0   avgAnnCount              3047 non-null   float64\n",
      " 1   avgDeathsPerYear         3047 non-null   int64  \n",
      " 2   TARGET_deathRate         3047 non-null   float64\n",
      " 3   incidenceRate            3047 non-null   float64\n",
      " 4   medIncome                3047 non-null   int64  \n",
      " 5   popEst2015               3047 non-null   int64  \n",
      " 6   povertyPercent           3047 non-null   float64\n",
      " 7   studyPerCap              3047 non-null   float64\n",
      " 8   binnedInc                3047 non-null   object \n",
      " 9   MedianAge                3047 non-null   float64\n",
      " 10  MedianAgeMale            3047 non-null   float64\n",
      " 11  MedianAgeFemale          3047 non-null   float64\n",
      " 12  Geography                3047 non-null   object \n",
      " 13  AvgHouseholdSize         3047 non-null   float64\n",
      " 14  PercentMarried           3047 non-null   float64\n",
      " 15  PctNoHS18_24             3047 non-null   float64\n",
      " 16  PctHS18_24               3047 non-null   float64\n",
      " 17  PctSomeCol18_24          762 non-null    float64\n",
      " 18  PctBachDeg18_24          3047 non-null   float64\n",
      " 19  PctHS25_Over             3047 non-null   float64\n",
      " 20  PctBachDeg25_Over        3047 non-null   float64\n",
      " 21  PctEmployed16_Over       2895 non-null   float64\n",
      " 22  PctUnemployed16_Over     3047 non-null   float64\n",
      " 23  PctPrivateCoverage       3047 non-null   float64\n",
      " 24  PctPrivateCoverageAlone  2438 non-null   float64\n",
      " 25  PctEmpPrivCoverage       3047 non-null   float64\n",
      " 26  PctPublicCoverage        3047 non-null   float64\n",
      " 27  PctPublicCoverageAlone   3047 non-null   float64\n",
      " 28  PctWhite                 3047 non-null   float64\n",
      " 29  PctBlack                 3047 non-null   float64\n",
      " 30  PctAsian                 3047 non-null   float64\n",
      " 31  PctOtherRace             3047 non-null   float64\n",
      " 32  PctMarriedHouseholds     3047 non-null   float64\n",
      " 33  BirthRate                3047 non-null   float64\n",
      "dtypes: float64(29), int64(3), object(2)\n",
      "memory usage: 809.5+ KB\n"
     ]
    }
   ],
   "source": [
    "df.info()"
   ]
  },
  {
   "cell_type": "code",
   "execution_count": 5,
   "metadata": {
    "colab": {
     "base_uri": "https://localhost:8080/",
     "height": 394
    },
    "id": "UvoG93V59WR8",
    "outputId": "f99a07b7-c9a3-49aa-f175-2f5fa888ba28",
    "slideshow": {
     "slide_type": "slide"
    }
   },
   "outputs": [
    {
     "data": {
      "text/html": [
       "\n",
       "  <div id=\"df-bb5b2bb7-23cd-4eec-8529-392c44794c9e\">\n",
       "    <div class=\"colab-df-container\">\n",
       "      <div>\n",
       "<style scoped>\n",
       "    .dataframe tbody tr th:only-of-type {\n",
       "        vertical-align: middle;\n",
       "    }\n",
       "\n",
       "    .dataframe tbody tr th {\n",
       "        vertical-align: top;\n",
       "    }\n",
       "\n",
       "    .dataframe thead th {\n",
       "        text-align: right;\n",
       "    }\n",
       "</style>\n",
       "<table border=\"1\" class=\"dataframe\">\n",
       "  <thead>\n",
       "    <tr style=\"text-align: right;\">\n",
       "      <th></th>\n",
       "      <th>avgAnnCount</th>\n",
       "      <th>avgDeathsPerYear</th>\n",
       "      <th>TARGET_deathRate</th>\n",
       "      <th>incidenceRate</th>\n",
       "      <th>medIncome</th>\n",
       "      <th>popEst2015</th>\n",
       "      <th>povertyPercent</th>\n",
       "      <th>studyPerCap</th>\n",
       "      <th>MedianAge</th>\n",
       "      <th>MedianAgeMale</th>\n",
       "      <th>...</th>\n",
       "      <th>PctPrivateCoverageAlone</th>\n",
       "      <th>PctEmpPrivCoverage</th>\n",
       "      <th>PctPublicCoverage</th>\n",
       "      <th>PctPublicCoverageAlone</th>\n",
       "      <th>PctWhite</th>\n",
       "      <th>PctBlack</th>\n",
       "      <th>PctAsian</th>\n",
       "      <th>PctOtherRace</th>\n",
       "      <th>PctMarriedHouseholds</th>\n",
       "      <th>BirthRate</th>\n",
       "    </tr>\n",
       "  </thead>\n",
       "  <tbody>\n",
       "    <tr>\n",
       "      <th>count</th>\n",
       "      <td>3047.000000</td>\n",
       "      <td>3047.000000</td>\n",
       "      <td>3047.000000</td>\n",
       "      <td>3047.000000</td>\n",
       "      <td>3047.000000</td>\n",
       "      <td>3.047000e+03</td>\n",
       "      <td>3047.000000</td>\n",
       "      <td>3047.000000</td>\n",
       "      <td>3047.000000</td>\n",
       "      <td>3047.000000</td>\n",
       "      <td>...</td>\n",
       "      <td>2438.000000</td>\n",
       "      <td>3047.000000</td>\n",
       "      <td>3047.000000</td>\n",
       "      <td>3047.000000</td>\n",
       "      <td>3047.000000</td>\n",
       "      <td>3047.000000</td>\n",
       "      <td>3047.000000</td>\n",
       "      <td>3047.000000</td>\n",
       "      <td>3047.000000</td>\n",
       "      <td>3047.000000</td>\n",
       "    </tr>\n",
       "    <tr>\n",
       "      <th>mean</th>\n",
       "      <td>606.338544</td>\n",
       "      <td>185.965868</td>\n",
       "      <td>178.664063</td>\n",
       "      <td>448.268586</td>\n",
       "      <td>47063.281917</td>\n",
       "      <td>1.026374e+05</td>\n",
       "      <td>16.878175</td>\n",
       "      <td>155.399415</td>\n",
       "      <td>45.272333</td>\n",
       "      <td>39.570725</td>\n",
       "      <td>...</td>\n",
       "      <td>48.453774</td>\n",
       "      <td>41.196324</td>\n",
       "      <td>36.252642</td>\n",
       "      <td>19.240072</td>\n",
       "      <td>83.645286</td>\n",
       "      <td>9.107978</td>\n",
       "      <td>1.253965</td>\n",
       "      <td>1.983523</td>\n",
       "      <td>51.243872</td>\n",
       "      <td>5.640306</td>\n",
       "    </tr>\n",
       "    <tr>\n",
       "      <th>std</th>\n",
       "      <td>1416.356223</td>\n",
       "      <td>504.134286</td>\n",
       "      <td>27.751511</td>\n",
       "      <td>54.560733</td>\n",
       "      <td>12040.090836</td>\n",
       "      <td>3.290592e+05</td>\n",
       "      <td>6.409087</td>\n",
       "      <td>529.628366</td>\n",
       "      <td>45.304480</td>\n",
       "      <td>5.226017</td>\n",
       "      <td>...</td>\n",
       "      <td>10.083006</td>\n",
       "      <td>9.447687</td>\n",
       "      <td>7.841741</td>\n",
       "      <td>6.113041</td>\n",
       "      <td>16.380025</td>\n",
       "      <td>14.534538</td>\n",
       "      <td>2.610276</td>\n",
       "      <td>3.517710</td>\n",
       "      <td>6.572814</td>\n",
       "      <td>1.985816</td>\n",
       "    </tr>\n",
       "    <tr>\n",
       "      <th>min</th>\n",
       "      <td>6.000000</td>\n",
       "      <td>3.000000</td>\n",
       "      <td>59.700000</td>\n",
       "      <td>201.300000</td>\n",
       "      <td>22640.000000</td>\n",
       "      <td>8.270000e+02</td>\n",
       "      <td>3.200000</td>\n",
       "      <td>0.000000</td>\n",
       "      <td>22.300000</td>\n",
       "      <td>22.400000</td>\n",
       "      <td>...</td>\n",
       "      <td>15.700000</td>\n",
       "      <td>13.500000</td>\n",
       "      <td>11.200000</td>\n",
       "      <td>2.600000</td>\n",
       "      <td>10.199155</td>\n",
       "      <td>0.000000</td>\n",
       "      <td>0.000000</td>\n",
       "      <td>0.000000</td>\n",
       "      <td>22.992490</td>\n",
       "      <td>0.000000</td>\n",
       "    </tr>\n",
       "    <tr>\n",
       "      <th>25%</th>\n",
       "      <td>76.000000</td>\n",
       "      <td>28.000000</td>\n",
       "      <td>161.200000</td>\n",
       "      <td>420.300000</td>\n",
       "      <td>38882.500000</td>\n",
       "      <td>1.168400e+04</td>\n",
       "      <td>12.150000</td>\n",
       "      <td>0.000000</td>\n",
       "      <td>37.700000</td>\n",
       "      <td>36.350000</td>\n",
       "      <td>...</td>\n",
       "      <td>41.000000</td>\n",
       "      <td>34.500000</td>\n",
       "      <td>30.900000</td>\n",
       "      <td>14.850000</td>\n",
       "      <td>77.296180</td>\n",
       "      <td>0.620675</td>\n",
       "      <td>0.254199</td>\n",
       "      <td>0.295172</td>\n",
       "      <td>47.763063</td>\n",
       "      <td>4.521419</td>\n",
       "    </tr>\n",
       "    <tr>\n",
       "      <th>50%</th>\n",
       "      <td>171.000000</td>\n",
       "      <td>61.000000</td>\n",
       "      <td>178.100000</td>\n",
       "      <td>453.549422</td>\n",
       "      <td>45207.000000</td>\n",
       "      <td>2.664300e+04</td>\n",
       "      <td>15.900000</td>\n",
       "      <td>0.000000</td>\n",
       "      <td>41.000000</td>\n",
       "      <td>39.600000</td>\n",
       "      <td>...</td>\n",
       "      <td>48.700000</td>\n",
       "      <td>41.100000</td>\n",
       "      <td>36.300000</td>\n",
       "      <td>18.800000</td>\n",
       "      <td>90.059774</td>\n",
       "      <td>2.247576</td>\n",
       "      <td>0.549812</td>\n",
       "      <td>0.826185</td>\n",
       "      <td>51.669941</td>\n",
       "      <td>5.381478</td>\n",
       "    </tr>\n",
       "    <tr>\n",
       "      <th>75%</th>\n",
       "      <td>518.000000</td>\n",
       "      <td>149.000000</td>\n",
       "      <td>195.200000</td>\n",
       "      <td>480.850000</td>\n",
       "      <td>52492.000000</td>\n",
       "      <td>6.867100e+04</td>\n",
       "      <td>20.400000</td>\n",
       "      <td>83.650776</td>\n",
       "      <td>44.000000</td>\n",
       "      <td>42.500000</td>\n",
       "      <td>...</td>\n",
       "      <td>55.600000</td>\n",
       "      <td>47.700000</td>\n",
       "      <td>41.550000</td>\n",
       "      <td>23.100000</td>\n",
       "      <td>95.451693</td>\n",
       "      <td>10.509732</td>\n",
       "      <td>1.221037</td>\n",
       "      <td>2.177960</td>\n",
       "      <td>55.395132</td>\n",
       "      <td>6.493677</td>\n",
       "    </tr>\n",
       "    <tr>\n",
       "      <th>max</th>\n",
       "      <td>38150.000000</td>\n",
       "      <td>14010.000000</td>\n",
       "      <td>362.800000</td>\n",
       "      <td>1206.900000</td>\n",
       "      <td>125635.000000</td>\n",
       "      <td>1.017029e+07</td>\n",
       "      <td>47.400000</td>\n",
       "      <td>9762.308998</td>\n",
       "      <td>624.000000</td>\n",
       "      <td>64.700000</td>\n",
       "      <td>...</td>\n",
       "      <td>78.900000</td>\n",
       "      <td>70.700000</td>\n",
       "      <td>65.100000</td>\n",
       "      <td>46.600000</td>\n",
       "      <td>100.000000</td>\n",
       "      <td>85.947799</td>\n",
       "      <td>42.619425</td>\n",
       "      <td>41.930251</td>\n",
       "      <td>78.075397</td>\n",
       "      <td>21.326165</td>\n",
       "    </tr>\n",
       "  </tbody>\n",
       "</table>\n",
       "<p>8 rows × 32 columns</p>\n",
       "</div>\n",
       "      <button class=\"colab-df-convert\" onclick=\"convertToInteractive('df-bb5b2bb7-23cd-4eec-8529-392c44794c9e')\"\n",
       "              title=\"Convert this dataframe to an interactive table.\"\n",
       "              style=\"display:none;\">\n",
       "        \n",
       "  <svg xmlns=\"http://www.w3.org/2000/svg\" height=\"24px\"viewBox=\"0 0 24 24\"\n",
       "       width=\"24px\">\n",
       "    <path d=\"M0 0h24v24H0V0z\" fill=\"none\"/>\n",
       "    <path d=\"M18.56 5.44l.94 2.06.94-2.06 2.06-.94-2.06-.94-.94-2.06-.94 2.06-2.06.94zm-11 1L8.5 8.5l.94-2.06 2.06-.94-2.06-.94L8.5 2.5l-.94 2.06-2.06.94zm10 10l.94 2.06.94-2.06 2.06-.94-2.06-.94-.94-2.06-.94 2.06-2.06.94z\"/><path d=\"M17.41 7.96l-1.37-1.37c-.4-.4-.92-.59-1.43-.59-.52 0-1.04.2-1.43.59L10.3 9.45l-7.72 7.72c-.78.78-.78 2.05 0 2.83L4 21.41c.39.39.9.59 1.41.59.51 0 1.02-.2 1.41-.59l7.78-7.78 2.81-2.81c.8-.78.8-2.07 0-2.86zM5.41 20L4 18.59l7.72-7.72 1.47 1.35L5.41 20z\"/>\n",
       "  </svg>\n",
       "      </button>\n",
       "      \n",
       "  <style>\n",
       "    .colab-df-container {\n",
       "      display:flex;\n",
       "      flex-wrap:wrap;\n",
       "      gap: 12px;\n",
       "    }\n",
       "\n",
       "    .colab-df-convert {\n",
       "      background-color: #E8F0FE;\n",
       "      border: none;\n",
       "      border-radius: 50%;\n",
       "      cursor: pointer;\n",
       "      display: none;\n",
       "      fill: #1967D2;\n",
       "      height: 32px;\n",
       "      padding: 0 0 0 0;\n",
       "      width: 32px;\n",
       "    }\n",
       "\n",
       "    .colab-df-convert:hover {\n",
       "      background-color: #E2EBFA;\n",
       "      box-shadow: 0px 1px 2px rgba(60, 64, 67, 0.3), 0px 1px 3px 1px rgba(60, 64, 67, 0.15);\n",
       "      fill: #174EA6;\n",
       "    }\n",
       "\n",
       "    [theme=dark] .colab-df-convert {\n",
       "      background-color: #3B4455;\n",
       "      fill: #D2E3FC;\n",
       "    }\n",
       "\n",
       "    [theme=dark] .colab-df-convert:hover {\n",
       "      background-color: #434B5C;\n",
       "      box-shadow: 0px 1px 3px 1px rgba(0, 0, 0, 0.15);\n",
       "      filter: drop-shadow(0px 1px 2px rgba(0, 0, 0, 0.3));\n",
       "      fill: #FFFFFF;\n",
       "    }\n",
       "  </style>\n",
       "\n",
       "      <script>\n",
       "        const buttonEl =\n",
       "          document.querySelector('#df-bb5b2bb7-23cd-4eec-8529-392c44794c9e button.colab-df-convert');\n",
       "        buttonEl.style.display =\n",
       "          google.colab.kernel.accessAllowed ? 'block' : 'none';\n",
       "\n",
       "        async function convertToInteractive(key) {\n",
       "          const element = document.querySelector('#df-bb5b2bb7-23cd-4eec-8529-392c44794c9e');\n",
       "          const dataTable =\n",
       "            await google.colab.kernel.invokeFunction('convertToInteractive',\n",
       "                                                     [key], {});\n",
       "          if (!dataTable) return;\n",
       "\n",
       "          const docLinkHtml = 'Like what you see? Visit the ' +\n",
       "            '<a target=\"_blank\" href=https://colab.research.google.com/notebooks/data_table.ipynb>data table notebook</a>'\n",
       "            + ' to learn more about interactive tables.';\n",
       "          element.innerHTML = '';\n",
       "          dataTable['output_type'] = 'display_data';\n",
       "          await google.colab.output.renderOutput(dataTable, element);\n",
       "          const docLink = document.createElement('div');\n",
       "          docLink.innerHTML = docLinkHtml;\n",
       "          element.appendChild(docLink);\n",
       "        }\n",
       "      </script>\n",
       "    </div>\n",
       "  </div>\n",
       "  "
      ],
      "text/plain": [
       "        avgAnnCount  avgDeathsPerYear  TARGET_deathRate  incidenceRate  \\\n",
       "count   3047.000000       3047.000000       3047.000000    3047.000000   \n",
       "mean     606.338544        185.965868        178.664063     448.268586   \n",
       "std     1416.356223        504.134286         27.751511      54.560733   \n",
       "min        6.000000          3.000000         59.700000     201.300000   \n",
       "25%       76.000000         28.000000        161.200000     420.300000   \n",
       "50%      171.000000         61.000000        178.100000     453.549422   \n",
       "75%      518.000000        149.000000        195.200000     480.850000   \n",
       "max    38150.000000      14010.000000        362.800000    1206.900000   \n",
       "\n",
       "           medIncome    popEst2015  povertyPercent  studyPerCap    MedianAge  \\\n",
       "count    3047.000000  3.047000e+03     3047.000000  3047.000000  3047.000000   \n",
       "mean    47063.281917  1.026374e+05       16.878175   155.399415    45.272333   \n",
       "std     12040.090836  3.290592e+05        6.409087   529.628366    45.304480   \n",
       "min     22640.000000  8.270000e+02        3.200000     0.000000    22.300000   \n",
       "25%     38882.500000  1.168400e+04       12.150000     0.000000    37.700000   \n",
       "50%     45207.000000  2.664300e+04       15.900000     0.000000    41.000000   \n",
       "75%     52492.000000  6.867100e+04       20.400000    83.650776    44.000000   \n",
       "max    125635.000000  1.017029e+07       47.400000  9762.308998   624.000000   \n",
       "\n",
       "       MedianAgeMale  ...  PctPrivateCoverageAlone  PctEmpPrivCoverage  \\\n",
       "count    3047.000000  ...              2438.000000         3047.000000   \n",
       "mean       39.570725  ...                48.453774           41.196324   \n",
       "std         5.226017  ...                10.083006            9.447687   \n",
       "min        22.400000  ...                15.700000           13.500000   \n",
       "25%        36.350000  ...                41.000000           34.500000   \n",
       "50%        39.600000  ...                48.700000           41.100000   \n",
       "75%        42.500000  ...                55.600000           47.700000   \n",
       "max        64.700000  ...                78.900000           70.700000   \n",
       "\n",
       "       PctPublicCoverage  PctPublicCoverageAlone     PctWhite     PctBlack  \\\n",
       "count        3047.000000             3047.000000  3047.000000  3047.000000   \n",
       "mean           36.252642               19.240072    83.645286     9.107978   \n",
       "std             7.841741                6.113041    16.380025    14.534538   \n",
       "min            11.200000                2.600000    10.199155     0.000000   \n",
       "25%            30.900000               14.850000    77.296180     0.620675   \n",
       "50%            36.300000               18.800000    90.059774     2.247576   \n",
       "75%            41.550000               23.100000    95.451693    10.509732   \n",
       "max            65.100000               46.600000   100.000000    85.947799   \n",
       "\n",
       "          PctAsian  PctOtherRace  PctMarriedHouseholds    BirthRate  \n",
       "count  3047.000000   3047.000000           3047.000000  3047.000000  \n",
       "mean      1.253965      1.983523             51.243872     5.640306  \n",
       "std       2.610276      3.517710              6.572814     1.985816  \n",
       "min       0.000000      0.000000             22.992490     0.000000  \n",
       "25%       0.254199      0.295172             47.763063     4.521419  \n",
       "50%       0.549812      0.826185             51.669941     5.381478  \n",
       "75%       1.221037      2.177960             55.395132     6.493677  \n",
       "max      42.619425     41.930251             78.075397    21.326165  \n",
       "\n",
       "[8 rows x 32 columns]"
      ]
     },
     "execution_count": 5,
     "metadata": {},
     "output_type": "execute_result"
    }
   ],
   "source": [
    "df.describe()"
   ]
  },
  {
   "cell_type": "code",
   "execution_count": 6,
   "metadata": {
    "colab": {
     "base_uri": "https://localhost:8080/",
     "height": 880
    },
    "id": "3tsUJpU739Qc",
    "outputId": "16518598-0243-42a8-c54c-8945d9580dda",
    "scrolled": true,
    "slideshow": {
     "slide_type": "slide"
    }
   },
   "outputs": [
    {
     "data": {
      "image/png": "[encoded data removed]",
      "text/plain": [
       "<Figure size 1296x1080 with 36 Axes>"
      ]
     },
     "metadata": {
      "needs_background": "light"
     },
     "output_type": "display_data"
    }
   ],
   "source": [
    "plt.rc('font', size=14)\n",
    "plt.rc('axes', labelsize=14, titlesize=14)\n",
    "plt.rc('legend', fontsize=12)\n",
    "plt.rc('xtick', labelsize=10)\n",
    "plt.rc('ytick', labelsize=10)\n",
    "\n",
    "df.hist(bins=50, figsize=(18, 15))\n",
    "plt.show()"
   ]
  },
  {
   "cell_type": "markdown",
   "metadata": {
    "id": "O-me2YL59sbj",
    "slideshow": {
     "slide_type": "slide"
    }
   },
   "source": [
    "# Data Preparation"
   ]
  },
  {
   "cell_type": "markdown",
   "metadata": {
    "id": "N7ODqjU_3Ed5"
   },
   "source": [
    "The first thing I want to do is to make a copy of the dataset."
   ]
  },
  {
   "cell_type": "code",
   "execution_count": 7,
   "metadata": {
    "id": "qFdN64p1nqPA"
   },
   "outputs": [],
   "source": [
    "cancer = df"
   ]
  },
  {
   "cell_type": "markdown",
   "metadata": {
    "id": "RfvcnpKjLz-q"
   },
   "source": [
    "Next, I create a correlation matrix to see the correlations of data attributes."
   ]
  },
  {
   "cell_type": "code",
   "execution_count": 8,
   "metadata": {
    "id": "GS72O6NmaDSK"
   },
   "outputs": [],
   "source": [
    "corr_matrix = cancer.corr()"
   ]
  },
  {
   "cell_type": "markdown",
   "metadata": {
    "id": "h8cxKb_AL7X5",
    "slideshow": {
     "slide_type": "slide"
    }
   },
   "source": [
    "Using the correlation matrix to see all the correlations to TARGET_deathRate"
   ]
  },
  {
   "cell_type": "code",
   "execution_count": 9,
   "metadata": {
    "colab": {
     "base_uri": "https://localhost:8080/"
    },
    "id": "oiZaIwVcaQ2d",
    "outputId": "dba7312f-d5a7-482d-ae36-1b5d2327f233",
    "scrolled": true
   },
   "outputs": [
    {
     "data": {
      "text/plain": [
       "TARGET_deathRate           1.000000\n",
       "incidenceRate              0.449432\n",
       "PctPublicCoverageAlone     0.449358\n",
       "povertyPercent             0.429389\n",
       "PctHS25_Over               0.404589\n",
       "PctPublicCoverage          0.404572\n",
       "PctUnemployed16_Over       0.378412\n",
       "PctHS18_24                 0.261976\n",
       "PctBlack                   0.257024\n",
       "PctNoHS18_24               0.088463\n",
       "MedianAgeFemale            0.012048\n",
       "MedianAge                  0.004375\n",
       "MedianAgeMale             -0.021929\n",
       "studyPerCap               -0.022285\n",
       "AvgHouseholdSize          -0.036905\n",
       "BirthRate                 -0.087407\n",
       "avgDeathsPerYear          -0.090715\n",
       "popEst2015                -0.120073\n",
       "avgAnnCount               -0.143532\n",
       "PctWhite                  -0.177400\n",
       "PctAsian                  -0.186331\n",
       "PctSomeCol18_24           -0.188688\n",
       "PctOtherRace              -0.189894\n",
       "PercentMarried            -0.266820\n",
       "PctEmpPrivCoverage        -0.267399\n",
       "PctBachDeg18_24           -0.287817\n",
       "PctMarriedHouseholds      -0.293325\n",
       "PctPrivateCoverageAlone   -0.363704\n",
       "PctPrivateCoverage        -0.386066\n",
       "PctEmployed16_Over        -0.412046\n",
       "medIncome                 -0.428615\n",
       "PctBachDeg25_Over         -0.485477\n",
       "Name: TARGET_deathRate, dtype: float64"
      ]
     },
     "execution_count": 9,
     "metadata": {},
     "output_type": "execute_result"
    }
   ],
   "source": [
    "corr_matrix[\"TARGET_deathRate\"].sort_values(ascending=False)"
   ]
  },
  {
   "cell_type": "markdown",
   "metadata": {
    "id": "Dd9JqVZR3VU0",
    "slideshow": {
     "slide_type": "slide"
    }
   },
   "source": [
    "These are attributes that have poor correlation to the target attribute so I decided to drop them. "
   ]
  },
  {
   "cell_type": "code",
   "execution_count": 10,
   "metadata": {
    "id": "RR1kqsJymtaQ"
   },
   "outputs": [],
   "source": [
    "cancer = cancer.drop(\"binnedInc\", axis=1)\n",
    "cancer = cancer.drop(\"studyPerCap\", axis=1)\n",
    "cancer = cancer.drop(\"AvgHouseholdSize\", axis=1)\n",
    "cancer = cancer.drop(\"medIncome\", axis=1)\n",
    "cancer = cancer.drop(\"popEst2015\", axis=1)\n",
    "cancer = cancer.drop(\"PercentMarried\", axis=1)\n",
    "cancer = cancer.drop(\"PctMarriedHouseholds\", axis=1)"
   ]
  },
  {
   "cell_type": "markdown",
   "metadata": {
    "id": "rFBiHn7A1F-0",
    "slideshow": {
     "slide_type": "slide"
    }
   },
   "source": [
    "The next thing I want to do is to split the data up into training and test sets."
   ]
  },
  {
   "cell_type": "code",
   "execution_count": 11,
   "metadata": {
    "id": "MlEWpxUX460H"
   },
   "outputs": [],
   "source": [
    "from sklearn.model_selection import train_test_split\n",
    "train_set, test_set = train_test_split(cancer, test_size=0.2, random_state=42)"
   ]
  },
  {
   "cell_type": "markdown",
   "metadata": {
    "id": "IWFiwCdFMSG4"
   },
   "source": [
    "Examining the values in TARGET_deathRate to better understand what the model is predicting. "
   ]
  },
  {
   "cell_type": "code",
   "execution_count": 12,
   "metadata": {
    "colab": {
     "base_uri": "https://localhost:8080/"
    },
    "id": "Tifbk4zQKBc2",
    "outputId": "b6f5e996-45d5-4ecf-c14d-071539dd3d4d"
   },
   "outputs": [
    {
     "data": {
      "text/plain": [
       "0    164.9\n",
       "1    161.3\n",
       "2    174.7\n",
       "3    194.8\n",
       "4    144.4\n",
       "Name: TARGET_deathRate, dtype: float64"
      ]
     },
     "execution_count": 12,
     "metadata": {},
     "output_type": "execute_result"
    }
   ],
   "source": [
    "cancer[\"TARGET_deathRate\"].head()"
   ]
  },
  {
   "cell_type": "markdown",
   "metadata": {
    "id": "qZjjEB5NMh6n",
    "slideshow": {
     "slide_type": "slide"
    }
   },
   "source": [
    "Here I am clustering some of the values of the target attribute to put them in groups. "
   ]
  },
  {
   "cell_type": "code",
   "execution_count": 13,
   "metadata": {
    "id": "0y_JeDMWIrlC"
   },
   "outputs": [],
   "source": [
    "cancer[\"death_cat\"] = pd.cut(df[\"TARGET_deathRate\"],\n",
    "                               bins=[0, 100, 125, 150, 175, 200, np.inf],\n",
    "                               labels=[1, 2, 3, 4, 5, 6])"
   ]
  },
  {
   "cell_type": "markdown",
   "metadata": {
    "id": "N3wFvEr4Mvbe"
   },
   "source": [
    "Here is a graph visualizing the clusters and what kind of values are more frequent in the attribute. "
   ]
  },
  {
   "cell_type": "code",
   "execution_count": 14,
   "metadata": {
    "colab": {
     "base_uri": "https://localhost:8080/",
     "height": 283
    },
    "id": "dPJprpDMJR2J",
    "outputId": "ec488ea4-b35b-4c88-dd0a-1a8ef9817585"
   },
   "outputs": [
    {
     "data": {
      "image/png": "[encoded data removed]",
      "text/plain": [
       "<Figure size 432x288 with 1 Axes>"
      ]
     },
     "metadata": {
      "needs_background": "light"
     },
     "output_type": "display_data"
    }
   ],
   "source": [
    "cancer[\"death_cat\"].value_counts().sort_index().plot.bar(rot=0, grid=True)\n",
    "plt.xlabel(\"Death rate category\")\n",
    "plt.ylabel(\"Number of districts\")\n",
    "plt.show()"
   ]
  },
  {
   "cell_type": "markdown",
   "metadata": {
    "id": "cN8TL1fnM1Lm",
    "slideshow": {
     "slide_type": "slide"
    }
   },
   "source": [
    "Next, I decide to use the Stratified Shuffle Split package to shuffle and balance my training and testing data."
   ]
  },
  {
   "cell_type": "code",
   "execution_count": 15,
   "metadata": {
    "id": "GV8GTKPV4__X"
   },
   "outputs": [],
   "source": [
    "from sklearn.model_selection import StratifiedShuffleSplit\n",
    "\n",
    "splitter = StratifiedShuffleSplit(n_splits=10, test_size=0.2, random_state=42)\n",
    "strat_splits = []\n",
    "for train_index, test_index in splitter.split(cancer, cancer[\"death_cat\"]):\n",
    "    strat_train_set_n = cancer.iloc[train_index]\n",
    "    strat_test_set_n = cancer.iloc[test_index]\n",
    "    strat_splits.append([strat_train_set_n, strat_test_set_n])"
   ]
  },
  {
   "cell_type": "code",
   "execution_count": 16,
   "metadata": {
    "id": "-Up2cjY5K6Om"
   },
   "outputs": [],
   "source": [
    "strat_train_set, strat_test_set = strat_splits[0]"
   ]
  },
  {
   "cell_type": "code",
   "execution_count": 17,
   "metadata": {
    "id": "Bc3StUqLNaXO"
   },
   "outputs": [],
   "source": [
    "from sklearn.model_selection import train_test_split\n",
    "\n",
    "strat_train_set, strat_test_set = train_test_split(\n",
    "    cancer, test_size=0.2, stratify=cancer[\"death_cat\"], random_state=42)"
   ]
  },
  {
   "cell_type": "markdown",
   "metadata": {
    "id": "0GX1aorJNm_k",
    "slideshow": {
     "slide_type": "slide"
    }
   },
   "source": [
    "Here I am dropping the death_cat column that I used for grouping the TARGET_deathRate values together because I won't be using it anymore."
   ]
  },
  {
   "cell_type": "code",
   "execution_count": 18,
   "metadata": {
    "id": "S7I4DWUxNiod"
   },
   "outputs": [],
   "source": [
    "for set_ in (strat_train_set, strat_test_set):\n",
    "    set_.drop(\"death_cat\", axis=1, inplace=True)"
   ]
  },
  {
   "cell_type": "markdown",
   "metadata": {
    "id": "QdQDDHJfOOfD"
   },
   "source": [
    "Here I am dropping the TARGET_deathRate from the training set so my model can predict the values for it later. "
   ]
  },
  {
   "cell_type": "code",
   "execution_count": 19,
   "metadata": {
    "id": "BiugOFo81R21"
   },
   "outputs": [],
   "source": [
    "cancer = strat_train_set.drop(\"TARGET_deathRate\", axis=1)\n",
    "cancer_labels = strat_train_set[\"TARGET_deathRate\"].copy()"
   ]
  },
  {
   "cell_type": "markdown",
   "metadata": {
    "id": "SUglnezeaLXI",
    "slideshow": {
     "slide_type": "slide"
    }
   },
   "source": [
    "## Cleaning floating numbers and integers with an imputer"
   ]
  },
  {
   "cell_type": "markdown",
   "metadata": {
    "id": "T4f5BE8fO3Eh"
   },
   "source": [
    "To start cleaning and preparing my data for the machine learning model, I will use an imputer to calculate the mean values for numerical data to replace any null data."
   ]
  },
  {
   "cell_type": "code",
   "execution_count": 20,
   "metadata": {
    "id": "LIkk2eN21n29"
   },
   "outputs": [],
   "source": [
    "from sklearn.impute import SimpleImputer\n",
    "\n",
    "meanImputer = SimpleImputer(strategy=\"mean\")\n"
   ]
  },
  {
   "cell_type": "markdown",
   "metadata": {
    "id": "JI3WIUa-O8BR",
    "slideshow": {
     "slide_type": "slide"
    }
   },
   "source": [
    "Here I am creating a dataframe that only includes numerical features that will work with the imputer."
   ]
  },
  {
   "cell_type": "code",
   "execution_count": 21,
   "metadata": {
    "id": "hjNekmFg3Zpr"
   },
   "outputs": [],
   "source": [
    "cancer_num = cancer.select_dtypes(include=[np.number])"
   ]
  },
  {
   "cell_type": "code",
   "execution_count": 22,
   "metadata": {
    "colab": {
     "base_uri": "https://localhost:8080/"
    },
    "id": "JGw6Cq-ILslK",
    "outputId": "46e834c6-1c79-4f60-cddb-a62d1e22e22e",
    "scrolled": true
   },
   "outputs": [
    {
     "name": "stdout",
     "output_type": "stream",
     "text": [
      "<class 'pandas.core.frame.DataFrame'>\n",
      "Int64Index: 2437 entries, 693 to 2178\n",
      "Data columns (total 25 columns):\n",
      " #   Column                   Non-Null Count  Dtype  \n",
      "---  ------                   --------------  -----  \n",
      " 0   avgAnnCount              2437 non-null   float64\n",
      " 1   avgDeathsPerYear         2437 non-null   int64  \n",
      " 2   incidenceRate            2437 non-null   float64\n",
      " 3   povertyPercent           2437 non-null   float64\n",
      " 4   MedianAge                2437 non-null   float64\n",
      " 5   MedianAgeMale            2437 non-null   float64\n",
      " 6   MedianAgeFemale          2437 non-null   float64\n",
      " 7   PctNoHS18_24             2437 non-null   float64\n",
      " 8   PctHS18_24               2437 non-null   float64\n",
      " 9   PctSomeCol18_24          624 non-null    float64\n",
      " 10  PctBachDeg18_24          2437 non-null   float64\n",
      " 11  PctHS25_Over             2437 non-null   float64\n",
      " 12  PctBachDeg25_Over        2437 non-null   float64\n",
      " 13  PctEmployed16_Over       2307 non-null   float64\n",
      " 14  PctUnemployed16_Over     2437 non-null   float64\n",
      " 15  PctPrivateCoverage       2437 non-null   float64\n",
      " 16  PctPrivateCoverageAlone  1934 non-null   float64\n",
      " 17  PctEmpPrivCoverage       2437 non-null   float64\n",
      " 18  PctPublicCoverage        2437 non-null   float64\n",
      " 19  PctPublicCoverageAlone   2437 non-null   float64\n",
      " 20  PctWhite                 2437 non-null   float64\n",
      " 21  PctBlack                 2437 non-null   float64\n",
      " 22  PctAsian                 2437 non-null   float64\n",
      " 23  PctOtherRace             2437 non-null   float64\n",
      " 24  BirthRate                2437 non-null   float64\n",
      "dtypes: float64(24), int64(1)\n",
      "memory usage: 495.0 KB\n"
     ]
    }
   ],
   "source": [
    "cancer_num.info()"
   ]
  },
  {
   "cell_type": "markdown",
   "metadata": {
    "id": "R65-IWAxPVd4",
    "slideshow": {
     "slide_type": "slide"
    }
   },
   "source": [
    "Here I am fitting the imputer to the numerical dataframe."
   ]
  },
  {
   "cell_type": "code",
   "execution_count": 23,
   "metadata": {
    "colab": {
     "base_uri": "https://localhost:8080/"
    },
    "id": "lJ-W_3EPPGMy",
    "outputId": "dda08cc3-88f1-41a5-ab28-7ab8ec5fa6e0"
   },
   "outputs": [
    {
     "data": {
      "text/plain": [
       "SimpleImputer()"
      ]
     },
     "execution_count": 23,
     "metadata": {},
     "output_type": "execute_result"
    }
   ],
   "source": [
    "meanImputer.fit(cancer_num)"
   ]
  },
  {
   "cell_type": "markdown",
   "metadata": {
    "id": "HHS28ZUBPvt_",
    "slideshow": {
     "slide_type": "slide"
    }
   },
   "source": [
    "This is the outcome of the imputer, and we can check this by calculating the mean values of the dataframe. "
   ]
  },
  {
   "cell_type": "code",
   "execution_count": 24,
   "metadata": {
    "colab": {
     "base_uri": "https://localhost:8080/"
    },
    "id": "nzo038QePaB4",
    "outputId": "659d98f2-4156-49c8-f55c-31d2c84dc73c"
   },
   "outputs": [
    {
     "data": {
      "text/plain": [
       "array([617.70243434, 190.24948707, 448.36871391,  16.87718506,\n",
       "        45.25597046,  39.62745178,  42.19191629,  18.20582684,\n",
       "        34.99392696,  41.20608974,   6.12031186,  34.84649159,\n",
       "        13.23286828,  54.09003034,   7.84874846,  64.33615101,\n",
       "        48.32207859,  41.13840788,  36.35666803,  19.29663521,\n",
       "        83.51864365,   9.06974101,   1.25093456,   1.99280374,\n",
       "         5.62198164])"
      ]
     },
     "execution_count": 24,
     "metadata": {},
     "output_type": "execute_result"
    }
   ],
   "source": [
    "meanImputer.statistics_"
   ]
  },
  {
   "cell_type": "markdown",
   "metadata": {
    "id": "FMXZY_6ZP1SG"
   },
   "source": [
    "Checking the values stored in .statistics_ with what the actual values are"
   ]
  },
  {
   "cell_type": "code",
   "execution_count": 25,
   "metadata": {
    "colab": {
     "base_uri": "https://localhost:8080/"
    },
    "id": "v5J8IuzUPloH",
    "outputId": "51d9c5cf-aac8-4275-c997-ffa63c5fa7ab"
   },
   "outputs": [
    {
     "data": {
      "text/plain": [
       "array([617.70243434, 190.24948707, 448.36871391,  16.87718506,\n",
       "        45.25597046,  39.62745178,  42.19191629,  18.20582684,\n",
       "        34.99392696,  41.20608974,   6.12031186,  34.84649159,\n",
       "        13.23286828,  54.09003034,   7.84874846,  64.33615101,\n",
       "        48.32207859,  41.13840788,  36.35666803,  19.29663521,\n",
       "        83.51864365,   9.06974101,   1.25093456,   1.99280374,\n",
       "         5.62198164])"
      ]
     },
     "execution_count": 25,
     "metadata": {},
     "output_type": "execute_result"
    }
   ],
   "source": [
    "cancer_num.mean().values"
   ]
  },
  {
   "cell_type": "markdown",
   "metadata": {
    "id": "5jZWIol36Xrh",
    "slideshow": {
     "slide_type": "slide"
    }
   },
   "source": [
    "Next, I can check if the imputer successfully replaced null data by comparing it with the original dataframe that was not imputed. "
   ]
  },
  {
   "cell_type": "code",
   "execution_count": 26,
   "metadata": {
    "id": "R_hMYHT8P_d-"
   },
   "outputs": [],
   "source": [
    "X = meanImputer.transform(cancer_num)"
   ]
  },
  {
   "cell_type": "code",
   "execution_count": 27,
   "metadata": {
    "colab": {
     "base_uri": "https://localhost:8080/"
    },
    "id": "Og0rtZeiQLWe",
    "outputId": "d4f2d9b4-29c8-47e9-bd2c-6ffd6a2bdcdf",
    "slideshow": {
     "slide_type": "-"
    }
   },
   "outputs": [
    {
     "data": {
      "text/plain": [
       "array(['avgAnnCount', 'avgDeathsPerYear', 'incidenceRate',\n",
       "       'povertyPercent', 'MedianAge', 'MedianAgeMale', 'MedianAgeFemale',\n",
       "       'PctNoHS18_24', 'PctHS18_24', 'PctSomeCol18_24', 'PctBachDeg18_24',\n",
       "       'PctHS25_Over', 'PctBachDeg25_Over', 'PctEmployed16_Over',\n",
       "       'PctUnemployed16_Over', 'PctPrivateCoverage',\n",
       "       'PctPrivateCoverageAlone', 'PctEmpPrivCoverage',\n",
       "       'PctPublicCoverage', 'PctPublicCoverageAlone', 'PctWhite',\n",
       "       'PctBlack', 'PctAsian', 'PctOtherRace', 'BirthRate'], dtype=object)"
      ]
     },
     "execution_count": 27,
     "metadata": {},
     "output_type": "execute_result"
    }
   ],
   "source": [
    "meanImputer.feature_names_in_"
   ]
  },
  {
   "cell_type": "code",
   "execution_count": 28,
   "metadata": {
    "id": "jlOL6TuuQWdt"
   },
   "outputs": [],
   "source": [
    "cancer_tr = pd.DataFrame(X, columns=cancer_num.columns,\n",
    "                          index=cancer_num.index)"
   ]
  },
  {
   "cell_type": "markdown",
   "metadata": {
    "id": "J40Er5cGafsb",
    "slideshow": {
     "slide_type": "slide"
    }
   },
   "source": [
    "So here is the original data..."
   ]
  },
  {
   "cell_type": "code",
   "execution_count": 29,
   "metadata": {
    "colab": {
     "base_uri": "https://localhost:8080/",
     "height": 473
    },
    "id": "x4kYSqE2QrWt",
    "outputId": "7291c027-70c5-42c9-bf02-c8b0605d4541"
   },
   "outputs": [
    {
     "data": {
      "text/html": [
       "\n",
       "  <div id=\"df-8e4f65ad-6414-40d8-a97a-78b2377b2d6a\">\n",
       "    <div class=\"colab-df-container\">\n",
       "      <div>\n",
       "<style scoped>\n",
       "    .dataframe tbody tr th:only-of-type {\n",
       "        vertical-align: middle;\n",
       "    }\n",
       "\n",
       "    .dataframe tbody tr th {\n",
       "        vertical-align: top;\n",
       "    }\n",
       "\n",
       "    .dataframe thead th {\n",
       "        text-align: right;\n",
       "    }\n",
       "</style>\n",
       "<table border=\"1\" class=\"dataframe\">\n",
       "  <thead>\n",
       "    <tr style=\"text-align: right;\">\n",
       "      <th></th>\n",
       "      <th>avgAnnCount</th>\n",
       "      <th>avgDeathsPerYear</th>\n",
       "      <th>incidenceRate</th>\n",
       "      <th>povertyPercent</th>\n",
       "      <th>MedianAge</th>\n",
       "      <th>MedianAgeMale</th>\n",
       "      <th>MedianAgeFemale</th>\n",
       "      <th>Geography</th>\n",
       "      <th>PctNoHS18_24</th>\n",
       "      <th>PctHS18_24</th>\n",
       "      <th>...</th>\n",
       "      <th>PctPrivateCoverage</th>\n",
       "      <th>PctPrivateCoverageAlone</th>\n",
       "      <th>PctEmpPrivCoverage</th>\n",
       "      <th>PctPublicCoverage</th>\n",
       "      <th>PctPublicCoverageAlone</th>\n",
       "      <th>PctWhite</th>\n",
       "      <th>PctBlack</th>\n",
       "      <th>PctAsian</th>\n",
       "      <th>PctOtherRace</th>\n",
       "      <th>BirthRate</th>\n",
       "    </tr>\n",
       "  </thead>\n",
       "  <tbody>\n",
       "    <tr>\n",
       "      <th>693</th>\n",
       "      <td>84.000000</td>\n",
       "      <td>31</td>\n",
       "      <td>529.000000</td>\n",
       "      <td>10.1</td>\n",
       "      <td>36.6</td>\n",
       "      <td>35.5</td>\n",
       "      <td>37.8</td>\n",
       "      <td>Saline County, Nebraska</td>\n",
       "      <td>20.0</td>\n",
       "      <td>18.0</td>\n",
       "      <td>...</td>\n",
       "      <td>76.3</td>\n",
       "      <td>60.9</td>\n",
       "      <td>54.0</td>\n",
       "      <td>25.7</td>\n",
       "      <td>11.6</td>\n",
       "      <td>91.622563</td>\n",
       "      <td>0.793872</td>\n",
       "      <td>2.681058</td>\n",
       "      <td>3.189415</td>\n",
       "      <td>3.062143</td>\n",
       "    </tr>\n",
       "    <tr>\n",
       "      <th>635</th>\n",
       "      <td>53.000000</td>\n",
       "      <td>24</td>\n",
       "      <td>485.100000</td>\n",
       "      <td>10.6</td>\n",
       "      <td>47.4</td>\n",
       "      <td>46.1</td>\n",
       "      <td>48.6</td>\n",
       "      <td>Burt County, Nebraska</td>\n",
       "      <td>22.9</td>\n",
       "      <td>40.6</td>\n",
       "      <td>...</td>\n",
       "      <td>72.3</td>\n",
       "      <td>54.3</td>\n",
       "      <td>45.1</td>\n",
       "      <td>35.0</td>\n",
       "      <td>15.1</td>\n",
       "      <td>95.667218</td>\n",
       "      <td>0.977885</td>\n",
       "      <td>0.481420</td>\n",
       "      <td>0.646908</td>\n",
       "      <td>7.352941</td>\n",
       "    </tr>\n",
       "    <tr>\n",
       "      <th>926</th>\n",
       "      <td>33.000000</td>\n",
       "      <td>11</td>\n",
       "      <td>380.500000</td>\n",
       "      <td>4.6</td>\n",
       "      <td>32.3</td>\n",
       "      <td>31.6</td>\n",
       "      <td>32.8</td>\n",
       "      <td>Morgan County, Utah</td>\n",
       "      <td>7.1</td>\n",
       "      <td>33.3</td>\n",
       "      <td>...</td>\n",
       "      <td>80.6</td>\n",
       "      <td>NaN</td>\n",
       "      <td>60.6</td>\n",
       "      <td>18.8</td>\n",
       "      <td>8.5</td>\n",
       "      <td>96.866485</td>\n",
       "      <td>0.360062</td>\n",
       "      <td>0.768782</td>\n",
       "      <td>1.050993</td>\n",
       "      <td>6.102877</td>\n",
       "    </tr>\n",
       "    <tr>\n",
       "      <th>2488</th>\n",
       "      <td>1962.667684</td>\n",
       "      <td>17</td>\n",
       "      <td>453.549422</td>\n",
       "      <td>10.2</td>\n",
       "      <td>46.5</td>\n",
       "      <td>45.1</td>\n",
       "      <td>48.4</td>\n",
       "      <td>Lincoln County, Minnesota</td>\n",
       "      <td>17.9</td>\n",
       "      <td>31.6</td>\n",
       "      <td>...</td>\n",
       "      <td>78.6</td>\n",
       "      <td>58.2</td>\n",
       "      <td>45.0</td>\n",
       "      <td>33.7</td>\n",
       "      <td>12.2</td>\n",
       "      <td>97.210744</td>\n",
       "      <td>0.378788</td>\n",
       "      <td>0.154959</td>\n",
       "      <td>1.136364</td>\n",
       "      <td>5.539070</td>\n",
       "    </tr>\n",
       "    <tr>\n",
       "      <th>2272</th>\n",
       "      <td>108.000000</td>\n",
       "      <td>44</td>\n",
       "      <td>477.700000</td>\n",
       "      <td>11.5</td>\n",
       "      <td>42.2</td>\n",
       "      <td>40.6</td>\n",
       "      <td>43.9</td>\n",
       "      <td>Clay County, Iowa</td>\n",
       "      <td>12.7</td>\n",
       "      <td>32.4</td>\n",
       "      <td>...</td>\n",
       "      <td>74.2</td>\n",
       "      <td>NaN</td>\n",
       "      <td>45.0</td>\n",
       "      <td>35.2</td>\n",
       "      <td>15.0</td>\n",
       "      <td>95.888009</td>\n",
       "      <td>0.713551</td>\n",
       "      <td>0.175364</td>\n",
       "      <td>1.209409</td>\n",
       "      <td>4.909253</td>\n",
       "    </tr>\n",
       "  </tbody>\n",
       "</table>\n",
       "<p>5 rows × 26 columns</p>\n",
       "</div>\n",
       "      <button class=\"colab-df-convert\" onclick=\"convertToInteractive('df-8e4f65ad-6414-40d8-a97a-78b2377b2d6a')\"\n",
       "              title=\"Convert this dataframe to an interactive table.\"\n",
       "              style=\"display:none;\">\n",
       "        \n",
       "  <svg xmlns=\"http://www.w3.org/2000/svg\" height=\"24px\"viewBox=\"0 0 24 24\"\n",
       "       width=\"24px\">\n",
       "    <path d=\"M0 0h24v24H0V0z\" fill=\"none\"/>\n",
       "    <path d=\"M18.56 5.44l.94 2.06.94-2.06 2.06-.94-2.06-.94-.94-2.06-.94 2.06-2.06.94zm-11 1L8.5 8.5l.94-2.06 2.06-.94-2.06-.94L8.5 2.5l-.94 2.06-2.06.94zm10 10l.94 2.06.94-2.06 2.06-.94-2.06-.94-.94-2.06-.94 2.06-2.06.94z\"/><path d=\"M17.41 7.96l-1.37-1.37c-.4-.4-.92-.59-1.43-.59-.52 0-1.04.2-1.43.59L10.3 9.45l-7.72 7.72c-.78.78-.78 2.05 0 2.83L4 21.41c.39.39.9.59 1.41.59.51 0 1.02-.2 1.41-.59l7.78-7.78 2.81-2.81c.8-.78.8-2.07 0-2.86zM5.41 20L4 18.59l7.72-7.72 1.47 1.35L5.41 20z\"/>\n",
       "  </svg>\n",
       "      </button>\n",
       "      \n",
       "  <style>\n",
       "    .colab-df-container {\n",
       "      display:flex;\n",
       "      flex-wrap:wrap;\n",
       "      gap: 12px;\n",
       "    }\n",
       "\n",
       "    .colab-df-convert {\n",
       "      background-color: #E8F0FE;\n",
       "      border: none;\n",
       "      border-radius: 50%;\n",
       "      cursor: pointer;\n",
       "      display: none;\n",
       "      fill: #1967D2;\n",
       "      height: 32px;\n",
       "      padding: 0 0 0 0;\n",
       "      width: 32px;\n",
       "    }\n",
       "\n",
       "    .colab-df-convert:hover {\n",
       "      background-color: #E2EBFA;\n",
       "      box-shadow: 0px 1px 2px rgba(60, 64, 67, 0.3), 0px 1px 3px 1px rgba(60, 64, 67, 0.15);\n",
       "      fill: #174EA6;\n",
       "    }\n",
       "\n",
       "    [theme=dark] .colab-df-convert {\n",
       "      background-color: #3B4455;\n",
       "      fill: #D2E3FC;\n",
       "    }\n",
       "\n",
       "    [theme=dark] .colab-df-convert:hover {\n",
       "      background-color: #434B5C;\n",
       "      box-shadow: 0px 1px 3px 1px rgba(0, 0, 0, 0.15);\n",
       "      filter: drop-shadow(0px 1px 2px rgba(0, 0, 0, 0.3));\n",
       "      fill: #FFFFFF;\n",
       "    }\n",
       "  </style>\n",
       "\n",
       "      <script>\n",
       "        const buttonEl =\n",
       "          document.querySelector('#df-8e4f65ad-6414-40d8-a97a-78b2377b2d6a button.colab-df-convert');\n",
       "        buttonEl.style.display =\n",
       "          google.colab.kernel.accessAllowed ? 'block' : 'none';\n",
       "\n",
       "        async function convertToInteractive(key) {\n",
       "          const element = document.querySelector('#df-8e4f65ad-6414-40d8-a97a-78b2377b2d6a');\n",
       "          const dataTable =\n",
       "            await google.colab.kernel.invokeFunction('convertToInteractive',\n",
       "                                                     [key], {});\n",
       "          if (!dataTable) return;\n",
       "\n",
       "          const docLinkHtml = 'Like what you see? Visit the ' +\n",
       "            '<a target=\"_blank\" href=https://colab.research.google.com/notebooks/data_table.ipynb>data table notebook</a>'\n",
       "            + ' to learn more about interactive tables.';\n",
       "          element.innerHTML = '';\n",
       "          dataTable['output_type'] = 'display_data';\n",
       "          await google.colab.output.renderOutput(dataTable, element);\n",
       "          const docLink = document.createElement('div');\n",
       "          docLink.innerHTML = docLinkHtml;\n",
       "          element.appendChild(docLink);\n",
       "        }\n",
       "      </script>\n",
       "    </div>\n",
       "  </div>\n",
       "  "
      ],
      "text/plain": [
       "      avgAnnCount  avgDeathsPerYear  incidenceRate  povertyPercent  MedianAge  \\\n",
       "693     84.000000                31     529.000000            10.1       36.6   \n",
       "635     53.000000                24     485.100000            10.6       47.4   \n",
       "926     33.000000                11     380.500000             4.6       32.3   \n",
       "2488  1962.667684                17     453.549422            10.2       46.5   \n",
       "2272   108.000000                44     477.700000            11.5       42.2   \n",
       "\n",
       "      MedianAgeMale  MedianAgeFemale                  Geography  PctNoHS18_24  \\\n",
       "693            35.5             37.8    Saline County, Nebraska          20.0   \n",
       "635            46.1             48.6      Burt County, Nebraska          22.9   \n",
       "926            31.6             32.8        Morgan County, Utah           7.1   \n",
       "2488           45.1             48.4  Lincoln County, Minnesota          17.9   \n",
       "2272           40.6             43.9          Clay County, Iowa          12.7   \n",
       "\n",
       "      PctHS18_24  ...  PctPrivateCoverage  PctPrivateCoverageAlone  \\\n",
       "693         18.0  ...                76.3                     60.9   \n",
       "635         40.6  ...                72.3                     54.3   \n",
       "926         33.3  ...                80.6                      NaN   \n",
       "2488        31.6  ...                78.6                     58.2   \n",
       "2272        32.4  ...                74.2                      NaN   \n",
       "\n",
       "      PctEmpPrivCoverage  PctPublicCoverage  PctPublicCoverageAlone  \\\n",
       "693                 54.0               25.7                    11.6   \n",
       "635                 45.1               35.0                    15.1   \n",
       "926                 60.6               18.8                     8.5   \n",
       "2488                45.0               33.7                    12.2   \n",
       "2272                45.0               35.2                    15.0   \n",
       "\n",
       "       PctWhite  PctBlack  PctAsian  PctOtherRace  BirthRate  \n",
       "693   91.622563  0.793872  2.681058      3.189415   3.062143  \n",
       "635   95.667218  0.977885  0.481420      0.646908   7.352941  \n",
       "926   96.866485  0.360062  0.768782      1.050993   6.102877  \n",
       "2488  97.210744  0.378788  0.154959      1.136364   5.539070  \n",
       "2272  95.888009  0.713551  0.175364      1.209409   4.909253  \n",
       "\n",
       "[5 rows x 26 columns]"
      ]
     },
     "execution_count": 29,
     "metadata": {},
     "output_type": "execute_result"
    }
   ],
   "source": [
    "null_rows_idx = cancer.isnull().any(axis=1)\n",
    "cancer.loc[null_rows_idx].head()"
   ]
  },
  {
   "cell_type": "markdown",
   "metadata": {
    "id": "Lx7IaFORaotl",
    "slideshow": {
     "slide_type": "slide"
    }
   },
   "source": [
    "... and here is the dataframe that was imputed."
   ]
  },
  {
   "cell_type": "code",
   "execution_count": 30,
   "metadata": {
    "colab": {
     "base_uri": "https://localhost:8080/",
     "height": 300
    },
    "id": "EcHhNTd8QgWV",
    "outputId": "a340ea08-ad86-408d-8faa-8f97d6b11f33"
   },
   "outputs": [
    {
     "data": {
      "text/html": [
       "\n",
       "  <div id=\"df-3ecc8cf2-17f7-40da-9f50-8aae020ce684\">\n",
       "    <div class=\"colab-df-container\">\n",
       "      <div>\n",
       "<style scoped>\n",
       "    .dataframe tbody tr th:only-of-type {\n",
       "        vertical-align: middle;\n",
       "    }\n",
       "\n",
       "    .dataframe tbody tr th {\n",
       "        vertical-align: top;\n",
       "    }\n",
       "\n",
       "    .dataframe thead th {\n",
       "        text-align: right;\n",
       "    }\n",
       "</style>\n",
       "<table border=\"1\" class=\"dataframe\">\n",
       "  <thead>\n",
       "    <tr style=\"text-align: right;\">\n",
       "      <th></th>\n",
       "      <th>avgAnnCount</th>\n",
       "      <th>avgDeathsPerYear</th>\n",
       "      <th>incidenceRate</th>\n",
       "      <th>povertyPercent</th>\n",
       "      <th>MedianAge</th>\n",
       "      <th>MedianAgeMale</th>\n",
       "      <th>MedianAgeFemale</th>\n",
       "      <th>PctNoHS18_24</th>\n",
       "      <th>PctHS18_24</th>\n",
       "      <th>PctSomeCol18_24</th>\n",
       "      <th>...</th>\n",
       "      <th>PctPrivateCoverage</th>\n",
       "      <th>PctPrivateCoverageAlone</th>\n",
       "      <th>PctEmpPrivCoverage</th>\n",
       "      <th>PctPublicCoverage</th>\n",
       "      <th>PctPublicCoverageAlone</th>\n",
       "      <th>PctWhite</th>\n",
       "      <th>PctBlack</th>\n",
       "      <th>PctAsian</th>\n",
       "      <th>PctOtherRace</th>\n",
       "      <th>BirthRate</th>\n",
       "    </tr>\n",
       "  </thead>\n",
       "  <tbody>\n",
       "    <tr>\n",
       "      <th>693</th>\n",
       "      <td>84.000000</td>\n",
       "      <td>31.0</td>\n",
       "      <td>529.000000</td>\n",
       "      <td>10.1</td>\n",
       "      <td>36.6</td>\n",
       "      <td>35.5</td>\n",
       "      <td>37.8</td>\n",
       "      <td>20.0</td>\n",
       "      <td>18.0</td>\n",
       "      <td>41.20609</td>\n",
       "      <td>...</td>\n",
       "      <td>76.3</td>\n",
       "      <td>60.900000</td>\n",
       "      <td>54.0</td>\n",
       "      <td>25.7</td>\n",
       "      <td>11.6</td>\n",
       "      <td>91.622563</td>\n",
       "      <td>0.793872</td>\n",
       "      <td>2.681058</td>\n",
       "      <td>3.189415</td>\n",
       "      <td>3.062143</td>\n",
       "    </tr>\n",
       "    <tr>\n",
       "      <th>635</th>\n",
       "      <td>53.000000</td>\n",
       "      <td>24.0</td>\n",
       "      <td>485.100000</td>\n",
       "      <td>10.6</td>\n",
       "      <td>47.4</td>\n",
       "      <td>46.1</td>\n",
       "      <td>48.6</td>\n",
       "      <td>22.9</td>\n",
       "      <td>40.6</td>\n",
       "      <td>41.20609</td>\n",
       "      <td>...</td>\n",
       "      <td>72.3</td>\n",
       "      <td>54.300000</td>\n",
       "      <td>45.1</td>\n",
       "      <td>35.0</td>\n",
       "      <td>15.1</td>\n",
       "      <td>95.667218</td>\n",
       "      <td>0.977885</td>\n",
       "      <td>0.481420</td>\n",
       "      <td>0.646908</td>\n",
       "      <td>7.352941</td>\n",
       "    </tr>\n",
       "    <tr>\n",
       "      <th>926</th>\n",
       "      <td>33.000000</td>\n",
       "      <td>11.0</td>\n",
       "      <td>380.500000</td>\n",
       "      <td>4.6</td>\n",
       "      <td>32.3</td>\n",
       "      <td>31.6</td>\n",
       "      <td>32.8</td>\n",
       "      <td>7.1</td>\n",
       "      <td>33.3</td>\n",
       "      <td>41.20609</td>\n",
       "      <td>...</td>\n",
       "      <td>80.6</td>\n",
       "      <td>48.322079</td>\n",
       "      <td>60.6</td>\n",
       "      <td>18.8</td>\n",
       "      <td>8.5</td>\n",
       "      <td>96.866485</td>\n",
       "      <td>0.360062</td>\n",
       "      <td>0.768782</td>\n",
       "      <td>1.050993</td>\n",
       "      <td>6.102877</td>\n",
       "    </tr>\n",
       "    <tr>\n",
       "      <th>2488</th>\n",
       "      <td>1962.667684</td>\n",
       "      <td>17.0</td>\n",
       "      <td>453.549422</td>\n",
       "      <td>10.2</td>\n",
       "      <td>46.5</td>\n",
       "      <td>45.1</td>\n",
       "      <td>48.4</td>\n",
       "      <td>17.9</td>\n",
       "      <td>31.6</td>\n",
       "      <td>41.20609</td>\n",
       "      <td>...</td>\n",
       "      <td>78.6</td>\n",
       "      <td>58.200000</td>\n",
       "      <td>45.0</td>\n",
       "      <td>33.7</td>\n",
       "      <td>12.2</td>\n",
       "      <td>97.210744</td>\n",
       "      <td>0.378788</td>\n",
       "      <td>0.154959</td>\n",
       "      <td>1.136364</td>\n",
       "      <td>5.539070</td>\n",
       "    </tr>\n",
       "    <tr>\n",
       "      <th>2272</th>\n",
       "      <td>108.000000</td>\n",
       "      <td>44.0</td>\n",
       "      <td>477.700000</td>\n",
       "      <td>11.5</td>\n",
       "      <td>42.2</td>\n",
       "      <td>40.6</td>\n",
       "      <td>43.9</td>\n",
       "      <td>12.7</td>\n",
       "      <td>32.4</td>\n",
       "      <td>41.20609</td>\n",
       "      <td>...</td>\n",
       "      <td>74.2</td>\n",
       "      <td>48.322079</td>\n",
       "      <td>45.0</td>\n",
       "      <td>35.2</td>\n",
       "      <td>15.0</td>\n",
       "      <td>95.888009</td>\n",
       "      <td>0.713551</td>\n",
       "      <td>0.175364</td>\n",
       "      <td>1.209409</td>\n",
       "      <td>4.909253</td>\n",
       "    </tr>\n",
       "  </tbody>\n",
       "</table>\n",
       "<p>5 rows × 25 columns</p>\n",
       "</div>\n",
       "      <button class=\"colab-df-convert\" onclick=\"convertToInteractive('df-3ecc8cf2-17f7-40da-9f50-8aae020ce684')\"\n",
       "              title=\"Convert this dataframe to an interactive table.\"\n",
       "              style=\"display:none;\">\n",
       "        \n",
       "  <svg xmlns=\"http://www.w3.org/2000/svg\" height=\"24px\"viewBox=\"0 0 24 24\"\n",
       "       width=\"24px\">\n",
       "    <path d=\"M0 0h24v24H0V0z\" fill=\"none\"/>\n",
       "    <path d=\"M18.56 5.44l.94 2.06.94-2.06 2.06-.94-2.06-.94-.94-2.06-.94 2.06-2.06.94zm-11 1L8.5 8.5l.94-2.06 2.06-.94-2.06-.94L8.5 2.5l-.94 2.06-2.06.94zm10 10l.94 2.06.94-2.06 2.06-.94-2.06-.94-.94-2.06-.94 2.06-2.06.94z\"/><path d=\"M17.41 7.96l-1.37-1.37c-.4-.4-.92-.59-1.43-.59-.52 0-1.04.2-1.43.59L10.3 9.45l-7.72 7.72c-.78.78-.78 2.05 0 2.83L4 21.41c.39.39.9.59 1.41.59.51 0 1.02-.2 1.41-.59l7.78-7.78 2.81-2.81c.8-.78.8-2.07 0-2.86zM5.41 20L4 18.59l7.72-7.72 1.47 1.35L5.41 20z\"/>\n",
       "  </svg>\n",
       "      </button>\n",
       "      \n",
       "  <style>\n",
       "    .colab-df-container {\n",
       "      display:flex;\n",
       "      flex-wrap:wrap;\n",
       "      gap: 12px;\n",
       "    }\n",
       "\n",
       "    .colab-df-convert {\n",
       "      background-color: #E8F0FE;\n",
       "      border: none;\n",
       "      border-radius: 50%;\n",
       "      cursor: pointer;\n",
       "      display: none;\n",
       "      fill: #1967D2;\n",
       "      height: 32px;\n",
       "      padding: 0 0 0 0;\n",
       "      width: 32px;\n",
       "    }\n",
       "\n",
       "    .colab-df-convert:hover {\n",
       "      background-color: #E2EBFA;\n",
       "      box-shadow: 0px 1px 2px rgba(60, 64, 67, 0.3), 0px 1px 3px 1px rgba(60, 64, 67, 0.15);\n",
       "      fill: #174EA6;\n",
       "    }\n",
       "\n",
       "    [theme=dark] .colab-df-convert {\n",
       "      background-color: #3B4455;\n",
       "      fill: #D2E3FC;\n",
       "    }\n",
       "\n",
       "    [theme=dark] .colab-df-convert:hover {\n",
       "      background-color: #434B5C;\n",
       "      box-shadow: 0px 1px 3px 1px rgba(0, 0, 0, 0.15);\n",
       "      filter: drop-shadow(0px 1px 2px rgba(0, 0, 0, 0.3));\n",
       "      fill: #FFFFFF;\n",
       "    }\n",
       "  </style>\n",
       "\n",
       "      <script>\n",
       "        const buttonEl =\n",
       "          document.querySelector('#df-3ecc8cf2-17f7-40da-9f50-8aae020ce684 button.colab-df-convert');\n",
       "        buttonEl.style.display =\n",
       "          google.colab.kernel.accessAllowed ? 'block' : 'none';\n",
       "\n",
       "        async function convertToInteractive(key) {\n",
       "          const element = document.querySelector('#df-3ecc8cf2-17f7-40da-9f50-8aae020ce684');\n",
       "          const dataTable =\n",
       "            await google.colab.kernel.invokeFunction('convertToInteractive',\n",
       "                                                     [key], {});\n",
       "          if (!dataTable) return;\n",
       "\n",
       "          const docLinkHtml = 'Like what you see? Visit the ' +\n",
       "            '<a target=\"_blank\" href=https://colab.research.google.com/notebooks/data_table.ipynb>data table notebook</a>'\n",
       "            + ' to learn more about interactive tables.';\n",
       "          element.innerHTML = '';\n",
       "          dataTable['output_type'] = 'display_data';\n",
       "          await google.colab.output.renderOutput(dataTable, element);\n",
       "          const docLink = document.createElement('div');\n",
       "          docLink.innerHTML = docLinkHtml;\n",
       "          element.appendChild(docLink);\n",
       "        }\n",
       "      </script>\n",
       "    </div>\n",
       "  </div>\n",
       "  "
      ],
      "text/plain": [
       "      avgAnnCount  avgDeathsPerYear  incidenceRate  povertyPercent  MedianAge  \\\n",
       "693     84.000000              31.0     529.000000            10.1       36.6   \n",
       "635     53.000000              24.0     485.100000            10.6       47.4   \n",
       "926     33.000000              11.0     380.500000             4.6       32.3   \n",
       "2488  1962.667684              17.0     453.549422            10.2       46.5   \n",
       "2272   108.000000              44.0     477.700000            11.5       42.2   \n",
       "\n",
       "      MedianAgeMale  MedianAgeFemale  PctNoHS18_24  PctHS18_24  \\\n",
       "693            35.5             37.8          20.0        18.0   \n",
       "635            46.1             48.6          22.9        40.6   \n",
       "926            31.6             32.8           7.1        33.3   \n",
       "2488           45.1             48.4          17.9        31.6   \n",
       "2272           40.6             43.9          12.7        32.4   \n",
       "\n",
       "      PctSomeCol18_24  ...  PctPrivateCoverage  PctPrivateCoverageAlone  \\\n",
       "693          41.20609  ...                76.3                60.900000   \n",
       "635          41.20609  ...                72.3                54.300000   \n",
       "926          41.20609  ...                80.6                48.322079   \n",
       "2488         41.20609  ...                78.6                58.200000   \n",
       "2272         41.20609  ...                74.2                48.322079   \n",
       "\n",
       "      PctEmpPrivCoverage  PctPublicCoverage  PctPublicCoverageAlone  \\\n",
       "693                 54.0               25.7                    11.6   \n",
       "635                 45.1               35.0                    15.1   \n",
       "926                 60.6               18.8                     8.5   \n",
       "2488                45.0               33.7                    12.2   \n",
       "2272                45.0               35.2                    15.0   \n",
       "\n",
       "       PctWhite  PctBlack  PctAsian  PctOtherRace  BirthRate  \n",
       "693   91.622563  0.793872  2.681058      3.189415   3.062143  \n",
       "635   95.667218  0.977885  0.481420      0.646908   7.352941  \n",
       "926   96.866485  0.360062  0.768782      1.050993   6.102877  \n",
       "2488  97.210744  0.378788  0.154959      1.136364   5.539070  \n",
       "2272  95.888009  0.713551  0.175364      1.209409   4.909253  \n",
       "\n",
       "[5 rows x 25 columns]"
      ]
     },
     "execution_count": 30,
     "metadata": {},
     "output_type": "execute_result"
    }
   ],
   "source": [
    "cancer_tr.loc[null_rows_idx].head()"
   ]
  },
  {
   "cell_type": "markdown",
   "metadata": {
    "id": "-339Z7vgaTvz",
    "slideshow": {
     "slide_type": "slide"
    }
   },
   "source": [
    "## Cleaning categorical data"
   ]
  },
  {
   "cell_type": "markdown",
   "metadata": {
    "id": "7STAHS5a9_JX"
   },
   "source": [
    "So the next thing I need to do is to clean up data that is not numerical, and by looking at the current dataset, there is one attribute that has an object datatype. "
   ]
  },
  {
   "cell_type": "code",
   "execution_count": 31,
   "metadata": {
    "colab": {
     "base_uri": "https://localhost:8080/"
    },
    "id": "cGcWinqSZyvR",
    "outputId": "bb208a74-ec62-4b87-fba6-f211b8b1c47a",
    "scrolled": true
   },
   "outputs": [
    {
     "name": "stdout",
     "output_type": "stream",
     "text": [
      "<class 'pandas.core.frame.DataFrame'>\n",
      "Int64Index: 2437 entries, 693 to 2178\n",
      "Data columns (total 26 columns):\n",
      " #   Column                   Non-Null Count  Dtype  \n",
      "---  ------                   --------------  -----  \n",
      " 0   avgAnnCount              2437 non-null   float64\n",
      " 1   avgDeathsPerYear         2437 non-null   int64  \n",
      " 2   incidenceRate            2437 non-null   float64\n",
      " 3   povertyPercent           2437 non-null   float64\n",
      " 4   MedianAge                2437 non-null   float64\n",
      " 5   MedianAgeMale            2437 non-null   float64\n",
      " 6   MedianAgeFemale          2437 non-null   float64\n",
      " 7   Geography                2437 non-null   object \n",
      " 8   PctNoHS18_24             2437 non-null   float64\n",
      " 9   PctHS18_24               2437 non-null   float64\n",
      " 10  PctSomeCol18_24          624 non-null    float64\n",
      " 11  PctBachDeg18_24          2437 non-null   float64\n",
      " 12  PctHS25_Over             2437 non-null   float64\n",
      " 13  PctBachDeg25_Over        2437 non-null   float64\n",
      " 14  PctEmployed16_Over       2307 non-null   float64\n",
      " 15  PctUnemployed16_Over     2437 non-null   float64\n",
      " 16  PctPrivateCoverage       2437 non-null   float64\n",
      " 17  PctPrivateCoverageAlone  1934 non-null   float64\n",
      " 18  PctEmpPrivCoverage       2437 non-null   float64\n",
      " 19  PctPublicCoverage        2437 non-null   float64\n",
      " 20  PctPublicCoverageAlone   2437 non-null   float64\n",
      " 21  PctWhite                 2437 non-null   float64\n",
      " 22  PctBlack                 2437 non-null   float64\n",
      " 23  PctAsian                 2437 non-null   float64\n",
      " 24  PctOtherRace             2437 non-null   float64\n",
      " 25  BirthRate                2437 non-null   float64\n",
      "dtypes: float64(24), int64(1), object(1)\n",
      "memory usage: 514.1+ KB\n"
     ]
    }
   ],
   "source": [
    "cancer.info()"
   ]
  },
  {
   "cell_type": "markdown",
   "metadata": {
    "id": "V2OEvRnt-OKa",
    "slideshow": {
     "slide_type": "slide"
    }
   },
   "source": [
    "This attribute is the geography data, so I will need to do some categorical cleaning so the model can work with the attribute's data. "
   ]
  },
  {
   "cell_type": "code",
   "execution_count": 32,
   "metadata": {
    "colab": {
     "base_uri": "https://localhost:8080/",
     "height": 300
    },
    "id": "QOrqwF3zZ1Xq",
    "outputId": "a5018a8a-fde3-4d3a-9e2d-f25c4d57ceec"
   },
   "outputs": [
    {
     "data": {
      "text/html": [
       "\n",
       "  <div id=\"df-68a99a0c-23f0-4483-84e3-54cf3b653bce\">\n",
       "    <div class=\"colab-df-container\">\n",
       "      <div>\n",
       "<style scoped>\n",
       "    .dataframe tbody tr th:only-of-type {\n",
       "        vertical-align: middle;\n",
       "    }\n",
       "\n",
       "    .dataframe tbody tr th {\n",
       "        vertical-align: top;\n",
       "    }\n",
       "\n",
       "    .dataframe thead th {\n",
       "        text-align: right;\n",
       "    }\n",
       "</style>\n",
       "<table border=\"1\" class=\"dataframe\">\n",
       "  <thead>\n",
       "    <tr style=\"text-align: right;\">\n",
       "      <th></th>\n",
       "      <th>Geography</th>\n",
       "    </tr>\n",
       "  </thead>\n",
       "  <tbody>\n",
       "    <tr>\n",
       "      <th>693</th>\n",
       "      <td>Saline County, Nebraska</td>\n",
       "    </tr>\n",
       "    <tr>\n",
       "      <th>635</th>\n",
       "      <td>Burt County, Nebraska</td>\n",
       "    </tr>\n",
       "    <tr>\n",
       "      <th>926</th>\n",
       "      <td>Morgan County, Utah</td>\n",
       "    </tr>\n",
       "    <tr>\n",
       "      <th>2449</th>\n",
       "      <td>Spalding County, Georgia</td>\n",
       "    </tr>\n",
       "    <tr>\n",
       "      <th>2488</th>\n",
       "      <td>Lincoln County, Minnesota</td>\n",
       "    </tr>\n",
       "    <tr>\n",
       "      <th>2272</th>\n",
       "      <td>Clay County, Iowa</td>\n",
       "    </tr>\n",
       "    <tr>\n",
       "      <th>2754</th>\n",
       "      <td>Lancaster County, South Carolina</td>\n",
       "    </tr>\n",
       "    <tr>\n",
       "      <th>887</th>\n",
       "      <td>Queen Anne's County, Maryland</td>\n",
       "    </tr>\n",
       "  </tbody>\n",
       "</table>\n",
       "</div>\n",
       "      <button class=\"colab-df-convert\" onclick=\"convertToInteractive('df-68a99a0c-23f0-4483-84e3-54cf3b653bce')\"\n",
       "              title=\"Convert this dataframe to an interactive table.\"\n",
       "              style=\"display:none;\">\n",
       "        \n",
       "  <svg xmlns=\"http://www.w3.org/2000/svg\" height=\"24px\"viewBox=\"0 0 24 24\"\n",
       "       width=\"24px\">\n",
       "    <path d=\"M0 0h24v24H0V0z\" fill=\"none\"/>\n",
       "    <path d=\"M18.56 5.44l.94 2.06.94-2.06 2.06-.94-2.06-.94-.94-2.06-.94 2.06-2.06.94zm-11 1L8.5 8.5l.94-2.06 2.06-.94-2.06-.94L8.5 2.5l-.94 2.06-2.06.94zm10 10l.94 2.06.94-2.06 2.06-.94-2.06-.94-.94-2.06-.94 2.06-2.06.94z\"/><path d=\"M17.41 7.96l-1.37-1.37c-.4-.4-.92-.59-1.43-.59-.52 0-1.04.2-1.43.59L10.3 9.45l-7.72 7.72c-.78.78-.78 2.05 0 2.83L4 21.41c.39.39.9.59 1.41.59.51 0 1.02-.2 1.41-.59l7.78-7.78 2.81-2.81c.8-.78.8-2.07 0-2.86zM5.41 20L4 18.59l7.72-7.72 1.47 1.35L5.41 20z\"/>\n",
       "  </svg>\n",
       "      </button>\n",
       "      \n",
       "  <style>\n",
       "    .colab-df-container {\n",
       "      display:flex;\n",
       "      flex-wrap:wrap;\n",
       "      gap: 12px;\n",
       "    }\n",
       "\n",
       "    .colab-df-convert {\n",
       "      background-color: #E8F0FE;\n",
       "      border: none;\n",
       "      border-radius: 50%;\n",
       "      cursor: pointer;\n",
       "      display: none;\n",
       "      fill: #1967D2;\n",
       "      height: 32px;\n",
       "      padding: 0 0 0 0;\n",
       "      width: 32px;\n",
       "    }\n",
       "\n",
       "    .colab-df-convert:hover {\n",
       "      background-color: #E2EBFA;\n",
       "      box-shadow: 0px 1px 2px rgba(60, 64, 67, 0.3), 0px 1px 3px 1px rgba(60, 64, 67, 0.15);\n",
       "      fill: #174EA6;\n",
       "    }\n",
       "\n",
       "    [theme=dark] .colab-df-convert {\n",
       "      background-color: #3B4455;\n",
       "      fill: #D2E3FC;\n",
       "    }\n",
       "\n",
       "    [theme=dark] .colab-df-convert:hover {\n",
       "      background-color: #434B5C;\n",
       "      box-shadow: 0px 1px 3px 1px rgba(0, 0, 0, 0.15);\n",
       "      filter: drop-shadow(0px 1px 2px rgba(0, 0, 0, 0.3));\n",
       "      fill: #FFFFFF;\n",
       "    }\n",
       "  </style>\n",
       "\n",
       "      <script>\n",
       "        const buttonEl =\n",
       "          document.querySelector('#df-68a99a0c-23f0-4483-84e3-54cf3b653bce button.colab-df-convert');\n",
       "        buttonEl.style.display =\n",
       "          google.colab.kernel.accessAllowed ? 'block' : 'none';\n",
       "\n",
       "        async function convertToInteractive(key) {\n",
       "          const element = document.querySelector('#df-68a99a0c-23f0-4483-84e3-54cf3b653bce');\n",
       "          const dataTable =\n",
       "            await google.colab.kernel.invokeFunction('convertToInteractive',\n",
       "                                                     [key], {});\n",
       "          if (!dataTable) return;\n",
       "\n",
       "          const docLinkHtml = 'Like what you see? Visit the ' +\n",
       "            '<a target=\"_blank\" href=https://colab.research.google.com/notebooks/data_table.ipynb>data table notebook</a>'\n",
       "            + ' to learn more about interactive tables.';\n",
       "          element.innerHTML = '';\n",
       "          dataTable['output_type'] = 'display_data';\n",
       "          await google.colab.output.renderOutput(dataTable, element);\n",
       "          const docLink = document.createElement('div');\n",
       "          docLink.innerHTML = docLinkHtml;\n",
       "          element.appendChild(docLink);\n",
       "        }\n",
       "      </script>\n",
       "    </div>\n",
       "  </div>\n",
       "  "
      ],
      "text/plain": [
       "                             Geography\n",
       "693            Saline County, Nebraska\n",
       "635              Burt County, Nebraska\n",
       "926                Morgan County, Utah\n",
       "2449          Spalding County, Georgia\n",
       "2488         Lincoln County, Minnesota\n",
       "2272                 Clay County, Iowa\n",
       "2754  Lancaster County, South Carolina\n",
       "887      Queen Anne's County, Maryland"
      ]
     },
     "execution_count": 32,
     "metadata": {},
     "output_type": "execute_result"
    }
   ],
   "source": [
    "cancer_cat = cancer[[\"Geography\"]]\n",
    "cancer_cat.head(8)"
   ]
  },
  {
   "cell_type": "markdown",
   "metadata": {
    "id": "g_mHciK0-Zuf",
    "slideshow": {
     "slide_type": "slide"
    }
   },
   "source": [
    "Do to this, I am going to use the One Hot Encoder."
   ]
  },
  {
   "cell_type": "code",
   "execution_count": 33,
   "metadata": {
    "id": "7IQTLP32aHaM"
   },
   "outputs": [],
   "source": [
    "from sklearn.preprocessing import OneHotEncoder\n",
    "\n",
    "cat_encoder = OneHotEncoder(sparse=False)\n",
    "cancer_cat_1hot = cat_encoder.fit_transform(cancer_cat)"
   ]
  },
  {
   "cell_type": "code",
   "execution_count": 34,
   "metadata": {
    "colab": {
     "base_uri": "https://localhost:8080/"
    },
    "id": "hxEyvNvqcb8z",
    "outputId": "2c1633c6-e6ba-4671-c930-48ea0579dd7e"
   },
   "outputs": [
    {
     "data": {
      "text/plain": [
       "[array(['Abbeville County, South Carolina', 'Acadia Parish, Louisiana',\n",
       "        'Accomack County, Virginia', ..., 'Yuma County, Arizona',\n",
       "        'Yuma County, Colorado', 'Zavala County, Texas'], dtype=object)]"
      ]
     },
     "execution_count": 34,
     "metadata": {},
     "output_type": "execute_result"
    }
   ],
   "source": [
    "cat_encoder.categories_"
   ]
  },
  {
   "cell_type": "markdown",
   "metadata": {
    "id": "f30USJf0dGA3",
    "slideshow": {
     "slide_type": "slide"
    }
   },
   "source": [
    "## Feature Scaling"
   ]
  },
  {
   "cell_type": "markdown",
   "metadata": {
    "id": "0tncPxYA-lDe"
   },
   "source": [
    "Another step in the preperation process I need to worry about is feature scaling. This is to balance the features and make sure they do not outweigh each other. "
   ]
  },
  {
   "cell_type": "code",
   "execution_count": 35,
   "metadata": {
    "id": "3FWoHFvRdJ1R"
   },
   "outputs": [],
   "source": [
    "from sklearn.preprocessing import StandardScaler\n",
    "\n",
    "std_scaler = StandardScaler()\n",
    "cancer_num_std_scaled = std_scaler.fit_transform(cancer_num)"
   ]
  },
  {
   "cell_type": "markdown",
   "metadata": {
    "id": "-RitYxQJlxxl",
    "slideshow": {
     "slide_type": "slide"
    }
   },
   "source": [
    "## Pipeline"
   ]
  },
  {
   "cell_type": "markdown",
   "metadata": {
    "id": "tr-GBSmp-wto"
   },
   "source": [
    "After deciding how I am going to clean and prepare all of the data for this model, I am going to group them together using a pipeline, that way I can perform imputing or encoding along with scaling. "
   ]
  },
  {
   "cell_type": "code",
   "execution_count": 36,
   "metadata": {
    "id": "uJ2zNsjodg5L"
   },
   "outputs": [],
   "source": [
    "from sklearn.pipeline import Pipeline\n",
    "from sklearn.pipeline import make_pipeline\n",
    "\n",
    "num_pipeline = Pipeline([\n",
    "    (\"impute\", SimpleImputer(strategy=\"mean\")),\n",
    "    (\"standardize\", StandardScaler()),\n",
    "])"
   ]
  },
  {
   "cell_type": "code",
   "execution_count": 37,
   "metadata": {
    "colab": {
     "base_uri": "https://localhost:8080/",
     "height": 126
    },
    "id": "oqtnyMCAmPnN",
    "outputId": "d2140a9f-f834-49ce-cab7-00c3c80fc698"
   },
   "outputs": [
    {
     "data": {
      "text/html": [
       "<style>#sk-d0a8e3cb-3787-4448-bb95-2d61508f7649 {color: black;background-color: white;}#sk-d0a8e3cb-3787-4448-bb95-2d61508f7649 pre{padding: 0;}#sk-d0a8e3cb-3787-4448-bb95-2d61508f7649 div.sk-toggleable {background-color: white;}#sk-d0a8e3cb-3787-4448-bb95-2d61508f7649 label.sk-toggleable__label {cursor: pointer;display: block;width: 100%;margin-bottom: 0;padding: 0.3em;box-sizing: border-box;text-align: center;}#sk-d0a8e3cb-3787-4448-bb95-2d61508f7649 label.sk-toggleable__label-arrow:before {content: \"▸\";float: left;margin-right: 0.25em;color: #696969;}#sk-d0a8e3cb-3787-4448-bb95-2d61508f7649 label.sk-toggleable__label-arrow:hover:before {color: black;}#sk-d0a8e3cb-3787-4448-bb95-2d61508f7649 div.sk-estimator:hover label.sk-toggleable__label-arrow:before {color: black;}#sk-d0a8e3cb-3787-4448-bb95-2d61508f7649 div.sk-toggleable__content {max-height: 0;max-width: 0;overflow: hidden;text-align: left;background-color: #f0f8ff;}#sk-d0a8e3cb-3787-4448-bb95-2d61508f7649 div.sk-toggleable__content pre {margin: 0.2em;color: black;border-radius: 0.25em;background-color: #f0f8ff;}#sk-d0a8e3cb-3787-4448-bb95-2d61508f7649 input.sk-toggleable__control:checked~div.sk-toggleable__content {max-height: 200px;max-width: 100%;overflow: auto;}#sk-d0a8e3cb-3787-4448-bb95-2d61508f7649 input.sk-toggleable__control:checked~label.sk-toggleable__label-arrow:before {content: \"▾\";}#sk-d0a8e3cb-3787-4448-bb95-2d61508f7649 div.sk-estimator input.sk-toggleable__control:checked~label.sk-toggleable__label {background-color: #d4ebff;}#sk-d0a8e3cb-3787-4448-bb95-2d61508f7649 div.sk-label input.sk-toggleable__control:checked~label.sk-toggleable__label {background-color: #d4ebff;}#sk-d0a8e3cb-3787-4448-bb95-2d61508f7649 input.sk-hidden--visually {border: 0;clip: rect(1px 1px 1px 1px);clip: rect(1px, 1px, 1px, 1px);height: 1px;margin: -1px;overflow: hidden;padding: 0;position: absolute;width: 1px;}#sk-d0a8e3cb-3787-4448-bb95-2d61508f7649 div.sk-estimator {font-family: monospace;background-color: #f0f8ff;border: 1px dotted black;border-radius: 0.25em;box-sizing: border-box;margin-bottom: 0.5em;}#sk-d0a8e3cb-3787-4448-bb95-2d61508f7649 div.sk-estimator:hover {background-color: #d4ebff;}#sk-d0a8e3cb-3787-4448-bb95-2d61508f7649 div.sk-parallel-item::after {content: \"\";width: 100%;border-bottom: 1px solid gray;flex-grow: 1;}#sk-d0a8e3cb-3787-4448-bb95-2d61508f7649 div.sk-label:hover label.sk-toggleable__label {background-color: #d4ebff;}#sk-d0a8e3cb-3787-4448-bb95-2d61508f7649 div.sk-serial::before {content: \"\";position: absolute;border-left: 1px solid gray;box-sizing: border-box;top: 2em;bottom: 0;left: 50%;}#sk-d0a8e3cb-3787-4448-bb95-2d61508f7649 div.sk-serial {display: flex;flex-direction: column;align-items: center;background-color: white;padding-right: 0.2em;padding-left: 0.2em;}#sk-d0a8e3cb-3787-4448-bb95-2d61508f7649 div.sk-item {z-index: 1;}#sk-d0a8e3cb-3787-4448-bb95-2d61508f7649 div.sk-parallel {display: flex;align-items: stretch;justify-content: center;background-color: white;}#sk-d0a8e3cb-3787-4448-bb95-2d61508f7649 div.sk-parallel::before {content: \"\";position: absolute;border-left: 1px solid gray;box-sizing: border-box;top: 2em;bottom: 0;left: 50%;}#sk-d0a8e3cb-3787-4448-bb95-2d61508f7649 div.sk-parallel-item {display: flex;flex-direction: column;position: relative;background-color: white;}#sk-d0a8e3cb-3787-4448-bb95-2d61508f7649 div.sk-parallel-item:first-child::after {align-self: flex-end;width: 50%;}#sk-d0a8e3cb-3787-4448-bb95-2d61508f7649 div.sk-parallel-item:last-child::after {align-self: flex-start;width: 50%;}#sk-d0a8e3cb-3787-4448-bb95-2d61508f7649 div.sk-parallel-item:only-child::after {width: 0;}#sk-d0a8e3cb-3787-4448-bb95-2d61508f7649 div.sk-dashed-wrapped {border: 1px dashed gray;margin: 0 0.4em 0.5em 0.4em;box-sizing: border-box;padding-bottom: 0.4em;background-color: white;position: relative;}#sk-d0a8e3cb-3787-4448-bb95-2d61508f7649 div.sk-label label {font-family: monospace;font-weight: bold;background-color: white;display: inline-block;line-height: 1.2em;}#sk-d0a8e3cb-3787-4448-bb95-2d61508f7649 div.sk-label-container {position: relative;z-index: 2;text-align: center;}#sk-d0a8e3cb-3787-4448-bb95-2d61508f7649 div.sk-container {/* jupyter's `normalize.less` sets `[hidden] { display: none; }` but bootstrap.min.css set `[hidden] { display: none !important; }` so we also need the `!important` here to be able to override the default hidden behavior on the sphinx rendered scikit-learn.org. See: https://github.com/scikit-learn/scikit-learn/issues/21755 */display: inline-block !important;position: relative;}#sk-d0a8e3cb-3787-4448-bb95-2d61508f7649 div.sk-text-repr-fallback {display: none;}</style><div id=\"sk-d0a8e3cb-3787-4448-bb95-2d61508f7649\" class=\"sk-top-container\"><div class=\"sk-text-repr-fallback\"><pre>Pipeline(steps=[(&#x27;impute&#x27;, SimpleImputer()), (&#x27;standardize&#x27;, StandardScaler())])</pre><b>Please rerun this cell to show the HTML repr or trust the notebook.</b></div><div class=\"sk-container\" hidden><div class=\"sk-item sk-dashed-wrapped\"><div class=\"sk-label-container\"><div class=\"sk-label sk-toggleable\"><input class=\"sk-toggleable__control sk-hidden--visually\" id=\"45633f1e-c8c2-4e20-8094-ba9a8ee3f743\" type=\"checkbox\" ><label for=\"45633f1e-c8c2-4e20-8094-ba9a8ee3f743\" class=\"sk-toggleable__label sk-toggleable__label-arrow\">Pipeline</label><div class=\"sk-toggleable__content\"><pre>Pipeline(steps=[(&#x27;impute&#x27;, SimpleImputer()), (&#x27;standardize&#x27;, StandardScaler())])</pre></div></div></div><div class=\"sk-serial\"><div class=\"sk-item\"><div class=\"sk-estimator sk-toggleable\"><input class=\"sk-toggleable__control sk-hidden--visually\" id=\"c39b6bc3-dd5f-48b0-8f40-aa42fd40da6f\" type=\"checkbox\" ><label for=\"c39b6bc3-dd5f-48b0-8f40-aa42fd40da6f\" class=\"sk-toggleable__label sk-toggleable__label-arrow\">SimpleImputer</label><div class=\"sk-toggleable__content\"><pre>SimpleImputer()</pre></div></div></div><div class=\"sk-item\"><div class=\"sk-estimator sk-toggleable\"><input class=\"sk-toggleable__control sk-hidden--visually\" id=\"3380909b-d1d5-447e-87bf-f2f9459477ea\" type=\"checkbox\" ><label for=\"3380909b-d1d5-447e-87bf-f2f9459477ea\" class=\"sk-toggleable__label sk-toggleable__label-arrow\">StandardScaler</label><div class=\"sk-toggleable__content\"><pre>StandardScaler()</pre></div></div></div></div></div></div></div>"
      ],
      "text/plain": [
       "Pipeline(steps=[('impute', SimpleImputer()), ('standardize', StandardScaler())])"
      ]
     },
     "execution_count": 37,
     "metadata": {},
     "output_type": "execute_result"
    }
   ],
   "source": [
    "from sklearn import set_config\n",
    "\n",
    "set_config(display='diagram')\n",
    "\n",
    "num_pipeline"
   ]
  },
  {
   "cell_type": "code",
   "execution_count": 38,
   "metadata": {
    "colab": {
     "base_uri": "https://localhost:8080/"
    },
    "id": "ocXAv1VFmV8l",
    "outputId": "7002e6b4-6778-4e7a-f53b-3559b4da5e64",
    "slideshow": {
     "slide_type": "skip"
    }
   },
   "outputs": [
    {
     "data": {
      "text/plain": [
       "array([[-0.35, -0.3 ,  1.5 , -1.07, -0.19, -0.79, -0.83,  0.22, -1.89,\n",
       "        -0.  ,  0.24, -0.02, -0.97,  1.14, -1.28,  1.13,  1.41,  1.38,\n",
       "        -1.37, -1.26,  0.49, -0.57,  0.54,  0.33, -1.32],\n",
       "       [-0.38, -0.31,  0.68, -0.99,  0.05,  1.24,  1.21,  0.58,  0.62,\n",
       "        -0.  , -0.45,  0.62, -0.18,  0.41, -1.31,  0.75,  0.67,  0.42,\n",
       "        -0.17, -0.69,  0.74, -0.56, -0.29, -0.37,  0.89]])"
      ]
     },
     "execution_count": 38,
     "metadata": {},
     "output_type": "execute_result"
    }
   ],
   "source": [
    "cancer_num_prepared = num_pipeline.fit_transform(cancer_num)\n",
    "cancer_num_prepared[:2].round(2)"
   ]
  },
  {
   "cell_type": "markdown",
   "metadata": {
    "id": "6gwcER5DwLzg",
    "slideshow": {
     "slide_type": "skip"
    }
   },
   "source": [
    "## Simple Imputer Bug Fix code"
   ]
  },
  {
   "cell_type": "code",
   "execution_count": 39,
   "metadata": {
    "colab": {
     "base_uri": "https://localhost:8080/"
    },
    "id": "cTDLtTWcwOk-",
    "outputId": "35f6cb2a-1fbf-44d0-fbf2-05c0a45e3318",
    "slideshow": {
     "slide_type": "skip"
    }
   },
   "outputs": [
    {
     "name": "stdout",
     "output_type": "stream",
     "text": [
      "Monkey-patching SimpleImputer.get_feature_names_out()\n",
      "Monkey-patching FunctionTransformer.get_feature_names_out()\n"
     ]
    }
   ],
   "source": [
    "def monkey_patch_get_signature_names_out():\n",
    "    \"\"\"Monkey patch some classes which did not handle get_feature_names_out()\n",
    "       correctly in Scikit-Learn 1.0.*.\"\"\"\n",
    "    from inspect import Signature, signature, Parameter\n",
    "    import pandas as pd\n",
    "    from sklearn.impute import SimpleImputer\n",
    "    from sklearn.pipeline import make_pipeline, Pipeline\n",
    "    from sklearn.preprocessing import FunctionTransformer, StandardScaler\n",
    "\n",
    "    default_get_feature_names_out = StandardScaler.get_feature_names_out\n",
    "\n",
    "    if not hasattr(SimpleImputer, \"get_feature_names_out\"):\n",
    "      print(\"Monkey-patching SimpleImputer.get_feature_names_out()\")\n",
    "      SimpleImputer.get_feature_names_out = default_get_feature_names_out\n",
    "\n",
    "    if not hasattr(FunctionTransformer, \"get_feature_names_out\"):\n",
    "        print(\"Monkey-patching FunctionTransformer.get_feature_names_out()\")\n",
    "        orig_init = FunctionTransformer.__init__\n",
    "        orig_sig = signature(orig_init)\n",
    "\n",
    "        def __init__(*args, feature_names_out=None, **kwargs):\n",
    "            orig_sig.bind(*args, **kwargs)\n",
    "            orig_init(*args, **kwargs)\n",
    "            args[0].feature_names_out = feature_names_out\n",
    "\n",
    "        __init__.__signature__ = Signature(\n",
    "            list(signature(orig_init).parameters.values()) + [\n",
    "                Parameter(\"feature_names_out\", Parameter.KEYWORD_ONLY)])\n",
    "\n",
    "        def get_feature_names_out(self, names=None):\n",
    "            if callable(self.feature_names_out):\n",
    "                return self.feature_names_out(self, names)\n",
    "            assert self.feature_names_out == \"one-to-one\"\n",
    "            return default_get_feature_names_out(self, names)\n",
    "\n",
    "        FunctionTransformer.__init__ = __init__\n",
    "        FunctionTransformer.get_feature_names_out = get_feature_names_out\n",
    "\n",
    "monkey_patch_get_signature_names_out()"
   ]
  },
  {
   "cell_type": "markdown",
   "metadata": {
    "id": "GFbKyzGFp9Ed",
    "slideshow": {
     "slide_type": "slide"
    }
   },
   "source": [
    "## Final Pipeline and Column Transformer"
   ]
  },
  {
   "cell_type": "markdown",
   "metadata": {
    "id": "wY-RA6sOAXnt"
   },
   "source": [
    "Here is my final set of pipelines that I will be using to prepare data for my model. "
   ]
  },
  {
   "cell_type": "code",
   "execution_count": 41,
   "metadata": {
    "id": "cnlvrGRxqCxC"
   },
   "outputs": [],
   "source": [
    "from sklearn.preprocessing import FunctionTransformer\n",
    "from sklearn.compose import make_column_selector, make_column_transformer\n",
    "from sklearn.compose import ColumnTransformer\n",
    "from sklearn import set_config\n",
    "from sklearn.pipeline import Pipeline\n",
    "from sklearn.pipeline import make_pipeline\n",
    "from sklearn.preprocessing import StandardScaler\n",
    "from sklearn.impute import SimpleImputer"
   ]
  },
  {
   "cell_type": "code",
   "execution_count": 42,
   "metadata": {
    "id": "F6Rrn0gJqEtp",
    "slideshow": {
     "slide_type": "slide"
    }
   },
   "outputs": [],
   "source": [
    "def column_ratio(X):\n",
    "    return X\n",
    "\n",
    "def ratio_name(function_transformer, feature_names_in):\n",
    "    return [\"ratio\"]\n",
    "\n",
    "def ratio_pipeline():\n",
    "    return make_pipeline(\n",
    "        SimpleImputer(strategy=\"mean\"),\n",
    "        FunctionTransformer(column_ratio, feature_names_out=ratio_name),\n",
    "        StandardScaler())\n",
    "\n",
    "cat_pipeline = make_pipeline(\n",
    "    SimpleImputer(strategy=\"most_frequent\"),\n",
    "    OneHotEncoder(handle_unknown=\"ignore\"))\n",
    "\n",
    "def num_pipeline():\n",
    "    return make_pipeline(\n",
    "        SimpleImputer(strategy=\"mean\"),\n",
    "        StandardScaler())"
   ]
  },
  {
   "cell_type": "code",
   "execution_count": 43,
   "metadata": {
    "id": "KPAgy6zsZ_au",
    "slideshow": {
     "slide_type": "slide"
    }
   },
   "outputs": [],
   "source": [
    "preprocessing = ColumnTransformer([\n",
    "        (\"avgAnnCount\", num_pipeline(), [\"avgAnnCount\"]),\n",
    "        (\"avgDeathsPerYear\", num_pipeline(), [\"avgDeathsPerYear\"]),\n",
    "        (\"incidenceRate\", num_pipeline(), [\"incidenceRate\"]),\n",
    "        (\"povertyPercent\", num_pipeline(), [\"povertyPercent\"]),\n",
    "        (\"Age\", ratio_pipeline(), [\"MedianAge\", \"MedianAgeMale\", \"MedianAgeFemale\"]),\n",
    "        (\"Highschool education\", ratio_pipeline(), [\"PctNoHS18_24\", \"PctHS18_24\", \"PctHS25_Over\"]),\n",
    "        (\"College Education\", ratio_pipeline(), [\"PctSomeCol18_24\", \"PctBachDeg18_24\", \"PctBachDeg25_Over\"]),\n",
    "        (\"Employment\", ratio_pipeline(), [\"PctEmployed16_Over\", \"PctUnemployed16_Over\"]),\n",
    "        (\"Insurance Coverage\", ratio_pipeline(), [\"PctPrivateCoverage\", \"PctPrivateCoverageAlone\",\n",
    "                                                  \"PctEmpPrivCoverage\", \"PctPublicCoverage\", \"PctPublicCoverageAlone\"]),\n",
    "        (\"Race\", ratio_pipeline(), [\"PctWhite\", \"PctBlack\", \"PctAsian\", \"PctOtherRace\"]),\n",
    "        (\"BirthRate\", num_pipeline(), [\"BirthRate\"]),\n",
    "        (\"Geography\", cat_pipeline, make_column_selector(dtype_include=object)),\n",
    "    ],\n",
    "    remainder=num_pipeline())  # one column remaining: TARGET_deathRate"
   ]
  },
  {
   "cell_type": "markdown",
   "metadata": {
    "id": "zi94uW3Li1G9",
    "slideshow": {
     "slide_type": "slide"
    }
   },
   "source": [
    "# Evaluating Training and testing Models"
   ]
  },
  {
   "cell_type": "markdown",
   "metadata": {
    "id": "eWIH_4YbAuI7"
   },
   "source": [
    "## Trying Ordinary Least Squares Linear Regression"
   ]
  },
  {
   "cell_type": "code",
   "execution_count": 44,
   "metadata": {
    "colab": {
     "base_uri": "https://localhost:8080/",
     "height": 316
    },
    "id": "6Wc4d2nGxmr1",
    "outputId": "dde03a9d-ac64-4c26-8351-ff89f2c6d960"
   },
   "outputs": [
    {
     "data": {
      "text/html": [
       "<style>#sk-b9a2a217-fe68-4eba-b43a-a70f40271576 {color: black;background-color: white;}#sk-b9a2a217-fe68-4eba-b43a-a70f40271576 pre{padding: 0;}#sk-b9a2a217-fe68-4eba-b43a-a70f40271576 div.sk-toggleable {background-color: white;}#sk-b9a2a217-fe68-4eba-b43a-a70f40271576 label.sk-toggleable__label {cursor: pointer;display: block;width: 100%;margin-bottom: 0;padding: 0.3em;box-sizing: border-box;text-align: center;}#sk-b9a2a217-fe68-4eba-b43a-a70f40271576 label.sk-toggleable__label-arrow:before {content: \"▸\";float: left;margin-right: 0.25em;color: #696969;}#sk-b9a2a217-fe68-4eba-b43a-a70f40271576 label.sk-toggleable__label-arrow:hover:before {color: black;}#sk-b9a2a217-fe68-4eba-b43a-a70f40271576 div.sk-estimator:hover label.sk-toggleable__label-arrow:before {color: black;}#sk-b9a2a217-fe68-4eba-b43a-a70f40271576 div.sk-toggleable__content {max-height: 0;max-width: 0;overflow: hidden;text-align: left;background-color: #f0f8ff;}#sk-b9a2a217-fe68-4eba-b43a-a70f40271576 div.sk-toggleable__content pre {margin: 0.2em;color: black;border-radius: 0.25em;background-color: #f0f8ff;}#sk-b9a2a217-fe68-4eba-b43a-a70f40271576 input.sk-toggleable__control:checked~div.sk-toggleable__content {max-height: 200px;max-width: 100%;overflow: auto;}#sk-b9a2a217-fe68-4eba-b43a-a70f40271576 input.sk-toggleable__control:checked~label.sk-toggleable__label-arrow:before {content: \"▾\";}#sk-b9a2a217-fe68-4eba-b43a-a70f40271576 div.sk-estimator input.sk-toggleable__control:checked~label.sk-toggleable__label {background-color: #d4ebff;}#sk-b9a2a217-fe68-4eba-b43a-a70f40271576 div.sk-label input.sk-toggleable__control:checked~label.sk-toggleable__label {background-color: #d4ebff;}#sk-b9a2a217-fe68-4eba-b43a-a70f40271576 input.sk-hidden--visually {border: 0;clip: rect(1px 1px 1px 1px);clip: rect(1px, 1px, 1px, 1px);height: 1px;margin: -1px;overflow: hidden;padding: 0;position: absolute;width: 1px;}#sk-b9a2a217-fe68-4eba-b43a-a70f40271576 div.sk-estimator {font-family: monospace;background-color: #f0f8ff;border: 1px dotted black;border-radius: 0.25em;box-sizing: border-box;margin-bottom: 0.5em;}#sk-b9a2a217-fe68-4eba-b43a-a70f40271576 div.sk-estimator:hover {background-color: #d4ebff;}#sk-b9a2a217-fe68-4eba-b43a-a70f40271576 div.sk-parallel-item::after {content: \"\";width: 100%;border-bottom: 1px solid gray;flex-grow: 1;}#sk-b9a2a217-fe68-4eba-b43a-a70f40271576 div.sk-label:hover label.sk-toggleable__label {background-color: #d4ebff;}#sk-b9a2a217-fe68-4eba-b43a-a70f40271576 div.sk-serial::before {content: \"\";position: absolute;border-left: 1px solid gray;box-sizing: border-box;top: 2em;bottom: 0;left: 50%;}#sk-b9a2a217-fe68-4eba-b43a-a70f40271576 div.sk-serial {display: flex;flex-direction: column;align-items: center;background-color: white;padding-right: 0.2em;padding-left: 0.2em;}#sk-b9a2a217-fe68-4eba-b43a-a70f40271576 div.sk-item {z-index: 1;}#sk-b9a2a217-fe68-4eba-b43a-a70f40271576 div.sk-parallel {display: flex;align-items: stretch;justify-content: center;background-color: white;}#sk-b9a2a217-fe68-4eba-b43a-a70f40271576 div.sk-parallel::before {content: \"\";position: absolute;border-left: 1px solid gray;box-sizing: border-box;top: 2em;bottom: 0;left: 50%;}#sk-b9a2a217-fe68-4eba-b43a-a70f40271576 div.sk-parallel-item {display: flex;flex-direction: column;position: relative;background-color: white;}#sk-b9a2a217-fe68-4eba-b43a-a70f40271576 div.sk-parallel-item:first-child::after {align-self: flex-end;width: 50%;}#sk-b9a2a217-fe68-4eba-b43a-a70f40271576 div.sk-parallel-item:last-child::after {align-self: flex-start;width: 50%;}#sk-b9a2a217-fe68-4eba-b43a-a70f40271576 div.sk-parallel-item:only-child::after {width: 0;}#sk-b9a2a217-fe68-4eba-b43a-a70f40271576 div.sk-dashed-wrapped {border: 1px dashed gray;margin: 0 0.4em 0.5em 0.4em;box-sizing: border-box;padding-bottom: 0.4em;background-color: white;position: relative;}#sk-b9a2a217-fe68-4eba-b43a-a70f40271576 div.sk-label label {font-family: monospace;font-weight: bold;background-color: white;display: inline-block;line-height: 1.2em;}#sk-b9a2a217-fe68-4eba-b43a-a70f40271576 div.sk-label-container {position: relative;z-index: 2;text-align: center;}#sk-b9a2a217-fe68-4eba-b43a-a70f40271576 div.sk-container {/* jupyter's `normalize.less` sets `[hidden] { display: none; }` but bootstrap.min.css set `[hidden] { display: none !important; }` so we also need the `!important` here to be able to override the default hidden behavior on the sphinx rendered scikit-learn.org. See: https://github.com/scikit-learn/scikit-learn/issues/21755 */display: inline-block !important;position: relative;}#sk-b9a2a217-fe68-4eba-b43a-a70f40271576 div.sk-text-repr-fallback {display: none;}</style><div id=\"sk-b9a2a217-fe68-4eba-b43a-a70f40271576\" class=\"sk-top-container\"><div class=\"sk-text-repr-fallback\"><pre>Pipeline(steps=[(&#x27;columntransformer&#x27;,\n",
       "                 ColumnTransformer(remainder=Pipeline(steps=[(&#x27;simpleimputer&#x27;,\n",
       "                                                              SimpleImputer()),\n",
       "                                                             (&#x27;standardscaler&#x27;,\n",
       "                                                              StandardScaler())]),\n",
       "                                   transformers=[(&#x27;avgAnnCount&#x27;,\n",
       "                                                  Pipeline(steps=[(&#x27;simpleimputer&#x27;,\n",
       "                                                                   SimpleImputer()),\n",
       "                                                                  (&#x27;standardscaler&#x27;,\n",
       "                                                                   StandardScaler())]),\n",
       "                                                  [&#x27;avgAnnCount&#x27;]),\n",
       "                                                 (&#x27;avgDeathsPerYear&#x27;,\n",
       "                                                  Pipeline(steps=[(&#x27;simpleimputer&#x27;,\n",
       "                                                                   SimpleImpu...\n",
       "                                                  Pipeline(steps=[(&#x27;simpleimputer&#x27;,\n",
       "                                                                   SimpleImputer()),\n",
       "                                                                  (&#x27;standardscaler&#x27;,\n",
       "                                                                   StandardScaler())]),\n",
       "                                                  [&#x27;BirthRate&#x27;]),\n",
       "                                                 (&#x27;Geography&#x27;,\n",
       "                                                  Pipeline(steps=[(&#x27;simpleimputer&#x27;,\n",
       "                                                                   SimpleImputer(strategy=&#x27;most_frequent&#x27;)),\n",
       "                                                                  (&#x27;onehotencoder&#x27;,\n",
       "                                                                   OneHotEncoder(handle_unknown=&#x27;ignore&#x27;))]),\n",
       "                                                  &lt;sklearn.compose._column_transformer.make_column_selector object at 0x7fa76f6bd370&gt;)])),\n",
       "                (&#x27;linearregression&#x27;, LinearRegression())])</pre><b>Please rerun this cell to show the HTML repr or trust the notebook.</b></div><div class=\"sk-container\" hidden><div class=\"sk-item sk-dashed-wrapped\"><div class=\"sk-label-container\"><div class=\"sk-label sk-toggleable\"><input class=\"sk-toggleable__control sk-hidden--visually\" id=\"4514e2ed-1c72-4385-8813-868e98622ad3\" type=\"checkbox\" ><label for=\"4514e2ed-1c72-4385-8813-868e98622ad3\" class=\"sk-toggleable__label sk-toggleable__label-arrow\">Pipeline</label><div class=\"sk-toggleable__content\"><pre>Pipeline(steps=[(&#x27;columntransformer&#x27;,\n",
       "                 ColumnTransformer(remainder=Pipeline(steps=[(&#x27;simpleimputer&#x27;,\n",
       "                                                              SimpleImputer()),\n",
       "                                                             (&#x27;standardscaler&#x27;,\n",
       "                                                              StandardScaler())]),\n",
       "                                   transformers=[(&#x27;avgAnnCount&#x27;,\n",
       "                                                  Pipeline(steps=[(&#x27;simpleimputer&#x27;,\n",
       "                                                                   SimpleImputer()),\n",
       "                                                                  (&#x27;standardscaler&#x27;,\n",
       "                                                                   StandardScaler())]),\n",
       "                                                  [&#x27;avgAnnCount&#x27;]),\n",
       "                                                 (&#x27;avgDeathsPerYear&#x27;,\n",
       "                                                  Pipeline(steps=[(&#x27;simpleimputer&#x27;,\n",
       "                                                                   SimpleImpu...\n",
       "                                                  Pipeline(steps=[(&#x27;simpleimputer&#x27;,\n",
       "                                                                   SimpleImputer()),\n",
       "                                                                  (&#x27;standardscaler&#x27;,\n",
       "                                                                   StandardScaler())]),\n",
       "                                                  [&#x27;BirthRate&#x27;]),\n",
       "                                                 (&#x27;Geography&#x27;,\n",
       "                                                  Pipeline(steps=[(&#x27;simpleimputer&#x27;,\n",
       "                                                                   SimpleImputer(strategy=&#x27;most_frequent&#x27;)),\n",
       "                                                                  (&#x27;onehotencoder&#x27;,\n",
       "                                                                   OneHotEncoder(handle_unknown=&#x27;ignore&#x27;))]),\n",
       "                                                  &lt;sklearn.compose._column_transformer.make_column_selector object at 0x7fa76f6bd370&gt;)])),\n",
       "                (&#x27;linearregression&#x27;, LinearRegression())])</pre></div></div></div><div class=\"sk-serial\"><div class=\"sk-item sk-dashed-wrapped\"><div class=\"sk-label-container\"><div class=\"sk-label sk-toggleable\"><input class=\"sk-toggleable__control sk-hidden--visually\" id=\"9e7793a0-6543-47c5-8168-7f17a27b0d5f\" type=\"checkbox\" ><label for=\"9e7793a0-6543-47c5-8168-7f17a27b0d5f\" class=\"sk-toggleable__label sk-toggleable__label-arrow\">columntransformer: ColumnTransformer</label><div class=\"sk-toggleable__content\"><pre>ColumnTransformer(remainder=Pipeline(steps=[(&#x27;simpleimputer&#x27;, SimpleImputer()),\n",
       "                                            (&#x27;standardscaler&#x27;,\n",
       "                                             StandardScaler())]),\n",
       "                  transformers=[(&#x27;avgAnnCount&#x27;,\n",
       "                                 Pipeline(steps=[(&#x27;simpleimputer&#x27;,\n",
       "                                                  SimpleImputer()),\n",
       "                                                 (&#x27;standardscaler&#x27;,\n",
       "                                                  StandardScaler())]),\n",
       "                                 [&#x27;avgAnnCount&#x27;]),\n",
       "                                (&#x27;avgDeathsPerYear&#x27;,\n",
       "                                 Pipeline(steps=[(&#x27;simpleimputer&#x27;,\n",
       "                                                  SimpleImputer()),\n",
       "                                                 (&#x27;standardscaler&#x27;,\n",
       "                                                  StandardScal...\n",
       "                                  &#x27;PctOtherRace&#x27;]),\n",
       "                                (&#x27;BirthRate&#x27;,\n",
       "                                 Pipeline(steps=[(&#x27;simpleimputer&#x27;,\n",
       "                                                  SimpleImputer()),\n",
       "                                                 (&#x27;standardscaler&#x27;,\n",
       "                                                  StandardScaler())]),\n",
       "                                 [&#x27;BirthRate&#x27;]),\n",
       "                                (&#x27;Geography&#x27;,\n",
       "                                 Pipeline(steps=[(&#x27;simpleimputer&#x27;,\n",
       "                                                  SimpleImputer(strategy=&#x27;most_frequent&#x27;)),\n",
       "                                                 (&#x27;onehotencoder&#x27;,\n",
       "                                                  OneHotEncoder(handle_unknown=&#x27;ignore&#x27;))]),\n",
       "                                 &lt;sklearn.compose._column_transformer.make_column_selector object at 0x7fa76f6bd370&gt;)])</pre></div></div></div><div class=\"sk-parallel\"><div class=\"sk-parallel-item\"><div class=\"sk-item\"><div class=\"sk-label-container\"><div class=\"sk-label sk-toggleable\"><input class=\"sk-toggleable__control sk-hidden--visually\" id=\"4d23cfcb-2f8b-43eb-ae42-7295b97af855\" type=\"checkbox\" ><label for=\"4d23cfcb-2f8b-43eb-ae42-7295b97af855\" class=\"sk-toggleable__label sk-toggleable__label-arrow\">avgAnnCount</label><div class=\"sk-toggleable__content\"><pre>[&#x27;avgAnnCount&#x27;]</pre></div></div></div><div class=\"sk-serial\"><div class=\"sk-item\"><div class=\"sk-serial\"><div class=\"sk-item\"><div class=\"sk-estimator sk-toggleable\"><input class=\"sk-toggleable__control sk-hidden--visually\" id=\"d420171b-7204-4305-8129-468ef5df33ba\" type=\"checkbox\" ><label for=\"d420171b-7204-4305-8129-468ef5df33ba\" class=\"sk-toggleable__label sk-toggleable__label-arrow\">SimpleImputer</label><div class=\"sk-toggleable__content\"><pre>SimpleImputer()</pre></div></div></div><div class=\"sk-item\"><div class=\"sk-estimator sk-toggleable\"><input class=\"sk-toggleable__control sk-hidden--visually\" id=\"27679cac-7537-43b2-b175-24cb32781833\" type=\"checkbox\" ><label for=\"27679cac-7537-43b2-b175-24cb32781833\" class=\"sk-toggleable__label sk-toggleable__label-arrow\">StandardScaler</label><div class=\"sk-toggleable__content\"><pre>StandardScaler()</pre></div></div></div></div></div></div></div></div><div class=\"sk-parallel-item\"><div class=\"sk-item\"><div class=\"sk-label-container\"><div class=\"sk-label sk-toggleable\"><input class=\"sk-toggleable__control sk-hidden--visually\" id=\"103e9ef4-1acd-410c-a393-998e2a9e4ecd\" type=\"checkbox\" ><label for=\"103e9ef4-1acd-410c-a393-998e2a9e4ecd\" class=\"sk-toggleable__label sk-toggleable__label-arrow\">avgDeathsPerYear</label><div class=\"sk-toggleable__content\"><pre>[&#x27;avgDeathsPerYear&#x27;]</pre></div></div></div><div class=\"sk-serial\"><div class=\"sk-item\"><div class=\"sk-serial\"><div class=\"sk-item\"><div class=\"sk-estimator sk-toggleable\"><input class=\"sk-toggleable__control sk-hidden--visually\" id=\"0f42e516-d977-445e-bcef-1da71193c06e\" type=\"checkbox\" ><label for=\"0f42e516-d977-445e-bcef-1da71193c06e\" class=\"sk-toggleable__label sk-toggleable__label-arrow\">SimpleImputer</label><div class=\"sk-toggleable__content\"><pre>SimpleImputer()</pre></div></div></div><div class=\"sk-item\"><div class=\"sk-estimator sk-toggleable\"><input class=\"sk-toggleable__control sk-hidden--visually\" id=\"8f0f1ee3-760b-466d-b0f2-1d93570e56d7\" type=\"checkbox\" ><label for=\"8f0f1ee3-760b-466d-b0f2-1d93570e56d7\" class=\"sk-toggleable__label sk-toggleable__label-arrow\">StandardScaler</label><div class=\"sk-toggleable__content\"><pre>StandardScaler()</pre></div></div></div></div></div></div></div></div><div class=\"sk-parallel-item\"><div class=\"sk-item\"><div class=\"sk-label-container\"><div class=\"sk-label sk-toggleable\"><input class=\"sk-toggleable__control sk-hidden--visually\" id=\"a165b8bc-a391-4b04-8e26-d8612e269038\" type=\"checkbox\" ><label for=\"a165b8bc-a391-4b04-8e26-d8612e269038\" class=\"sk-toggleable__label sk-toggleable__label-arrow\">incidenceRate</label><div class=\"sk-toggleable__content\"><pre>[&#x27;incidenceRate&#x27;]</pre></div></div></div><div class=\"sk-serial\"><div class=\"sk-item\"><div class=\"sk-serial\"><div class=\"sk-item\"><div class=\"sk-estimator sk-toggleable\"><input class=\"sk-toggleable__control sk-hidden--visually\" id=\"7f4215b4-daf9-403d-9daa-01d7d6049f43\" type=\"checkbox\" ><label for=\"7f4215b4-daf9-403d-9daa-01d7d6049f43\" class=\"sk-toggleable__label sk-toggleable__label-arrow\">SimpleImputer</label><div class=\"sk-toggleable__content\"><pre>SimpleImputer()</pre></div></div></div><div class=\"sk-item\"><div class=\"sk-estimator sk-toggleable\"><input class=\"sk-toggleable__control sk-hidden--visually\" id=\"947b5b72-be13-4c85-b42f-fc8c5547c7fc\" type=\"checkbox\" ><label for=\"947b5b72-be13-4c85-b42f-fc8c5547c7fc\" class=\"sk-toggleable__label sk-toggleable__label-arrow\">StandardScaler</label><div class=\"sk-toggleable__content\"><pre>StandardScaler()</pre></div></div></div></div></div></div></div></div><div class=\"sk-parallel-item\"><div class=\"sk-item\"><div class=\"sk-label-container\"><div class=\"sk-label sk-toggleable\"><input class=\"sk-toggleable__control sk-hidden--visually\" id=\"8b6b0236-496f-4c6e-9034-684a659a47eb\" type=\"checkbox\" ><label for=\"8b6b0236-496f-4c6e-9034-684a659a47eb\" class=\"sk-toggleable__label sk-toggleable__label-arrow\">povertyPercent</label><div class=\"sk-toggleable__content\"><pre>[&#x27;povertyPercent&#x27;]</pre></div></div></div><div class=\"sk-serial\"><div class=\"sk-item\"><div class=\"sk-serial\"><div class=\"sk-item\"><div class=\"sk-estimator sk-toggleable\"><input class=\"sk-toggleable__control sk-hidden--visually\" id=\"120abed7-f8a8-43a4-afff-a8a548295546\" type=\"checkbox\" ><label for=\"120abed7-f8a8-43a4-afff-a8a548295546\" class=\"sk-toggleable__label sk-toggleable__label-arrow\">SimpleImputer</label><div class=\"sk-toggleable__content\"><pre>SimpleImputer()</pre></div></div></div><div class=\"sk-item\"><div class=\"sk-estimator sk-toggleable\"><input class=\"sk-toggleable__control sk-hidden--visually\" id=\"07e1101d-0ac9-4166-9b46-138ef5b325d6\" type=\"checkbox\" ><label for=\"07e1101d-0ac9-4166-9b46-138ef5b325d6\" class=\"sk-toggleable__label sk-toggleable__label-arrow\">StandardScaler</label><div class=\"sk-toggleable__content\"><pre>StandardScaler()</pre></div></div></div></div></div></div></div></div><div class=\"sk-parallel-item\"><div class=\"sk-item\"><div class=\"sk-label-container\"><div class=\"sk-label sk-toggleable\"><input class=\"sk-toggleable__control sk-hidden--visually\" id=\"f12e6037-cc64-49aa-ab47-c0d78c66eadc\" type=\"checkbox\" ><label for=\"f12e6037-cc64-49aa-ab47-c0d78c66eadc\" class=\"sk-toggleable__label sk-toggleable__label-arrow\">Age</label><div class=\"sk-toggleable__content\"><pre>[&#x27;MedianAge&#x27;, &#x27;MedianAgeMale&#x27;, &#x27;MedianAgeFemale&#x27;]</pre></div></div></div><div class=\"sk-serial\"><div class=\"sk-item\"><div class=\"sk-serial\"><div class=\"sk-item\"><div class=\"sk-estimator sk-toggleable\"><input class=\"sk-toggleable__control sk-hidden--visually\" id=\"e419300f-3ec1-4b15-a28a-2e2be84b4e99\" type=\"checkbox\" ><label for=\"e419300f-3ec1-4b15-a28a-2e2be84b4e99\" class=\"sk-toggleable__label sk-toggleable__label-arrow\">SimpleImputer</label><div class=\"sk-toggleable__content\"><pre>SimpleImputer()</pre></div></div></div><div class=\"sk-item\"><div class=\"sk-estimator sk-toggleable\"><input class=\"sk-toggleable__control sk-hidden--visually\" id=\"f1ad06a5-2ce2-4190-8831-6b6fcd3f8a70\" type=\"checkbox\" ><label for=\"f1ad06a5-2ce2-4190-8831-6b6fcd3f8a70\" class=\"sk-toggleable__label sk-toggleable__label-arrow\">FunctionTransformer</label><div class=\"sk-toggleable__content\"><pre>FunctionTransformer(feature_names_out=&lt;function ratio_name at 0x7fa76c3241f0&gt;,\n",
       "                    func=&lt;function column_ratio at 0x7fa76c30f940&gt;)</pre></div></div></div><div class=\"sk-item\"><div class=\"sk-estimator sk-toggleable\"><input class=\"sk-toggleable__control sk-hidden--visually\" id=\"66d3469a-85f3-40f5-ae2e-76fa1eded17b\" type=\"checkbox\" ><label for=\"66d3469a-85f3-40f5-ae2e-76fa1eded17b\" class=\"sk-toggleable__label sk-toggleable__label-arrow\">StandardScaler</label><div class=\"sk-toggleable__content\"><pre>StandardScaler()</pre></div></div></div></div></div></div></div></div><div class=\"sk-parallel-item\"><div class=\"sk-item\"><div class=\"sk-label-container\"><div class=\"sk-label sk-toggleable\"><input class=\"sk-toggleable__control sk-hidden--visually\" id=\"e67b29f0-622f-4f27-b50b-645c8b68dc81\" type=\"checkbox\" ><label for=\"e67b29f0-622f-4f27-b50b-645c8b68dc81\" class=\"sk-toggleable__label sk-toggleable__label-arrow\">Highschool education</label><div class=\"sk-toggleable__content\"><pre>[&#x27;PctNoHS18_24&#x27;, &#x27;PctHS18_24&#x27;, &#x27;PctHS25_Over&#x27;]</pre></div></div></div><div class=\"sk-serial\"><div class=\"sk-item\"><div class=\"sk-serial\"><div class=\"sk-item\"><div class=\"sk-estimator sk-toggleable\"><input class=\"sk-toggleable__control sk-hidden--visually\" id=\"1b7d990a-51f4-45c1-bcde-22345d80923e\" type=\"checkbox\" ><label for=\"1b7d990a-51f4-45c1-bcde-22345d80923e\" class=\"sk-toggleable__label sk-toggleable__label-arrow\">SimpleImputer</label><div class=\"sk-toggleable__content\"><pre>SimpleImputer()</pre></div></div></div><div class=\"sk-item\"><div class=\"sk-estimator sk-toggleable\"><input class=\"sk-toggleable__control sk-hidden--visually\" id=\"687e6bc3-2f1f-4349-bce8-b9442a0506e0\" type=\"checkbox\" ><label for=\"687e6bc3-2f1f-4349-bce8-b9442a0506e0\" class=\"sk-toggleable__label sk-toggleable__label-arrow\">FunctionTransformer</label><div class=\"sk-toggleable__content\"><pre>FunctionTransformer(feature_names_out=&lt;function ratio_name at 0x7fa76c3241f0&gt;,\n",
       "                    func=&lt;function column_ratio at 0x7fa76c30f940&gt;)</pre></div></div></div><div class=\"sk-item\"><div class=\"sk-estimator sk-toggleable\"><input class=\"sk-toggleable__control sk-hidden--visually\" id=\"9a13bcb2-db54-4c9f-b1e4-3ca3409c2412\" type=\"checkbox\" ><label for=\"9a13bcb2-db54-4c9f-b1e4-3ca3409c2412\" class=\"sk-toggleable__label sk-toggleable__label-arrow\">StandardScaler</label><div class=\"sk-toggleable__content\"><pre>StandardScaler()</pre></div></div></div></div></div></div></div></div><div class=\"sk-parallel-item\"><div class=\"sk-item\"><div class=\"sk-label-container\"><div class=\"sk-label sk-toggleable\"><input class=\"sk-toggleable__control sk-hidden--visually\" id=\"4e959886-2f2d-48b2-8b73-a8155eff93a6\" type=\"checkbox\" ><label for=\"4e959886-2f2d-48b2-8b73-a8155eff93a6\" class=\"sk-toggleable__label sk-toggleable__label-arrow\">College Education</label><div class=\"sk-toggleable__content\"><pre>[&#x27;PctSomeCol18_24&#x27;, &#x27;PctBachDeg18_24&#x27;, &#x27;PctBachDeg25_Over&#x27;]</pre></div></div></div><div class=\"sk-serial\"><div class=\"sk-item\"><div class=\"sk-serial\"><div class=\"sk-item\"><div class=\"sk-estimator sk-toggleable\"><input class=\"sk-toggleable__control sk-hidden--visually\" id=\"653540a6-d31d-46ef-8745-be65e8ef6356\" type=\"checkbox\" ><label for=\"653540a6-d31d-46ef-8745-be65e8ef6356\" class=\"sk-toggleable__label sk-toggleable__label-arrow\">SimpleImputer</label><div class=\"sk-toggleable__content\"><pre>SimpleImputer()</pre></div></div></div><div class=\"sk-item\"><div class=\"sk-estimator sk-toggleable\"><input class=\"sk-toggleable__control sk-hidden--visually\" id=\"5e9466a6-2359-498c-9cda-b88e7b711b51\" type=\"checkbox\" ><label for=\"5e9466a6-2359-498c-9cda-b88e7b711b51\" class=\"sk-toggleable__label sk-toggleable__label-arrow\">FunctionTransformer</label><div class=\"sk-toggleable__content\"><pre>FunctionTransformer(feature_names_out=&lt;function ratio_name at 0x7fa76c3241f0&gt;,\n",
       "                    func=&lt;function column_ratio at 0x7fa76c30f940&gt;)</pre></div></div></div><div class=\"sk-item\"><div class=\"sk-estimator sk-toggleable\"><input class=\"sk-toggleable__control sk-hidden--visually\" id=\"6b8b2e97-9017-4d0f-8b02-95fbd7329647\" type=\"checkbox\" ><label for=\"6b8b2e97-9017-4d0f-8b02-95fbd7329647\" class=\"sk-toggleable__label sk-toggleable__label-arrow\">StandardScaler</label><div class=\"sk-toggleable__content\"><pre>StandardScaler()</pre></div></div></div></div></div></div></div></div><div class=\"sk-parallel-item\"><div class=\"sk-item\"><div class=\"sk-label-container\"><div class=\"sk-label sk-toggleable\"><input class=\"sk-toggleable__control sk-hidden--visually\" id=\"2febafb3-c568-4117-bb49-bcb37a0bc417\" type=\"checkbox\" ><label for=\"2febafb3-c568-4117-bb49-bcb37a0bc417\" class=\"sk-toggleable__label sk-toggleable__label-arrow\">Employment</label><div class=\"sk-toggleable__content\"><pre>[&#x27;PctEmployed16_Over&#x27;, &#x27;PctUnemployed16_Over&#x27;]</pre></div></div></div><div class=\"sk-serial\"><div class=\"sk-item\"><div class=\"sk-serial\"><div class=\"sk-item\"><div class=\"sk-estimator sk-toggleable\"><input class=\"sk-toggleable__control sk-hidden--visually\" id=\"834a0aec-b934-4cc4-b889-00813355d58d\" type=\"checkbox\" ><label for=\"834a0aec-b934-4cc4-b889-00813355d58d\" class=\"sk-toggleable__label sk-toggleable__label-arrow\">SimpleImputer</label><div class=\"sk-toggleable__content\"><pre>SimpleImputer()</pre></div></div></div><div class=\"sk-item\"><div class=\"sk-estimator sk-toggleable\"><input class=\"sk-toggleable__control sk-hidden--visually\" id=\"90042191-2e26-45bc-a112-88b51093c225\" type=\"checkbox\" ><label for=\"90042191-2e26-45bc-a112-88b51093c225\" class=\"sk-toggleable__label sk-toggleable__label-arrow\">FunctionTransformer</label><div class=\"sk-toggleable__content\"><pre>FunctionTransformer(feature_names_out=&lt;function ratio_name at 0x7fa76c3241f0&gt;,\n",
       "                    func=&lt;function column_ratio at 0x7fa76c30f940&gt;)</pre></div></div></div><div class=\"sk-item\"><div class=\"sk-estimator sk-toggleable\"><input class=\"sk-toggleable__control sk-hidden--visually\" id=\"52deb355-9700-4f6d-8647-56083fc12d84\" type=\"checkbox\" ><label for=\"52deb355-9700-4f6d-8647-56083fc12d84\" class=\"sk-toggleable__label sk-toggleable__label-arrow\">StandardScaler</label><div class=\"sk-toggleable__content\"><pre>StandardScaler()</pre></div></div></div></div></div></div></div></div><div class=\"sk-parallel-item\"><div class=\"sk-item\"><div class=\"sk-label-container\"><div class=\"sk-label sk-toggleable\"><input class=\"sk-toggleable__control sk-hidden--visually\" id=\"97cc2969-2960-4abb-9a3d-47b32e46902b\" type=\"checkbox\" ><label for=\"97cc2969-2960-4abb-9a3d-47b32e46902b\" class=\"sk-toggleable__label sk-toggleable__label-arrow\">Insurance Coverage</label><div class=\"sk-toggleable__content\"><pre>[&#x27;PctPrivateCoverage&#x27;, &#x27;PctPrivateCoverageAlone&#x27;, &#x27;PctEmpPrivCoverage&#x27;, &#x27;PctPublicCoverage&#x27;, &#x27;PctPublicCoverageAlone&#x27;]</pre></div></div></div><div class=\"sk-serial\"><div class=\"sk-item\"><div class=\"sk-serial\"><div class=\"sk-item\"><div class=\"sk-estimator sk-toggleable\"><input class=\"sk-toggleable__control sk-hidden--visually\" id=\"566e5c0c-96be-4f06-9e6d-0ff5ce5ebfb4\" type=\"checkbox\" ><label for=\"566e5c0c-96be-4f06-9e6d-0ff5ce5ebfb4\" class=\"sk-toggleable__label sk-toggleable__label-arrow\">SimpleImputer</label><div class=\"sk-toggleable__content\"><pre>SimpleImputer()</pre></div></div></div><div class=\"sk-item\"><div class=\"sk-estimator sk-toggleable\"><input class=\"sk-toggleable__control sk-hidden--visually\" id=\"580a630e-687f-433b-a021-3c5d7c9293ff\" type=\"checkbox\" ><label for=\"580a630e-687f-433b-a021-3c5d7c9293ff\" class=\"sk-toggleable__label sk-toggleable__label-arrow\">FunctionTransformer</label><div class=\"sk-toggleable__content\"><pre>FunctionTransformer(feature_names_out=&lt;function ratio_name at 0x7fa76c3241f0&gt;,\n",
       "                    func=&lt;function column_ratio at 0x7fa76c30f940&gt;)</pre></div></div></div><div class=\"sk-item\"><div class=\"sk-estimator sk-toggleable\"><input class=\"sk-toggleable__control sk-hidden--visually\" id=\"b4a675c6-d683-41c3-9fc1-9533b2875abc\" type=\"checkbox\" ><label for=\"b4a675c6-d683-41c3-9fc1-9533b2875abc\" class=\"sk-toggleable__label sk-toggleable__label-arrow\">StandardScaler</label><div class=\"sk-toggleable__content\"><pre>StandardScaler()</pre></div></div></div></div></div></div></div></div><div class=\"sk-parallel-item\"><div class=\"sk-item\"><div class=\"sk-label-container\"><div class=\"sk-label sk-toggleable\"><input class=\"sk-toggleable__control sk-hidden--visually\" id=\"59ceea21-7999-498b-8284-177127f1e3fd\" type=\"checkbox\" ><label for=\"59ceea21-7999-498b-8284-177127f1e3fd\" class=\"sk-toggleable__label sk-toggleable__label-arrow\">Race</label><div class=\"sk-toggleable__content\"><pre>[&#x27;PctWhite&#x27;, &#x27;PctBlack&#x27;, &#x27;PctAsian&#x27;, &#x27;PctOtherRace&#x27;]</pre></div></div></div><div class=\"sk-serial\"><div class=\"sk-item\"><div class=\"sk-serial\"><div class=\"sk-item\"><div class=\"sk-estimator sk-toggleable\"><input class=\"sk-toggleable__control sk-hidden--visually\" id=\"9a7617b0-904f-4b29-9b82-7ab047dedbf4\" type=\"checkbox\" ><label for=\"9a7617b0-904f-4b29-9b82-7ab047dedbf4\" class=\"sk-toggleable__label sk-toggleable__label-arrow\">SimpleImputer</label><div class=\"sk-toggleable__content\"><pre>SimpleImputer()</pre></div></div></div><div class=\"sk-item\"><div class=\"sk-estimator sk-toggleable\"><input class=\"sk-toggleable__control sk-hidden--visually\" id=\"1ecccefe-9d26-4e41-be10-5a4d0908026f\" type=\"checkbox\" ><label for=\"1ecccefe-9d26-4e41-be10-5a4d0908026f\" class=\"sk-toggleable__label sk-toggleable__label-arrow\">FunctionTransformer</label><div class=\"sk-toggleable__content\"><pre>FunctionTransformer(feature_names_out=&lt;function ratio_name at 0x7fa76c3241f0&gt;,\n",
       "                    func=&lt;function column_ratio at 0x7fa76c30f940&gt;)</pre></div></div></div><div class=\"sk-item\"><div class=\"sk-estimator sk-toggleable\"><input class=\"sk-toggleable__control sk-hidden--visually\" id=\"e7cc8f04-15e4-4181-a6a6-73c437c819d7\" type=\"checkbox\" ><label for=\"e7cc8f04-15e4-4181-a6a6-73c437c819d7\" class=\"sk-toggleable__label sk-toggleable__label-arrow\">StandardScaler</label><div class=\"sk-toggleable__content\"><pre>StandardScaler()</pre></div></div></div></div></div></div></div></div><div class=\"sk-parallel-item\"><div class=\"sk-item\"><div class=\"sk-label-container\"><div class=\"sk-label sk-toggleable\"><input class=\"sk-toggleable__control sk-hidden--visually\" id=\"e8708d71-43c8-46f3-8f70-71babc6df52a\" type=\"checkbox\" ><label for=\"e8708d71-43c8-46f3-8f70-71babc6df52a\" class=\"sk-toggleable__label sk-toggleable__label-arrow\">BirthRate</label><div class=\"sk-toggleable__content\"><pre>[&#x27;BirthRate&#x27;]</pre></div></div></div><div class=\"sk-serial\"><div class=\"sk-item\"><div class=\"sk-serial\"><div class=\"sk-item\"><div class=\"sk-estimator sk-toggleable\"><input class=\"sk-toggleable__control sk-hidden--visually\" id=\"03910307-19e2-48f5-8667-dd56a924a847\" type=\"checkbox\" ><label for=\"03910307-19e2-48f5-8667-dd56a924a847\" class=\"sk-toggleable__label sk-toggleable__label-arrow\">SimpleImputer</label><div class=\"sk-toggleable__content\"><pre>SimpleImputer()</pre></div></div></div><div class=\"sk-item\"><div class=\"sk-estimator sk-toggleable\"><input class=\"sk-toggleable__control sk-hidden--visually\" id=\"3749bd3b-80fd-40cd-840a-cc86ccec2f8e\" type=\"checkbox\" ><label for=\"3749bd3b-80fd-40cd-840a-cc86ccec2f8e\" class=\"sk-toggleable__label sk-toggleable__label-arrow\">StandardScaler</label><div class=\"sk-toggleable__content\"><pre>StandardScaler()</pre></div></div></div></div></div></div></div></div><div class=\"sk-parallel-item\"><div class=\"sk-item\"><div class=\"sk-label-container\"><div class=\"sk-label sk-toggleable\"><input class=\"sk-toggleable__control sk-hidden--visually\" id=\"cb149d3f-26b8-45d2-b774-e966d7f1c652\" type=\"checkbox\" ><label for=\"cb149d3f-26b8-45d2-b774-e966d7f1c652\" class=\"sk-toggleable__label sk-toggleable__label-arrow\">Geography</label><div class=\"sk-toggleable__content\"><pre>&lt;sklearn.compose._column_transformer.make_column_selector object at 0x7fa76f6bd370&gt;</pre></div></div></div><div class=\"sk-serial\"><div class=\"sk-item\"><div class=\"sk-serial\"><div class=\"sk-item\"><div class=\"sk-estimator sk-toggleable\"><input class=\"sk-toggleable__control sk-hidden--visually\" id=\"a8582894-6f3d-4608-a176-1907e82f9dbf\" type=\"checkbox\" ><label for=\"a8582894-6f3d-4608-a176-1907e82f9dbf\" class=\"sk-toggleable__label sk-toggleable__label-arrow\">SimpleImputer</label><div class=\"sk-toggleable__content\"><pre>SimpleImputer(strategy=&#x27;most_frequent&#x27;)</pre></div></div></div><div class=\"sk-item\"><div class=\"sk-estimator sk-toggleable\"><input class=\"sk-toggleable__control sk-hidden--visually\" id=\"01ebcf5b-51c7-4b09-8d1a-e1596177d5b4\" type=\"checkbox\" ><label for=\"01ebcf5b-51c7-4b09-8d1a-e1596177d5b4\" class=\"sk-toggleable__label sk-toggleable__label-arrow\">OneHotEncoder</label><div class=\"sk-toggleable__content\"><pre>OneHotEncoder(handle_unknown=&#x27;ignore&#x27;)</pre></div></div></div></div></div></div></div></div><div class=\"sk-parallel-item\"><div class=\"sk-item\"><div class=\"sk-label-container\"><div class=\"sk-label sk-toggleable\"><input class=\"sk-toggleable__control sk-hidden--visually\" id=\"bcfbb4bd-c459-4862-b811-fb7f2abb22a5\" type=\"checkbox\" ><label for=\"bcfbb4bd-c459-4862-b811-fb7f2abb22a5\" class=\"sk-toggleable__label sk-toggleable__label-arrow\">remainder</label><div class=\"sk-toggleable__content\"><pre>[]</pre></div></div></div><div class=\"sk-serial\"><div class=\"sk-item\"><div class=\"sk-serial\"><div class=\"sk-item\"><div class=\"sk-estimator sk-toggleable\"><input class=\"sk-toggleable__control sk-hidden--visually\" id=\"f1a9ec6e-d18f-441b-8c20-f4bcd7988593\" type=\"checkbox\" ><label for=\"f1a9ec6e-d18f-441b-8c20-f4bcd7988593\" class=\"sk-toggleable__label sk-toggleable__label-arrow\">SimpleImputer</label><div class=\"sk-toggleable__content\"><pre>SimpleImputer()</pre></div></div></div><div class=\"sk-item\"><div class=\"sk-estimator sk-toggleable\"><input class=\"sk-toggleable__control sk-hidden--visually\" id=\"0ec4764f-98ff-48a5-bef5-dffb563b9537\" type=\"checkbox\" ><label for=\"0ec4764f-98ff-48a5-bef5-dffb563b9537\" class=\"sk-toggleable__label sk-toggleable__label-arrow\">StandardScaler</label><div class=\"sk-toggleable__content\"><pre>StandardScaler()</pre></div></div></div></div></div></div></div></div></div></div><div class=\"sk-item\"><div class=\"sk-estimator sk-toggleable\"><input class=\"sk-toggleable__control sk-hidden--visually\" id=\"afb8d4f0-9322-4c82-8805-4f6bc5b74e54\" type=\"checkbox\" ><label for=\"afb8d4f0-9322-4c82-8805-4f6bc5b74e54\" class=\"sk-toggleable__label sk-toggleable__label-arrow\">LinearRegression</label><div class=\"sk-toggleable__content\"><pre>LinearRegression()</pre></div></div></div></div></div></div></div>"
      ],
      "text/plain": [
       "Pipeline(steps=[('columntransformer',\n",
       "                 ColumnTransformer(remainder=Pipeline(steps=[('simpleimputer',\n",
       "                                                              SimpleImputer()),\n",
       "                                                             ('standardscaler',\n",
       "                                                              StandardScaler())]),\n",
       "                                   transformers=[('avgAnnCount',\n",
       "                                                  Pipeline(steps=[('simpleimputer',\n",
       "                                                                   SimpleImputer()),\n",
       "                                                                  ('standardscaler',\n",
       "                                                                   StandardScaler())]),\n",
       "                                                  ['avgAnnCount']),\n",
       "                                                 ('avgDeathsPerYear',\n",
       "                                                  Pipeline(steps=[('simpleimputer',\n",
       "                                                                   SimpleImpu...\n",
       "                                                  Pipeline(steps=[('simpleimputer',\n",
       "                                                                   SimpleImputer()),\n",
       "                                                                  ('standardscaler',\n",
       "                                                                   StandardScaler())]),\n",
       "                                                  ['BirthRate']),\n",
       "                                                 ('Geography',\n",
       "                                                  Pipeline(steps=[('simpleimputer',\n",
       "                                                                   SimpleImputer(strategy='most_frequent')),\n",
       "                                                                  ('onehotencoder',\n",
       "                                                                   OneHotEncoder(handle_unknown='ignore'))]),\n",
       "                                                  <sklearn.compose._column_transformer.make_column_selector object at 0x7fa76f6bd370>)])),\n",
       "                ('linearregression', LinearRegression())])"
      ]
     },
     "execution_count": 44,
     "metadata": {},
     "output_type": "execute_result"
    }
   ],
   "source": [
    "from sklearn.linear_model import LinearRegression\n",
    "\n",
    "lin_reg = make_pipeline(preprocessing, LinearRegression())\n",
    "lin_reg.fit(cancer, cancer_labels)"
   ]
  },
  {
   "cell_type": "markdown",
   "metadata": {
    "id": "TjtHtgPGDMse",
    "slideshow": {
     "slide_type": "slide"
    }
   },
   "source": [
    "Here we are predicting the TARGET_deathRate, and we can compare this to our validation data"
   ]
  },
  {
   "cell_type": "code",
   "execution_count": 45,
   "metadata": {
    "colab": {
     "base_uri": "https://localhost:8080/"
    },
    "id": "upWvrQvgvWle",
    "outputId": "886d5ef5-1e1c-44bd-858d-0bc41ee396ed"
   },
   "outputs": [
    {
     "data": {
      "text/plain": [
       "array([181.89998694, 201.39998135, 138.70000787, 196.19997993,\n",
       "       146.79999875])"
      ]
     },
     "execution_count": 45,
     "metadata": {},
     "output_type": "execute_result"
    }
   ],
   "source": [
    "cancer_predictions = lin_reg.predict(cancer)\n",
    "cancer_predictions[:5]  #Predictions"
   ]
  },
  {
   "cell_type": "code",
   "execution_count": 46,
   "metadata": {
    "colab": {
     "base_uri": "https://localhost:8080/"
    },
    "id": "uMqdsazXvd8p",
    "outputId": "ab690ca2-8d28-4720-9fff-ccca3dc508df"
   },
   "outputs": [
    {
     "data": {
      "text/plain": [
       "693     181.9\n",
       "635     201.4\n",
       "926     138.7\n",
       "2449    196.2\n",
       "2488    146.8\n",
       "Name: TARGET_deathRate, dtype: float64"
      ]
     },
     "execution_count": 46,
     "metadata": {},
     "output_type": "execute_result"
    }
   ],
   "source": [
    "cancer_labels.iloc[:5]  #Validation data"
   ]
  },
  {
   "cell_type": "markdown",
   "metadata": {
    "id": "iRd9HCS1Cujg",
    "slideshow": {
     "slide_type": "slide"
    }
   },
   "source": [
    "Next we want to use our performance measure we've selected"
   ]
  },
  {
   "cell_type": "code",
   "execution_count": 47,
   "metadata": {
    "colab": {
     "base_uri": "https://localhost:8080/"
    },
    "id": "Py2KaCCg35uz",
    "outputId": "f95fe604-8b59-4eeb-eb10-911bae2182a8"
   },
   "outputs": [
    {
     "data": {
      "text/plain": [
       "2.959361552430761e-05"
      ]
     },
     "execution_count": 47,
     "metadata": {},
     "output_type": "execute_result"
    }
   ],
   "source": [
    "from sklearn.metrics import mean_squared_error\n",
    "\n",
    "lin_rmse = mean_squared_error(cancer_labels, cancer_predictions,\n",
    "                              squared=False)\n",
    "lin_rmse"
   ]
  },
  {
   "cell_type": "markdown",
   "metadata": {
    "id": "IlNOUvD8DSyc",
    "slideshow": {
     "slide_type": "slide"
    }
   },
   "source": [
    "Here I am using cross validation to see if I am overfitting the data. If the performance measure is lower than the cross validation score it means we are overfitting. "
   ]
  },
  {
   "cell_type": "code",
   "execution_count": 48,
   "metadata": {
    "colab": {
     "base_uri": "https://localhost:8080/"
    },
    "id": "1LsQw-BGBM3k",
    "outputId": "4e418067-501b-44bd-8a14-d85081670b5c"
   },
   "outputs": [
    {
     "data": {
      "text/plain": [
       "count    10.000000\n",
       "mean     19.771517\n",
       "std       0.966157\n",
       "min      18.011019\n",
       "25%      19.108318\n",
       "50%      20.063389\n",
       "75%      20.363609\n",
       "max      21.159193\n",
       "dtype: float64"
      ]
     },
     "execution_count": 48,
     "metadata": {},
     "output_type": "execute_result"
    }
   ],
   "source": [
    "from sklearn.model_selection import cross_val_score\n",
    "\n",
    "cross_score = -cross_val_score(lin_reg, cancer, cancer_labels,\n",
    "                              scoring=\"neg_root_mean_squared_error\", cv=10)\n",
    "\n",
    "pd.Series(cross_score).describe()"
   ]
  },
  {
   "cell_type": "markdown",
   "metadata": {
    "id": "p9vcehU_jwwh",
    "slideshow": {
     "slide_type": "slide"
    }
   },
   "source": [
    "## Trying Ridge Regression"
   ]
  },
  {
   "cell_type": "code",
   "execution_count": 49,
   "metadata": {
    "colab": {
     "base_uri": "https://localhost:8080/",
     "height": 316
    },
    "id": "AW3kR9gNjz9H",
    "outputId": "0be6e743-a852-410a-ce82-4b2c3e114398"
   },
   "outputs": [
    {
     "data": {
      "text/html": [
       "<style>#sk-8779faf3-865e-4708-ac38-ee431f5c264f {color: black;background-color: white;}#sk-8779faf3-865e-4708-ac38-ee431f5c264f pre{padding: 0;}#sk-8779faf3-865e-4708-ac38-ee431f5c264f div.sk-toggleable {background-color: white;}#sk-8779faf3-865e-4708-ac38-ee431f5c264f label.sk-toggleable__label {cursor: pointer;display: block;width: 100%;margin-bottom: 0;padding: 0.3em;box-sizing: border-box;text-align: center;}#sk-8779faf3-865e-4708-ac38-ee431f5c264f label.sk-toggleable__label-arrow:before {content: \"▸\";float: left;margin-right: 0.25em;color: #696969;}#sk-8779faf3-865e-4708-ac38-ee431f5c264f label.sk-toggleable__label-arrow:hover:before {color: black;}#sk-8779faf3-865e-4708-ac38-ee431f5c264f div.sk-estimator:hover label.sk-toggleable__label-arrow:before {color: black;}#sk-8779faf3-865e-4708-ac38-ee431f5c264f div.sk-toggleable__content {max-height: 0;max-width: 0;overflow: hidden;text-align: left;background-color: #f0f8ff;}#sk-8779faf3-865e-4708-ac38-ee431f5c264f div.sk-toggleable__content pre {margin: 0.2em;color: black;border-radius: 0.25em;background-color: #f0f8ff;}#sk-8779faf3-865e-4708-ac38-ee431f5c264f input.sk-toggleable__control:checked~div.sk-toggleable__content {max-height: 200px;max-width: 100%;overflow: auto;}#sk-8779faf3-865e-4708-ac38-ee431f5c264f input.sk-toggleable__control:checked~label.sk-toggleable__label-arrow:before {content: \"▾\";}#sk-8779faf3-865e-4708-ac38-ee431f5c264f div.sk-estimator input.sk-toggleable__control:checked~label.sk-toggleable__label {background-color: #d4ebff;}#sk-8779faf3-865e-4708-ac38-ee431f5c264f div.sk-label input.sk-toggleable__control:checked~label.sk-toggleable__label {background-color: #d4ebff;}#sk-8779faf3-865e-4708-ac38-ee431f5c264f input.sk-hidden--visually {border: 0;clip: rect(1px 1px 1px 1px);clip: rect(1px, 1px, 1px, 1px);height: 1px;margin: -1px;overflow: hidden;padding: 0;position: absolute;width: 1px;}#sk-8779faf3-865e-4708-ac38-ee431f5c264f div.sk-estimator {font-family: monospace;background-color: #f0f8ff;border: 1px dotted black;border-radius: 0.25em;box-sizing: border-box;margin-bottom: 0.5em;}#sk-8779faf3-865e-4708-ac38-ee431f5c264f div.sk-estimator:hover {background-color: #d4ebff;}#sk-8779faf3-865e-4708-ac38-ee431f5c264f div.sk-parallel-item::after {content: \"\";width: 100%;border-bottom: 1px solid gray;flex-grow: 1;}#sk-8779faf3-865e-4708-ac38-ee431f5c264f div.sk-label:hover label.sk-toggleable__label {background-color: #d4ebff;}#sk-8779faf3-865e-4708-ac38-ee431f5c264f div.sk-serial::before {content: \"\";position: absolute;border-left: 1px solid gray;box-sizing: border-box;top: 2em;bottom: 0;left: 50%;}#sk-8779faf3-865e-4708-ac38-ee431f5c264f div.sk-serial {display: flex;flex-direction: column;align-items: center;background-color: white;padding-right: 0.2em;padding-left: 0.2em;}#sk-8779faf3-865e-4708-ac38-ee431f5c264f div.sk-item {z-index: 1;}#sk-8779faf3-865e-4708-ac38-ee431f5c264f div.sk-parallel {display: flex;align-items: stretch;justify-content: center;background-color: white;}#sk-8779faf3-865e-4708-ac38-ee431f5c264f div.sk-parallel::before {content: \"\";position: absolute;border-left: 1px solid gray;box-sizing: border-box;top: 2em;bottom: 0;left: 50%;}#sk-8779faf3-865e-4708-ac38-ee431f5c264f div.sk-parallel-item {display: flex;flex-direction: column;position: relative;background-color: white;}#sk-8779faf3-865e-4708-ac38-ee431f5c264f div.sk-parallel-item:first-child::after {align-self: flex-end;width: 50%;}#sk-8779faf3-865e-4708-ac38-ee431f5c264f div.sk-parallel-item:last-child::after {align-self: flex-start;width: 50%;}#sk-8779faf3-865e-4708-ac38-ee431f5c264f div.sk-parallel-item:only-child::after {width: 0;}#sk-8779faf3-865e-4708-ac38-ee431f5c264f div.sk-dashed-wrapped {border: 1px dashed gray;margin: 0 0.4em 0.5em 0.4em;box-sizing: border-box;padding-bottom: 0.4em;background-color: white;position: relative;}#sk-8779faf3-865e-4708-ac38-ee431f5c264f div.sk-label label {font-family: monospace;font-weight: bold;background-color: white;display: inline-block;line-height: 1.2em;}#sk-8779faf3-865e-4708-ac38-ee431f5c264f div.sk-label-container {position: relative;z-index: 2;text-align: center;}#sk-8779faf3-865e-4708-ac38-ee431f5c264f div.sk-container {/* jupyter's `normalize.less` sets `[hidden] { display: none; }` but bootstrap.min.css set `[hidden] { display: none !important; }` so we also need the `!important` here to be able to override the default hidden behavior on the sphinx rendered scikit-learn.org. See: https://github.com/scikit-learn/scikit-learn/issues/21755 */display: inline-block !important;position: relative;}#sk-8779faf3-865e-4708-ac38-ee431f5c264f div.sk-text-repr-fallback {display: none;}</style><div id=\"sk-8779faf3-865e-4708-ac38-ee431f5c264f\" class=\"sk-top-container\"><div class=\"sk-text-repr-fallback\"><pre>Pipeline(steps=[(&#x27;columntransformer&#x27;,\n",
       "                 ColumnTransformer(remainder=Pipeline(steps=[(&#x27;simpleimputer&#x27;,\n",
       "                                                              SimpleImputer()),\n",
       "                                                             (&#x27;standardscaler&#x27;,\n",
       "                                                              StandardScaler())]),\n",
       "                                   transformers=[(&#x27;avgAnnCount&#x27;,\n",
       "                                                  Pipeline(steps=[(&#x27;simpleimputer&#x27;,\n",
       "                                                                   SimpleImputer()),\n",
       "                                                                  (&#x27;standardscaler&#x27;,\n",
       "                                                                   StandardScaler())]),\n",
       "                                                  [&#x27;avgAnnCount&#x27;]),\n",
       "                                                 (&#x27;avgDeathsPerYear&#x27;,\n",
       "                                                  Pipeline(steps=[(&#x27;simpleimputer&#x27;,\n",
       "                                                                   SimpleImpu...\n",
       "                                                                  (&#x27;standardscaler&#x27;,\n",
       "                                                                   StandardScaler())]),\n",
       "                                                  [&#x27;BirthRate&#x27;]),\n",
       "                                                 (&#x27;Geography&#x27;,\n",
       "                                                  Pipeline(steps=[(&#x27;simpleimputer&#x27;,\n",
       "                                                                   SimpleImputer(strategy=&#x27;most_frequent&#x27;)),\n",
       "                                                                  (&#x27;onehotencoder&#x27;,\n",
       "                                                                   OneHotEncoder(handle_unknown=&#x27;ignore&#x27;))]),\n",
       "                                                  &lt;sklearn.compose._column_transformer.make_column_selector object at 0x7fa76f6bd370&gt;)])),\n",
       "                (&#x27;ridge&#x27;,\n",
       "                 Ridge(alpha=0.1, fit_intercept=False, random_state=42,\n",
       "                       solver=&#x27;cholesky&#x27;))])</pre><b>Please rerun this cell to show the HTML repr or trust the notebook.</b></div><div class=\"sk-container\" hidden><div class=\"sk-item sk-dashed-wrapped\"><div class=\"sk-label-container\"><div class=\"sk-label sk-toggleable\"><input class=\"sk-toggleable__control sk-hidden--visually\" id=\"8ea89f62-65f5-48c4-91cd-765ee2314448\" type=\"checkbox\" ><label for=\"8ea89f62-65f5-48c4-91cd-765ee2314448\" class=\"sk-toggleable__label sk-toggleable__label-arrow\">Pipeline</label><div class=\"sk-toggleable__content\"><pre>Pipeline(steps=[(&#x27;columntransformer&#x27;,\n",
       "                 ColumnTransformer(remainder=Pipeline(steps=[(&#x27;simpleimputer&#x27;,\n",
       "                                                              SimpleImputer()),\n",
       "                                                             (&#x27;standardscaler&#x27;,\n",
       "                                                              StandardScaler())]),\n",
       "                                   transformers=[(&#x27;avgAnnCount&#x27;,\n",
       "                                                  Pipeline(steps=[(&#x27;simpleimputer&#x27;,\n",
       "                                                                   SimpleImputer()),\n",
       "                                                                  (&#x27;standardscaler&#x27;,\n",
       "                                                                   StandardScaler())]),\n",
       "                                                  [&#x27;avgAnnCount&#x27;]),\n",
       "                                                 (&#x27;avgDeathsPerYear&#x27;,\n",
       "                                                  Pipeline(steps=[(&#x27;simpleimputer&#x27;,\n",
       "                                                                   SimpleImpu...\n",
       "                                                                  (&#x27;standardscaler&#x27;,\n",
       "                                                                   StandardScaler())]),\n",
       "                                                  [&#x27;BirthRate&#x27;]),\n",
       "                                                 (&#x27;Geography&#x27;,\n",
       "                                                  Pipeline(steps=[(&#x27;simpleimputer&#x27;,\n",
       "                                                                   SimpleImputer(strategy=&#x27;most_frequent&#x27;)),\n",
       "                                                                  (&#x27;onehotencoder&#x27;,\n",
       "                                                                   OneHotEncoder(handle_unknown=&#x27;ignore&#x27;))]),\n",
       "                                                  &lt;sklearn.compose._column_transformer.make_column_selector object at 0x7fa76f6bd370&gt;)])),\n",
       "                (&#x27;ridge&#x27;,\n",
       "                 Ridge(alpha=0.1, fit_intercept=False, random_state=42,\n",
       "                       solver=&#x27;cholesky&#x27;))])</pre></div></div></div><div class=\"sk-serial\"><div class=\"sk-item sk-dashed-wrapped\"><div class=\"sk-label-container\"><div class=\"sk-label sk-toggleable\"><input class=\"sk-toggleable__control sk-hidden--visually\" id=\"03fd6848-c41d-4320-b700-fb5c4165d60d\" type=\"checkbox\" ><label for=\"03fd6848-c41d-4320-b700-fb5c4165d60d\" class=\"sk-toggleable__label sk-toggleable__label-arrow\">columntransformer: ColumnTransformer</label><div class=\"sk-toggleable__content\"><pre>ColumnTransformer(remainder=Pipeline(steps=[(&#x27;simpleimputer&#x27;, SimpleImputer()),\n",
       "                                            (&#x27;standardscaler&#x27;,\n",
       "                                             StandardScaler())]),\n",
       "                  transformers=[(&#x27;avgAnnCount&#x27;,\n",
       "                                 Pipeline(steps=[(&#x27;simpleimputer&#x27;,\n",
       "                                                  SimpleImputer()),\n",
       "                                                 (&#x27;standardscaler&#x27;,\n",
       "                                                  StandardScaler())]),\n",
       "                                 [&#x27;avgAnnCount&#x27;]),\n",
       "                                (&#x27;avgDeathsPerYear&#x27;,\n",
       "                                 Pipeline(steps=[(&#x27;simpleimputer&#x27;,\n",
       "                                                  SimpleImputer()),\n",
       "                                                 (&#x27;standardscaler&#x27;,\n",
       "                                                  StandardScal...\n",
       "                                  &#x27;PctOtherRace&#x27;]),\n",
       "                                (&#x27;BirthRate&#x27;,\n",
       "                                 Pipeline(steps=[(&#x27;simpleimputer&#x27;,\n",
       "                                                  SimpleImputer()),\n",
       "                                                 (&#x27;standardscaler&#x27;,\n",
       "                                                  StandardScaler())]),\n",
       "                                 [&#x27;BirthRate&#x27;]),\n",
       "                                (&#x27;Geography&#x27;,\n",
       "                                 Pipeline(steps=[(&#x27;simpleimputer&#x27;,\n",
       "                                                  SimpleImputer(strategy=&#x27;most_frequent&#x27;)),\n",
       "                                                 (&#x27;onehotencoder&#x27;,\n",
       "                                                  OneHotEncoder(handle_unknown=&#x27;ignore&#x27;))]),\n",
       "                                 &lt;sklearn.compose._column_transformer.make_column_selector object at 0x7fa76f6bd370&gt;)])</pre></div></div></div><div class=\"sk-parallel\"><div class=\"sk-parallel-item\"><div class=\"sk-item\"><div class=\"sk-label-container\"><div class=\"sk-label sk-toggleable\"><input class=\"sk-toggleable__control sk-hidden--visually\" id=\"20a74556-fc84-4c3f-9f32-1ab0fdac2c9b\" type=\"checkbox\" ><label for=\"20a74556-fc84-4c3f-9f32-1ab0fdac2c9b\" class=\"sk-toggleable__label sk-toggleable__label-arrow\">avgAnnCount</label><div class=\"sk-toggleable__content\"><pre>[&#x27;avgAnnCount&#x27;]</pre></div></div></div><div class=\"sk-serial\"><div class=\"sk-item\"><div class=\"sk-serial\"><div class=\"sk-item\"><div class=\"sk-estimator sk-toggleable\"><input class=\"sk-toggleable__control sk-hidden--visually\" id=\"b9a6bd31-faf9-498a-b78d-cda629d63274\" type=\"checkbox\" ><label for=\"b9a6bd31-faf9-498a-b78d-cda629d63274\" class=\"sk-toggleable__label sk-toggleable__label-arrow\">SimpleImputer</label><div class=\"sk-toggleable__content\"><pre>SimpleImputer()</pre></div></div></div><div class=\"sk-item\"><div class=\"sk-estimator sk-toggleable\"><input class=\"sk-toggleable__control sk-hidden--visually\" id=\"2d6ce105-73e8-4481-b3fe-75ebb45d09b6\" type=\"checkbox\" ><label for=\"2d6ce105-73e8-4481-b3fe-75ebb45d09b6\" class=\"sk-toggleable__label sk-toggleable__label-arrow\">StandardScaler</label><div class=\"sk-toggleable__content\"><pre>StandardScaler()</pre></div></div></div></div></div></div></div></div><div class=\"sk-parallel-item\"><div class=\"sk-item\"><div class=\"sk-label-container\"><div class=\"sk-label sk-toggleable\"><input class=\"sk-toggleable__control sk-hidden--visually\" id=\"bdb95f77-7893-46d2-ac83-5e26fff224af\" type=\"checkbox\" ><label for=\"bdb95f77-7893-46d2-ac83-5e26fff224af\" class=\"sk-toggleable__label sk-toggleable__label-arrow\">avgDeathsPerYear</label><div class=\"sk-toggleable__content\"><pre>[&#x27;avgDeathsPerYear&#x27;]</pre></div></div></div><div class=\"sk-serial\"><div class=\"sk-item\"><div class=\"sk-serial\"><div class=\"sk-item\"><div class=\"sk-estimator sk-toggleable\"><input class=\"sk-toggleable__control sk-hidden--visually\" id=\"d1368848-4ff2-4319-8125-adce3c0d62e3\" type=\"checkbox\" ><label for=\"d1368848-4ff2-4319-8125-adce3c0d62e3\" class=\"sk-toggleable__label sk-toggleable__label-arrow\">SimpleImputer</label><div class=\"sk-toggleable__content\"><pre>SimpleImputer()</pre></div></div></div><div class=\"sk-item\"><div class=\"sk-estimator sk-toggleable\"><input class=\"sk-toggleable__control sk-hidden--visually\" id=\"f71f5d12-b203-4878-8d4c-a1feaa8b8013\" type=\"checkbox\" ><label for=\"f71f5d12-b203-4878-8d4c-a1feaa8b8013\" class=\"sk-toggleable__label sk-toggleable__label-arrow\">StandardScaler</label><div class=\"sk-toggleable__content\"><pre>StandardScaler()</pre></div></div></div></div></div></div></div></div><div class=\"sk-parallel-item\"><div class=\"sk-item\"><div class=\"sk-label-container\"><div class=\"sk-label sk-toggleable\"><input class=\"sk-toggleable__control sk-hidden--visually\" id=\"fae3627d-7f70-4d16-9b15-27e3ac05eaae\" type=\"checkbox\" ><label for=\"fae3627d-7f70-4d16-9b15-27e3ac05eaae\" class=\"sk-toggleable__label sk-toggleable__label-arrow\">incidenceRate</label><div class=\"sk-toggleable__content\"><pre>[&#x27;incidenceRate&#x27;]</pre></div></div></div><div class=\"sk-serial\"><div class=\"sk-item\"><div class=\"sk-serial\"><div class=\"sk-item\"><div class=\"sk-estimator sk-toggleable\"><input class=\"sk-toggleable__control sk-hidden--visually\" id=\"ce6365d8-0d9b-44f0-96a5-8b3126fc1508\" type=\"checkbox\" ><label for=\"ce6365d8-0d9b-44f0-96a5-8b3126fc1508\" class=\"sk-toggleable__label sk-toggleable__label-arrow\">SimpleImputer</label><div class=\"sk-toggleable__content\"><pre>SimpleImputer()</pre></div></div></div><div class=\"sk-item\"><div class=\"sk-estimator sk-toggleable\"><input class=\"sk-toggleable__control sk-hidden--visually\" id=\"c92528cd-e56f-436e-adc9-fb1c84d2fcce\" type=\"checkbox\" ><label for=\"c92528cd-e56f-436e-adc9-fb1c84d2fcce\" class=\"sk-toggleable__label sk-toggleable__label-arrow\">StandardScaler</label><div class=\"sk-toggleable__content\"><pre>StandardScaler()</pre></div></div></div></div></div></div></div></div><div class=\"sk-parallel-item\"><div class=\"sk-item\"><div class=\"sk-label-container\"><div class=\"sk-label sk-toggleable\"><input class=\"sk-toggleable__control sk-hidden--visually\" id=\"7fa96b7d-a2f9-48bc-9165-1a43741e18f5\" type=\"checkbox\" ><label for=\"7fa96b7d-a2f9-48bc-9165-1a43741e18f5\" class=\"sk-toggleable__label sk-toggleable__label-arrow\">povertyPercent</label><div class=\"sk-toggleable__content\"><pre>[&#x27;povertyPercent&#x27;]</pre></div></div></div><div class=\"sk-serial\"><div class=\"sk-item\"><div class=\"sk-serial\"><div class=\"sk-item\"><div class=\"sk-estimator sk-toggleable\"><input class=\"sk-toggleable__control sk-hidden--visually\" id=\"294c8d4d-5b2a-4490-9f36-829260c8586e\" type=\"checkbox\" ><label for=\"294c8d4d-5b2a-4490-9f36-829260c8586e\" class=\"sk-toggleable__label sk-toggleable__label-arrow\">SimpleImputer</label><div class=\"sk-toggleable__content\"><pre>SimpleImputer()</pre></div></div></div><div class=\"sk-item\"><div class=\"sk-estimator sk-toggleable\"><input class=\"sk-toggleable__control sk-hidden--visually\" id=\"2a11a8ab-d6e8-4b90-979c-1b4790d880a7\" type=\"checkbox\" ><label for=\"2a11a8ab-d6e8-4b90-979c-1b4790d880a7\" class=\"sk-toggleable__label sk-toggleable__label-arrow\">StandardScaler</label><div class=\"sk-toggleable__content\"><pre>StandardScaler()</pre></div></div></div></div></div></div></div></div><div class=\"sk-parallel-item\"><div class=\"sk-item\"><div class=\"sk-label-container\"><div class=\"sk-label sk-toggleable\"><input class=\"sk-toggleable__control sk-hidden--visually\" id=\"c2fc6bcf-ce31-4874-b411-2317794f5618\" type=\"checkbox\" ><label for=\"c2fc6bcf-ce31-4874-b411-2317794f5618\" class=\"sk-toggleable__label sk-toggleable__label-arrow\">Age</label><div class=\"sk-toggleable__content\"><pre>[&#x27;MedianAge&#x27;, &#x27;MedianAgeMale&#x27;, &#x27;MedianAgeFemale&#x27;]</pre></div></div></div><div class=\"sk-serial\"><div class=\"sk-item\"><div class=\"sk-serial\"><div class=\"sk-item\"><div class=\"sk-estimator sk-toggleable\"><input class=\"sk-toggleable__control sk-hidden--visually\" id=\"d12d171b-17b4-4c12-ab79-8d6b79b373c8\" type=\"checkbox\" ><label for=\"d12d171b-17b4-4c12-ab79-8d6b79b373c8\" class=\"sk-toggleable__label sk-toggleable__label-arrow\">SimpleImputer</label><div class=\"sk-toggleable__content\"><pre>SimpleImputer()</pre></div></div></div><div class=\"sk-item\"><div class=\"sk-estimator sk-toggleable\"><input class=\"sk-toggleable__control sk-hidden--visually\" id=\"03357eca-e094-4723-9b6b-420115c230ca\" type=\"checkbox\" ><label for=\"03357eca-e094-4723-9b6b-420115c230ca\" class=\"sk-toggleable__label sk-toggleable__label-arrow\">FunctionTransformer</label><div class=\"sk-toggleable__content\"><pre>FunctionTransformer(feature_names_out=&lt;function ratio_name at 0x7fa76c3241f0&gt;,\n",
       "                    func=&lt;function column_ratio at 0x7fa76c30f940&gt;)</pre></div></div></div><div class=\"sk-item\"><div class=\"sk-estimator sk-toggleable\"><input class=\"sk-toggleable__control sk-hidden--visually\" id=\"a2a8cf9e-eb80-47e3-889f-738a37550b42\" type=\"checkbox\" ><label for=\"a2a8cf9e-eb80-47e3-889f-738a37550b42\" class=\"sk-toggleable__label sk-toggleable__label-arrow\">StandardScaler</label><div class=\"sk-toggleable__content\"><pre>StandardScaler()</pre></div></div></div></div></div></div></div></div><div class=\"sk-parallel-item\"><div class=\"sk-item\"><div class=\"sk-label-container\"><div class=\"sk-label sk-toggleable\"><input class=\"sk-toggleable__control sk-hidden--visually\" id=\"2929fc1c-b2f3-4fbe-8c61-ff9ede29258b\" type=\"checkbox\" ><label for=\"2929fc1c-b2f3-4fbe-8c61-ff9ede29258b\" class=\"sk-toggleable__label sk-toggleable__label-arrow\">Highschool education</label><div class=\"sk-toggleable__content\"><pre>[&#x27;PctNoHS18_24&#x27;, &#x27;PctHS18_24&#x27;, &#x27;PctHS25_Over&#x27;]</pre></div></div></div><div class=\"sk-serial\"><div class=\"sk-item\"><div class=\"sk-serial\"><div class=\"sk-item\"><div class=\"sk-estimator sk-toggleable\"><input class=\"sk-toggleable__control sk-hidden--visually\" id=\"d9613dd8-bd83-46d8-b064-b573474afe9f\" type=\"checkbox\" ><label for=\"d9613dd8-bd83-46d8-b064-b573474afe9f\" class=\"sk-toggleable__label sk-toggleable__label-arrow\">SimpleImputer</label><div class=\"sk-toggleable__content\"><pre>SimpleImputer()</pre></div></div></div><div class=\"sk-item\"><div class=\"sk-estimator sk-toggleable\"><input class=\"sk-toggleable__control sk-hidden--visually\" id=\"686f4ec1-6c4f-4f07-b4a9-5901609e6c46\" type=\"checkbox\" ><label for=\"686f4ec1-6c4f-4f07-b4a9-5901609e6c46\" class=\"sk-toggleable__label sk-toggleable__label-arrow\">FunctionTransformer</label><div class=\"sk-toggleable__content\"><pre>FunctionTransformer(feature_names_out=&lt;function ratio_name at 0x7fa76c3241f0&gt;,\n",
       "                    func=&lt;function column_ratio at 0x7fa76c30f940&gt;)</pre></div></div></div><div class=\"sk-item\"><div class=\"sk-estimator sk-toggleable\"><input class=\"sk-toggleable__control sk-hidden--visually\" id=\"74fcc2cc-a829-4f46-84ff-e87b72f79a02\" type=\"checkbox\" ><label for=\"74fcc2cc-a829-4f46-84ff-e87b72f79a02\" class=\"sk-toggleable__label sk-toggleable__label-arrow\">StandardScaler</label><div class=\"sk-toggleable__content\"><pre>StandardScaler()</pre></div></div></div></div></div></div></div></div><div class=\"sk-parallel-item\"><div class=\"sk-item\"><div class=\"sk-label-container\"><div class=\"sk-label sk-toggleable\"><input class=\"sk-toggleable__control sk-hidden--visually\" id=\"54bf895b-2673-4169-879b-7d22ee333622\" type=\"checkbox\" ><label for=\"54bf895b-2673-4169-879b-7d22ee333622\" class=\"sk-toggleable__label sk-toggleable__label-arrow\">College Education</label><div class=\"sk-toggleable__content\"><pre>[&#x27;PctSomeCol18_24&#x27;, &#x27;PctBachDeg18_24&#x27;, &#x27;PctBachDeg25_Over&#x27;]</pre></div></div></div><div class=\"sk-serial\"><div class=\"sk-item\"><div class=\"sk-serial\"><div class=\"sk-item\"><div class=\"sk-estimator sk-toggleable\"><input class=\"sk-toggleable__control sk-hidden--visually\" id=\"3fd5b37b-3bec-4e16-8a81-ef882685922e\" type=\"checkbox\" ><label for=\"3fd5b37b-3bec-4e16-8a81-ef882685922e\" class=\"sk-toggleable__label sk-toggleable__label-arrow\">SimpleImputer</label><div class=\"sk-toggleable__content\"><pre>SimpleImputer()</pre></div></div></div><div class=\"sk-item\"><div class=\"sk-estimator sk-toggleable\"><input class=\"sk-toggleable__control sk-hidden--visually\" id=\"26d1f266-4a36-4649-9743-4f7f1d1751f6\" type=\"checkbox\" ><label for=\"26d1f266-4a36-4649-9743-4f7f1d1751f6\" class=\"sk-toggleable__label sk-toggleable__label-arrow\">FunctionTransformer</label><div class=\"sk-toggleable__content\"><pre>FunctionTransformer(feature_names_out=&lt;function ratio_name at 0x7fa76c3241f0&gt;,\n",
       "                    func=&lt;function column_ratio at 0x7fa76c30f940&gt;)</pre></div></div></div><div class=\"sk-item\"><div class=\"sk-estimator sk-toggleable\"><input class=\"sk-toggleable__control sk-hidden--visually\" id=\"e6cabdd5-0627-45ab-9725-892a452c43de\" type=\"checkbox\" ><label for=\"e6cabdd5-0627-45ab-9725-892a452c43de\" class=\"sk-toggleable__label sk-toggleable__label-arrow\">StandardScaler</label><div class=\"sk-toggleable__content\"><pre>StandardScaler()</pre></div></div></div></div></div></div></div></div><div class=\"sk-parallel-item\"><div class=\"sk-item\"><div class=\"sk-label-container\"><div class=\"sk-label sk-toggleable\"><input class=\"sk-toggleable__control sk-hidden--visually\" id=\"64d8c894-9736-4a3f-911d-0e6613bb0bb5\" type=\"checkbox\" ><label for=\"64d8c894-9736-4a3f-911d-0e6613bb0bb5\" class=\"sk-toggleable__label sk-toggleable__label-arrow\">Employment</label><div class=\"sk-toggleable__content\"><pre>[&#x27;PctEmployed16_Over&#x27;, &#x27;PctUnemployed16_Over&#x27;]</pre></div></div></div><div class=\"sk-serial\"><div class=\"sk-item\"><div class=\"sk-serial\"><div class=\"sk-item\"><div class=\"sk-estimator sk-toggleable\"><input class=\"sk-toggleable__control sk-hidden--visually\" id=\"f998120a-cb8c-4735-b579-cae0a24037dc\" type=\"checkbox\" ><label for=\"f998120a-cb8c-4735-b579-cae0a24037dc\" class=\"sk-toggleable__label sk-toggleable__label-arrow\">SimpleImputer</label><div class=\"sk-toggleable__content\"><pre>SimpleImputer()</pre></div></div></div><div class=\"sk-item\"><div class=\"sk-estimator sk-toggleable\"><input class=\"sk-toggleable__control sk-hidden--visually\" id=\"8457b91e-4be2-49ca-8d1c-f5f6ca74cc63\" type=\"checkbox\" ><label for=\"8457b91e-4be2-49ca-8d1c-f5f6ca74cc63\" class=\"sk-toggleable__label sk-toggleable__label-arrow\">FunctionTransformer</label><div class=\"sk-toggleable__content\"><pre>FunctionTransformer(feature_names_out=&lt;function ratio_name at 0x7fa76c3241f0&gt;,\n",
       "                    func=&lt;function column_ratio at 0x7fa76c30f940&gt;)</pre></div></div></div><div class=\"sk-item\"><div class=\"sk-estimator sk-toggleable\"><input class=\"sk-toggleable__control sk-hidden--visually\" id=\"560fbda6-9139-4a14-9da0-cc56c073b0bc\" type=\"checkbox\" ><label for=\"560fbda6-9139-4a14-9da0-cc56c073b0bc\" class=\"sk-toggleable__label sk-toggleable__label-arrow\">StandardScaler</label><div class=\"sk-toggleable__content\"><pre>StandardScaler()</pre></div></div></div></div></div></div></div></div><div class=\"sk-parallel-item\"><div class=\"sk-item\"><div class=\"sk-label-container\"><div class=\"sk-label sk-toggleable\"><input class=\"sk-toggleable__control sk-hidden--visually\" id=\"56361c53-36e6-4a89-a839-6196b10f29fc\" type=\"checkbox\" ><label for=\"56361c53-36e6-4a89-a839-6196b10f29fc\" class=\"sk-toggleable__label sk-toggleable__label-arrow\">Insurance Coverage</label><div class=\"sk-toggleable__content\"><pre>[&#x27;PctPrivateCoverage&#x27;, &#x27;PctPrivateCoverageAlone&#x27;, &#x27;PctEmpPrivCoverage&#x27;, &#x27;PctPublicCoverage&#x27;, &#x27;PctPublicCoverageAlone&#x27;]</pre></div></div></div><div class=\"sk-serial\"><div class=\"sk-item\"><div class=\"sk-serial\"><div class=\"sk-item\"><div class=\"sk-estimator sk-toggleable\"><input class=\"sk-toggleable__control sk-hidden--visually\" id=\"45538de0-625d-4675-ac9d-e4c0d01f512a\" type=\"checkbox\" ><label for=\"45538de0-625d-4675-ac9d-e4c0d01f512a\" class=\"sk-toggleable__label sk-toggleable__label-arrow\">SimpleImputer</label><div class=\"sk-toggleable__content\"><pre>SimpleImputer()</pre></div></div></div><div class=\"sk-item\"><div class=\"sk-estimator sk-toggleable\"><input class=\"sk-toggleable__control sk-hidden--visually\" id=\"d07effd0-6ed5-480b-ac2e-43a7d693b7ee\" type=\"checkbox\" ><label for=\"d07effd0-6ed5-480b-ac2e-43a7d693b7ee\" class=\"sk-toggleable__label sk-toggleable__label-arrow\">FunctionTransformer</label><div class=\"sk-toggleable__content\"><pre>FunctionTransformer(feature_names_out=&lt;function ratio_name at 0x7fa76c3241f0&gt;,\n",
       "                    func=&lt;function column_ratio at 0x7fa76c30f940&gt;)</pre></div></div></div><div class=\"sk-item\"><div class=\"sk-estimator sk-toggleable\"><input class=\"sk-toggleable__control sk-hidden--visually\" id=\"80547b67-0c67-448a-b7c6-28bcf14aa8be\" type=\"checkbox\" ><label for=\"80547b67-0c67-448a-b7c6-28bcf14aa8be\" class=\"sk-toggleable__label sk-toggleable__label-arrow\">StandardScaler</label><div class=\"sk-toggleable__content\"><pre>StandardScaler()</pre></div></div></div></div></div></div></div></div><div class=\"sk-parallel-item\"><div class=\"sk-item\"><div class=\"sk-label-container\"><div class=\"sk-label sk-toggleable\"><input class=\"sk-toggleable__control sk-hidden--visually\" id=\"e3cc200f-da93-4fd8-bd5d-40f954a60b76\" type=\"checkbox\" ><label for=\"e3cc200f-da93-4fd8-bd5d-40f954a60b76\" class=\"sk-toggleable__label sk-toggleable__label-arrow\">Race</label><div class=\"sk-toggleable__content\"><pre>[&#x27;PctWhite&#x27;, &#x27;PctBlack&#x27;, &#x27;PctAsian&#x27;, &#x27;PctOtherRace&#x27;]</pre></div></div></div><div class=\"sk-serial\"><div class=\"sk-item\"><div class=\"sk-serial\"><div class=\"sk-item\"><div class=\"sk-estimator sk-toggleable\"><input class=\"sk-toggleable__control sk-hidden--visually\" id=\"1f718268-ff4c-4ecc-95f9-69c4c65ee56a\" type=\"checkbox\" ><label for=\"1f718268-ff4c-4ecc-95f9-69c4c65ee56a\" class=\"sk-toggleable__label sk-toggleable__label-arrow\">SimpleImputer</label><div class=\"sk-toggleable__content\"><pre>SimpleImputer()</pre></div></div></div><div class=\"sk-item\"><div class=\"sk-estimator sk-toggleable\"><input class=\"sk-toggleable__control sk-hidden--visually\" id=\"d2143dcb-9588-41f5-bbfb-82d8b77a7c82\" type=\"checkbox\" ><label for=\"d2143dcb-9588-41f5-bbfb-82d8b77a7c82\" class=\"sk-toggleable__label sk-toggleable__label-arrow\">FunctionTransformer</label><div class=\"sk-toggleable__content\"><pre>FunctionTransformer(feature_names_out=&lt;function ratio_name at 0x7fa76c3241f0&gt;,\n",
       "                    func=&lt;function column_ratio at 0x7fa76c30f940&gt;)</pre></div></div></div><div class=\"sk-item\"><div class=\"sk-estimator sk-toggleable\"><input class=\"sk-toggleable__control sk-hidden--visually\" id=\"cca02e61-822e-4735-84c8-ee0439dfd353\" type=\"checkbox\" ><label for=\"cca02e61-822e-4735-84c8-ee0439dfd353\" class=\"sk-toggleable__label sk-toggleable__label-arrow\">StandardScaler</label><div class=\"sk-toggleable__content\"><pre>StandardScaler()</pre></div></div></div></div></div></div></div></div><div class=\"sk-parallel-item\"><div class=\"sk-item\"><div class=\"sk-label-container\"><div class=\"sk-label sk-toggleable\"><input class=\"sk-toggleable__control sk-hidden--visually\" id=\"3d36ca91-a326-4db3-9e50-69b09ad3f91f\" type=\"checkbox\" ><label for=\"3d36ca91-a326-4db3-9e50-69b09ad3f91f\" class=\"sk-toggleable__label sk-toggleable__label-arrow\">BirthRate</label><div class=\"sk-toggleable__content\"><pre>[&#x27;BirthRate&#x27;]</pre></div></div></div><div class=\"sk-serial\"><div class=\"sk-item\"><div class=\"sk-serial\"><div class=\"sk-item\"><div class=\"sk-estimator sk-toggleable\"><input class=\"sk-toggleable__control sk-hidden--visually\" id=\"9329ca2d-d07c-441c-af84-4be73d08f34e\" type=\"checkbox\" ><label for=\"9329ca2d-d07c-441c-af84-4be73d08f34e\" class=\"sk-toggleable__label sk-toggleable__label-arrow\">SimpleImputer</label><div class=\"sk-toggleable__content\"><pre>SimpleImputer()</pre></div></div></div><div class=\"sk-item\"><div class=\"sk-estimator sk-toggleable\"><input class=\"sk-toggleable__control sk-hidden--visually\" id=\"ec50c8fa-dd66-4cc1-b40d-183c11db40f2\" type=\"checkbox\" ><label for=\"ec50c8fa-dd66-4cc1-b40d-183c11db40f2\" class=\"sk-toggleable__label sk-toggleable__label-arrow\">StandardScaler</label><div class=\"sk-toggleable__content\"><pre>StandardScaler()</pre></div></div></div></div></div></div></div></div><div class=\"sk-parallel-item\"><div class=\"sk-item\"><div class=\"sk-label-container\"><div class=\"sk-label sk-toggleable\"><input class=\"sk-toggleable__control sk-hidden--visually\" id=\"c71ef757-bb27-4924-8939-dd5905222484\" type=\"checkbox\" ><label for=\"c71ef757-bb27-4924-8939-dd5905222484\" class=\"sk-toggleable__label sk-toggleable__label-arrow\">Geography</label><div class=\"sk-toggleable__content\"><pre>&lt;sklearn.compose._column_transformer.make_column_selector object at 0x7fa76f6bd370&gt;</pre></div></div></div><div class=\"sk-serial\"><div class=\"sk-item\"><div class=\"sk-serial\"><div class=\"sk-item\"><div class=\"sk-estimator sk-toggleable\"><input class=\"sk-toggleable__control sk-hidden--visually\" id=\"63ff9767-8d3a-4bc9-a6da-fd676a6ac746\" type=\"checkbox\" ><label for=\"63ff9767-8d3a-4bc9-a6da-fd676a6ac746\" class=\"sk-toggleable__label sk-toggleable__label-arrow\">SimpleImputer</label><div class=\"sk-toggleable__content\"><pre>SimpleImputer(strategy=&#x27;most_frequent&#x27;)</pre></div></div></div><div class=\"sk-item\"><div class=\"sk-estimator sk-toggleable\"><input class=\"sk-toggleable__control sk-hidden--visually\" id=\"9b08364b-e4b7-47e9-b1f8-51f0b6aec235\" type=\"checkbox\" ><label for=\"9b08364b-e4b7-47e9-b1f8-51f0b6aec235\" class=\"sk-toggleable__label sk-toggleable__label-arrow\">OneHotEncoder</label><div class=\"sk-toggleable__content\"><pre>OneHotEncoder(handle_unknown=&#x27;ignore&#x27;)</pre></div></div></div></div></div></div></div></div><div class=\"sk-parallel-item\"><div class=\"sk-item\"><div class=\"sk-label-container\"><div class=\"sk-label sk-toggleable\"><input class=\"sk-toggleable__control sk-hidden--visually\" id=\"09534a66-cc5e-46e2-b7cb-f51fcb3a5eb3\" type=\"checkbox\" ><label for=\"09534a66-cc5e-46e2-b7cb-f51fcb3a5eb3\" class=\"sk-toggleable__label sk-toggleable__label-arrow\">remainder</label><div class=\"sk-toggleable__content\"><pre>[]</pre></div></div></div><div class=\"sk-serial\"><div class=\"sk-item\"><div class=\"sk-serial\"><div class=\"sk-item\"><div class=\"sk-estimator sk-toggleable\"><input class=\"sk-toggleable__control sk-hidden--visually\" id=\"78535d4f-7f5b-4954-a694-4d87df240d32\" type=\"checkbox\" ><label for=\"78535d4f-7f5b-4954-a694-4d87df240d32\" class=\"sk-toggleable__label sk-toggleable__label-arrow\">SimpleImputer</label><div class=\"sk-toggleable__content\"><pre>SimpleImputer()</pre></div></div></div><div class=\"sk-item\"><div class=\"sk-estimator sk-toggleable\"><input class=\"sk-toggleable__control sk-hidden--visually\" id=\"85245588-70bb-4049-bb12-22377dc65d5c\" type=\"checkbox\" ><label for=\"85245588-70bb-4049-bb12-22377dc65d5c\" class=\"sk-toggleable__label sk-toggleable__label-arrow\">StandardScaler</label><div class=\"sk-toggleable__content\"><pre>StandardScaler()</pre></div></div></div></div></div></div></div></div></div></div><div class=\"sk-item\"><div class=\"sk-estimator sk-toggleable\"><input class=\"sk-toggleable__control sk-hidden--visually\" id=\"ad2f54cd-afd9-4e76-90ac-88c7186df110\" type=\"checkbox\" ><label for=\"ad2f54cd-afd9-4e76-90ac-88c7186df110\" class=\"sk-toggleable__label sk-toggleable__label-arrow\">Ridge</label><div class=\"sk-toggleable__content\"><pre>Ridge(alpha=0.1, fit_intercept=False, random_state=42, solver=&#x27;cholesky&#x27;)</pre></div></div></div></div></div></div></div>"
      ],
      "text/plain": [
       "Pipeline(steps=[('columntransformer',\n",
       "                 ColumnTransformer(remainder=Pipeline(steps=[('simpleimputer',\n",
       "                                                              SimpleImputer()),\n",
       "                                                             ('standardscaler',\n",
       "                                                              StandardScaler())]),\n",
       "                                   transformers=[('avgAnnCount',\n",
       "                                                  Pipeline(steps=[('simpleimputer',\n",
       "                                                                   SimpleImputer()),\n",
       "                                                                  ('standardscaler',\n",
       "                                                                   StandardScaler())]),\n",
       "                                                  ['avgAnnCount']),\n",
       "                                                 ('avgDeathsPerYear',\n",
       "                                                  Pipeline(steps=[('simpleimputer',\n",
       "                                                                   SimpleImpu...\n",
       "                                                                  ('standardscaler',\n",
       "                                                                   StandardScaler())]),\n",
       "                                                  ['BirthRate']),\n",
       "                                                 ('Geography',\n",
       "                                                  Pipeline(steps=[('simpleimputer',\n",
       "                                                                   SimpleImputer(strategy='most_frequent')),\n",
       "                                                                  ('onehotencoder',\n",
       "                                                                   OneHotEncoder(handle_unknown='ignore'))]),\n",
       "                                                  <sklearn.compose._column_transformer.make_column_selector object at 0x7fa76f6bd370>)])),\n",
       "                ('ridge',\n",
       "                 Ridge(alpha=0.1, fit_intercept=False, random_state=42,\n",
       "                       solver='cholesky'))])"
      ]
     },
     "execution_count": 49,
     "metadata": {},
     "output_type": "execute_result"
    }
   ],
   "source": [
    "from sklearn.linear_model import Ridge\n",
    "\n",
    "ridge_reg = make_pipeline(preprocessing, Ridge(alpha=.1, solver=\"cholesky\", fit_intercept=False, random_state=42))\n",
    "ridge_reg.fit(cancer, cancer_labels)"
   ]
  },
  {
   "cell_type": "code",
   "execution_count": 57,
   "metadata": {
    "colab": {
     "base_uri": "https://localhost:8080/"
    },
    "id": "fcH8cBJ1lft0",
    "outputId": "b3615e5f-2eff-4e46-86ce-6a4843480508",
    "slideshow": {
     "slide_type": "slide"
    }
   },
   "outputs": [
    {
     "data": {
      "text/plain": [
       "array([166.52524465, 183.28436423, 122.70925345, 181.05498515,\n",
       "       131.53501077])"
      ]
     },
     "execution_count": 57,
     "metadata": {},
     "output_type": "execute_result"
    }
   ],
   "source": [
    "cancer_predictions = ridge_reg.predict(cancer)\n",
    "cancer_predictions[:5]"
   ]
  },
  {
   "cell_type": "code",
   "execution_count": 58,
   "metadata": {
    "colab": {
     "base_uri": "https://localhost:8080/"
    },
    "id": "P520QoRjliuo",
    "outputId": "edb92c33-7bfa-4da2-806e-01a61193c84a"
   },
   "outputs": [
    {
     "data": {
      "text/plain": [
       "693     181.9\n",
       "635     201.4\n",
       "926     138.7\n",
       "2449    196.2\n",
       "2488    146.8\n",
       "Name: TARGET_deathRate, dtype: float64"
      ]
     },
     "execution_count": 58,
     "metadata": {},
     "output_type": "execute_result"
    }
   ],
   "source": [
    "cancer_labels.iloc[:5]"
   ]
  },
  {
   "cell_type": "code",
   "execution_count": 59,
   "metadata": {
    "colab": {
     "base_uri": "https://localhost:8080/"
    },
    "id": "DBDmv2zzlpTI",
    "outputId": "6a8491be-18fd-484c-eb06-2a67bdc8af37",
    "slideshow": {
     "slide_type": "slide"
    }
   },
   "outputs": [
    {
     "data": {
      "text/plain": [
       "16.348489824417452"
      ]
     },
     "execution_count": 59,
     "metadata": {},
     "output_type": "execute_result"
    }
   ],
   "source": [
    "ridge_rmse = mean_squared_error(cancer_labels, cancer_predictions,\n",
    "                              squared=False)\n",
    "ridge_rmse"
   ]
  },
  {
   "cell_type": "code",
   "execution_count": 60,
   "metadata": {
    "colab": {
     "base_uri": "https://localhost:8080/"
    },
    "id": "1QPRVGcsCPiY",
    "outputId": "39c95cb1-aa93-4689-ba8a-dd2142398d5d"
   },
   "outputs": [
    {
     "data": {
      "text/plain": [
       "count     10.000000\n",
       "mean     179.868901\n",
       "std        1.226181\n",
       "min      177.893445\n",
       "25%      179.061862\n",
       "50%      180.035676\n",
       "75%      180.425202\n",
       "max      181.612598\n",
       "dtype: float64"
      ]
     },
     "execution_count": 60,
     "metadata": {},
     "output_type": "execute_result"
    }
   ],
   "source": [
    "from sklearn.model_selection import cross_val_score\n",
    "\n",
    "cross_score = -cross_val_score(ridge_reg, cancer, cancer_labels,\n",
    "                              scoring=\"neg_root_mean_squared_error\", cv=10)\n",
    "\n",
    "pd.Series(cross_score).describe()"
   ]
  },
  {
   "cell_type": "markdown",
   "metadata": {
    "id": "8bsop84Kl90s",
    "slideshow": {
     "slide_type": "slide"
    }
   },
   "source": [
    "## Trying Lasso"
   ]
  },
  {
   "cell_type": "code",
   "execution_count": 62,
   "metadata": {
    "colab": {
     "base_uri": "https://localhost:8080/",
     "height": 316
    },
    "id": "9sC0sl2tmBJM",
    "outputId": "04a3f7e6-f91f-4ebb-a8c4-df8a7ebd2cb4"
   },
   "outputs": [
    {
     "data": {
      "text/html": [
       "<style>#sk-a3b04a38-a4ab-4382-b526-a73e01104e1e {color: black;background-color: white;}#sk-a3b04a38-a4ab-4382-b526-a73e01104e1e pre{padding: 0;}#sk-a3b04a38-a4ab-4382-b526-a73e01104e1e div.sk-toggleable {background-color: white;}#sk-a3b04a38-a4ab-4382-b526-a73e01104e1e label.sk-toggleable__label {cursor: pointer;display: block;width: 100%;margin-bottom: 0;padding: 0.3em;box-sizing: border-box;text-align: center;}#sk-a3b04a38-a4ab-4382-b526-a73e01104e1e label.sk-toggleable__label-arrow:before {content: \"▸\";float: left;margin-right: 0.25em;color: #696969;}#sk-a3b04a38-a4ab-4382-b526-a73e01104e1e label.sk-toggleable__label-arrow:hover:before {color: black;}#sk-a3b04a38-a4ab-4382-b526-a73e01104e1e div.sk-estimator:hover label.sk-toggleable__label-arrow:before {color: black;}#sk-a3b04a38-a4ab-4382-b526-a73e01104e1e div.sk-toggleable__content {max-height: 0;max-width: 0;overflow: hidden;text-align: left;background-color: #f0f8ff;}#sk-a3b04a38-a4ab-4382-b526-a73e01104e1e div.sk-toggleable__content pre {margin: 0.2em;color: black;border-radius: 0.25em;background-color: #f0f8ff;}#sk-a3b04a38-a4ab-4382-b526-a73e01104e1e input.sk-toggleable__control:checked~div.sk-toggleable__content {max-height: 200px;max-width: 100%;overflow: auto;}#sk-a3b04a38-a4ab-4382-b526-a73e01104e1e input.sk-toggleable__control:checked~label.sk-toggleable__label-arrow:before {content: \"▾\";}#sk-a3b04a38-a4ab-4382-b526-a73e01104e1e div.sk-estimator input.sk-toggleable__control:checked~label.sk-toggleable__label {background-color: #d4ebff;}#sk-a3b04a38-a4ab-4382-b526-a73e01104e1e div.sk-label input.sk-toggleable__control:checked~label.sk-toggleable__label {background-color: #d4ebff;}#sk-a3b04a38-a4ab-4382-b526-a73e01104e1e input.sk-hidden--visually {border: 0;clip: rect(1px 1px 1px 1px);clip: rect(1px, 1px, 1px, 1px);height: 1px;margin: -1px;overflow: hidden;padding: 0;position: absolute;width: 1px;}#sk-a3b04a38-a4ab-4382-b526-a73e01104e1e div.sk-estimator {font-family: monospace;background-color: #f0f8ff;border: 1px dotted black;border-radius: 0.25em;box-sizing: border-box;margin-bottom: 0.5em;}#sk-a3b04a38-a4ab-4382-b526-a73e01104e1e div.sk-estimator:hover {background-color: #d4ebff;}#sk-a3b04a38-a4ab-4382-b526-a73e01104e1e div.sk-parallel-item::after {content: \"\";width: 100%;border-bottom: 1px solid gray;flex-grow: 1;}#sk-a3b04a38-a4ab-4382-b526-a73e01104e1e div.sk-label:hover label.sk-toggleable__label {background-color: #d4ebff;}#sk-a3b04a38-a4ab-4382-b526-a73e01104e1e div.sk-serial::before {content: \"\";position: absolute;border-left: 1px solid gray;box-sizing: border-box;top: 2em;bottom: 0;left: 50%;}#sk-a3b04a38-a4ab-4382-b526-a73e01104e1e div.sk-serial {display: flex;flex-direction: column;align-items: center;background-color: white;padding-right: 0.2em;padding-left: 0.2em;}#sk-a3b04a38-a4ab-4382-b526-a73e01104e1e div.sk-item {z-index: 1;}#sk-a3b04a38-a4ab-4382-b526-a73e01104e1e div.sk-parallel {display: flex;align-items: stretch;justify-content: center;background-color: white;}#sk-a3b04a38-a4ab-4382-b526-a73e01104e1e div.sk-parallel::before {content: \"\";position: absolute;border-left: 1px solid gray;box-sizing: border-box;top: 2em;bottom: 0;left: 50%;}#sk-a3b04a38-a4ab-4382-b526-a73e01104e1e div.sk-parallel-item {display: flex;flex-direction: column;position: relative;background-color: white;}#sk-a3b04a38-a4ab-4382-b526-a73e01104e1e div.sk-parallel-item:first-child::after {align-self: flex-end;width: 50%;}#sk-a3b04a38-a4ab-4382-b526-a73e01104e1e div.sk-parallel-item:last-child::after {align-self: flex-start;width: 50%;}#sk-a3b04a38-a4ab-4382-b526-a73e01104e1e div.sk-parallel-item:only-child::after {width: 0;}#sk-a3b04a38-a4ab-4382-b526-a73e01104e1e div.sk-dashed-wrapped {border: 1px dashed gray;margin: 0 0.4em 0.5em 0.4em;box-sizing: border-box;padding-bottom: 0.4em;background-color: white;position: relative;}#sk-a3b04a38-a4ab-4382-b526-a73e01104e1e div.sk-label label {font-family: monospace;font-weight: bold;background-color: white;display: inline-block;line-height: 1.2em;}#sk-a3b04a38-a4ab-4382-b526-a73e01104e1e div.sk-label-container {position: relative;z-index: 2;text-align: center;}#sk-a3b04a38-a4ab-4382-b526-a73e01104e1e div.sk-container {/* jupyter's `normalize.less` sets `[hidden] { display: none; }` but bootstrap.min.css set `[hidden] { display: none !important; }` so we also need the `!important` here to be able to override the default hidden behavior on the sphinx rendered scikit-learn.org. See: https://github.com/scikit-learn/scikit-learn/issues/21755 */display: inline-block !important;position: relative;}#sk-a3b04a38-a4ab-4382-b526-a73e01104e1e div.sk-text-repr-fallback {display: none;}</style><div id=\"sk-a3b04a38-a4ab-4382-b526-a73e01104e1e\" class=\"sk-top-container\"><div class=\"sk-text-repr-fallback\"><pre>Pipeline(steps=[(&#x27;columntransformer&#x27;,\n",
       "                 ColumnTransformer(remainder=Pipeline(steps=[(&#x27;simpleimputer&#x27;,\n",
       "                                                              SimpleImputer()),\n",
       "                                                             (&#x27;standardscaler&#x27;,\n",
       "                                                              StandardScaler())]),\n",
       "                                   transformers=[(&#x27;avgAnnCount&#x27;,\n",
       "                                                  Pipeline(steps=[(&#x27;simpleimputer&#x27;,\n",
       "                                                                   SimpleImputer()),\n",
       "                                                                  (&#x27;standardscaler&#x27;,\n",
       "                                                                   StandardScaler())]),\n",
       "                                                  [&#x27;avgAnnCount&#x27;]),\n",
       "                                                 (&#x27;avgDeathsPerYear&#x27;,\n",
       "                                                  Pipeline(steps=[(&#x27;simpleimputer&#x27;,\n",
       "                                                                   SimpleImpu...\n",
       "                                                  Pipeline(steps=[(&#x27;simpleimputer&#x27;,\n",
       "                                                                   SimpleImputer()),\n",
       "                                                                  (&#x27;standardscaler&#x27;,\n",
       "                                                                   StandardScaler())]),\n",
       "                                                  [&#x27;BirthRate&#x27;]),\n",
       "                                                 (&#x27;Geography&#x27;,\n",
       "                                                  Pipeline(steps=[(&#x27;simpleimputer&#x27;,\n",
       "                                                                   SimpleImputer(strategy=&#x27;most_frequent&#x27;)),\n",
       "                                                                  (&#x27;onehotencoder&#x27;,\n",
       "                                                                   OneHotEncoder(handle_unknown=&#x27;ignore&#x27;))]),\n",
       "                                                  &lt;sklearn.compose._column_transformer.make_column_selector object at 0x7fa76f6bd370&gt;)])),\n",
       "                (&#x27;lasso&#x27;, Lasso(alpha=0.1))])</pre><b>Please rerun this cell to show the HTML repr or trust the notebook.</b></div><div class=\"sk-container\" hidden><div class=\"sk-item sk-dashed-wrapped\"><div class=\"sk-label-container\"><div class=\"sk-label sk-toggleable\"><input class=\"sk-toggleable__control sk-hidden--visually\" id=\"a4b30c33-51af-4b31-bd29-c8e796b26e30\" type=\"checkbox\" ><label for=\"a4b30c33-51af-4b31-bd29-c8e796b26e30\" class=\"sk-toggleable__label sk-toggleable__label-arrow\">Pipeline</label><div class=\"sk-toggleable__content\"><pre>Pipeline(steps=[(&#x27;columntransformer&#x27;,\n",
       "                 ColumnTransformer(remainder=Pipeline(steps=[(&#x27;simpleimputer&#x27;,\n",
       "                                                              SimpleImputer()),\n",
       "                                                             (&#x27;standardscaler&#x27;,\n",
       "                                                              StandardScaler())]),\n",
       "                                   transformers=[(&#x27;avgAnnCount&#x27;,\n",
       "                                                  Pipeline(steps=[(&#x27;simpleimputer&#x27;,\n",
       "                                                                   SimpleImputer()),\n",
       "                                                                  (&#x27;standardscaler&#x27;,\n",
       "                                                                   StandardScaler())]),\n",
       "                                                  [&#x27;avgAnnCount&#x27;]),\n",
       "                                                 (&#x27;avgDeathsPerYear&#x27;,\n",
       "                                                  Pipeline(steps=[(&#x27;simpleimputer&#x27;,\n",
       "                                                                   SimpleImpu...\n",
       "                                                  Pipeline(steps=[(&#x27;simpleimputer&#x27;,\n",
       "                                                                   SimpleImputer()),\n",
       "                                                                  (&#x27;standardscaler&#x27;,\n",
       "                                                                   StandardScaler())]),\n",
       "                                                  [&#x27;BirthRate&#x27;]),\n",
       "                                                 (&#x27;Geography&#x27;,\n",
       "                                                  Pipeline(steps=[(&#x27;simpleimputer&#x27;,\n",
       "                                                                   SimpleImputer(strategy=&#x27;most_frequent&#x27;)),\n",
       "                                                                  (&#x27;onehotencoder&#x27;,\n",
       "                                                                   OneHotEncoder(handle_unknown=&#x27;ignore&#x27;))]),\n",
       "                                                  &lt;sklearn.compose._column_transformer.make_column_selector object at 0x7fa76f6bd370&gt;)])),\n",
       "                (&#x27;lasso&#x27;, Lasso(alpha=0.1))])</pre></div></div></div><div class=\"sk-serial\"><div class=\"sk-item sk-dashed-wrapped\"><div class=\"sk-label-container\"><div class=\"sk-label sk-toggleable\"><input class=\"sk-toggleable__control sk-hidden--visually\" id=\"794a6d57-9ed2-42d9-8d3a-dd460f3635e9\" type=\"checkbox\" ><label for=\"794a6d57-9ed2-42d9-8d3a-dd460f3635e9\" class=\"sk-toggleable__label sk-toggleable__label-arrow\">columntransformer: ColumnTransformer</label><div class=\"sk-toggleable__content\"><pre>ColumnTransformer(remainder=Pipeline(steps=[(&#x27;simpleimputer&#x27;, SimpleImputer()),\n",
       "                                            (&#x27;standardscaler&#x27;,\n",
       "                                             StandardScaler())]),\n",
       "                  transformers=[(&#x27;avgAnnCount&#x27;,\n",
       "                                 Pipeline(steps=[(&#x27;simpleimputer&#x27;,\n",
       "                                                  SimpleImputer()),\n",
       "                                                 (&#x27;standardscaler&#x27;,\n",
       "                                                  StandardScaler())]),\n",
       "                                 [&#x27;avgAnnCount&#x27;]),\n",
       "                                (&#x27;avgDeathsPerYear&#x27;,\n",
       "                                 Pipeline(steps=[(&#x27;simpleimputer&#x27;,\n",
       "                                                  SimpleImputer()),\n",
       "                                                 (&#x27;standardscaler&#x27;,\n",
       "                                                  StandardScal...\n",
       "                                  &#x27;PctOtherRace&#x27;]),\n",
       "                                (&#x27;BirthRate&#x27;,\n",
       "                                 Pipeline(steps=[(&#x27;simpleimputer&#x27;,\n",
       "                                                  SimpleImputer()),\n",
       "                                                 (&#x27;standardscaler&#x27;,\n",
       "                                                  StandardScaler())]),\n",
       "                                 [&#x27;BirthRate&#x27;]),\n",
       "                                (&#x27;Geography&#x27;,\n",
       "                                 Pipeline(steps=[(&#x27;simpleimputer&#x27;,\n",
       "                                                  SimpleImputer(strategy=&#x27;most_frequent&#x27;)),\n",
       "                                                 (&#x27;onehotencoder&#x27;,\n",
       "                                                  OneHotEncoder(handle_unknown=&#x27;ignore&#x27;))]),\n",
       "                                 &lt;sklearn.compose._column_transformer.make_column_selector object at 0x7fa76f6bd370&gt;)])</pre></div></div></div><div class=\"sk-parallel\"><div class=\"sk-parallel-item\"><div class=\"sk-item\"><div class=\"sk-label-container\"><div class=\"sk-label sk-toggleable\"><input class=\"sk-toggleable__control sk-hidden--visually\" id=\"9b4311a2-fd8d-4766-93ee-8d3186d61be5\" type=\"checkbox\" ><label for=\"9b4311a2-fd8d-4766-93ee-8d3186d61be5\" class=\"sk-toggleable__label sk-toggleable__label-arrow\">avgAnnCount</label><div class=\"sk-toggleable__content\"><pre>[&#x27;avgAnnCount&#x27;]</pre></div></div></div><div class=\"sk-serial\"><div class=\"sk-item\"><div class=\"sk-serial\"><div class=\"sk-item\"><div class=\"sk-estimator sk-toggleable\"><input class=\"sk-toggleable__control sk-hidden--visually\" id=\"19a183d2-97a4-4435-b446-ac6aee5071cb\" type=\"checkbox\" ><label for=\"19a183d2-97a4-4435-b446-ac6aee5071cb\" class=\"sk-toggleable__label sk-toggleable__label-arrow\">SimpleImputer</label><div class=\"sk-toggleable__content\"><pre>SimpleImputer()</pre></div></div></div><div class=\"sk-item\"><div class=\"sk-estimator sk-toggleable\"><input class=\"sk-toggleable__control sk-hidden--visually\" id=\"a4524052-e00d-4724-aca5-ca583eb985e1\" type=\"checkbox\" ><label for=\"a4524052-e00d-4724-aca5-ca583eb985e1\" class=\"sk-toggleable__label sk-toggleable__label-arrow\">StandardScaler</label><div class=\"sk-toggleable__content\"><pre>StandardScaler()</pre></div></div></div></div></div></div></div></div><div class=\"sk-parallel-item\"><div class=\"sk-item\"><div class=\"sk-label-container\"><div class=\"sk-label sk-toggleable\"><input class=\"sk-toggleable__control sk-hidden--visually\" id=\"fa6da30d-6fc2-4738-aa90-f2d5cb40f265\" type=\"checkbox\" ><label for=\"fa6da30d-6fc2-4738-aa90-f2d5cb40f265\" class=\"sk-toggleable__label sk-toggleable__label-arrow\">avgDeathsPerYear</label><div class=\"sk-toggleable__content\"><pre>[&#x27;avgDeathsPerYear&#x27;]</pre></div></div></div><div class=\"sk-serial\"><div class=\"sk-item\"><div class=\"sk-serial\"><div class=\"sk-item\"><div class=\"sk-estimator sk-toggleable\"><input class=\"sk-toggleable__control sk-hidden--visually\" id=\"3e9d3b5c-f827-4a4c-8868-946b058a0fde\" type=\"checkbox\" ><label for=\"3e9d3b5c-f827-4a4c-8868-946b058a0fde\" class=\"sk-toggleable__label sk-toggleable__label-arrow\">SimpleImputer</label><div class=\"sk-toggleable__content\"><pre>SimpleImputer()</pre></div></div></div><div class=\"sk-item\"><div class=\"sk-estimator sk-toggleable\"><input class=\"sk-toggleable__control sk-hidden--visually\" id=\"f10d0985-36ac-4bf4-92a8-0a9512dc1099\" type=\"checkbox\" ><label for=\"f10d0985-36ac-4bf4-92a8-0a9512dc1099\" class=\"sk-toggleable__label sk-toggleable__label-arrow\">StandardScaler</label><div class=\"sk-toggleable__content\"><pre>StandardScaler()</pre></div></div></div></div></div></div></div></div><div class=\"sk-parallel-item\"><div class=\"sk-item\"><div class=\"sk-label-container\"><div class=\"sk-label sk-toggleable\"><input class=\"sk-toggleable__control sk-hidden--visually\" id=\"7413ef08-7ec7-4c57-a790-a10804fcd66c\" type=\"checkbox\" ><label for=\"7413ef08-7ec7-4c57-a790-a10804fcd66c\" class=\"sk-toggleable__label sk-toggleable__label-arrow\">incidenceRate</label><div class=\"sk-toggleable__content\"><pre>[&#x27;incidenceRate&#x27;]</pre></div></div></div><div class=\"sk-serial\"><div class=\"sk-item\"><div class=\"sk-serial\"><div class=\"sk-item\"><div class=\"sk-estimator sk-toggleable\"><input class=\"sk-toggleable__control sk-hidden--visually\" id=\"ec174c74-7067-4fe5-a4a9-96e838bef05c\" type=\"checkbox\" ><label for=\"ec174c74-7067-4fe5-a4a9-96e838bef05c\" class=\"sk-toggleable__label sk-toggleable__label-arrow\">SimpleImputer</label><div class=\"sk-toggleable__content\"><pre>SimpleImputer()</pre></div></div></div><div class=\"sk-item\"><div class=\"sk-estimator sk-toggleable\"><input class=\"sk-toggleable__control sk-hidden--visually\" id=\"dfd16fb4-0119-40e5-b997-be591e0e35d1\" type=\"checkbox\" ><label for=\"dfd16fb4-0119-40e5-b997-be591e0e35d1\" class=\"sk-toggleable__label sk-toggleable__label-arrow\">StandardScaler</label><div class=\"sk-toggleable__content\"><pre>StandardScaler()</pre></div></div></div></div></div></div></div></div><div class=\"sk-parallel-item\"><div class=\"sk-item\"><div class=\"sk-label-container\"><div class=\"sk-label sk-toggleable\"><input class=\"sk-toggleable__control sk-hidden--visually\" id=\"da4e784d-b2f4-4dc1-aec7-47c3a71e2451\" type=\"checkbox\" ><label for=\"da4e784d-b2f4-4dc1-aec7-47c3a71e2451\" class=\"sk-toggleable__label sk-toggleable__label-arrow\">povertyPercent</label><div class=\"sk-toggleable__content\"><pre>[&#x27;povertyPercent&#x27;]</pre></div></div></div><div class=\"sk-serial\"><div class=\"sk-item\"><div class=\"sk-serial\"><div class=\"sk-item\"><div class=\"sk-estimator sk-toggleable\"><input class=\"sk-toggleable__control sk-hidden--visually\" id=\"e6ded799-a990-4081-a69a-205f342c4184\" type=\"checkbox\" ><label for=\"e6ded799-a990-4081-a69a-205f342c4184\" class=\"sk-toggleable__label sk-toggleable__label-arrow\">SimpleImputer</label><div class=\"sk-toggleable__content\"><pre>SimpleImputer()</pre></div></div></div><div class=\"sk-item\"><div class=\"sk-estimator sk-toggleable\"><input class=\"sk-toggleable__control sk-hidden--visually\" id=\"a2ea20ea-676b-4ab0-9562-a749c03fe4e5\" type=\"checkbox\" ><label for=\"a2ea20ea-676b-4ab0-9562-a749c03fe4e5\" class=\"sk-toggleable__label sk-toggleable__label-arrow\">StandardScaler</label><div class=\"sk-toggleable__content\"><pre>StandardScaler()</pre></div></div></div></div></div></div></div></div><div class=\"sk-parallel-item\"><div class=\"sk-item\"><div class=\"sk-label-container\"><div class=\"sk-label sk-toggleable\"><input class=\"sk-toggleable__control sk-hidden--visually\" id=\"78e494ee-319e-4dd0-93cc-8d70109cf22d\" type=\"checkbox\" ><label for=\"78e494ee-319e-4dd0-93cc-8d70109cf22d\" class=\"sk-toggleable__label sk-toggleable__label-arrow\">Age</label><div class=\"sk-toggleable__content\"><pre>[&#x27;MedianAge&#x27;, &#x27;MedianAgeMale&#x27;, &#x27;MedianAgeFemale&#x27;]</pre></div></div></div><div class=\"sk-serial\"><div class=\"sk-item\"><div class=\"sk-serial\"><div class=\"sk-item\"><div class=\"sk-estimator sk-toggleable\"><input class=\"sk-toggleable__control sk-hidden--visually\" id=\"4b75a3eb-7393-472f-a721-6ad376cfb70a\" type=\"checkbox\" ><label for=\"4b75a3eb-7393-472f-a721-6ad376cfb70a\" class=\"sk-toggleable__label sk-toggleable__label-arrow\">SimpleImputer</label><div class=\"sk-toggleable__content\"><pre>SimpleImputer()</pre></div></div></div><div class=\"sk-item\"><div class=\"sk-estimator sk-toggleable\"><input class=\"sk-toggleable__control sk-hidden--visually\" id=\"15efa8a3-17f1-4748-b205-b7424bd4762d\" type=\"checkbox\" ><label for=\"15efa8a3-17f1-4748-b205-b7424bd4762d\" class=\"sk-toggleable__label sk-toggleable__label-arrow\">FunctionTransformer</label><div class=\"sk-toggleable__content\"><pre>FunctionTransformer(feature_names_out=&lt;function ratio_name at 0x7fa76c3241f0&gt;,\n",
       "                    func=&lt;function column_ratio at 0x7fa76c30f940&gt;)</pre></div></div></div><div class=\"sk-item\"><div class=\"sk-estimator sk-toggleable\"><input class=\"sk-toggleable__control sk-hidden--visually\" id=\"a16b5b24-68ba-4892-913b-2e36240994b3\" type=\"checkbox\" ><label for=\"a16b5b24-68ba-4892-913b-2e36240994b3\" class=\"sk-toggleable__label sk-toggleable__label-arrow\">StandardScaler</label><div class=\"sk-toggleable__content\"><pre>StandardScaler()</pre></div></div></div></div></div></div></div></div><div class=\"sk-parallel-item\"><div class=\"sk-item\"><div class=\"sk-label-container\"><div class=\"sk-label sk-toggleable\"><input class=\"sk-toggleable__control sk-hidden--visually\" id=\"b82cd7fb-b07b-473e-8ba4-5ec9157633ae\" type=\"checkbox\" ><label for=\"b82cd7fb-b07b-473e-8ba4-5ec9157633ae\" class=\"sk-toggleable__label sk-toggleable__label-arrow\">Highschool education</label><div class=\"sk-toggleable__content\"><pre>[&#x27;PctNoHS18_24&#x27;, &#x27;PctHS18_24&#x27;, &#x27;PctHS25_Over&#x27;]</pre></div></div></div><div class=\"sk-serial\"><div class=\"sk-item\"><div class=\"sk-serial\"><div class=\"sk-item\"><div class=\"sk-estimator sk-toggleable\"><input class=\"sk-toggleable__control sk-hidden--visually\" id=\"ec490a75-f687-47ad-9042-4ab2b13f3a99\" type=\"checkbox\" ><label for=\"ec490a75-f687-47ad-9042-4ab2b13f3a99\" class=\"sk-toggleable__label sk-toggleable__label-arrow\">SimpleImputer</label><div class=\"sk-toggleable__content\"><pre>SimpleImputer()</pre></div></div></div><div class=\"sk-item\"><div class=\"sk-estimator sk-toggleable\"><input class=\"sk-toggleable__control sk-hidden--visually\" id=\"b5ac2d34-651a-4e5a-bb83-f52ce75bc59f\" type=\"checkbox\" ><label for=\"b5ac2d34-651a-4e5a-bb83-f52ce75bc59f\" class=\"sk-toggleable__label sk-toggleable__label-arrow\">FunctionTransformer</label><div class=\"sk-toggleable__content\"><pre>FunctionTransformer(feature_names_out=&lt;function ratio_name at 0x7fa76c3241f0&gt;,\n",
       "                    func=&lt;function column_ratio at 0x7fa76c30f940&gt;)</pre></div></div></div><div class=\"sk-item\"><div class=\"sk-estimator sk-toggleable\"><input class=\"sk-toggleable__control sk-hidden--visually\" id=\"6ed2cbd3-0727-4ec6-b75b-4f0a8291d0e0\" type=\"checkbox\" ><label for=\"6ed2cbd3-0727-4ec6-b75b-4f0a8291d0e0\" class=\"sk-toggleable__label sk-toggleable__label-arrow\">StandardScaler</label><div class=\"sk-toggleable__content\"><pre>StandardScaler()</pre></div></div></div></div></div></div></div></div><div class=\"sk-parallel-item\"><div class=\"sk-item\"><div class=\"sk-label-container\"><div class=\"sk-label sk-toggleable\"><input class=\"sk-toggleable__control sk-hidden--visually\" id=\"6db16e20-cf5c-4e02-8241-b8ba5419ad2e\" type=\"checkbox\" ><label for=\"6db16e20-cf5c-4e02-8241-b8ba5419ad2e\" class=\"sk-toggleable__label sk-toggleable__label-arrow\">College Education</label><div class=\"sk-toggleable__content\"><pre>[&#x27;PctSomeCol18_24&#x27;, &#x27;PctBachDeg18_24&#x27;, &#x27;PctBachDeg25_Over&#x27;]</pre></div></div></div><div class=\"sk-serial\"><div class=\"sk-item\"><div class=\"sk-serial\"><div class=\"sk-item\"><div class=\"sk-estimator sk-toggleable\"><input class=\"sk-toggleable__control sk-hidden--visually\" id=\"8efb4c48-18d9-4069-b754-8e8dae5fa327\" type=\"checkbox\" ><label for=\"8efb4c48-18d9-4069-b754-8e8dae5fa327\" class=\"sk-toggleable__label sk-toggleable__label-arrow\">SimpleImputer</label><div class=\"sk-toggleable__content\"><pre>SimpleImputer()</pre></div></div></div><div class=\"sk-item\"><div class=\"sk-estimator sk-toggleable\"><input class=\"sk-toggleable__control sk-hidden--visually\" id=\"7bb246ec-4bfb-4bb1-8a0a-d1722ca50dd4\" type=\"checkbox\" ><label for=\"7bb246ec-4bfb-4bb1-8a0a-d1722ca50dd4\" class=\"sk-toggleable__label sk-toggleable__label-arrow\">FunctionTransformer</label><div class=\"sk-toggleable__content\"><pre>FunctionTransformer(feature_names_out=&lt;function ratio_name at 0x7fa76c3241f0&gt;,\n",
       "                    func=&lt;function column_ratio at 0x7fa76c30f940&gt;)</pre></div></div></div><div class=\"sk-item\"><div class=\"sk-estimator sk-toggleable\"><input class=\"sk-toggleable__control sk-hidden--visually\" id=\"780a7083-88a6-4953-9231-6ddcc0b33f26\" type=\"checkbox\" ><label for=\"780a7083-88a6-4953-9231-6ddcc0b33f26\" class=\"sk-toggleable__label sk-toggleable__label-arrow\">StandardScaler</label><div class=\"sk-toggleable__content\"><pre>StandardScaler()</pre></div></div></div></div></div></div></div></div><div class=\"sk-parallel-item\"><div class=\"sk-item\"><div class=\"sk-label-container\"><div class=\"sk-label sk-toggleable\"><input class=\"sk-toggleable__control sk-hidden--visually\" id=\"0bff100a-0d59-403b-9ef4-543e77ffe317\" type=\"checkbox\" ><label for=\"0bff100a-0d59-403b-9ef4-543e77ffe317\" class=\"sk-toggleable__label sk-toggleable__label-arrow\">Employment</label><div class=\"sk-toggleable__content\"><pre>[&#x27;PctEmployed16_Over&#x27;, &#x27;PctUnemployed16_Over&#x27;]</pre></div></div></div><div class=\"sk-serial\"><div class=\"sk-item\"><div class=\"sk-serial\"><div class=\"sk-item\"><div class=\"sk-estimator sk-toggleable\"><input class=\"sk-toggleable__control sk-hidden--visually\" id=\"573c7272-7557-4aed-aa7e-7a8c89d78377\" type=\"checkbox\" ><label for=\"573c7272-7557-4aed-aa7e-7a8c89d78377\" class=\"sk-toggleable__label sk-toggleable__label-arrow\">SimpleImputer</label><div class=\"sk-toggleable__content\"><pre>SimpleImputer()</pre></div></div></div><div class=\"sk-item\"><div class=\"sk-estimator sk-toggleable\"><input class=\"sk-toggleable__control sk-hidden--visually\" id=\"ef91a9e8-4e41-4c26-a0c4-310e61dd1579\" type=\"checkbox\" ><label for=\"ef91a9e8-4e41-4c26-a0c4-310e61dd1579\" class=\"sk-toggleable__label sk-toggleable__label-arrow\">FunctionTransformer</label><div class=\"sk-toggleable__content\"><pre>FunctionTransformer(feature_names_out=&lt;function ratio_name at 0x7fa76c3241f0&gt;,\n",
       "                    func=&lt;function column_ratio at 0x7fa76c30f940&gt;)</pre></div></div></div><div class=\"sk-item\"><div class=\"sk-estimator sk-toggleable\"><input class=\"sk-toggleable__control sk-hidden--visually\" id=\"dfe4459c-3569-4ea8-9d26-25e5151f9a87\" type=\"checkbox\" ><label for=\"dfe4459c-3569-4ea8-9d26-25e5151f9a87\" class=\"sk-toggleable__label sk-toggleable__label-arrow\">StandardScaler</label><div class=\"sk-toggleable__content\"><pre>StandardScaler()</pre></div></div></div></div></div></div></div></div><div class=\"sk-parallel-item\"><div class=\"sk-item\"><div class=\"sk-label-container\"><div class=\"sk-label sk-toggleable\"><input class=\"sk-toggleable__control sk-hidden--visually\" id=\"8f5f3b7b-b7d7-43ea-aba9-6905c0fd3912\" type=\"checkbox\" ><label for=\"8f5f3b7b-b7d7-43ea-aba9-6905c0fd3912\" class=\"sk-toggleable__label sk-toggleable__label-arrow\">Insurance Coverage</label><div class=\"sk-toggleable__content\"><pre>[&#x27;PctPrivateCoverage&#x27;, &#x27;PctPrivateCoverageAlone&#x27;, &#x27;PctEmpPrivCoverage&#x27;, &#x27;PctPublicCoverage&#x27;, &#x27;PctPublicCoverageAlone&#x27;]</pre></div></div></div><div class=\"sk-serial\"><div class=\"sk-item\"><div class=\"sk-serial\"><div class=\"sk-item\"><div class=\"sk-estimator sk-toggleable\"><input class=\"sk-toggleable__control sk-hidden--visually\" id=\"80240f0a-530d-4fe9-8537-1fa3ca67fe28\" type=\"checkbox\" ><label for=\"80240f0a-530d-4fe9-8537-1fa3ca67fe28\" class=\"sk-toggleable__label sk-toggleable__label-arrow\">SimpleImputer</label><div class=\"sk-toggleable__content\"><pre>SimpleImputer()</pre></div></div></div><div class=\"sk-item\"><div class=\"sk-estimator sk-toggleable\"><input class=\"sk-toggleable__control sk-hidden--visually\" id=\"c9474fac-9e05-492d-94b2-b6a45a65c7bf\" type=\"checkbox\" ><label for=\"c9474fac-9e05-492d-94b2-b6a45a65c7bf\" class=\"sk-toggleable__label sk-toggleable__label-arrow\">FunctionTransformer</label><div class=\"sk-toggleable__content\"><pre>FunctionTransformer(feature_names_out=&lt;function ratio_name at 0x7fa76c3241f0&gt;,\n",
       "                    func=&lt;function column_ratio at 0x7fa76c30f940&gt;)</pre></div></div></div><div class=\"sk-item\"><div class=\"sk-estimator sk-toggleable\"><input class=\"sk-toggleable__control sk-hidden--visually\" id=\"0ddf23ca-447f-4022-a637-4520ff595c15\" type=\"checkbox\" ><label for=\"0ddf23ca-447f-4022-a637-4520ff595c15\" class=\"sk-toggleable__label sk-toggleable__label-arrow\">StandardScaler</label><div class=\"sk-toggleable__content\"><pre>StandardScaler()</pre></div></div></div></div></div></div></div></div><div class=\"sk-parallel-item\"><div class=\"sk-item\"><div class=\"sk-label-container\"><div class=\"sk-label sk-toggleable\"><input class=\"sk-toggleable__control sk-hidden--visually\" id=\"cfdb06a2-9610-40a9-a951-3816589c45ca\" type=\"checkbox\" ><label for=\"cfdb06a2-9610-40a9-a951-3816589c45ca\" class=\"sk-toggleable__label sk-toggleable__label-arrow\">Race</label><div class=\"sk-toggleable__content\"><pre>[&#x27;PctWhite&#x27;, &#x27;PctBlack&#x27;, &#x27;PctAsian&#x27;, &#x27;PctOtherRace&#x27;]</pre></div></div></div><div class=\"sk-serial\"><div class=\"sk-item\"><div class=\"sk-serial\"><div class=\"sk-item\"><div class=\"sk-estimator sk-toggleable\"><input class=\"sk-toggleable__control sk-hidden--visually\" id=\"faf0e537-3cd6-4228-ae47-478d06225a25\" type=\"checkbox\" ><label for=\"faf0e537-3cd6-4228-ae47-478d06225a25\" class=\"sk-toggleable__label sk-toggleable__label-arrow\">SimpleImputer</label><div class=\"sk-toggleable__content\"><pre>SimpleImputer()</pre></div></div></div><div class=\"sk-item\"><div class=\"sk-estimator sk-toggleable\"><input class=\"sk-toggleable__control sk-hidden--visually\" id=\"0f83fe95-a6d7-49c7-8146-82833c68c707\" type=\"checkbox\" ><label for=\"0f83fe95-a6d7-49c7-8146-82833c68c707\" class=\"sk-toggleable__label sk-toggleable__label-arrow\">FunctionTransformer</label><div class=\"sk-toggleable__content\"><pre>FunctionTransformer(feature_names_out=&lt;function ratio_name at 0x7fa76c3241f0&gt;,\n",
       "                    func=&lt;function column_ratio at 0x7fa76c30f940&gt;)</pre></div></div></div><div class=\"sk-item\"><div class=\"sk-estimator sk-toggleable\"><input class=\"sk-toggleable__control sk-hidden--visually\" id=\"7665ec55-18ed-4186-adf7-4fe95b219f69\" type=\"checkbox\" ><label for=\"7665ec55-18ed-4186-adf7-4fe95b219f69\" class=\"sk-toggleable__label sk-toggleable__label-arrow\">StandardScaler</label><div class=\"sk-toggleable__content\"><pre>StandardScaler()</pre></div></div></div></div></div></div></div></div><div class=\"sk-parallel-item\"><div class=\"sk-item\"><div class=\"sk-label-container\"><div class=\"sk-label sk-toggleable\"><input class=\"sk-toggleable__control sk-hidden--visually\" id=\"68fee100-827b-4415-9fe2-b21ffbe97398\" type=\"checkbox\" ><label for=\"68fee100-827b-4415-9fe2-b21ffbe97398\" class=\"sk-toggleable__label sk-toggleable__label-arrow\">BirthRate</label><div class=\"sk-toggleable__content\"><pre>[&#x27;BirthRate&#x27;]</pre></div></div></div><div class=\"sk-serial\"><div class=\"sk-item\"><div class=\"sk-serial\"><div class=\"sk-item\"><div class=\"sk-estimator sk-toggleable\"><input class=\"sk-toggleable__control sk-hidden--visually\" id=\"906394d2-ca2e-4c0b-8ea9-9c2cc1ee6f52\" type=\"checkbox\" ><label for=\"906394d2-ca2e-4c0b-8ea9-9c2cc1ee6f52\" class=\"sk-toggleable__label sk-toggleable__label-arrow\">SimpleImputer</label><div class=\"sk-toggleable__content\"><pre>SimpleImputer()</pre></div></div></div><div class=\"sk-item\"><div class=\"sk-estimator sk-toggleable\"><input class=\"sk-toggleable__control sk-hidden--visually\" id=\"d575be1e-98a9-4860-b3b2-ec6815a8726d\" type=\"checkbox\" ><label for=\"d575be1e-98a9-4860-b3b2-ec6815a8726d\" class=\"sk-toggleable__label sk-toggleable__label-arrow\">StandardScaler</label><div class=\"sk-toggleable__content\"><pre>StandardScaler()</pre></div></div></div></div></div></div></div></div><div class=\"sk-parallel-item\"><div class=\"sk-item\"><div class=\"sk-label-container\"><div class=\"sk-label sk-toggleable\"><input class=\"sk-toggleable__control sk-hidden--visually\" id=\"589d1d93-7cfa-489d-8665-22e9d1e73c85\" type=\"checkbox\" ><label for=\"589d1d93-7cfa-489d-8665-22e9d1e73c85\" class=\"sk-toggleable__label sk-toggleable__label-arrow\">Geography</label><div class=\"sk-toggleable__content\"><pre>&lt;sklearn.compose._column_transformer.make_column_selector object at 0x7fa76f6bd370&gt;</pre></div></div></div><div class=\"sk-serial\"><div class=\"sk-item\"><div class=\"sk-serial\"><div class=\"sk-item\"><div class=\"sk-estimator sk-toggleable\"><input class=\"sk-toggleable__control sk-hidden--visually\" id=\"02b08b65-c262-4ab3-a6d9-77f9e408ea45\" type=\"checkbox\" ><label for=\"02b08b65-c262-4ab3-a6d9-77f9e408ea45\" class=\"sk-toggleable__label sk-toggleable__label-arrow\">SimpleImputer</label><div class=\"sk-toggleable__content\"><pre>SimpleImputer(strategy=&#x27;most_frequent&#x27;)</pre></div></div></div><div class=\"sk-item\"><div class=\"sk-estimator sk-toggleable\"><input class=\"sk-toggleable__control sk-hidden--visually\" id=\"0e5bad67-3ea5-4019-8830-d8b9c028cc80\" type=\"checkbox\" ><label for=\"0e5bad67-3ea5-4019-8830-d8b9c028cc80\" class=\"sk-toggleable__label sk-toggleable__label-arrow\">OneHotEncoder</label><div class=\"sk-toggleable__content\"><pre>OneHotEncoder(handle_unknown=&#x27;ignore&#x27;)</pre></div></div></div></div></div></div></div></div><div class=\"sk-parallel-item\"><div class=\"sk-item\"><div class=\"sk-label-container\"><div class=\"sk-label sk-toggleable\"><input class=\"sk-toggleable__control sk-hidden--visually\" id=\"45a26594-ca24-4128-8279-1c99fb496070\" type=\"checkbox\" ><label for=\"45a26594-ca24-4128-8279-1c99fb496070\" class=\"sk-toggleable__label sk-toggleable__label-arrow\">remainder</label><div class=\"sk-toggleable__content\"><pre>[]</pre></div></div></div><div class=\"sk-serial\"><div class=\"sk-item\"><div class=\"sk-serial\"><div class=\"sk-item\"><div class=\"sk-estimator sk-toggleable\"><input class=\"sk-toggleable__control sk-hidden--visually\" id=\"d6fd47fe-1b92-4207-9824-076a8d65f120\" type=\"checkbox\" ><label for=\"d6fd47fe-1b92-4207-9824-076a8d65f120\" class=\"sk-toggleable__label sk-toggleable__label-arrow\">SimpleImputer</label><div class=\"sk-toggleable__content\"><pre>SimpleImputer()</pre></div></div></div><div class=\"sk-item\"><div class=\"sk-estimator sk-toggleable\"><input class=\"sk-toggleable__control sk-hidden--visually\" id=\"0501c770-f706-4c3a-a92c-95c6d567510c\" type=\"checkbox\" ><label for=\"0501c770-f706-4c3a-a92c-95c6d567510c\" class=\"sk-toggleable__label sk-toggleable__label-arrow\">StandardScaler</label><div class=\"sk-toggleable__content\"><pre>StandardScaler()</pre></div></div></div></div></div></div></div></div></div></div><div class=\"sk-item\"><div class=\"sk-estimator sk-toggleable\"><input class=\"sk-toggleable__control sk-hidden--visually\" id=\"32b5ae41-5edb-40b5-bf05-25b477b20fb2\" type=\"checkbox\" ><label for=\"32b5ae41-5edb-40b5-bf05-25b477b20fb2\" class=\"sk-toggleable__label sk-toggleable__label-arrow\">Lasso</label><div class=\"sk-toggleable__content\"><pre>Lasso(alpha=0.1)</pre></div></div></div></div></div></div></div>"
      ],
      "text/plain": [
       "Pipeline(steps=[('columntransformer',\n",
       "                 ColumnTransformer(remainder=Pipeline(steps=[('simpleimputer',\n",
       "                                                              SimpleImputer()),\n",
       "                                                             ('standardscaler',\n",
       "                                                              StandardScaler())]),\n",
       "                                   transformers=[('avgAnnCount',\n",
       "                                                  Pipeline(steps=[('simpleimputer',\n",
       "                                                                   SimpleImputer()),\n",
       "                                                                  ('standardscaler',\n",
       "                                                                   StandardScaler())]),\n",
       "                                                  ['avgAnnCount']),\n",
       "                                                 ('avgDeathsPerYear',\n",
       "                                                  Pipeline(steps=[('simpleimputer',\n",
       "                                                                   SimpleImpu...\n",
       "                                                  Pipeline(steps=[('simpleimputer',\n",
       "                                                                   SimpleImputer()),\n",
       "                                                                  ('standardscaler',\n",
       "                                                                   StandardScaler())]),\n",
       "                                                  ['BirthRate']),\n",
       "                                                 ('Geography',\n",
       "                                                  Pipeline(steps=[('simpleimputer',\n",
       "                                                                   SimpleImputer(strategy='most_frequent')),\n",
       "                                                                  ('onehotencoder',\n",
       "                                                                   OneHotEncoder(handle_unknown='ignore'))]),\n",
       "                                                  <sklearn.compose._column_transformer.make_column_selector object at 0x7fa76f6bd370>)])),\n",
       "                ('lasso', Lasso(alpha=0.1))])"
      ]
     },
     "execution_count": 62,
     "metadata": {},
     "output_type": "execute_result"
    }
   ],
   "source": [
    "from sklearn.linear_model import Lasso\n",
    "\n",
    "lasso_reg = make_pipeline(preprocessing, Lasso(alpha=0.1))\n",
    "lasso_reg.fit(cancer, cancer_labels)"
   ]
  },
  {
   "cell_type": "code",
   "execution_count": 63,
   "metadata": {
    "colab": {
     "base_uri": "https://localhost:8080/"
    },
    "id": "L-poXUzUmopb",
    "outputId": "d158927c-d4c4-4479-a465-04cac95c44ac",
    "slideshow": {
     "slide_type": "slide"
    }
   },
   "outputs": [
    {
     "data": {
      "text/plain": [
       "array([190.71052293, 180.34893466, 141.58822341, 208.53701136,\n",
       "       160.27471146])"
      ]
     },
     "execution_count": 63,
     "metadata": {},
     "output_type": "execute_result"
    }
   ],
   "source": [
    "cancer_predictions = lasso_reg.predict(cancer)\n",
    "cancer_predictions[:5]"
   ]
  },
  {
   "cell_type": "code",
   "execution_count": 64,
   "metadata": {
    "colab": {
     "base_uri": "https://localhost:8080/"
    },
    "id": "2IgEXKu3mtXL",
    "outputId": "7b77468a-2a06-4dfa-bf81-bd9d429b2bab"
   },
   "outputs": [
    {
     "data": {
      "text/plain": [
       "693     181.9\n",
       "635     201.4\n",
       "926     138.7\n",
       "2449    196.2\n",
       "2488    146.8\n",
       "Name: TARGET_deathRate, dtype: float64"
      ]
     },
     "execution_count": 64,
     "metadata": {},
     "output_type": "execute_result"
    }
   ],
   "source": [
    "cancer_labels.iloc[:5]"
   ]
  },
  {
   "cell_type": "code",
   "execution_count": 65,
   "metadata": {
    "colab": {
     "base_uri": "https://localhost:8080/"
    },
    "id": "sRZDpfVmm006",
    "outputId": "df4bd310-e00f-4a19-b5fe-150e13741351",
    "slideshow": {
     "slide_type": "slide"
    }
   },
   "outputs": [
    {
     "data": {
      "text/plain": [
       "19.481985623645702"
      ]
     },
     "execution_count": 65,
     "metadata": {},
     "output_type": "execute_result"
    }
   ],
   "source": [
    "lasso_rmse = mean_squared_error(cancer_labels, cancer_predictions,\n",
    "                              squared=False)\n",
    "lasso_rmse"
   ]
  },
  {
   "cell_type": "code",
   "execution_count": 66,
   "metadata": {
    "colab": {
     "base_uri": "https://localhost:8080/"
    },
    "id": "zBRHq3x1EZjH",
    "outputId": "2bad4c51-dea8-4967-af6e-a1e06c801637"
   },
   "outputs": [
    {
     "data": {
      "text/plain": [
       "count    10.000000\n",
       "mean     19.732899\n",
       "std       0.962046\n",
       "min      17.991693\n",
       "25%      18.987448\n",
       "50%      19.978070\n",
       "75%      20.300223\n",
       "max      21.156555\n",
       "dtype: float64"
      ]
     },
     "execution_count": 66,
     "metadata": {},
     "output_type": "execute_result"
    }
   ],
   "source": [
    "from sklearn.model_selection import cross_val_score\n",
    "\n",
    "cross_score = -cross_val_score(lasso_reg, cancer, cancer_labels,\n",
    "                              scoring=\"neg_root_mean_squared_error\", cv=10)\n",
    "\n",
    "pd.Series(cross_score).describe()"
   ]
  },
  {
   "cell_type": "markdown",
   "metadata": {
    "id": "06vGRnjInJQs",
    "slideshow": {
     "slide_type": "slide"
    }
   },
   "source": [
    "## Trying Stochastic Gradient Descent"
   ]
  },
  {
   "cell_type": "code",
   "execution_count": 67,
   "metadata": {
    "colab": {
     "base_uri": "https://localhost:8080/",
     "height": 316
    },
    "id": "oKxNXw4vnss0",
    "outputId": "1b7068fd-c528-404b-a0ed-2b0a5a58d5ab"
   },
   "outputs": [
    {
     "data": {
      "text/html": [
       "<style>#sk-e6d2dcd9-cf97-4e04-9c3d-d26e4a4022ff {color: black;background-color: white;}#sk-e6d2dcd9-cf97-4e04-9c3d-d26e4a4022ff pre{padding: 0;}#sk-e6d2dcd9-cf97-4e04-9c3d-d26e4a4022ff div.sk-toggleable {background-color: white;}#sk-e6d2dcd9-cf97-4e04-9c3d-d26e4a4022ff label.sk-toggleable__label {cursor: pointer;display: block;width: 100%;margin-bottom: 0;padding: 0.3em;box-sizing: border-box;text-align: center;}#sk-e6d2dcd9-cf97-4e04-9c3d-d26e4a4022ff label.sk-toggleable__label-arrow:before {content: \"▸\";float: left;margin-right: 0.25em;color: #696969;}#sk-e6d2dcd9-cf97-4e04-9c3d-d26e4a4022ff label.sk-toggleable__label-arrow:hover:before {color: black;}#sk-e6d2dcd9-cf97-4e04-9c3d-d26e4a4022ff div.sk-estimator:hover label.sk-toggleable__label-arrow:before {color: black;}#sk-e6d2dcd9-cf97-4e04-9c3d-d26e4a4022ff div.sk-toggleable__content {max-height: 0;max-width: 0;overflow: hidden;text-align: left;background-color: #f0f8ff;}#sk-e6d2dcd9-cf97-4e04-9c3d-d26e4a4022ff div.sk-toggleable__content pre {margin: 0.2em;color: black;border-radius: 0.25em;background-color: #f0f8ff;}#sk-e6d2dcd9-cf97-4e04-9c3d-d26e4a4022ff input.sk-toggleable__control:checked~div.sk-toggleable__content {max-height: 200px;max-width: 100%;overflow: auto;}#sk-e6d2dcd9-cf97-4e04-9c3d-d26e4a4022ff input.sk-toggleable__control:checked~label.sk-toggleable__label-arrow:before {content: \"▾\";}#sk-e6d2dcd9-cf97-4e04-9c3d-d26e4a4022ff div.sk-estimator input.sk-toggleable__control:checked~label.sk-toggleable__label {background-color: #d4ebff;}#sk-e6d2dcd9-cf97-4e04-9c3d-d26e4a4022ff div.sk-label input.sk-toggleable__control:checked~label.sk-toggleable__label {background-color: #d4ebff;}#sk-e6d2dcd9-cf97-4e04-9c3d-d26e4a4022ff input.sk-hidden--visually {border: 0;clip: rect(1px 1px 1px 1px);clip: rect(1px, 1px, 1px, 1px);height: 1px;margin: -1px;overflow: hidden;padding: 0;position: absolute;width: 1px;}#sk-e6d2dcd9-cf97-4e04-9c3d-d26e4a4022ff div.sk-estimator {font-family: monospace;background-color: #f0f8ff;border: 1px dotted black;border-radius: 0.25em;box-sizing: border-box;margin-bottom: 0.5em;}#sk-e6d2dcd9-cf97-4e04-9c3d-d26e4a4022ff div.sk-estimator:hover {background-color: #d4ebff;}#sk-e6d2dcd9-cf97-4e04-9c3d-d26e4a4022ff div.sk-parallel-item::after {content: \"\";width: 100%;border-bottom: 1px solid gray;flex-grow: 1;}#sk-e6d2dcd9-cf97-4e04-9c3d-d26e4a4022ff div.sk-label:hover label.sk-toggleable__label {background-color: #d4ebff;}#sk-e6d2dcd9-cf97-4e04-9c3d-d26e4a4022ff div.sk-serial::before {content: \"\";position: absolute;border-left: 1px solid gray;box-sizing: border-box;top: 2em;bottom: 0;left: 50%;}#sk-e6d2dcd9-cf97-4e04-9c3d-d26e4a4022ff div.sk-serial {display: flex;flex-direction: column;align-items: center;background-color: white;padding-right: 0.2em;padding-left: 0.2em;}#sk-e6d2dcd9-cf97-4e04-9c3d-d26e4a4022ff div.sk-item {z-index: 1;}#sk-e6d2dcd9-cf97-4e04-9c3d-d26e4a4022ff div.sk-parallel {display: flex;align-items: stretch;justify-content: center;background-color: white;}#sk-e6d2dcd9-cf97-4e04-9c3d-d26e4a4022ff div.sk-parallel::before {content: \"\";position: absolute;border-left: 1px solid gray;box-sizing: border-box;top: 2em;bottom: 0;left: 50%;}#sk-e6d2dcd9-cf97-4e04-9c3d-d26e4a4022ff div.sk-parallel-item {display: flex;flex-direction: column;position: relative;background-color: white;}#sk-e6d2dcd9-cf97-4e04-9c3d-d26e4a4022ff div.sk-parallel-item:first-child::after {align-self: flex-end;width: 50%;}#sk-e6d2dcd9-cf97-4e04-9c3d-d26e4a4022ff div.sk-parallel-item:last-child::after {align-self: flex-start;width: 50%;}#sk-e6d2dcd9-cf97-4e04-9c3d-d26e4a4022ff div.sk-parallel-item:only-child::after {width: 0;}#sk-e6d2dcd9-cf97-4e04-9c3d-d26e4a4022ff div.sk-dashed-wrapped {border: 1px dashed gray;margin: 0 0.4em 0.5em 0.4em;box-sizing: border-box;padding-bottom: 0.4em;background-color: white;position: relative;}#sk-e6d2dcd9-cf97-4e04-9c3d-d26e4a4022ff div.sk-label label {font-family: monospace;font-weight: bold;background-color: white;display: inline-block;line-height: 1.2em;}#sk-e6d2dcd9-cf97-4e04-9c3d-d26e4a4022ff div.sk-label-container {position: relative;z-index: 2;text-align: center;}#sk-e6d2dcd9-cf97-4e04-9c3d-d26e4a4022ff div.sk-container {/* jupyter's `normalize.less` sets `[hidden] { display: none; }` but bootstrap.min.css set `[hidden] { display: none !important; }` so we also need the `!important` here to be able to override the default hidden behavior on the sphinx rendered scikit-learn.org. See: https://github.com/scikit-learn/scikit-learn/issues/21755 */display: inline-block !important;position: relative;}#sk-e6d2dcd9-cf97-4e04-9c3d-d26e4a4022ff div.sk-text-repr-fallback {display: none;}</style><div id=\"sk-e6d2dcd9-cf97-4e04-9c3d-d26e4a4022ff\" class=\"sk-top-container\"><div class=\"sk-text-repr-fallback\"><pre>Pipeline(steps=[(&#x27;columntransformer&#x27;,\n",
       "                 ColumnTransformer(remainder=Pipeline(steps=[(&#x27;simpleimputer&#x27;,\n",
       "                                                              SimpleImputer()),\n",
       "                                                             (&#x27;standardscaler&#x27;,\n",
       "                                                              StandardScaler())]),\n",
       "                                   transformers=[(&#x27;avgAnnCount&#x27;,\n",
       "                                                  Pipeline(steps=[(&#x27;simpleimputer&#x27;,\n",
       "                                                                   SimpleImputer()),\n",
       "                                                                  (&#x27;standardscaler&#x27;,\n",
       "                                                                   StandardScaler())]),\n",
       "                                                  [&#x27;avgAnnCount&#x27;]),\n",
       "                                                 (&#x27;avgDeathsPerYear&#x27;,\n",
       "                                                  Pipeline(steps=[(&#x27;simpleimputer&#x27;,\n",
       "                                                                   SimpleImpu...\n",
       "                                                  Pipeline(steps=[(&#x27;simpleimputer&#x27;,\n",
       "                                                                   SimpleImputer()),\n",
       "                                                                  (&#x27;standardscaler&#x27;,\n",
       "                                                                   StandardScaler())]),\n",
       "                                                  [&#x27;BirthRate&#x27;]),\n",
       "                                                 (&#x27;Geography&#x27;,\n",
       "                                                  Pipeline(steps=[(&#x27;simpleimputer&#x27;,\n",
       "                                                                   SimpleImputer(strategy=&#x27;most_frequent&#x27;)),\n",
       "                                                                  (&#x27;onehotencoder&#x27;,\n",
       "                                                                   OneHotEncoder(handle_unknown=&#x27;ignore&#x27;))]),\n",
       "                                                  &lt;sklearn.compose._column_transformer.make_column_selector object at 0x7fa76f6bd370&gt;)])),\n",
       "                (&#x27;sgdregressor&#x27;, SGDRegressor(random_state=42))])</pre><b>Please rerun this cell to show the HTML repr or trust the notebook.</b></div><div class=\"sk-container\" hidden><div class=\"sk-item sk-dashed-wrapped\"><div class=\"sk-label-container\"><div class=\"sk-label sk-toggleable\"><input class=\"sk-toggleable__control sk-hidden--visually\" id=\"1ef427ff-c90f-499d-8e66-fa56f7d10e57\" type=\"checkbox\" ><label for=\"1ef427ff-c90f-499d-8e66-fa56f7d10e57\" class=\"sk-toggleable__label sk-toggleable__label-arrow\">Pipeline</label><div class=\"sk-toggleable__content\"><pre>Pipeline(steps=[(&#x27;columntransformer&#x27;,\n",
       "                 ColumnTransformer(remainder=Pipeline(steps=[(&#x27;simpleimputer&#x27;,\n",
       "                                                              SimpleImputer()),\n",
       "                                                             (&#x27;standardscaler&#x27;,\n",
       "                                                              StandardScaler())]),\n",
       "                                   transformers=[(&#x27;avgAnnCount&#x27;,\n",
       "                                                  Pipeline(steps=[(&#x27;simpleimputer&#x27;,\n",
       "                                                                   SimpleImputer()),\n",
       "                                                                  (&#x27;standardscaler&#x27;,\n",
       "                                                                   StandardScaler())]),\n",
       "                                                  [&#x27;avgAnnCount&#x27;]),\n",
       "                                                 (&#x27;avgDeathsPerYear&#x27;,\n",
       "                                                  Pipeline(steps=[(&#x27;simpleimputer&#x27;,\n",
       "                                                                   SimpleImpu...\n",
       "                                                  Pipeline(steps=[(&#x27;simpleimputer&#x27;,\n",
       "                                                                   SimpleImputer()),\n",
       "                                                                  (&#x27;standardscaler&#x27;,\n",
       "                                                                   StandardScaler())]),\n",
       "                                                  [&#x27;BirthRate&#x27;]),\n",
       "                                                 (&#x27;Geography&#x27;,\n",
       "                                                  Pipeline(steps=[(&#x27;simpleimputer&#x27;,\n",
       "                                                                   SimpleImputer(strategy=&#x27;most_frequent&#x27;)),\n",
       "                                                                  (&#x27;onehotencoder&#x27;,\n",
       "                                                                   OneHotEncoder(handle_unknown=&#x27;ignore&#x27;))]),\n",
       "                                                  &lt;sklearn.compose._column_transformer.make_column_selector object at 0x7fa76f6bd370&gt;)])),\n",
       "                (&#x27;sgdregressor&#x27;, SGDRegressor(random_state=42))])</pre></div></div></div><div class=\"sk-serial\"><div class=\"sk-item sk-dashed-wrapped\"><div class=\"sk-label-container\"><div class=\"sk-label sk-toggleable\"><input class=\"sk-toggleable__control sk-hidden--visually\" id=\"861f0793-1768-4027-a2f5-c1c06130c1d3\" type=\"checkbox\" ><label for=\"861f0793-1768-4027-a2f5-c1c06130c1d3\" class=\"sk-toggleable__label sk-toggleable__label-arrow\">columntransformer: ColumnTransformer</label><div class=\"sk-toggleable__content\"><pre>ColumnTransformer(remainder=Pipeline(steps=[(&#x27;simpleimputer&#x27;, SimpleImputer()),\n",
       "                                            (&#x27;standardscaler&#x27;,\n",
       "                                             StandardScaler())]),\n",
       "                  transformers=[(&#x27;avgAnnCount&#x27;,\n",
       "                                 Pipeline(steps=[(&#x27;simpleimputer&#x27;,\n",
       "                                                  SimpleImputer()),\n",
       "                                                 (&#x27;standardscaler&#x27;,\n",
       "                                                  StandardScaler())]),\n",
       "                                 [&#x27;avgAnnCount&#x27;]),\n",
       "                                (&#x27;avgDeathsPerYear&#x27;,\n",
       "                                 Pipeline(steps=[(&#x27;simpleimputer&#x27;,\n",
       "                                                  SimpleImputer()),\n",
       "                                                 (&#x27;standardscaler&#x27;,\n",
       "                                                  StandardScal...\n",
       "                                  &#x27;PctOtherRace&#x27;]),\n",
       "                                (&#x27;BirthRate&#x27;,\n",
       "                                 Pipeline(steps=[(&#x27;simpleimputer&#x27;,\n",
       "                                                  SimpleImputer()),\n",
       "                                                 (&#x27;standardscaler&#x27;,\n",
       "                                                  StandardScaler())]),\n",
       "                                 [&#x27;BirthRate&#x27;]),\n",
       "                                (&#x27;Geography&#x27;,\n",
       "                                 Pipeline(steps=[(&#x27;simpleimputer&#x27;,\n",
       "                                                  SimpleImputer(strategy=&#x27;most_frequent&#x27;)),\n",
       "                                                 (&#x27;onehotencoder&#x27;,\n",
       "                                                  OneHotEncoder(handle_unknown=&#x27;ignore&#x27;))]),\n",
       "                                 &lt;sklearn.compose._column_transformer.make_column_selector object at 0x7fa76f6bd370&gt;)])</pre></div></div></div><div class=\"sk-parallel\"><div class=\"sk-parallel-item\"><div class=\"sk-item\"><div class=\"sk-label-container\"><div class=\"sk-label sk-toggleable\"><input class=\"sk-toggleable__control sk-hidden--visually\" id=\"dda1fff5-ec00-4fab-b9e4-f74187e5c157\" type=\"checkbox\" ><label for=\"dda1fff5-ec00-4fab-b9e4-f74187e5c157\" class=\"sk-toggleable__label sk-toggleable__label-arrow\">avgAnnCount</label><div class=\"sk-toggleable__content\"><pre>[&#x27;avgAnnCount&#x27;]</pre></div></div></div><div class=\"sk-serial\"><div class=\"sk-item\"><div class=\"sk-serial\"><div class=\"sk-item\"><div class=\"sk-estimator sk-toggleable\"><input class=\"sk-toggleable__control sk-hidden--visually\" id=\"a60ae914-23c2-4727-838b-10fec7180da8\" type=\"checkbox\" ><label for=\"a60ae914-23c2-4727-838b-10fec7180da8\" class=\"sk-toggleable__label sk-toggleable__label-arrow\">SimpleImputer</label><div class=\"sk-toggleable__content\"><pre>SimpleImputer()</pre></div></div></div><div class=\"sk-item\"><div class=\"sk-estimator sk-toggleable\"><input class=\"sk-toggleable__control sk-hidden--visually\" id=\"9a19713c-a4d5-4ce5-80a6-d8c6d83ac2a0\" type=\"checkbox\" ><label for=\"9a19713c-a4d5-4ce5-80a6-d8c6d83ac2a0\" class=\"sk-toggleable__label sk-toggleable__label-arrow\">StandardScaler</label><div class=\"sk-toggleable__content\"><pre>StandardScaler()</pre></div></div></div></div></div></div></div></div><div class=\"sk-parallel-item\"><div class=\"sk-item\"><div class=\"sk-label-container\"><div class=\"sk-label sk-toggleable\"><input class=\"sk-toggleable__control sk-hidden--visually\" id=\"4334c383-bb3f-4060-b6d9-d77ff0dee46e\" type=\"checkbox\" ><label for=\"4334c383-bb3f-4060-b6d9-d77ff0dee46e\" class=\"sk-toggleable__label sk-toggleable__label-arrow\">avgDeathsPerYear</label><div class=\"sk-toggleable__content\"><pre>[&#x27;avgDeathsPerYear&#x27;]</pre></div></div></div><div class=\"sk-serial\"><div class=\"sk-item\"><div class=\"sk-serial\"><div class=\"sk-item\"><div class=\"sk-estimator sk-toggleable\"><input class=\"sk-toggleable__control sk-hidden--visually\" id=\"ab14308a-e611-41e1-a8a3-1732c08f0ec1\" type=\"checkbox\" ><label for=\"ab14308a-e611-41e1-a8a3-1732c08f0ec1\" class=\"sk-toggleable__label sk-toggleable__label-arrow\">SimpleImputer</label><div class=\"sk-toggleable__content\"><pre>SimpleImputer()</pre></div></div></div><div class=\"sk-item\"><div class=\"sk-estimator sk-toggleable\"><input class=\"sk-toggleable__control sk-hidden--visually\" id=\"9bc1fa5b-86d0-482b-ba20-528e01d89842\" type=\"checkbox\" ><label for=\"9bc1fa5b-86d0-482b-ba20-528e01d89842\" class=\"sk-toggleable__label sk-toggleable__label-arrow\">StandardScaler</label><div class=\"sk-toggleable__content\"><pre>StandardScaler()</pre></div></div></div></div></div></div></div></div><div class=\"sk-parallel-item\"><div class=\"sk-item\"><div class=\"sk-label-container\"><div class=\"sk-label sk-toggleable\"><input class=\"sk-toggleable__control sk-hidden--visually\" id=\"7f894359-31c3-4d55-b670-7b2c118004c4\" type=\"checkbox\" ><label for=\"7f894359-31c3-4d55-b670-7b2c118004c4\" class=\"sk-toggleable__label sk-toggleable__label-arrow\">incidenceRate</label><div class=\"sk-toggleable__content\"><pre>[&#x27;incidenceRate&#x27;]</pre></div></div></div><div class=\"sk-serial\"><div class=\"sk-item\"><div class=\"sk-serial\"><div class=\"sk-item\"><div class=\"sk-estimator sk-toggleable\"><input class=\"sk-toggleable__control sk-hidden--visually\" id=\"f908053c-cd1c-4203-b096-1af97525ead2\" type=\"checkbox\" ><label for=\"f908053c-cd1c-4203-b096-1af97525ead2\" class=\"sk-toggleable__label sk-toggleable__label-arrow\">SimpleImputer</label><div class=\"sk-toggleable__content\"><pre>SimpleImputer()</pre></div></div></div><div class=\"sk-item\"><div class=\"sk-estimator sk-toggleable\"><input class=\"sk-toggleable__control sk-hidden--visually\" id=\"c2ed12c5-a8d6-4a49-b54e-4eb4b5e1f6f2\" type=\"checkbox\" ><label for=\"c2ed12c5-a8d6-4a49-b54e-4eb4b5e1f6f2\" class=\"sk-toggleable__label sk-toggleable__label-arrow\">StandardScaler</label><div class=\"sk-toggleable__content\"><pre>StandardScaler()</pre></div></div></div></div></div></div></div></div><div class=\"sk-parallel-item\"><div class=\"sk-item\"><div class=\"sk-label-container\"><div class=\"sk-label sk-toggleable\"><input class=\"sk-toggleable__control sk-hidden--visually\" id=\"ee92a56e-548c-4302-80db-ca6709b0593c\" type=\"checkbox\" ><label for=\"ee92a56e-548c-4302-80db-ca6709b0593c\" class=\"sk-toggleable__label sk-toggleable__label-arrow\">povertyPercent</label><div class=\"sk-toggleable__content\"><pre>[&#x27;povertyPercent&#x27;]</pre></div></div></div><div class=\"sk-serial\"><div class=\"sk-item\"><div class=\"sk-serial\"><div class=\"sk-item\"><div class=\"sk-estimator sk-toggleable\"><input class=\"sk-toggleable__control sk-hidden--visually\" id=\"71783070-ce89-4a10-9d6a-39727e0a8fc8\" type=\"checkbox\" ><label for=\"71783070-ce89-4a10-9d6a-39727e0a8fc8\" class=\"sk-toggleable__label sk-toggleable__label-arrow\">SimpleImputer</label><div class=\"sk-toggleable__content\"><pre>SimpleImputer()</pre></div></div></div><div class=\"sk-item\"><div class=\"sk-estimator sk-toggleable\"><input class=\"sk-toggleable__control sk-hidden--visually\" id=\"18513592-b727-4df5-b43e-a4c14747cc97\" type=\"checkbox\" ><label for=\"18513592-b727-4df5-b43e-a4c14747cc97\" class=\"sk-toggleable__label sk-toggleable__label-arrow\">StandardScaler</label><div class=\"sk-toggleable__content\"><pre>StandardScaler()</pre></div></div></div></div></div></div></div></div><div class=\"sk-parallel-item\"><div class=\"sk-item\"><div class=\"sk-label-container\"><div class=\"sk-label sk-toggleable\"><input class=\"sk-toggleable__control sk-hidden--visually\" id=\"b687f6f0-52f3-4730-b3c2-da15b92838da\" type=\"checkbox\" ><label for=\"b687f6f0-52f3-4730-b3c2-da15b92838da\" class=\"sk-toggleable__label sk-toggleable__label-arrow\">Age</label><div class=\"sk-toggleable__content\"><pre>[&#x27;MedianAge&#x27;, &#x27;MedianAgeMale&#x27;, &#x27;MedianAgeFemale&#x27;]</pre></div></div></div><div class=\"sk-serial\"><div class=\"sk-item\"><div class=\"sk-serial\"><div class=\"sk-item\"><div class=\"sk-estimator sk-toggleable\"><input class=\"sk-toggleable__control sk-hidden--visually\" id=\"4a1e6410-4722-421c-8a9e-cf9ed0fde0d1\" type=\"checkbox\" ><label for=\"4a1e6410-4722-421c-8a9e-cf9ed0fde0d1\" class=\"sk-toggleable__label sk-toggleable__label-arrow\">SimpleImputer</label><div class=\"sk-toggleable__content\"><pre>SimpleImputer()</pre></div></div></div><div class=\"sk-item\"><div class=\"sk-estimator sk-toggleable\"><input class=\"sk-toggleable__control sk-hidden--visually\" id=\"94fc7a63-f483-4d47-bc1a-108d0b0f6891\" type=\"checkbox\" ><label for=\"94fc7a63-f483-4d47-bc1a-108d0b0f6891\" class=\"sk-toggleable__label sk-toggleable__label-arrow\">FunctionTransformer</label><div class=\"sk-toggleable__content\"><pre>FunctionTransformer(feature_names_out=&lt;function ratio_name at 0x7fa76c3241f0&gt;,\n",
       "                    func=&lt;function column_ratio at 0x7fa76c30f940&gt;)</pre></div></div></div><div class=\"sk-item\"><div class=\"sk-estimator sk-toggleable\"><input class=\"sk-toggleable__control sk-hidden--visually\" id=\"56e873fd-bb7f-4380-ac4f-70a3f4379504\" type=\"checkbox\" ><label for=\"56e873fd-bb7f-4380-ac4f-70a3f4379504\" class=\"sk-toggleable__label sk-toggleable__label-arrow\">StandardScaler</label><div class=\"sk-toggleable__content\"><pre>StandardScaler()</pre></div></div></div></div></div></div></div></div><div class=\"sk-parallel-item\"><div class=\"sk-item\"><div class=\"sk-label-container\"><div class=\"sk-label sk-toggleable\"><input class=\"sk-toggleable__control sk-hidden--visually\" id=\"72beec88-0020-46ef-8352-41363c5e8320\" type=\"checkbox\" ><label for=\"72beec88-0020-46ef-8352-41363c5e8320\" class=\"sk-toggleable__label sk-toggleable__label-arrow\">Highschool education</label><div class=\"sk-toggleable__content\"><pre>[&#x27;PctNoHS18_24&#x27;, &#x27;PctHS18_24&#x27;, &#x27;PctHS25_Over&#x27;]</pre></div></div></div><div class=\"sk-serial\"><div class=\"sk-item\"><div class=\"sk-serial\"><div class=\"sk-item\"><div class=\"sk-estimator sk-toggleable\"><input class=\"sk-toggleable__control sk-hidden--visually\" id=\"2962d3e3-17be-41c9-b643-dbf1219f21f6\" type=\"checkbox\" ><label for=\"2962d3e3-17be-41c9-b643-dbf1219f21f6\" class=\"sk-toggleable__label sk-toggleable__label-arrow\">SimpleImputer</label><div class=\"sk-toggleable__content\"><pre>SimpleImputer()</pre></div></div></div><div class=\"sk-item\"><div class=\"sk-estimator sk-toggleable\"><input class=\"sk-toggleable__control sk-hidden--visually\" id=\"d158beb3-dd4c-4666-af92-d25da4c2f462\" type=\"checkbox\" ><label for=\"d158beb3-dd4c-4666-af92-d25da4c2f462\" class=\"sk-toggleable__label sk-toggleable__label-arrow\">FunctionTransformer</label><div class=\"sk-toggleable__content\"><pre>FunctionTransformer(feature_names_out=&lt;function ratio_name at 0x7fa76c3241f0&gt;,\n",
       "                    func=&lt;function column_ratio at 0x7fa76c30f940&gt;)</pre></div></div></div><div class=\"sk-item\"><div class=\"sk-estimator sk-toggleable\"><input class=\"sk-toggleable__control sk-hidden--visually\" id=\"5509e95a-dbf8-4f3d-b8cc-abb235b83886\" type=\"checkbox\" ><label for=\"5509e95a-dbf8-4f3d-b8cc-abb235b83886\" class=\"sk-toggleable__label sk-toggleable__label-arrow\">StandardScaler</label><div class=\"sk-toggleable__content\"><pre>StandardScaler()</pre></div></div></div></div></div></div></div></div><div class=\"sk-parallel-item\"><div class=\"sk-item\"><div class=\"sk-label-container\"><div class=\"sk-label sk-toggleable\"><input class=\"sk-toggleable__control sk-hidden--visually\" id=\"ba53ab11-add9-4836-b4b1-d914a9aa358a\" type=\"checkbox\" ><label for=\"ba53ab11-add9-4836-b4b1-d914a9aa358a\" class=\"sk-toggleable__label sk-toggleable__label-arrow\">College Education</label><div class=\"sk-toggleable__content\"><pre>[&#x27;PctSomeCol18_24&#x27;, &#x27;PctBachDeg18_24&#x27;, &#x27;PctBachDeg25_Over&#x27;]</pre></div></div></div><div class=\"sk-serial\"><div class=\"sk-item\"><div class=\"sk-serial\"><div class=\"sk-item\"><div class=\"sk-estimator sk-toggleable\"><input class=\"sk-toggleable__control sk-hidden--visually\" id=\"9b7b961e-bca7-4645-96d8-a9fbaa894295\" type=\"checkbox\" ><label for=\"9b7b961e-bca7-4645-96d8-a9fbaa894295\" class=\"sk-toggleable__label sk-toggleable__label-arrow\">SimpleImputer</label><div class=\"sk-toggleable__content\"><pre>SimpleImputer()</pre></div></div></div><div class=\"sk-item\"><div class=\"sk-estimator sk-toggleable\"><input class=\"sk-toggleable__control sk-hidden--visually\" id=\"2c6c9c69-c8ed-46de-97f8-efec916c02d1\" type=\"checkbox\" ><label for=\"2c6c9c69-c8ed-46de-97f8-efec916c02d1\" class=\"sk-toggleable__label sk-toggleable__label-arrow\">FunctionTransformer</label><div class=\"sk-toggleable__content\"><pre>FunctionTransformer(feature_names_out=&lt;function ratio_name at 0x7fa76c3241f0&gt;,\n",
       "                    func=&lt;function column_ratio at 0x7fa76c30f940&gt;)</pre></div></div></div><div class=\"sk-item\"><div class=\"sk-estimator sk-toggleable\"><input class=\"sk-toggleable__control sk-hidden--visually\" id=\"53380601-8af7-4218-9da6-c1967de0ce38\" type=\"checkbox\" ><label for=\"53380601-8af7-4218-9da6-c1967de0ce38\" class=\"sk-toggleable__label sk-toggleable__label-arrow\">StandardScaler</label><div class=\"sk-toggleable__content\"><pre>StandardScaler()</pre></div></div></div></div></div></div></div></div><div class=\"sk-parallel-item\"><div class=\"sk-item\"><div class=\"sk-label-container\"><div class=\"sk-label sk-toggleable\"><input class=\"sk-toggleable__control sk-hidden--visually\" id=\"a3b9f821-9bce-4513-a035-f07030d5c31b\" type=\"checkbox\" ><label for=\"a3b9f821-9bce-4513-a035-f07030d5c31b\" class=\"sk-toggleable__label sk-toggleable__label-arrow\">Employment</label><div class=\"sk-toggleable__content\"><pre>[&#x27;PctEmployed16_Over&#x27;, &#x27;PctUnemployed16_Over&#x27;]</pre></div></div></div><div class=\"sk-serial\"><div class=\"sk-item\"><div class=\"sk-serial\"><div class=\"sk-item\"><div class=\"sk-estimator sk-toggleable\"><input class=\"sk-toggleable__control sk-hidden--visually\" id=\"a2c5a790-81f8-489a-b1aa-a3d71f52adb5\" type=\"checkbox\" ><label for=\"a2c5a790-81f8-489a-b1aa-a3d71f52adb5\" class=\"sk-toggleable__label sk-toggleable__label-arrow\">SimpleImputer</label><div class=\"sk-toggleable__content\"><pre>SimpleImputer()</pre></div></div></div><div class=\"sk-item\"><div class=\"sk-estimator sk-toggleable\"><input class=\"sk-toggleable__control sk-hidden--visually\" id=\"595da029-d22e-49d0-b2bf-ab918df3ad90\" type=\"checkbox\" ><label for=\"595da029-d22e-49d0-b2bf-ab918df3ad90\" class=\"sk-toggleable__label sk-toggleable__label-arrow\">FunctionTransformer</label><div class=\"sk-toggleable__content\"><pre>FunctionTransformer(feature_names_out=&lt;function ratio_name at 0x7fa76c3241f0&gt;,\n",
       "                    func=&lt;function column_ratio at 0x7fa76c30f940&gt;)</pre></div></div></div><div class=\"sk-item\"><div class=\"sk-estimator sk-toggleable\"><input class=\"sk-toggleable__control sk-hidden--visually\" id=\"facc5434-8da8-48d0-91cd-ee153cf7cce5\" type=\"checkbox\" ><label for=\"facc5434-8da8-48d0-91cd-ee153cf7cce5\" class=\"sk-toggleable__label sk-toggleable__label-arrow\">StandardScaler</label><div class=\"sk-toggleable__content\"><pre>StandardScaler()</pre></div></div></div></div></div></div></div></div><div class=\"sk-parallel-item\"><div class=\"sk-item\"><div class=\"sk-label-container\"><div class=\"sk-label sk-toggleable\"><input class=\"sk-toggleable__control sk-hidden--visually\" id=\"1dd6ed84-0265-45a1-8538-ba3bc5f29b25\" type=\"checkbox\" ><label for=\"1dd6ed84-0265-45a1-8538-ba3bc5f29b25\" class=\"sk-toggleable__label sk-toggleable__label-arrow\">Insurance Coverage</label><div class=\"sk-toggleable__content\"><pre>[&#x27;PctPrivateCoverage&#x27;, &#x27;PctPrivateCoverageAlone&#x27;, &#x27;PctEmpPrivCoverage&#x27;, &#x27;PctPublicCoverage&#x27;, &#x27;PctPublicCoverageAlone&#x27;]</pre></div></div></div><div class=\"sk-serial\"><div class=\"sk-item\"><div class=\"sk-serial\"><div class=\"sk-item\"><div class=\"sk-estimator sk-toggleable\"><input class=\"sk-toggleable__control sk-hidden--visually\" id=\"2a8963d5-fd38-4fed-84bc-3ed99dc1581e\" type=\"checkbox\" ><label for=\"2a8963d5-fd38-4fed-84bc-3ed99dc1581e\" class=\"sk-toggleable__label sk-toggleable__label-arrow\">SimpleImputer</label><div class=\"sk-toggleable__content\"><pre>SimpleImputer()</pre></div></div></div><div class=\"sk-item\"><div class=\"sk-estimator sk-toggleable\"><input class=\"sk-toggleable__control sk-hidden--visually\" id=\"acc8eda1-a991-49f5-8b30-04c1e00d189b\" type=\"checkbox\" ><label for=\"acc8eda1-a991-49f5-8b30-04c1e00d189b\" class=\"sk-toggleable__label sk-toggleable__label-arrow\">FunctionTransformer</label><div class=\"sk-toggleable__content\"><pre>FunctionTransformer(feature_names_out=&lt;function ratio_name at 0x7fa76c3241f0&gt;,\n",
       "                    func=&lt;function column_ratio at 0x7fa76c30f940&gt;)</pre></div></div></div><div class=\"sk-item\"><div class=\"sk-estimator sk-toggleable\"><input class=\"sk-toggleable__control sk-hidden--visually\" id=\"07d15e5c-e460-4326-b3e1-c23784227367\" type=\"checkbox\" ><label for=\"07d15e5c-e460-4326-b3e1-c23784227367\" class=\"sk-toggleable__label sk-toggleable__label-arrow\">StandardScaler</label><div class=\"sk-toggleable__content\"><pre>StandardScaler()</pre></div></div></div></div></div></div></div></div><div class=\"sk-parallel-item\"><div class=\"sk-item\"><div class=\"sk-label-container\"><div class=\"sk-label sk-toggleable\"><input class=\"sk-toggleable__control sk-hidden--visually\" id=\"27eec917-3272-4f7e-aa3b-70d13a23d5b2\" type=\"checkbox\" ><label for=\"27eec917-3272-4f7e-aa3b-70d13a23d5b2\" class=\"sk-toggleable__label sk-toggleable__label-arrow\">Race</label><div class=\"sk-toggleable__content\"><pre>[&#x27;PctWhite&#x27;, &#x27;PctBlack&#x27;, &#x27;PctAsian&#x27;, &#x27;PctOtherRace&#x27;]</pre></div></div></div><div class=\"sk-serial\"><div class=\"sk-item\"><div class=\"sk-serial\"><div class=\"sk-item\"><div class=\"sk-estimator sk-toggleable\"><input class=\"sk-toggleable__control sk-hidden--visually\" id=\"94fd7813-749d-4a0f-8924-410e085be112\" type=\"checkbox\" ><label for=\"94fd7813-749d-4a0f-8924-410e085be112\" class=\"sk-toggleable__label sk-toggleable__label-arrow\">SimpleImputer</label><div class=\"sk-toggleable__content\"><pre>SimpleImputer()</pre></div></div></div><div class=\"sk-item\"><div class=\"sk-estimator sk-toggleable\"><input class=\"sk-toggleable__control sk-hidden--visually\" id=\"46f369ae-078d-4594-87b3-c90d1a6279de\" type=\"checkbox\" ><label for=\"46f369ae-078d-4594-87b3-c90d1a6279de\" class=\"sk-toggleable__label sk-toggleable__label-arrow\">FunctionTransformer</label><div class=\"sk-toggleable__content\"><pre>FunctionTransformer(feature_names_out=&lt;function ratio_name at 0x7fa76c3241f0&gt;,\n",
       "                    func=&lt;function column_ratio at 0x7fa76c30f940&gt;)</pre></div></div></div><div class=\"sk-item\"><div class=\"sk-estimator sk-toggleable\"><input class=\"sk-toggleable__control sk-hidden--visually\" id=\"717659c5-349d-46b6-9ab6-7661ce6d27e3\" type=\"checkbox\" ><label for=\"717659c5-349d-46b6-9ab6-7661ce6d27e3\" class=\"sk-toggleable__label sk-toggleable__label-arrow\">StandardScaler</label><div class=\"sk-toggleable__content\"><pre>StandardScaler()</pre></div></div></div></div></div></div></div></div><div class=\"sk-parallel-item\"><div class=\"sk-item\"><div class=\"sk-label-container\"><div class=\"sk-label sk-toggleable\"><input class=\"sk-toggleable__control sk-hidden--visually\" id=\"c3979f68-4520-47ca-ac69-adf06c989b15\" type=\"checkbox\" ><label for=\"c3979f68-4520-47ca-ac69-adf06c989b15\" class=\"sk-toggleable__label sk-toggleable__label-arrow\">BirthRate</label><div class=\"sk-toggleable__content\"><pre>[&#x27;BirthRate&#x27;]</pre></div></div></div><div class=\"sk-serial\"><div class=\"sk-item\"><div class=\"sk-serial\"><div class=\"sk-item\"><div class=\"sk-estimator sk-toggleable\"><input class=\"sk-toggleable__control sk-hidden--visually\" id=\"7e532b4a-13a5-49a6-a201-987aeb00c0f2\" type=\"checkbox\" ><label for=\"7e532b4a-13a5-49a6-a201-987aeb00c0f2\" class=\"sk-toggleable__label sk-toggleable__label-arrow\">SimpleImputer</label><div class=\"sk-toggleable__content\"><pre>SimpleImputer()</pre></div></div></div><div class=\"sk-item\"><div class=\"sk-estimator sk-toggleable\"><input class=\"sk-toggleable__control sk-hidden--visually\" id=\"3dca6d42-eb0f-4136-8576-f4502425387c\" type=\"checkbox\" ><label for=\"3dca6d42-eb0f-4136-8576-f4502425387c\" class=\"sk-toggleable__label sk-toggleable__label-arrow\">StandardScaler</label><div class=\"sk-toggleable__content\"><pre>StandardScaler()</pre></div></div></div></div></div></div></div></div><div class=\"sk-parallel-item\"><div class=\"sk-item\"><div class=\"sk-label-container\"><div class=\"sk-label sk-toggleable\"><input class=\"sk-toggleable__control sk-hidden--visually\" id=\"825902c1-3e71-4837-b3ce-59600f874a3e\" type=\"checkbox\" ><label for=\"825902c1-3e71-4837-b3ce-59600f874a3e\" class=\"sk-toggleable__label sk-toggleable__label-arrow\">Geography</label><div class=\"sk-toggleable__content\"><pre>&lt;sklearn.compose._column_transformer.make_column_selector object at 0x7fa76f6bd370&gt;</pre></div></div></div><div class=\"sk-serial\"><div class=\"sk-item\"><div class=\"sk-serial\"><div class=\"sk-item\"><div class=\"sk-estimator sk-toggleable\"><input class=\"sk-toggleable__control sk-hidden--visually\" id=\"7624573f-7f54-40a9-8ffe-ebd2d72b311c\" type=\"checkbox\" ><label for=\"7624573f-7f54-40a9-8ffe-ebd2d72b311c\" class=\"sk-toggleable__label sk-toggleable__label-arrow\">SimpleImputer</label><div class=\"sk-toggleable__content\"><pre>SimpleImputer(strategy=&#x27;most_frequent&#x27;)</pre></div></div></div><div class=\"sk-item\"><div class=\"sk-estimator sk-toggleable\"><input class=\"sk-toggleable__control sk-hidden--visually\" id=\"67620e35-7bf3-468a-ae16-cfc52527e26e\" type=\"checkbox\" ><label for=\"67620e35-7bf3-468a-ae16-cfc52527e26e\" class=\"sk-toggleable__label sk-toggleable__label-arrow\">OneHotEncoder</label><div class=\"sk-toggleable__content\"><pre>OneHotEncoder(handle_unknown=&#x27;ignore&#x27;)</pre></div></div></div></div></div></div></div></div><div class=\"sk-parallel-item\"><div class=\"sk-item\"><div class=\"sk-label-container\"><div class=\"sk-label sk-toggleable\"><input class=\"sk-toggleable__control sk-hidden--visually\" id=\"811cb35b-996a-4482-9cea-f6eba82494a4\" type=\"checkbox\" ><label for=\"811cb35b-996a-4482-9cea-f6eba82494a4\" class=\"sk-toggleable__label sk-toggleable__label-arrow\">remainder</label><div class=\"sk-toggleable__content\"><pre>[]</pre></div></div></div><div class=\"sk-serial\"><div class=\"sk-item\"><div class=\"sk-serial\"><div class=\"sk-item\"><div class=\"sk-estimator sk-toggleable\"><input class=\"sk-toggleable__control sk-hidden--visually\" id=\"738b6169-0859-4735-ba0f-1f23459600aa\" type=\"checkbox\" ><label for=\"738b6169-0859-4735-ba0f-1f23459600aa\" class=\"sk-toggleable__label sk-toggleable__label-arrow\">SimpleImputer</label><div class=\"sk-toggleable__content\"><pre>SimpleImputer()</pre></div></div></div><div class=\"sk-item\"><div class=\"sk-estimator sk-toggleable\"><input class=\"sk-toggleable__control sk-hidden--visually\" id=\"2fd7a5db-92b1-4166-a135-6952a0a08f27\" type=\"checkbox\" ><label for=\"2fd7a5db-92b1-4166-a135-6952a0a08f27\" class=\"sk-toggleable__label sk-toggleable__label-arrow\">StandardScaler</label><div class=\"sk-toggleable__content\"><pre>StandardScaler()</pre></div></div></div></div></div></div></div></div></div></div><div class=\"sk-item\"><div class=\"sk-estimator sk-toggleable\"><input class=\"sk-toggleable__control sk-hidden--visually\" id=\"14fe750a-53d3-4159-9483-a743f086b049\" type=\"checkbox\" ><label for=\"14fe750a-53d3-4159-9483-a743f086b049\" class=\"sk-toggleable__label sk-toggleable__label-arrow\">SGDRegressor</label><div class=\"sk-toggleable__content\"><pre>SGDRegressor(random_state=42)</pre></div></div></div></div></div></div></div>"
      ],
      "text/plain": [
       "Pipeline(steps=[('columntransformer',\n",
       "                 ColumnTransformer(remainder=Pipeline(steps=[('simpleimputer',\n",
       "                                                              SimpleImputer()),\n",
       "                                                             ('standardscaler',\n",
       "                                                              StandardScaler())]),\n",
       "                                   transformers=[('avgAnnCount',\n",
       "                                                  Pipeline(steps=[('simpleimputer',\n",
       "                                                                   SimpleImputer()),\n",
       "                                                                  ('standardscaler',\n",
       "                                                                   StandardScaler())]),\n",
       "                                                  ['avgAnnCount']),\n",
       "                                                 ('avgDeathsPerYear',\n",
       "                                                  Pipeline(steps=[('simpleimputer',\n",
       "                                                                   SimpleImpu...\n",
       "                                                  Pipeline(steps=[('simpleimputer',\n",
       "                                                                   SimpleImputer()),\n",
       "                                                                  ('standardscaler',\n",
       "                                                                   StandardScaler())]),\n",
       "                                                  ['BirthRate']),\n",
       "                                                 ('Geography',\n",
       "                                                  Pipeline(steps=[('simpleimputer',\n",
       "                                                                   SimpleImputer(strategy='most_frequent')),\n",
       "                                                                  ('onehotencoder',\n",
       "                                                                   OneHotEncoder(handle_unknown='ignore'))]),\n",
       "                                                  <sklearn.compose._column_transformer.make_column_selector object at 0x7fa76f6bd370>)])),\n",
       "                ('sgdregressor', SGDRegressor(random_state=42))])"
      ]
     },
     "execution_count": 67,
     "metadata": {},
     "output_type": "execute_result"
    }
   ],
   "source": [
    "from sklearn.linear_model import SGDRegressor\n",
    "\n",
    "sgd_reg = make_pipeline(preprocessing, SGDRegressor(random_state=42))\n",
    "sgd_reg.fit(cancer, cancer_labels)"
   ]
  },
  {
   "cell_type": "code",
   "execution_count": 68,
   "metadata": {
    "colab": {
     "base_uri": "https://localhost:8080/"
    },
    "id": "Yc_uOag3oZdd",
    "outputId": "39c2485f-d4b9-4677-b525-49af7f69cdef",
    "slideshow": {
     "slide_type": "slide"
    }
   },
   "outputs": [
    {
     "data": {
      "text/plain": [
       "array([189.01328211, 185.38875631, 140.50112174, 205.76395799,\n",
       "       154.3634434 ])"
      ]
     },
     "execution_count": 68,
     "metadata": {},
     "output_type": "execute_result"
    }
   ],
   "source": [
    "cancer_predictions = sgd_reg.predict(cancer)\n",
    "cancer_predictions[:5]"
   ]
  },
  {
   "cell_type": "code",
   "execution_count": 69,
   "metadata": {
    "colab": {
     "base_uri": "https://localhost:8080/"
    },
    "id": "JWNvCGODocD1",
    "outputId": "b732e1aa-6a02-4f49-94ab-e981eb22c33a"
   },
   "outputs": [
    {
     "data": {
      "text/plain": [
       "693     181.9\n",
       "635     201.4\n",
       "926     138.7\n",
       "2449    196.2\n",
       "2488    146.8\n",
       "Name: TARGET_deathRate, dtype: float64"
      ]
     },
     "execution_count": 69,
     "metadata": {},
     "output_type": "execute_result"
    }
   ],
   "source": [
    "cancer_labels.iloc[:5]"
   ]
  },
  {
   "cell_type": "code",
   "execution_count": 70,
   "metadata": {
    "colab": {
     "base_uri": "https://localhost:8080/"
    },
    "id": "xuov4Myxof-A",
    "outputId": "afe3f3d0-26be-43a8-a059-af75443526fb",
    "slideshow": {
     "slide_type": "slide"
    }
   },
   "outputs": [
    {
     "data": {
      "text/plain": [
       "14.568553380213352"
      ]
     },
     "execution_count": 70,
     "metadata": {},
     "output_type": "execute_result"
    }
   ],
   "source": [
    "lin_rmse = mean_squared_error(cancer_labels, cancer_predictions,\n",
    "                              squared=False)\n",
    "lin_rmse"
   ]
  },
  {
   "cell_type": "code",
   "execution_count": 71,
   "metadata": {
    "colab": {
     "base_uri": "https://localhost:8080/"
    },
    "id": "jQTfrz4dE1jy",
    "outputId": "5defe045-f188-4334-a17f-76af3dc8ecac"
   },
   "outputs": [
    {
     "data": {
      "text/plain": [
       "count    10.000000\n",
       "mean     21.297502\n",
       "std       0.961368\n",
       "min      19.552598\n",
       "25%      20.820519\n",
       "50%      21.428923\n",
       "75%      22.005402\n",
       "max      22.430452\n",
       "dtype: float64"
      ]
     },
     "execution_count": 71,
     "metadata": {},
     "output_type": "execute_result"
    }
   ],
   "source": [
    "from sklearn.model_selection import cross_val_score\n",
    "\n",
    "cross_score = -cross_val_score(sgd_reg, cancer, cancer_labels,\n",
    "                              scoring=\"neg_root_mean_squared_error\", cv=10)\n",
    "\n",
    "pd.Series(cross_score).describe()"
   ]
  },
  {
   "cell_type": "markdown",
   "metadata": {
    "id": "kP3z3X3SUaWE",
    "slideshow": {
     "slide_type": "slide"
    }
   },
   "source": [
    "## Trying Elastic Net"
   ]
  },
  {
   "cell_type": "code",
   "execution_count": 72,
   "metadata": {
    "colab": {
     "base_uri": "https://localhost:8080/",
     "height": 316
    },
    "id": "v2EoOii8USpN",
    "outputId": "34918276-eb31-42a9-b3cf-934bcbe84399"
   },
   "outputs": [
    {
     "data": {
      "text/html": [
       "<style>#sk-9f6ffd81-7dcc-46d8-afdc-d9576533abfb {color: black;background-color: white;}#sk-9f6ffd81-7dcc-46d8-afdc-d9576533abfb pre{padding: 0;}#sk-9f6ffd81-7dcc-46d8-afdc-d9576533abfb div.sk-toggleable {background-color: white;}#sk-9f6ffd81-7dcc-46d8-afdc-d9576533abfb label.sk-toggleable__label {cursor: pointer;display: block;width: 100%;margin-bottom: 0;padding: 0.3em;box-sizing: border-box;text-align: center;}#sk-9f6ffd81-7dcc-46d8-afdc-d9576533abfb label.sk-toggleable__label-arrow:before {content: \"▸\";float: left;margin-right: 0.25em;color: #696969;}#sk-9f6ffd81-7dcc-46d8-afdc-d9576533abfb label.sk-toggleable__label-arrow:hover:before {color: black;}#sk-9f6ffd81-7dcc-46d8-afdc-d9576533abfb div.sk-estimator:hover label.sk-toggleable__label-arrow:before {color: black;}#sk-9f6ffd81-7dcc-46d8-afdc-d9576533abfb div.sk-toggleable__content {max-height: 0;max-width: 0;overflow: hidden;text-align: left;background-color: #f0f8ff;}#sk-9f6ffd81-7dcc-46d8-afdc-d9576533abfb div.sk-toggleable__content pre {margin: 0.2em;color: black;border-radius: 0.25em;background-color: #f0f8ff;}#sk-9f6ffd81-7dcc-46d8-afdc-d9576533abfb input.sk-toggleable__control:checked~div.sk-toggleable__content {max-height: 200px;max-width: 100%;overflow: auto;}#sk-9f6ffd81-7dcc-46d8-afdc-d9576533abfb input.sk-toggleable__control:checked~label.sk-toggleable__label-arrow:before {content: \"▾\";}#sk-9f6ffd81-7dcc-46d8-afdc-d9576533abfb div.sk-estimator input.sk-toggleable__control:checked~label.sk-toggleable__label {background-color: #d4ebff;}#sk-9f6ffd81-7dcc-46d8-afdc-d9576533abfb div.sk-label input.sk-toggleable__control:checked~label.sk-toggleable__label {background-color: #d4ebff;}#sk-9f6ffd81-7dcc-46d8-afdc-d9576533abfb input.sk-hidden--visually {border: 0;clip: rect(1px 1px 1px 1px);clip: rect(1px, 1px, 1px, 1px);height: 1px;margin: -1px;overflow: hidden;padding: 0;position: absolute;width: 1px;}#sk-9f6ffd81-7dcc-46d8-afdc-d9576533abfb div.sk-estimator {font-family: monospace;background-color: #f0f8ff;border: 1px dotted black;border-radius: 0.25em;box-sizing: border-box;margin-bottom: 0.5em;}#sk-9f6ffd81-7dcc-46d8-afdc-d9576533abfb div.sk-estimator:hover {background-color: #d4ebff;}#sk-9f6ffd81-7dcc-46d8-afdc-d9576533abfb div.sk-parallel-item::after {content: \"\";width: 100%;border-bottom: 1px solid gray;flex-grow: 1;}#sk-9f6ffd81-7dcc-46d8-afdc-d9576533abfb div.sk-label:hover label.sk-toggleable__label {background-color: #d4ebff;}#sk-9f6ffd81-7dcc-46d8-afdc-d9576533abfb div.sk-serial::before {content: \"\";position: absolute;border-left: 1px solid gray;box-sizing: border-box;top: 2em;bottom: 0;left: 50%;}#sk-9f6ffd81-7dcc-46d8-afdc-d9576533abfb div.sk-serial {display: flex;flex-direction: column;align-items: center;background-color: white;padding-right: 0.2em;padding-left: 0.2em;}#sk-9f6ffd81-7dcc-46d8-afdc-d9576533abfb div.sk-item {z-index: 1;}#sk-9f6ffd81-7dcc-46d8-afdc-d9576533abfb div.sk-parallel {display: flex;align-items: stretch;justify-content: center;background-color: white;}#sk-9f6ffd81-7dcc-46d8-afdc-d9576533abfb div.sk-parallel::before {content: \"\";position: absolute;border-left: 1px solid gray;box-sizing: border-box;top: 2em;bottom: 0;left: 50%;}#sk-9f6ffd81-7dcc-46d8-afdc-d9576533abfb div.sk-parallel-item {display: flex;flex-direction: column;position: relative;background-color: white;}#sk-9f6ffd81-7dcc-46d8-afdc-d9576533abfb div.sk-parallel-item:first-child::after {align-self: flex-end;width: 50%;}#sk-9f6ffd81-7dcc-46d8-afdc-d9576533abfb div.sk-parallel-item:last-child::after {align-self: flex-start;width: 50%;}#sk-9f6ffd81-7dcc-46d8-afdc-d9576533abfb div.sk-parallel-item:only-child::after {width: 0;}#sk-9f6ffd81-7dcc-46d8-afdc-d9576533abfb div.sk-dashed-wrapped {border: 1px dashed gray;margin: 0 0.4em 0.5em 0.4em;box-sizing: border-box;padding-bottom: 0.4em;background-color: white;position: relative;}#sk-9f6ffd81-7dcc-46d8-afdc-d9576533abfb div.sk-label label {font-family: monospace;font-weight: bold;background-color: white;display: inline-block;line-height: 1.2em;}#sk-9f6ffd81-7dcc-46d8-afdc-d9576533abfb div.sk-label-container {position: relative;z-index: 2;text-align: center;}#sk-9f6ffd81-7dcc-46d8-afdc-d9576533abfb div.sk-container {/* jupyter's `normalize.less` sets `[hidden] { display: none; }` but bootstrap.min.css set `[hidden] { display: none !important; }` so we also need the `!important` here to be able to override the default hidden behavior on the sphinx rendered scikit-learn.org. See: https://github.com/scikit-learn/scikit-learn/issues/21755 */display: inline-block !important;position: relative;}#sk-9f6ffd81-7dcc-46d8-afdc-d9576533abfb div.sk-text-repr-fallback {display: none;}</style><div id=\"sk-9f6ffd81-7dcc-46d8-afdc-d9576533abfb\" class=\"sk-top-container\"><div class=\"sk-text-repr-fallback\"><pre>Pipeline(steps=[(&#x27;columntransformer&#x27;,\n",
       "                 ColumnTransformer(remainder=Pipeline(steps=[(&#x27;simpleimputer&#x27;,\n",
       "                                                              SimpleImputer()),\n",
       "                                                             (&#x27;standardscaler&#x27;,\n",
       "                                                              StandardScaler())]),\n",
       "                                   transformers=[(&#x27;avgAnnCount&#x27;,\n",
       "                                                  Pipeline(steps=[(&#x27;simpleimputer&#x27;,\n",
       "                                                                   SimpleImputer()),\n",
       "                                                                  (&#x27;standardscaler&#x27;,\n",
       "                                                                   StandardScaler())]),\n",
       "                                                  [&#x27;avgAnnCount&#x27;]),\n",
       "                                                 (&#x27;avgDeathsPerYear&#x27;,\n",
       "                                                  Pipeline(steps=[(&#x27;simpleimputer&#x27;,\n",
       "                                                                   SimpleImpu...\n",
       "                                                  Pipeline(steps=[(&#x27;simpleimputer&#x27;,\n",
       "                                                                   SimpleImputer()),\n",
       "                                                                  (&#x27;standardscaler&#x27;,\n",
       "                                                                   StandardScaler())]),\n",
       "                                                  [&#x27;BirthRate&#x27;]),\n",
       "                                                 (&#x27;Geography&#x27;,\n",
       "                                                  Pipeline(steps=[(&#x27;simpleimputer&#x27;,\n",
       "                                                                   SimpleImputer(strategy=&#x27;most_frequent&#x27;)),\n",
       "                                                                  (&#x27;onehotencoder&#x27;,\n",
       "                                                                   OneHotEncoder(handle_unknown=&#x27;ignore&#x27;))]),\n",
       "                                                  &lt;sklearn.compose._column_transformer.make_column_selector object at 0x7fa76f6bd370&gt;)])),\n",
       "                (&#x27;elasticnet&#x27;, ElasticNet(random_state=42))])</pre><b>Please rerun this cell to show the HTML repr or trust the notebook.</b></div><div class=\"sk-container\" hidden><div class=\"sk-item sk-dashed-wrapped\"><div class=\"sk-label-container\"><div class=\"sk-label sk-toggleable\"><input class=\"sk-toggleable__control sk-hidden--visually\" id=\"ab9c1b39-c42b-4993-83ed-4cba1c267f0d\" type=\"checkbox\" ><label for=\"ab9c1b39-c42b-4993-83ed-4cba1c267f0d\" class=\"sk-toggleable__label sk-toggleable__label-arrow\">Pipeline</label><div class=\"sk-toggleable__content\"><pre>Pipeline(steps=[(&#x27;columntransformer&#x27;,\n",
       "                 ColumnTransformer(remainder=Pipeline(steps=[(&#x27;simpleimputer&#x27;,\n",
       "                                                              SimpleImputer()),\n",
       "                                                             (&#x27;standardscaler&#x27;,\n",
       "                                                              StandardScaler())]),\n",
       "                                   transformers=[(&#x27;avgAnnCount&#x27;,\n",
       "                                                  Pipeline(steps=[(&#x27;simpleimputer&#x27;,\n",
       "                                                                   SimpleImputer()),\n",
       "                                                                  (&#x27;standardscaler&#x27;,\n",
       "                                                                   StandardScaler())]),\n",
       "                                                  [&#x27;avgAnnCount&#x27;]),\n",
       "                                                 (&#x27;avgDeathsPerYear&#x27;,\n",
       "                                                  Pipeline(steps=[(&#x27;simpleimputer&#x27;,\n",
       "                                                                   SimpleImpu...\n",
       "                                                  Pipeline(steps=[(&#x27;simpleimputer&#x27;,\n",
       "                                                                   SimpleImputer()),\n",
       "                                                                  (&#x27;standardscaler&#x27;,\n",
       "                                                                   StandardScaler())]),\n",
       "                                                  [&#x27;BirthRate&#x27;]),\n",
       "                                                 (&#x27;Geography&#x27;,\n",
       "                                                  Pipeline(steps=[(&#x27;simpleimputer&#x27;,\n",
       "                                                                   SimpleImputer(strategy=&#x27;most_frequent&#x27;)),\n",
       "                                                                  (&#x27;onehotencoder&#x27;,\n",
       "                                                                   OneHotEncoder(handle_unknown=&#x27;ignore&#x27;))]),\n",
       "                                                  &lt;sklearn.compose._column_transformer.make_column_selector object at 0x7fa76f6bd370&gt;)])),\n",
       "                (&#x27;elasticnet&#x27;, ElasticNet(random_state=42))])</pre></div></div></div><div class=\"sk-serial\"><div class=\"sk-item sk-dashed-wrapped\"><div class=\"sk-label-container\"><div class=\"sk-label sk-toggleable\"><input class=\"sk-toggleable__control sk-hidden--visually\" id=\"523c9945-2cf2-4a9f-ba5c-2c8672db330d\" type=\"checkbox\" ><label for=\"523c9945-2cf2-4a9f-ba5c-2c8672db330d\" class=\"sk-toggleable__label sk-toggleable__label-arrow\">columntransformer: ColumnTransformer</label><div class=\"sk-toggleable__content\"><pre>ColumnTransformer(remainder=Pipeline(steps=[(&#x27;simpleimputer&#x27;, SimpleImputer()),\n",
       "                                            (&#x27;standardscaler&#x27;,\n",
       "                                             StandardScaler())]),\n",
       "                  transformers=[(&#x27;avgAnnCount&#x27;,\n",
       "                                 Pipeline(steps=[(&#x27;simpleimputer&#x27;,\n",
       "                                                  SimpleImputer()),\n",
       "                                                 (&#x27;standardscaler&#x27;,\n",
       "                                                  StandardScaler())]),\n",
       "                                 [&#x27;avgAnnCount&#x27;]),\n",
       "                                (&#x27;avgDeathsPerYear&#x27;,\n",
       "                                 Pipeline(steps=[(&#x27;simpleimputer&#x27;,\n",
       "                                                  SimpleImputer()),\n",
       "                                                 (&#x27;standardscaler&#x27;,\n",
       "                                                  StandardScal...\n",
       "                                  &#x27;PctOtherRace&#x27;]),\n",
       "                                (&#x27;BirthRate&#x27;,\n",
       "                                 Pipeline(steps=[(&#x27;simpleimputer&#x27;,\n",
       "                                                  SimpleImputer()),\n",
       "                                                 (&#x27;standardscaler&#x27;,\n",
       "                                                  StandardScaler())]),\n",
       "                                 [&#x27;BirthRate&#x27;]),\n",
       "                                (&#x27;Geography&#x27;,\n",
       "                                 Pipeline(steps=[(&#x27;simpleimputer&#x27;,\n",
       "                                                  SimpleImputer(strategy=&#x27;most_frequent&#x27;)),\n",
       "                                                 (&#x27;onehotencoder&#x27;,\n",
       "                                                  OneHotEncoder(handle_unknown=&#x27;ignore&#x27;))]),\n",
       "                                 &lt;sklearn.compose._column_transformer.make_column_selector object at 0x7fa76f6bd370&gt;)])</pre></div></div></div><div class=\"sk-parallel\"><div class=\"sk-parallel-item\"><div class=\"sk-item\"><div class=\"sk-label-container\"><div class=\"sk-label sk-toggleable\"><input class=\"sk-toggleable__control sk-hidden--visually\" id=\"92748f5d-6a98-4a7a-b662-b6420b1edcb3\" type=\"checkbox\" ><label for=\"92748f5d-6a98-4a7a-b662-b6420b1edcb3\" class=\"sk-toggleable__label sk-toggleable__label-arrow\">avgAnnCount</label><div class=\"sk-toggleable__content\"><pre>[&#x27;avgAnnCount&#x27;]</pre></div></div></div><div class=\"sk-serial\"><div class=\"sk-item\"><div class=\"sk-serial\"><div class=\"sk-item\"><div class=\"sk-estimator sk-toggleable\"><input class=\"sk-toggleable__control sk-hidden--visually\" id=\"d66ac875-1cf0-4e36-a274-de90ead0ec55\" type=\"checkbox\" ><label for=\"d66ac875-1cf0-4e36-a274-de90ead0ec55\" class=\"sk-toggleable__label sk-toggleable__label-arrow\">SimpleImputer</label><div class=\"sk-toggleable__content\"><pre>SimpleImputer()</pre></div></div></div><div class=\"sk-item\"><div class=\"sk-estimator sk-toggleable\"><input class=\"sk-toggleable__control sk-hidden--visually\" id=\"0c15e4a7-93f5-4525-bfd9-c2548dcebec6\" type=\"checkbox\" ><label for=\"0c15e4a7-93f5-4525-bfd9-c2548dcebec6\" class=\"sk-toggleable__label sk-toggleable__label-arrow\">StandardScaler</label><div class=\"sk-toggleable__content\"><pre>StandardScaler()</pre></div></div></div></div></div></div></div></div><div class=\"sk-parallel-item\"><div class=\"sk-item\"><div class=\"sk-label-container\"><div class=\"sk-label sk-toggleable\"><input class=\"sk-toggleable__control sk-hidden--visually\" id=\"5873aab0-c125-4f62-b617-50c842940d18\" type=\"checkbox\" ><label for=\"5873aab0-c125-4f62-b617-50c842940d18\" class=\"sk-toggleable__label sk-toggleable__label-arrow\">avgDeathsPerYear</label><div class=\"sk-toggleable__content\"><pre>[&#x27;avgDeathsPerYear&#x27;]</pre></div></div></div><div class=\"sk-serial\"><div class=\"sk-item\"><div class=\"sk-serial\"><div class=\"sk-item\"><div class=\"sk-estimator sk-toggleable\"><input class=\"sk-toggleable__control sk-hidden--visually\" id=\"7df7c979-cd48-41f6-87ae-205a9c069dcd\" type=\"checkbox\" ><label for=\"7df7c979-cd48-41f6-87ae-205a9c069dcd\" class=\"sk-toggleable__label sk-toggleable__label-arrow\">SimpleImputer</label><div class=\"sk-toggleable__content\"><pre>SimpleImputer()</pre></div></div></div><div class=\"sk-item\"><div class=\"sk-estimator sk-toggleable\"><input class=\"sk-toggleable__control sk-hidden--visually\" id=\"48a0cefb-d61f-4a81-aed6-21926faef075\" type=\"checkbox\" ><label for=\"48a0cefb-d61f-4a81-aed6-21926faef075\" class=\"sk-toggleable__label sk-toggleable__label-arrow\">StandardScaler</label><div class=\"sk-toggleable__content\"><pre>StandardScaler()</pre></div></div></div></div></div></div></div></div><div class=\"sk-parallel-item\"><div class=\"sk-item\"><div class=\"sk-label-container\"><div class=\"sk-label sk-toggleable\"><input class=\"sk-toggleable__control sk-hidden--visually\" id=\"1442ec50-407f-4d4e-8ca7-a1f58755467a\" type=\"checkbox\" ><label for=\"1442ec50-407f-4d4e-8ca7-a1f58755467a\" class=\"sk-toggleable__label sk-toggleable__label-arrow\">incidenceRate</label><div class=\"sk-toggleable__content\"><pre>[&#x27;incidenceRate&#x27;]</pre></div></div></div><div class=\"sk-serial\"><div class=\"sk-item\"><div class=\"sk-serial\"><div class=\"sk-item\"><div class=\"sk-estimator sk-toggleable\"><input class=\"sk-toggleable__control sk-hidden--visually\" id=\"77ce2c6a-9c39-42e9-bb69-86bbb4638534\" type=\"checkbox\" ><label for=\"77ce2c6a-9c39-42e9-bb69-86bbb4638534\" class=\"sk-toggleable__label sk-toggleable__label-arrow\">SimpleImputer</label><div class=\"sk-toggleable__content\"><pre>SimpleImputer()</pre></div></div></div><div class=\"sk-item\"><div class=\"sk-estimator sk-toggleable\"><input class=\"sk-toggleable__control sk-hidden--visually\" id=\"263e106e-0c6c-48be-89d1-733fb60322cc\" type=\"checkbox\" ><label for=\"263e106e-0c6c-48be-89d1-733fb60322cc\" class=\"sk-toggleable__label sk-toggleable__label-arrow\">StandardScaler</label><div class=\"sk-toggleable__content\"><pre>StandardScaler()</pre></div></div></div></div></div></div></div></div><div class=\"sk-parallel-item\"><div class=\"sk-item\"><div class=\"sk-label-container\"><div class=\"sk-label sk-toggleable\"><input class=\"sk-toggleable__control sk-hidden--visually\" id=\"9347cfa2-b28f-48c6-9c41-260ac671e7d2\" type=\"checkbox\" ><label for=\"9347cfa2-b28f-48c6-9c41-260ac671e7d2\" class=\"sk-toggleable__label sk-toggleable__label-arrow\">povertyPercent</label><div class=\"sk-toggleable__content\"><pre>[&#x27;povertyPercent&#x27;]</pre></div></div></div><div class=\"sk-serial\"><div class=\"sk-item\"><div class=\"sk-serial\"><div class=\"sk-item\"><div class=\"sk-estimator sk-toggleable\"><input class=\"sk-toggleable__control sk-hidden--visually\" id=\"c224dc80-253e-4227-81b7-6e36b675fd9c\" type=\"checkbox\" ><label for=\"c224dc80-253e-4227-81b7-6e36b675fd9c\" class=\"sk-toggleable__label sk-toggleable__label-arrow\">SimpleImputer</label><div class=\"sk-toggleable__content\"><pre>SimpleImputer()</pre></div></div></div><div class=\"sk-item\"><div class=\"sk-estimator sk-toggleable\"><input class=\"sk-toggleable__control sk-hidden--visually\" id=\"3f4388d7-c9ae-42e9-a7fc-317bea581ea3\" type=\"checkbox\" ><label for=\"3f4388d7-c9ae-42e9-a7fc-317bea581ea3\" class=\"sk-toggleable__label sk-toggleable__label-arrow\">StandardScaler</label><div class=\"sk-toggleable__content\"><pre>StandardScaler()</pre></div></div></div></div></div></div></div></div><div class=\"sk-parallel-item\"><div class=\"sk-item\"><div class=\"sk-label-container\"><div class=\"sk-label sk-toggleable\"><input class=\"sk-toggleable__control sk-hidden--visually\" id=\"04491b06-1069-453a-9ace-501766b8022f\" type=\"checkbox\" ><label for=\"04491b06-1069-453a-9ace-501766b8022f\" class=\"sk-toggleable__label sk-toggleable__label-arrow\">Age</label><div class=\"sk-toggleable__content\"><pre>[&#x27;MedianAge&#x27;, &#x27;MedianAgeMale&#x27;, &#x27;MedianAgeFemale&#x27;]</pre></div></div></div><div class=\"sk-serial\"><div class=\"sk-item\"><div class=\"sk-serial\"><div class=\"sk-item\"><div class=\"sk-estimator sk-toggleable\"><input class=\"sk-toggleable__control sk-hidden--visually\" id=\"15bad40f-7b04-4930-823a-715dfef40b5d\" type=\"checkbox\" ><label for=\"15bad40f-7b04-4930-823a-715dfef40b5d\" class=\"sk-toggleable__label sk-toggleable__label-arrow\">SimpleImputer</label><div class=\"sk-toggleable__content\"><pre>SimpleImputer()</pre></div></div></div><div class=\"sk-item\"><div class=\"sk-estimator sk-toggleable\"><input class=\"sk-toggleable__control sk-hidden--visually\" id=\"c1f884ac-fcf8-40e5-aacd-f839e8508b32\" type=\"checkbox\" ><label for=\"c1f884ac-fcf8-40e5-aacd-f839e8508b32\" class=\"sk-toggleable__label sk-toggleable__label-arrow\">FunctionTransformer</label><div class=\"sk-toggleable__content\"><pre>FunctionTransformer(feature_names_out=&lt;function ratio_name at 0x7fa76c3241f0&gt;,\n",
       "                    func=&lt;function column_ratio at 0x7fa76c30f940&gt;)</pre></div></div></div><div class=\"sk-item\"><div class=\"sk-estimator sk-toggleable\"><input class=\"sk-toggleable__control sk-hidden--visually\" id=\"8043e311-020a-4605-97e0-bcd57beab5e1\" type=\"checkbox\" ><label for=\"8043e311-020a-4605-97e0-bcd57beab5e1\" class=\"sk-toggleable__label sk-toggleable__label-arrow\">StandardScaler</label><div class=\"sk-toggleable__content\"><pre>StandardScaler()</pre></div></div></div></div></div></div></div></div><div class=\"sk-parallel-item\"><div class=\"sk-item\"><div class=\"sk-label-container\"><div class=\"sk-label sk-toggleable\"><input class=\"sk-toggleable__control sk-hidden--visually\" id=\"ece85e55-ce7c-461b-a4ff-94d7a4e8d59b\" type=\"checkbox\" ><label for=\"ece85e55-ce7c-461b-a4ff-94d7a4e8d59b\" class=\"sk-toggleable__label sk-toggleable__label-arrow\">Highschool education</label><div class=\"sk-toggleable__content\"><pre>[&#x27;PctNoHS18_24&#x27;, &#x27;PctHS18_24&#x27;, &#x27;PctHS25_Over&#x27;]</pre></div></div></div><div class=\"sk-serial\"><div class=\"sk-item\"><div class=\"sk-serial\"><div class=\"sk-item\"><div class=\"sk-estimator sk-toggleable\"><input class=\"sk-toggleable__control sk-hidden--visually\" id=\"f131126a-8ded-442a-9b06-5731ee4a6141\" type=\"checkbox\" ><label for=\"f131126a-8ded-442a-9b06-5731ee4a6141\" class=\"sk-toggleable__label sk-toggleable__label-arrow\">SimpleImputer</label><div class=\"sk-toggleable__content\"><pre>SimpleImputer()</pre></div></div></div><div class=\"sk-item\"><div class=\"sk-estimator sk-toggleable\"><input class=\"sk-toggleable__control sk-hidden--visually\" id=\"d25e7c66-f403-4592-8813-58e1a9718778\" type=\"checkbox\" ><label for=\"d25e7c66-f403-4592-8813-58e1a9718778\" class=\"sk-toggleable__label sk-toggleable__label-arrow\">FunctionTransformer</label><div class=\"sk-toggleable__content\"><pre>FunctionTransformer(feature_names_out=&lt;function ratio_name at 0x7fa76c3241f0&gt;,\n",
       "                    func=&lt;function column_ratio at 0x7fa76c30f940&gt;)</pre></div></div></div><div class=\"sk-item\"><div class=\"sk-estimator sk-toggleable\"><input class=\"sk-toggleable__control sk-hidden--visually\" id=\"c32e4edd-830e-4702-8566-1a42ec79bd8a\" type=\"checkbox\" ><label for=\"c32e4edd-830e-4702-8566-1a42ec79bd8a\" class=\"sk-toggleable__label sk-toggleable__label-arrow\">StandardScaler</label><div class=\"sk-toggleable__content\"><pre>StandardScaler()</pre></div></div></div></div></div></div></div></div><div class=\"sk-parallel-item\"><div class=\"sk-item\"><div class=\"sk-label-container\"><div class=\"sk-label sk-toggleable\"><input class=\"sk-toggleable__control sk-hidden--visually\" id=\"cb9ca197-19ae-4bcd-a6a8-978346c07ca6\" type=\"checkbox\" ><label for=\"cb9ca197-19ae-4bcd-a6a8-978346c07ca6\" class=\"sk-toggleable__label sk-toggleable__label-arrow\">College Education</label><div class=\"sk-toggleable__content\"><pre>[&#x27;PctSomeCol18_24&#x27;, &#x27;PctBachDeg18_24&#x27;, &#x27;PctBachDeg25_Over&#x27;]</pre></div></div></div><div class=\"sk-serial\"><div class=\"sk-item\"><div class=\"sk-serial\"><div class=\"sk-item\"><div class=\"sk-estimator sk-toggleable\"><input class=\"sk-toggleable__control sk-hidden--visually\" id=\"73d4c49a-89ef-4e98-89d7-95c84213e0cd\" type=\"checkbox\" ><label for=\"73d4c49a-89ef-4e98-89d7-95c84213e0cd\" class=\"sk-toggleable__label sk-toggleable__label-arrow\">SimpleImputer</label><div class=\"sk-toggleable__content\"><pre>SimpleImputer()</pre></div></div></div><div class=\"sk-item\"><div class=\"sk-estimator sk-toggleable\"><input class=\"sk-toggleable__control sk-hidden--visually\" id=\"55a1d2e3-d83a-4d66-8fbf-06380b573ecb\" type=\"checkbox\" ><label for=\"55a1d2e3-d83a-4d66-8fbf-06380b573ecb\" class=\"sk-toggleable__label sk-toggleable__label-arrow\">FunctionTransformer</label><div class=\"sk-toggleable__content\"><pre>FunctionTransformer(feature_names_out=&lt;function ratio_name at 0x7fa76c3241f0&gt;,\n",
       "                    func=&lt;function column_ratio at 0x7fa76c30f940&gt;)</pre></div></div></div><div class=\"sk-item\"><div class=\"sk-estimator sk-toggleable\"><input class=\"sk-toggleable__control sk-hidden--visually\" id=\"95681156-b4dd-4bbf-b449-91a6539451b5\" type=\"checkbox\" ><label for=\"95681156-b4dd-4bbf-b449-91a6539451b5\" class=\"sk-toggleable__label sk-toggleable__label-arrow\">StandardScaler</label><div class=\"sk-toggleable__content\"><pre>StandardScaler()</pre></div></div></div></div></div></div></div></div><div class=\"sk-parallel-item\"><div class=\"sk-item\"><div class=\"sk-label-container\"><div class=\"sk-label sk-toggleable\"><input class=\"sk-toggleable__control sk-hidden--visually\" id=\"af2f596a-721b-4162-bd08-261e4b250ad0\" type=\"checkbox\" ><label for=\"af2f596a-721b-4162-bd08-261e4b250ad0\" class=\"sk-toggleable__label sk-toggleable__label-arrow\">Employment</label><div class=\"sk-toggleable__content\"><pre>[&#x27;PctEmployed16_Over&#x27;, &#x27;PctUnemployed16_Over&#x27;]</pre></div></div></div><div class=\"sk-serial\"><div class=\"sk-item\"><div class=\"sk-serial\"><div class=\"sk-item\"><div class=\"sk-estimator sk-toggleable\"><input class=\"sk-toggleable__control sk-hidden--visually\" id=\"1cab2ea4-57a2-463b-a773-8951fe98de63\" type=\"checkbox\" ><label for=\"1cab2ea4-57a2-463b-a773-8951fe98de63\" class=\"sk-toggleable__label sk-toggleable__label-arrow\">SimpleImputer</label><div class=\"sk-toggleable__content\"><pre>SimpleImputer()</pre></div></div></div><div class=\"sk-item\"><div class=\"sk-estimator sk-toggleable\"><input class=\"sk-toggleable__control sk-hidden--visually\" id=\"dc848a07-47a0-4b04-9bc2-b3f23bcec08b\" type=\"checkbox\" ><label for=\"dc848a07-47a0-4b04-9bc2-b3f23bcec08b\" class=\"sk-toggleable__label sk-toggleable__label-arrow\">FunctionTransformer</label><div class=\"sk-toggleable__content\"><pre>FunctionTransformer(feature_names_out=&lt;function ratio_name at 0x7fa76c3241f0&gt;,\n",
       "                    func=&lt;function column_ratio at 0x7fa76c30f940&gt;)</pre></div></div></div><div class=\"sk-item\"><div class=\"sk-estimator sk-toggleable\"><input class=\"sk-toggleable__control sk-hidden--visually\" id=\"3f20ca6c-da54-45ad-9321-f5ee59b115fe\" type=\"checkbox\" ><label for=\"3f20ca6c-da54-45ad-9321-f5ee59b115fe\" class=\"sk-toggleable__label sk-toggleable__label-arrow\">StandardScaler</label><div class=\"sk-toggleable__content\"><pre>StandardScaler()</pre></div></div></div></div></div></div></div></div><div class=\"sk-parallel-item\"><div class=\"sk-item\"><div class=\"sk-label-container\"><div class=\"sk-label sk-toggleable\"><input class=\"sk-toggleable__control sk-hidden--visually\" id=\"828209a3-389e-44d1-9432-e00522cb4c56\" type=\"checkbox\" ><label for=\"828209a3-389e-44d1-9432-e00522cb4c56\" class=\"sk-toggleable__label sk-toggleable__label-arrow\">Insurance Coverage</label><div class=\"sk-toggleable__content\"><pre>[&#x27;PctPrivateCoverage&#x27;, &#x27;PctPrivateCoverageAlone&#x27;, &#x27;PctEmpPrivCoverage&#x27;, &#x27;PctPublicCoverage&#x27;, &#x27;PctPublicCoverageAlone&#x27;]</pre></div></div></div><div class=\"sk-serial\"><div class=\"sk-item\"><div class=\"sk-serial\"><div class=\"sk-item\"><div class=\"sk-estimator sk-toggleable\"><input class=\"sk-toggleable__control sk-hidden--visually\" id=\"ca442c3c-3fab-4e72-86b0-2fc173cf9f5f\" type=\"checkbox\" ><label for=\"ca442c3c-3fab-4e72-86b0-2fc173cf9f5f\" class=\"sk-toggleable__label sk-toggleable__label-arrow\">SimpleImputer</label><div class=\"sk-toggleable__content\"><pre>SimpleImputer()</pre></div></div></div><div class=\"sk-item\"><div class=\"sk-estimator sk-toggleable\"><input class=\"sk-toggleable__control sk-hidden--visually\" id=\"7876fb71-3708-46c0-b6b4-8bbab45423f4\" type=\"checkbox\" ><label for=\"7876fb71-3708-46c0-b6b4-8bbab45423f4\" class=\"sk-toggleable__label sk-toggleable__label-arrow\">FunctionTransformer</label><div class=\"sk-toggleable__content\"><pre>FunctionTransformer(feature_names_out=&lt;function ratio_name at 0x7fa76c3241f0&gt;,\n",
       "                    func=&lt;function column_ratio at 0x7fa76c30f940&gt;)</pre></div></div></div><div class=\"sk-item\"><div class=\"sk-estimator sk-toggleable\"><input class=\"sk-toggleable__control sk-hidden--visually\" id=\"4fab0dc1-bcdd-480c-bb7f-82cdd5cc2124\" type=\"checkbox\" ><label for=\"4fab0dc1-bcdd-480c-bb7f-82cdd5cc2124\" class=\"sk-toggleable__label sk-toggleable__label-arrow\">StandardScaler</label><div class=\"sk-toggleable__content\"><pre>StandardScaler()</pre></div></div></div></div></div></div></div></div><div class=\"sk-parallel-item\"><div class=\"sk-item\"><div class=\"sk-label-container\"><div class=\"sk-label sk-toggleable\"><input class=\"sk-toggleable__control sk-hidden--visually\" id=\"84014dab-f959-414b-a024-660b4b37ab3d\" type=\"checkbox\" ><label for=\"84014dab-f959-414b-a024-660b4b37ab3d\" class=\"sk-toggleable__label sk-toggleable__label-arrow\">Race</label><div class=\"sk-toggleable__content\"><pre>[&#x27;PctWhite&#x27;, &#x27;PctBlack&#x27;, &#x27;PctAsian&#x27;, &#x27;PctOtherRace&#x27;]</pre></div></div></div><div class=\"sk-serial\"><div class=\"sk-item\"><div class=\"sk-serial\"><div class=\"sk-item\"><div class=\"sk-estimator sk-toggleable\"><input class=\"sk-toggleable__control sk-hidden--visually\" id=\"6cc962e5-7e01-40dc-bd27-e3933c625e71\" type=\"checkbox\" ><label for=\"6cc962e5-7e01-40dc-bd27-e3933c625e71\" class=\"sk-toggleable__label sk-toggleable__label-arrow\">SimpleImputer</label><div class=\"sk-toggleable__content\"><pre>SimpleImputer()</pre></div></div></div><div class=\"sk-item\"><div class=\"sk-estimator sk-toggleable\"><input class=\"sk-toggleable__control sk-hidden--visually\" id=\"dffc1487-4bd8-48e6-a5f9-33a1b78d22ea\" type=\"checkbox\" ><label for=\"dffc1487-4bd8-48e6-a5f9-33a1b78d22ea\" class=\"sk-toggleable__label sk-toggleable__label-arrow\">FunctionTransformer</label><div class=\"sk-toggleable__content\"><pre>FunctionTransformer(feature_names_out=&lt;function ratio_name at 0x7fa76c3241f0&gt;,\n",
       "                    func=&lt;function column_ratio at 0x7fa76c30f940&gt;)</pre></div></div></div><div class=\"sk-item\"><div class=\"sk-estimator sk-toggleable\"><input class=\"sk-toggleable__control sk-hidden--visually\" id=\"c164c622-38c3-4430-ae76-457ba99223ee\" type=\"checkbox\" ><label for=\"c164c622-38c3-4430-ae76-457ba99223ee\" class=\"sk-toggleable__label sk-toggleable__label-arrow\">StandardScaler</label><div class=\"sk-toggleable__content\"><pre>StandardScaler()</pre></div></div></div></div></div></div></div></div><div class=\"sk-parallel-item\"><div class=\"sk-item\"><div class=\"sk-label-container\"><div class=\"sk-label sk-toggleable\"><input class=\"sk-toggleable__control sk-hidden--visually\" id=\"3ae32f57-1e77-4e17-b9a8-7610fb9065dc\" type=\"checkbox\" ><label for=\"3ae32f57-1e77-4e17-b9a8-7610fb9065dc\" class=\"sk-toggleable__label sk-toggleable__label-arrow\">BirthRate</label><div class=\"sk-toggleable__content\"><pre>[&#x27;BirthRate&#x27;]</pre></div></div></div><div class=\"sk-serial\"><div class=\"sk-item\"><div class=\"sk-serial\"><div class=\"sk-item\"><div class=\"sk-estimator sk-toggleable\"><input class=\"sk-toggleable__control sk-hidden--visually\" id=\"c6212cae-a60b-4225-89b9-98aae2779397\" type=\"checkbox\" ><label for=\"c6212cae-a60b-4225-89b9-98aae2779397\" class=\"sk-toggleable__label sk-toggleable__label-arrow\">SimpleImputer</label><div class=\"sk-toggleable__content\"><pre>SimpleImputer()</pre></div></div></div><div class=\"sk-item\"><div class=\"sk-estimator sk-toggleable\"><input class=\"sk-toggleable__control sk-hidden--visually\" id=\"41c65ed5-3593-458c-976d-da7a4a2cb681\" type=\"checkbox\" ><label for=\"41c65ed5-3593-458c-976d-da7a4a2cb681\" class=\"sk-toggleable__label sk-toggleable__label-arrow\">StandardScaler</label><div class=\"sk-toggleable__content\"><pre>StandardScaler()</pre></div></div></div></div></div></div></div></div><div class=\"sk-parallel-item\"><div class=\"sk-item\"><div class=\"sk-label-container\"><div class=\"sk-label sk-toggleable\"><input class=\"sk-toggleable__control sk-hidden--visually\" id=\"cfe30885-fa38-4368-b5c2-b430359d2c6a\" type=\"checkbox\" ><label for=\"cfe30885-fa38-4368-b5c2-b430359d2c6a\" class=\"sk-toggleable__label sk-toggleable__label-arrow\">Geography</label><div class=\"sk-toggleable__content\"><pre>&lt;sklearn.compose._column_transformer.make_column_selector object at 0x7fa76f6bd370&gt;</pre></div></div></div><div class=\"sk-serial\"><div class=\"sk-item\"><div class=\"sk-serial\"><div class=\"sk-item\"><div class=\"sk-estimator sk-toggleable\"><input class=\"sk-toggleable__control sk-hidden--visually\" id=\"19927d49-f6a0-4ebe-8fb8-429a6bcd23ee\" type=\"checkbox\" ><label for=\"19927d49-f6a0-4ebe-8fb8-429a6bcd23ee\" class=\"sk-toggleable__label sk-toggleable__label-arrow\">SimpleImputer</label><div class=\"sk-toggleable__content\"><pre>SimpleImputer(strategy=&#x27;most_frequent&#x27;)</pre></div></div></div><div class=\"sk-item\"><div class=\"sk-estimator sk-toggleable\"><input class=\"sk-toggleable__control sk-hidden--visually\" id=\"1bc9f908-9cc3-47bc-b683-159c372136cb\" type=\"checkbox\" ><label for=\"1bc9f908-9cc3-47bc-b683-159c372136cb\" class=\"sk-toggleable__label sk-toggleable__label-arrow\">OneHotEncoder</label><div class=\"sk-toggleable__content\"><pre>OneHotEncoder(handle_unknown=&#x27;ignore&#x27;)</pre></div></div></div></div></div></div></div></div><div class=\"sk-parallel-item\"><div class=\"sk-item\"><div class=\"sk-label-container\"><div class=\"sk-label sk-toggleable\"><input class=\"sk-toggleable__control sk-hidden--visually\" id=\"f16c4b01-0f48-4070-9b7f-00c2d2e98684\" type=\"checkbox\" ><label for=\"f16c4b01-0f48-4070-9b7f-00c2d2e98684\" class=\"sk-toggleable__label sk-toggleable__label-arrow\">remainder</label><div class=\"sk-toggleable__content\"><pre>[]</pre></div></div></div><div class=\"sk-serial\"><div class=\"sk-item\"><div class=\"sk-serial\"><div class=\"sk-item\"><div class=\"sk-estimator sk-toggleable\"><input class=\"sk-toggleable__control sk-hidden--visually\" id=\"e3d7dcd0-e224-4779-a9ad-e5cca1df9a7a\" type=\"checkbox\" ><label for=\"e3d7dcd0-e224-4779-a9ad-e5cca1df9a7a\" class=\"sk-toggleable__label sk-toggleable__label-arrow\">SimpleImputer</label><div class=\"sk-toggleable__content\"><pre>SimpleImputer()</pre></div></div></div><div class=\"sk-item\"><div class=\"sk-estimator sk-toggleable\"><input class=\"sk-toggleable__control sk-hidden--visually\" id=\"e7051e98-c7d2-45f7-8787-5bf4c5102fb6\" type=\"checkbox\" ><label for=\"e7051e98-c7d2-45f7-8787-5bf4c5102fb6\" class=\"sk-toggleable__label sk-toggleable__label-arrow\">StandardScaler</label><div class=\"sk-toggleable__content\"><pre>StandardScaler()</pre></div></div></div></div></div></div></div></div></div></div><div class=\"sk-item\"><div class=\"sk-estimator sk-toggleable\"><input class=\"sk-toggleable__control sk-hidden--visually\" id=\"df8e94db-7185-43c2-9d95-b21d18ec7e64\" type=\"checkbox\" ><label for=\"df8e94db-7185-43c2-9d95-b21d18ec7e64\" class=\"sk-toggleable__label sk-toggleable__label-arrow\">ElasticNet</label><div class=\"sk-toggleable__content\"><pre>ElasticNet(random_state=42)</pre></div></div></div></div></div></div></div>"
      ],
      "text/plain": [
       "Pipeline(steps=[('columntransformer',\n",
       "                 ColumnTransformer(remainder=Pipeline(steps=[('simpleimputer',\n",
       "                                                              SimpleImputer()),\n",
       "                                                             ('standardscaler',\n",
       "                                                              StandardScaler())]),\n",
       "                                   transformers=[('avgAnnCount',\n",
       "                                                  Pipeline(steps=[('simpleimputer',\n",
       "                                                                   SimpleImputer()),\n",
       "                                                                  ('standardscaler',\n",
       "                                                                   StandardScaler())]),\n",
       "                                                  ['avgAnnCount']),\n",
       "                                                 ('avgDeathsPerYear',\n",
       "                                                  Pipeline(steps=[('simpleimputer',\n",
       "                                                                   SimpleImpu...\n",
       "                                                  Pipeline(steps=[('simpleimputer',\n",
       "                                                                   SimpleImputer()),\n",
       "                                                                  ('standardscaler',\n",
       "                                                                   StandardScaler())]),\n",
       "                                                  ['BirthRate']),\n",
       "                                                 ('Geography',\n",
       "                                                  Pipeline(steps=[('simpleimputer',\n",
       "                                                                   SimpleImputer(strategy='most_frequent')),\n",
       "                                                                  ('onehotencoder',\n",
       "                                                                   OneHotEncoder(handle_unknown='ignore'))]),\n",
       "                                                  <sklearn.compose._column_transformer.make_column_selector object at 0x7fa76f6bd370>)])),\n",
       "                ('elasticnet', ElasticNet(random_state=42))])"
      ]
     },
     "execution_count": 72,
     "metadata": {},
     "output_type": "execute_result"
    }
   ],
   "source": [
    "from sklearn.linear_model import ElasticNet\n",
    "\n",
    "ela_reg = make_pipeline(preprocessing, ElasticNet(random_state=42))\n",
    "ela_reg.fit(cancer, cancer_labels)"
   ]
  },
  {
   "cell_type": "code",
   "execution_count": 77,
   "metadata": {
    "colab": {
     "base_uri": "https://localhost:8080/"
    },
    "id": "Iq2PwS5DU8Hy",
    "outputId": "746e9877-ca11-442d-f6e9-459c7e945672",
    "slideshow": {
     "slide_type": "slide"
    }
   },
   "outputs": [
    {
     "data": {
      "text/plain": [
       "array([181.02945001, 178.06900633, 148.87047476, 202.48336239,\n",
       "       167.004722  ])"
      ]
     },
     "execution_count": 77,
     "metadata": {},
     "output_type": "execute_result"
    }
   ],
   "source": [
    "cancer_predictions = ela_reg.predict(cancer)\n",
    "cancer_predictions[:5]"
   ]
  },
  {
   "cell_type": "code",
   "execution_count": 78,
   "metadata": {
    "colab": {
     "base_uri": "https://localhost:8080/"
    },
    "id": "0JSNs8qxVBIf",
    "outputId": "b6b6d7f6-52c1-4e57-a593-07f18d1b3d6f"
   },
   "outputs": [
    {
     "data": {
      "text/plain": [
       "693     181.9\n",
       "635     201.4\n",
       "926     138.7\n",
       "2449    196.2\n",
       "2488    146.8\n",
       "Name: TARGET_deathRate, dtype: float64"
      ]
     },
     "execution_count": 78,
     "metadata": {},
     "output_type": "execute_result"
    }
   ],
   "source": [
    "cancer_labels.iloc[:5]"
   ]
  },
  {
   "cell_type": "code",
   "execution_count": 79,
   "metadata": {
    "colab": {
     "base_uri": "https://localhost:8080/"
    },
    "id": "fSJV6PZ-VCpF",
    "outputId": "049a35bb-18bb-43b6-e719-c8ddedde8189",
    "slideshow": {
     "slide_type": "slide"
    }
   },
   "outputs": [
    {
     "data": {
      "text/plain": [
       "20.237811344514615"
      ]
     },
     "execution_count": 79,
     "metadata": {},
     "output_type": "execute_result"
    }
   ],
   "source": [
    "ela_rmse = mean_squared_error(cancer_labels, cancer_predictions,\n",
    "                              squared=False)\n",
    "ela_rmse"
   ]
  },
  {
   "cell_type": "code",
   "execution_count": 80,
   "metadata": {
    "colab": {
     "base_uri": "https://localhost:8080/"
    },
    "id": "kn4ySiNdE-Od",
    "outputId": "c99bf53f-a7dc-4af8-f02e-351b29cf397e"
   },
   "outputs": [
    {
     "data": {
      "text/plain": [
       "count    10.000000\n",
       "mean     20.333152\n",
       "std       0.991903\n",
       "min      18.433179\n",
       "25%      19.794009\n",
       "50%      20.474864\n",
       "75%      21.198182\n",
       "max      21.413435\n",
       "dtype: float64"
      ]
     },
     "execution_count": 80,
     "metadata": {},
     "output_type": "execute_result"
    }
   ],
   "source": [
    "from sklearn.model_selection import cross_val_score\n",
    "\n",
    "cross_score = -cross_val_score(ela_reg, cancer, cancer_labels,\n",
    "                              scoring=\"neg_root_mean_squared_error\", cv=10)\n",
    "\n",
    "pd.Series(cross_score).describe()"
   ]
  },
  {
   "cell_type": "markdown",
   "metadata": {
    "id": "YibiVGsHVWAl",
    "slideshow": {
     "slide_type": "slide"
    }
   },
   "source": [
    "# Decision to use the Elastic Net Regression"
   ]
  },
  {
   "cell_type": "markdown",
   "metadata": {
    "id": "rIoZaBp0VqTF"
   },
   "source": [
    "## Fine Tuning using gridsearch"
   ]
  },
  {
   "cell_type": "markdown",
   "metadata": {
    "id": "6Pd1aGmJFU9t"
   },
   "source": [
    "The first thing I need to do is to fine tune the Elastic Net model now since I have decided that is the model I am going to use. "
   ]
  },
  {
   "cell_type": "markdown",
   "metadata": {
    "id": "Xfu36J2hFfdv",
    "slideshow": {
     "slide_type": "slide"
    }
   },
   "source": [
    "So to do this, I decide to use the Grid Search package which will find the best set of hyperparameter settins using my RMSE performance measure to rank the different parameter configurations. "
   ]
  },
  {
   "cell_type": "code",
   "execution_count": 81,
   "metadata": {
    "colab": {
     "base_uri": "https://localhost:8080/",
     "height": 317
    },
    "collapsed": true,
    "id": "zNMzc9MSVVkf",
    "outputId": "061c90f1-a533-442a-b222-331264285852",
    "slideshow": {
     "slide_type": "-"
    }
   },
   "outputs": [
    {
     "data": {
      "text/html": [
       "<style>#sk-9e28c009-1f35-4d2a-a24b-2739cbaa025b {color: black;background-color: white;}#sk-9e28c009-1f35-4d2a-a24b-2739cbaa025b pre{padding: 0;}#sk-9e28c009-1f35-4d2a-a24b-2739cbaa025b div.sk-toggleable {background-color: white;}#sk-9e28c009-1f35-4d2a-a24b-2739cbaa025b label.sk-toggleable__label {cursor: pointer;display: block;width: 100%;margin-bottom: 0;padding: 0.3em;box-sizing: border-box;text-align: center;}#sk-9e28c009-1f35-4d2a-a24b-2739cbaa025b label.sk-toggleable__label-arrow:before {content: \"▸\";float: left;margin-right: 0.25em;color: #696969;}#sk-9e28c009-1f35-4d2a-a24b-2739cbaa025b label.sk-toggleable__label-arrow:hover:before {color: black;}#sk-9e28c009-1f35-4d2a-a24b-2739cbaa025b div.sk-estimator:hover label.sk-toggleable__label-arrow:before {color: black;}#sk-9e28c009-1f35-4d2a-a24b-2739cbaa025b div.sk-toggleable__content {max-height: 0;max-width: 0;overflow: hidden;text-align: left;background-color: #f0f8ff;}#sk-9e28c009-1f35-4d2a-a24b-2739cbaa025b div.sk-toggleable__content pre {margin: 0.2em;color: black;border-radius: 0.25em;background-color: #f0f8ff;}#sk-9e28c009-1f35-4d2a-a24b-2739cbaa025b input.sk-toggleable__control:checked~div.sk-toggleable__content {max-height: 200px;max-width: 100%;overflow: auto;}#sk-9e28c009-1f35-4d2a-a24b-2739cbaa025b input.sk-toggleable__control:checked~label.sk-toggleable__label-arrow:before {content: \"▾\";}#sk-9e28c009-1f35-4d2a-a24b-2739cbaa025b div.sk-estimator input.sk-toggleable__control:checked~label.sk-toggleable__label {background-color: #d4ebff;}#sk-9e28c009-1f35-4d2a-a24b-2739cbaa025b div.sk-label input.sk-toggleable__control:checked~label.sk-toggleable__label {background-color: #d4ebff;}#sk-9e28c009-1f35-4d2a-a24b-2739cbaa025b input.sk-hidden--visually {border: 0;clip: rect(1px 1px 1px 1px);clip: rect(1px, 1px, 1px, 1px);height: 1px;margin: -1px;overflow: hidden;padding: 0;position: absolute;width: 1px;}#sk-9e28c009-1f35-4d2a-a24b-2739cbaa025b div.sk-estimator {font-family: monospace;background-color: #f0f8ff;border: 1px dotted black;border-radius: 0.25em;box-sizing: border-box;margin-bottom: 0.5em;}#sk-9e28c009-1f35-4d2a-a24b-2739cbaa025b div.sk-estimator:hover {background-color: #d4ebff;}#sk-9e28c009-1f35-4d2a-a24b-2739cbaa025b div.sk-parallel-item::after {content: \"\";width: 100%;border-bottom: 1px solid gray;flex-grow: 1;}#sk-9e28c009-1f35-4d2a-a24b-2739cbaa025b div.sk-label:hover label.sk-toggleable__label {background-color: #d4ebff;}#sk-9e28c009-1f35-4d2a-a24b-2739cbaa025b div.sk-serial::before {content: \"\";position: absolute;border-left: 1px solid gray;box-sizing: border-box;top: 2em;bottom: 0;left: 50%;}#sk-9e28c009-1f35-4d2a-a24b-2739cbaa025b div.sk-serial {display: flex;flex-direction: column;align-items: center;background-color: white;padding-right: 0.2em;padding-left: 0.2em;}#sk-9e28c009-1f35-4d2a-a24b-2739cbaa025b div.sk-item {z-index: 1;}#sk-9e28c009-1f35-4d2a-a24b-2739cbaa025b div.sk-parallel {display: flex;align-items: stretch;justify-content: center;background-color: white;}#sk-9e28c009-1f35-4d2a-a24b-2739cbaa025b div.sk-parallel::before {content: \"\";position: absolute;border-left: 1px solid gray;box-sizing: border-box;top: 2em;bottom: 0;left: 50%;}#sk-9e28c009-1f35-4d2a-a24b-2739cbaa025b div.sk-parallel-item {display: flex;flex-direction: column;position: relative;background-color: white;}#sk-9e28c009-1f35-4d2a-a24b-2739cbaa025b div.sk-parallel-item:first-child::after {align-self: flex-end;width: 50%;}#sk-9e28c009-1f35-4d2a-a24b-2739cbaa025b div.sk-parallel-item:last-child::after {align-self: flex-start;width: 50%;}#sk-9e28c009-1f35-4d2a-a24b-2739cbaa025b div.sk-parallel-item:only-child::after {width: 0;}#sk-9e28c009-1f35-4d2a-a24b-2739cbaa025b div.sk-dashed-wrapped {border: 1px dashed gray;margin: 0 0.4em 0.5em 0.4em;box-sizing: border-box;padding-bottom: 0.4em;background-color: white;position: relative;}#sk-9e28c009-1f35-4d2a-a24b-2739cbaa025b div.sk-label label {font-family: monospace;font-weight: bold;background-color: white;display: inline-block;line-height: 1.2em;}#sk-9e28c009-1f35-4d2a-a24b-2739cbaa025b div.sk-label-container {position: relative;z-index: 2;text-align: center;}#sk-9e28c009-1f35-4d2a-a24b-2739cbaa025b div.sk-container {/* jupyter's `normalize.less` sets `[hidden] { display: none; }` but bootstrap.min.css set `[hidden] { display: none !important; }` so we also need the `!important` here to be able to override the default hidden behavior on the sphinx rendered scikit-learn.org. See: https://github.com/scikit-learn/scikit-learn/issues/21755 */display: inline-block !important;position: relative;}#sk-9e28c009-1f35-4d2a-a24b-2739cbaa025b div.sk-text-repr-fallback {display: none;}</style><div id=\"sk-9e28c009-1f35-4d2a-a24b-2739cbaa025b\" class=\"sk-top-container\"><div class=\"sk-text-repr-fallback\"><pre>GridSearchCV(cv=3,\n",
       "             estimator=Pipeline(steps=[(&#x27;preprocessing&#x27;,\n",
       "                                        ColumnTransformer(remainder=Pipeline(steps=[(&#x27;simpleimputer&#x27;,\n",
       "                                                                                     SimpleImputer()),\n",
       "                                                                                    (&#x27;standardscaler&#x27;,\n",
       "                                                                                     StandardScaler())]),\n",
       "                                                          transformers=[(&#x27;avgAnnCount&#x27;,\n",
       "                                                                         Pipeline(steps=[(&#x27;simpleimputer&#x27;,\n",
       "                                                                                          SimpleImputer()),\n",
       "                                                                                         (&#x27;standardscaler&#x27;,\n",
       "                                                                                          StandardScaler())]),\n",
       "                                                                         [&#x27;avgAnnCount&#x27;]),\n",
       "                                                                        (&#x27;avgDeathsPerYear&#x27;,\n",
       "                                                                         Pipeline(steps=[(&#x27;s...\n",
       "                                                                                          OneHotEncoder(handle_unknown=&#x27;ignore&#x27;))]),\n",
       "                                                                         &lt;sklearn.compose._column_transformer.make_column_selector object at 0x7fa76f6bd370&gt;)])),\n",
       "                                       (&#x27;Elastic&#x27;,\n",
       "                                        ElasticNet(random_state=42))]),\n",
       "             param_grid=[{&#x27;Elastic__alpha&#x27;: [0.0001, 0.001, 0.01, 0.1, 0.3, 0.5,\n",
       "                                             0.7, 1],\n",
       "                          &#x27;Elastic__fit_intercept&#x27;: [True, False],\n",
       "                          &#x27;Elastic__l1_ratio&#x27;: [0.1, 0.5, 0.9],\n",
       "                          &#x27;Elastic__normalize&#x27;: [True, False]}],\n",
       "             scoring=&#x27;neg_root_mean_squared_error&#x27;)</pre><b>Please rerun this cell to show the HTML repr or trust the notebook.</b></div><div class=\"sk-container\" hidden><div class=\"sk-item sk-dashed-wrapped\"><div class=\"sk-label-container\"><div class=\"sk-label sk-toggleable\"><input class=\"sk-toggleable__control sk-hidden--visually\" id=\"3765ecc6-5042-4856-af73-8cbb5ee7c85f\" type=\"checkbox\" ><label for=\"3765ecc6-5042-4856-af73-8cbb5ee7c85f\" class=\"sk-toggleable__label sk-toggleable__label-arrow\">GridSearchCV</label><div class=\"sk-toggleable__content\"><pre>GridSearchCV(cv=3,\n",
       "             estimator=Pipeline(steps=[(&#x27;preprocessing&#x27;,\n",
       "                                        ColumnTransformer(remainder=Pipeline(steps=[(&#x27;simpleimputer&#x27;,\n",
       "                                                                                     SimpleImputer()),\n",
       "                                                                                    (&#x27;standardscaler&#x27;,\n",
       "                                                                                     StandardScaler())]),\n",
       "                                                          transformers=[(&#x27;avgAnnCount&#x27;,\n",
       "                                                                         Pipeline(steps=[(&#x27;simpleimputer&#x27;,\n",
       "                                                                                          SimpleImputer()),\n",
       "                                                                                         (&#x27;standardscaler&#x27;,\n",
       "                                                                                          StandardScaler())]),\n",
       "                                                                         [&#x27;avgAnnCount&#x27;]),\n",
       "                                                                        (&#x27;avgDeathsPerYear&#x27;,\n",
       "                                                                         Pipeline(steps=[(&#x27;s...\n",
       "                                                                                          OneHotEncoder(handle_unknown=&#x27;ignore&#x27;))]),\n",
       "                                                                         &lt;sklearn.compose._column_transformer.make_column_selector object at 0x7fa76f6bd370&gt;)])),\n",
       "                                       (&#x27;Elastic&#x27;,\n",
       "                                        ElasticNet(random_state=42))]),\n",
       "             param_grid=[{&#x27;Elastic__alpha&#x27;: [0.0001, 0.001, 0.01, 0.1, 0.3, 0.5,\n",
       "                                             0.7, 1],\n",
       "                          &#x27;Elastic__fit_intercept&#x27;: [True, False],\n",
       "                          &#x27;Elastic__l1_ratio&#x27;: [0.1, 0.5, 0.9],\n",
       "                          &#x27;Elastic__normalize&#x27;: [True, False]}],\n",
       "             scoring=&#x27;neg_root_mean_squared_error&#x27;)</pre></div></div></div><div class=\"sk-parallel\"><div class=\"sk-parallel-item\"><div class=\"sk-item\"><div class=\"sk-serial\"><div class=\"sk-item\"><div class=\"sk-serial\"><div class=\"sk-item sk-dashed-wrapped\"><div class=\"sk-label-container\"><div class=\"sk-label sk-toggleable\"><input class=\"sk-toggleable__control sk-hidden--visually\" id=\"31c6d618-52d3-471b-8444-6781a0c89b99\" type=\"checkbox\" ><label for=\"31c6d618-52d3-471b-8444-6781a0c89b99\" class=\"sk-toggleable__label sk-toggleable__label-arrow\">preprocessing: ColumnTransformer</label><div class=\"sk-toggleable__content\"><pre>ColumnTransformer(remainder=Pipeline(steps=[(&#x27;simpleimputer&#x27;, SimpleImputer()),\n",
       "                                            (&#x27;standardscaler&#x27;,\n",
       "                                             StandardScaler())]),\n",
       "                  transformers=[(&#x27;avgAnnCount&#x27;,\n",
       "                                 Pipeline(steps=[(&#x27;simpleimputer&#x27;,\n",
       "                                                  SimpleImputer()),\n",
       "                                                 (&#x27;standardscaler&#x27;,\n",
       "                                                  StandardScaler())]),\n",
       "                                 [&#x27;avgAnnCount&#x27;]),\n",
       "                                (&#x27;avgDeathsPerYear&#x27;,\n",
       "                                 Pipeline(steps=[(&#x27;simpleimputer&#x27;,\n",
       "                                                  SimpleImputer()),\n",
       "                                                 (&#x27;standardscaler&#x27;,\n",
       "                                                  StandardScal...\n",
       "                                  &#x27;PctOtherRace&#x27;]),\n",
       "                                (&#x27;BirthRate&#x27;,\n",
       "                                 Pipeline(steps=[(&#x27;simpleimputer&#x27;,\n",
       "                                                  SimpleImputer()),\n",
       "                                                 (&#x27;standardscaler&#x27;,\n",
       "                                                  StandardScaler())]),\n",
       "                                 [&#x27;BirthRate&#x27;]),\n",
       "                                (&#x27;Geography&#x27;,\n",
       "                                 Pipeline(steps=[(&#x27;simpleimputer&#x27;,\n",
       "                                                  SimpleImputer(strategy=&#x27;most_frequent&#x27;)),\n",
       "                                                 (&#x27;onehotencoder&#x27;,\n",
       "                                                  OneHotEncoder(handle_unknown=&#x27;ignore&#x27;))]),\n",
       "                                 &lt;sklearn.compose._column_transformer.make_column_selector object at 0x7fa76f6bd370&gt;)])</pre></div></div></div><div class=\"sk-parallel\"><div class=\"sk-parallel-item\"><div class=\"sk-item\"><div class=\"sk-label-container\"><div class=\"sk-label sk-toggleable\"><input class=\"sk-toggleable__control sk-hidden--visually\" id=\"851bb516-83c2-471c-be4f-b523ccc1287b\" type=\"checkbox\" ><label for=\"851bb516-83c2-471c-be4f-b523ccc1287b\" class=\"sk-toggleable__label sk-toggleable__label-arrow\">avgAnnCount</label><div class=\"sk-toggleable__content\"><pre>[&#x27;avgAnnCount&#x27;]</pre></div></div></div><div class=\"sk-serial\"><div class=\"sk-item\"><div class=\"sk-serial\"><div class=\"sk-item\"><div class=\"sk-estimator sk-toggleable\"><input class=\"sk-toggleable__control sk-hidden--visually\" id=\"331c839c-df25-426e-98dd-ba9cf3da5870\" type=\"checkbox\" ><label for=\"331c839c-df25-426e-98dd-ba9cf3da5870\" class=\"sk-toggleable__label sk-toggleable__label-arrow\">SimpleImputer</label><div class=\"sk-toggleable__content\"><pre>SimpleImputer()</pre></div></div></div><div class=\"sk-item\"><div class=\"sk-estimator sk-toggleable\"><input class=\"sk-toggleable__control sk-hidden--visually\" id=\"dd026dbe-de08-49ca-a613-77d362f2b690\" type=\"checkbox\" ><label for=\"dd026dbe-de08-49ca-a613-77d362f2b690\" class=\"sk-toggleable__label sk-toggleable__label-arrow\">StandardScaler</label><div class=\"sk-toggleable__content\"><pre>StandardScaler()</pre></div></div></div></div></div></div></div></div><div class=\"sk-parallel-item\"><div class=\"sk-item\"><div class=\"sk-label-container\"><div class=\"sk-label sk-toggleable\"><input class=\"sk-toggleable__control sk-hidden--visually\" id=\"7b9a3e0e-fb0a-4b0d-baea-d05c4722e962\" type=\"checkbox\" ><label for=\"7b9a3e0e-fb0a-4b0d-baea-d05c4722e962\" class=\"sk-toggleable__label sk-toggleable__label-arrow\">avgDeathsPerYear</label><div class=\"sk-toggleable__content\"><pre>[&#x27;avgDeathsPerYear&#x27;]</pre></div></div></div><div class=\"sk-serial\"><div class=\"sk-item\"><div class=\"sk-serial\"><div class=\"sk-item\"><div class=\"sk-estimator sk-toggleable\"><input class=\"sk-toggleable__control sk-hidden--visually\" id=\"0a4a132c-426b-4fd2-915a-f9eca776f3ae\" type=\"checkbox\" ><label for=\"0a4a132c-426b-4fd2-915a-f9eca776f3ae\" class=\"sk-toggleable__label sk-toggleable__label-arrow\">SimpleImputer</label><div class=\"sk-toggleable__content\"><pre>SimpleImputer()</pre></div></div></div><div class=\"sk-item\"><div class=\"sk-estimator sk-toggleable\"><input class=\"sk-toggleable__control sk-hidden--visually\" id=\"35897306-c697-4557-92cf-213d04dc5c4f\" type=\"checkbox\" ><label for=\"35897306-c697-4557-92cf-213d04dc5c4f\" class=\"sk-toggleable__label sk-toggleable__label-arrow\">StandardScaler</label><div class=\"sk-toggleable__content\"><pre>StandardScaler()</pre></div></div></div></div></div></div></div></div><div class=\"sk-parallel-item\"><div class=\"sk-item\"><div class=\"sk-label-container\"><div class=\"sk-label sk-toggleable\"><input class=\"sk-toggleable__control sk-hidden--visually\" id=\"5abcef17-057d-454b-b659-a3d654115926\" type=\"checkbox\" ><label for=\"5abcef17-057d-454b-b659-a3d654115926\" class=\"sk-toggleable__label sk-toggleable__label-arrow\">incidenceRate</label><div class=\"sk-toggleable__content\"><pre>[&#x27;incidenceRate&#x27;]</pre></div></div></div><div class=\"sk-serial\"><div class=\"sk-item\"><div class=\"sk-serial\"><div class=\"sk-item\"><div class=\"sk-estimator sk-toggleable\"><input class=\"sk-toggleable__control sk-hidden--visually\" id=\"62749654-53b1-45bd-bc72-bb35eced34f1\" type=\"checkbox\" ><label for=\"62749654-53b1-45bd-bc72-bb35eced34f1\" class=\"sk-toggleable__label sk-toggleable__label-arrow\">SimpleImputer</label><div class=\"sk-toggleable__content\"><pre>SimpleImputer()</pre></div></div></div><div class=\"sk-item\"><div class=\"sk-estimator sk-toggleable\"><input class=\"sk-toggleable__control sk-hidden--visually\" id=\"ea4f3a75-304b-433c-a1de-04f8301e0b5b\" type=\"checkbox\" ><label for=\"ea4f3a75-304b-433c-a1de-04f8301e0b5b\" class=\"sk-toggleable__label sk-toggleable__label-arrow\">StandardScaler</label><div class=\"sk-toggleable__content\"><pre>StandardScaler()</pre></div></div></div></div></div></div></div></div><div class=\"sk-parallel-item\"><div class=\"sk-item\"><div class=\"sk-label-container\"><div class=\"sk-label sk-toggleable\"><input class=\"sk-toggleable__control sk-hidden--visually\" id=\"3b5448b7-0246-4a0a-aaf9-4df1678d2bf1\" type=\"checkbox\" ><label for=\"3b5448b7-0246-4a0a-aaf9-4df1678d2bf1\" class=\"sk-toggleable__label sk-toggleable__label-arrow\">povertyPercent</label><div class=\"sk-toggleable__content\"><pre>[&#x27;povertyPercent&#x27;]</pre></div></div></div><div class=\"sk-serial\"><div class=\"sk-item\"><div class=\"sk-serial\"><div class=\"sk-item\"><div class=\"sk-estimator sk-toggleable\"><input class=\"sk-toggleable__control sk-hidden--visually\" id=\"2682b201-18d1-41d6-868e-2b87632d3316\" type=\"checkbox\" ><label for=\"2682b201-18d1-41d6-868e-2b87632d3316\" class=\"sk-toggleable__label sk-toggleable__label-arrow\">SimpleImputer</label><div class=\"sk-toggleable__content\"><pre>SimpleImputer()</pre></div></div></div><div class=\"sk-item\"><div class=\"sk-estimator sk-toggleable\"><input class=\"sk-toggleable__control sk-hidden--visually\" id=\"cd89e07b-0994-42fb-8d86-31ee5712da8f\" type=\"checkbox\" ><label for=\"cd89e07b-0994-42fb-8d86-31ee5712da8f\" class=\"sk-toggleable__label sk-toggleable__label-arrow\">StandardScaler</label><div class=\"sk-toggleable__content\"><pre>StandardScaler()</pre></div></div></div></div></div></div></div></div><div class=\"sk-parallel-item\"><div class=\"sk-item\"><div class=\"sk-label-container\"><div class=\"sk-label sk-toggleable\"><input class=\"sk-toggleable__control sk-hidden--visually\" id=\"007c8b25-7f7d-485c-ad83-496ad407ede9\" type=\"checkbox\" ><label for=\"007c8b25-7f7d-485c-ad83-496ad407ede9\" class=\"sk-toggleable__label sk-toggleable__label-arrow\">Age</label><div class=\"sk-toggleable__content\"><pre>[&#x27;MedianAge&#x27;, &#x27;MedianAgeMale&#x27;, &#x27;MedianAgeFemale&#x27;]</pre></div></div></div><div class=\"sk-serial\"><div class=\"sk-item\"><div class=\"sk-serial\"><div class=\"sk-item\"><div class=\"sk-estimator sk-toggleable\"><input class=\"sk-toggleable__control sk-hidden--visually\" id=\"b77a87f0-eb06-4725-9844-99684e7bf8e2\" type=\"checkbox\" ><label for=\"b77a87f0-eb06-4725-9844-99684e7bf8e2\" class=\"sk-toggleable__label sk-toggleable__label-arrow\">SimpleImputer</label><div class=\"sk-toggleable__content\"><pre>SimpleImputer()</pre></div></div></div><div class=\"sk-item\"><div class=\"sk-estimator sk-toggleable\"><input class=\"sk-toggleable__control sk-hidden--visually\" id=\"db27ad12-daf8-466a-ba33-10750195671f\" type=\"checkbox\" ><label for=\"db27ad12-daf8-466a-ba33-10750195671f\" class=\"sk-toggleable__label sk-toggleable__label-arrow\">FunctionTransformer</label><div class=\"sk-toggleable__content\"><pre>FunctionTransformer(feature_names_out=&lt;function ratio_name at 0x7fa76c3241f0&gt;,\n",
       "                    func=&lt;function column_ratio at 0x7fa76c30f940&gt;)</pre></div></div></div><div class=\"sk-item\"><div class=\"sk-estimator sk-toggleable\"><input class=\"sk-toggleable__control sk-hidden--visually\" id=\"8c010259-9415-48b8-a624-78c15c6ebc52\" type=\"checkbox\" ><label for=\"8c010259-9415-48b8-a624-78c15c6ebc52\" class=\"sk-toggleable__label sk-toggleable__label-arrow\">StandardScaler</label><div class=\"sk-toggleable__content\"><pre>StandardScaler()</pre></div></div></div></div></div></div></div></div><div class=\"sk-parallel-item\"><div class=\"sk-item\"><div class=\"sk-label-container\"><div class=\"sk-label sk-toggleable\"><input class=\"sk-toggleable__control sk-hidden--visually\" id=\"a2fd0bbc-220a-4041-8cd1-794c7977ad5f\" type=\"checkbox\" ><label for=\"a2fd0bbc-220a-4041-8cd1-794c7977ad5f\" class=\"sk-toggleable__label sk-toggleable__label-arrow\">Highschool education</label><div class=\"sk-toggleable__content\"><pre>[&#x27;PctNoHS18_24&#x27;, &#x27;PctHS18_24&#x27;, &#x27;PctHS25_Over&#x27;]</pre></div></div></div><div class=\"sk-serial\"><div class=\"sk-item\"><div class=\"sk-serial\"><div class=\"sk-item\"><div class=\"sk-estimator sk-toggleable\"><input class=\"sk-toggleable__control sk-hidden--visually\" id=\"61da5e0c-1612-4998-8b7e-300b8bd8142c\" type=\"checkbox\" ><label for=\"61da5e0c-1612-4998-8b7e-300b8bd8142c\" class=\"sk-toggleable__label sk-toggleable__label-arrow\">SimpleImputer</label><div class=\"sk-toggleable__content\"><pre>SimpleImputer()</pre></div></div></div><div class=\"sk-item\"><div class=\"sk-estimator sk-toggleable\"><input class=\"sk-toggleable__control sk-hidden--visually\" id=\"5c7a7c30-4242-4e05-9c9a-4caeeba8b6a2\" type=\"checkbox\" ><label for=\"5c7a7c30-4242-4e05-9c9a-4caeeba8b6a2\" class=\"sk-toggleable__label sk-toggleable__label-arrow\">FunctionTransformer</label><div class=\"sk-toggleable__content\"><pre>FunctionTransformer(feature_names_out=&lt;function ratio_name at 0x7fa76c3241f0&gt;,\n",
       "                    func=&lt;function column_ratio at 0x7fa76c30f940&gt;)</pre></div></div></div><div class=\"sk-item\"><div class=\"sk-estimator sk-toggleable\"><input class=\"sk-toggleable__control sk-hidden--visually\" id=\"f6f4588f-06fc-42e1-a6d3-bb9d871495d6\" type=\"checkbox\" ><label for=\"f6f4588f-06fc-42e1-a6d3-bb9d871495d6\" class=\"sk-toggleable__label sk-toggleable__label-arrow\">StandardScaler</label><div class=\"sk-toggleable__content\"><pre>StandardScaler()</pre></div></div></div></div></div></div></div></div><div class=\"sk-parallel-item\"><div class=\"sk-item\"><div class=\"sk-label-container\"><div class=\"sk-label sk-toggleable\"><input class=\"sk-toggleable__control sk-hidden--visually\" id=\"0433adfc-be13-483f-862d-197725f0b3bc\" type=\"checkbox\" ><label for=\"0433adfc-be13-483f-862d-197725f0b3bc\" class=\"sk-toggleable__label sk-toggleable__label-arrow\">College Education</label><div class=\"sk-toggleable__content\"><pre>[&#x27;PctSomeCol18_24&#x27;, &#x27;PctBachDeg18_24&#x27;, &#x27;PctBachDeg25_Over&#x27;]</pre></div></div></div><div class=\"sk-serial\"><div class=\"sk-item\"><div class=\"sk-serial\"><div class=\"sk-item\"><div class=\"sk-estimator sk-toggleable\"><input class=\"sk-toggleable__control sk-hidden--visually\" id=\"55fd29d3-8e2e-4d05-b2dc-4fc4de58f57f\" type=\"checkbox\" ><label for=\"55fd29d3-8e2e-4d05-b2dc-4fc4de58f57f\" class=\"sk-toggleable__label sk-toggleable__label-arrow\">SimpleImputer</label><div class=\"sk-toggleable__content\"><pre>SimpleImputer()</pre></div></div></div><div class=\"sk-item\"><div class=\"sk-estimator sk-toggleable\"><input class=\"sk-toggleable__control sk-hidden--visually\" id=\"958a2a79-1072-42b2-9904-970496c504c9\" type=\"checkbox\" ><label for=\"958a2a79-1072-42b2-9904-970496c504c9\" class=\"sk-toggleable__label sk-toggleable__label-arrow\">FunctionTransformer</label><div class=\"sk-toggleable__content\"><pre>FunctionTransformer(feature_names_out=&lt;function ratio_name at 0x7fa76c3241f0&gt;,\n",
       "                    func=&lt;function column_ratio at 0x7fa76c30f940&gt;)</pre></div></div></div><div class=\"sk-item\"><div class=\"sk-estimator sk-toggleable\"><input class=\"sk-toggleable__control sk-hidden--visually\" id=\"fda368ff-56cf-4d41-8802-55c1aa617210\" type=\"checkbox\" ><label for=\"fda368ff-56cf-4d41-8802-55c1aa617210\" class=\"sk-toggleable__label sk-toggleable__label-arrow\">StandardScaler</label><div class=\"sk-toggleable__content\"><pre>StandardScaler()</pre></div></div></div></div></div></div></div></div><div class=\"sk-parallel-item\"><div class=\"sk-item\"><div class=\"sk-label-container\"><div class=\"sk-label sk-toggleable\"><input class=\"sk-toggleable__control sk-hidden--visually\" id=\"d0775fcd-7fa8-458e-96e2-a55c02182e58\" type=\"checkbox\" ><label for=\"d0775fcd-7fa8-458e-96e2-a55c02182e58\" class=\"sk-toggleable__label sk-toggleable__label-arrow\">Employment</label><div class=\"sk-toggleable__content\"><pre>[&#x27;PctEmployed16_Over&#x27;, &#x27;PctUnemployed16_Over&#x27;]</pre></div></div></div><div class=\"sk-serial\"><div class=\"sk-item\"><div class=\"sk-serial\"><div class=\"sk-item\"><div class=\"sk-estimator sk-toggleable\"><input class=\"sk-toggleable__control sk-hidden--visually\" id=\"243f81d4-fe28-4e78-94c8-662a97172bc6\" type=\"checkbox\" ><label for=\"243f81d4-fe28-4e78-94c8-662a97172bc6\" class=\"sk-toggleable__label sk-toggleable__label-arrow\">SimpleImputer</label><div class=\"sk-toggleable__content\"><pre>SimpleImputer()</pre></div></div></div><div class=\"sk-item\"><div class=\"sk-estimator sk-toggleable\"><input class=\"sk-toggleable__control sk-hidden--visually\" id=\"6a586180-adb8-4b0e-aa4d-fae8a95b2338\" type=\"checkbox\" ><label for=\"6a586180-adb8-4b0e-aa4d-fae8a95b2338\" class=\"sk-toggleable__label sk-toggleable__label-arrow\">FunctionTransformer</label><div class=\"sk-toggleable__content\"><pre>FunctionTransformer(feature_names_out=&lt;function ratio_name at 0x7fa76c3241f0&gt;,\n",
       "                    func=&lt;function column_ratio at 0x7fa76c30f940&gt;)</pre></div></div></div><div class=\"sk-item\"><div class=\"sk-estimator sk-toggleable\"><input class=\"sk-toggleable__control sk-hidden--visually\" id=\"27b86a9d-5cf5-44f2-b95d-44eca6588f1e\" type=\"checkbox\" ><label for=\"27b86a9d-5cf5-44f2-b95d-44eca6588f1e\" class=\"sk-toggleable__label sk-toggleable__label-arrow\">StandardScaler</label><div class=\"sk-toggleable__content\"><pre>StandardScaler()</pre></div></div></div></div></div></div></div></div><div class=\"sk-parallel-item\"><div class=\"sk-item\"><div class=\"sk-label-container\"><div class=\"sk-label sk-toggleable\"><input class=\"sk-toggleable__control sk-hidden--visually\" id=\"3198d6f8-0515-4e40-8a13-00897083a194\" type=\"checkbox\" ><label for=\"3198d6f8-0515-4e40-8a13-00897083a194\" class=\"sk-toggleable__label sk-toggleable__label-arrow\">Insurance Coverage</label><div class=\"sk-toggleable__content\"><pre>[&#x27;PctPrivateCoverage&#x27;, &#x27;PctPrivateCoverageAlone&#x27;, &#x27;PctEmpPrivCoverage&#x27;, &#x27;PctPublicCoverage&#x27;, &#x27;PctPublicCoverageAlone&#x27;]</pre></div></div></div><div class=\"sk-serial\"><div class=\"sk-item\"><div class=\"sk-serial\"><div class=\"sk-item\"><div class=\"sk-estimator sk-toggleable\"><input class=\"sk-toggleable__control sk-hidden--visually\" id=\"4aebdb0e-8ce7-43a1-8ca1-54ff9e1c00f1\" type=\"checkbox\" ><label for=\"4aebdb0e-8ce7-43a1-8ca1-54ff9e1c00f1\" class=\"sk-toggleable__label sk-toggleable__label-arrow\">SimpleImputer</label><div class=\"sk-toggleable__content\"><pre>SimpleImputer()</pre></div></div></div><div class=\"sk-item\"><div class=\"sk-estimator sk-toggleable\"><input class=\"sk-toggleable__control sk-hidden--visually\" id=\"637f45ac-68e3-437f-a3b6-0c022ae4e8b6\" type=\"checkbox\" ><label for=\"637f45ac-68e3-437f-a3b6-0c022ae4e8b6\" class=\"sk-toggleable__label sk-toggleable__label-arrow\">FunctionTransformer</label><div class=\"sk-toggleable__content\"><pre>FunctionTransformer(feature_names_out=&lt;function ratio_name at 0x7fa76c3241f0&gt;,\n",
       "                    func=&lt;function column_ratio at 0x7fa76c30f940&gt;)</pre></div></div></div><div class=\"sk-item\"><div class=\"sk-estimator sk-toggleable\"><input class=\"sk-toggleable__control sk-hidden--visually\" id=\"32a8697a-3df3-4bb0-b3da-14e1f18a47ca\" type=\"checkbox\" ><label for=\"32a8697a-3df3-4bb0-b3da-14e1f18a47ca\" class=\"sk-toggleable__label sk-toggleable__label-arrow\">StandardScaler</label><div class=\"sk-toggleable__content\"><pre>StandardScaler()</pre></div></div></div></div></div></div></div></div><div class=\"sk-parallel-item\"><div class=\"sk-item\"><div class=\"sk-label-container\"><div class=\"sk-label sk-toggleable\"><input class=\"sk-toggleable__control sk-hidden--visually\" id=\"ff762b93-40f3-4c60-a214-fe1c1eadd7e1\" type=\"checkbox\" ><label for=\"ff762b93-40f3-4c60-a214-fe1c1eadd7e1\" class=\"sk-toggleable__label sk-toggleable__label-arrow\">Race</label><div class=\"sk-toggleable__content\"><pre>[&#x27;PctWhite&#x27;, &#x27;PctBlack&#x27;, &#x27;PctAsian&#x27;, &#x27;PctOtherRace&#x27;]</pre></div></div></div><div class=\"sk-serial\"><div class=\"sk-item\"><div class=\"sk-serial\"><div class=\"sk-item\"><div class=\"sk-estimator sk-toggleable\"><input class=\"sk-toggleable__control sk-hidden--visually\" id=\"c07f26f9-5002-4496-8f1a-aae4590f07e0\" type=\"checkbox\" ><label for=\"c07f26f9-5002-4496-8f1a-aae4590f07e0\" class=\"sk-toggleable__label sk-toggleable__label-arrow\">SimpleImputer</label><div class=\"sk-toggleable__content\"><pre>SimpleImputer()</pre></div></div></div><div class=\"sk-item\"><div class=\"sk-estimator sk-toggleable\"><input class=\"sk-toggleable__control sk-hidden--visually\" id=\"f744a869-c69b-41b1-8bd2-09cb9ede2afa\" type=\"checkbox\" ><label for=\"f744a869-c69b-41b1-8bd2-09cb9ede2afa\" class=\"sk-toggleable__label sk-toggleable__label-arrow\">FunctionTransformer</label><div class=\"sk-toggleable__content\"><pre>FunctionTransformer(feature_names_out=&lt;function ratio_name at 0x7fa76c3241f0&gt;,\n",
       "                    func=&lt;function column_ratio at 0x7fa76c30f940&gt;)</pre></div></div></div><div class=\"sk-item\"><div class=\"sk-estimator sk-toggleable\"><input class=\"sk-toggleable__control sk-hidden--visually\" id=\"4346407c-9c36-438f-b7da-d0bb104348d6\" type=\"checkbox\" ><label for=\"4346407c-9c36-438f-b7da-d0bb104348d6\" class=\"sk-toggleable__label sk-toggleable__label-arrow\">StandardScaler</label><div class=\"sk-toggleable__content\"><pre>StandardScaler()</pre></div></div></div></div></div></div></div></div><div class=\"sk-parallel-item\"><div class=\"sk-item\"><div class=\"sk-label-container\"><div class=\"sk-label sk-toggleable\"><input class=\"sk-toggleable__control sk-hidden--visually\" id=\"7dcb6697-7afd-4fd9-b5aa-279bcd8356e8\" type=\"checkbox\" ><label for=\"7dcb6697-7afd-4fd9-b5aa-279bcd8356e8\" class=\"sk-toggleable__label sk-toggleable__label-arrow\">BirthRate</label><div class=\"sk-toggleable__content\"><pre>[&#x27;BirthRate&#x27;]</pre></div></div></div><div class=\"sk-serial\"><div class=\"sk-item\"><div class=\"sk-serial\"><div class=\"sk-item\"><div class=\"sk-estimator sk-toggleable\"><input class=\"sk-toggleable__control sk-hidden--visually\" id=\"8aaab263-b867-42f8-98d3-8866bfd59969\" type=\"checkbox\" ><label for=\"8aaab263-b867-42f8-98d3-8866bfd59969\" class=\"sk-toggleable__label sk-toggleable__label-arrow\">SimpleImputer</label><div class=\"sk-toggleable__content\"><pre>SimpleImputer()</pre></div></div></div><div class=\"sk-item\"><div class=\"sk-estimator sk-toggleable\"><input class=\"sk-toggleable__control sk-hidden--visually\" id=\"ecabe7c1-e2de-466f-8d1c-7153aea7e2d1\" type=\"checkbox\" ><label for=\"ecabe7c1-e2de-466f-8d1c-7153aea7e2d1\" class=\"sk-toggleable__label sk-toggleable__label-arrow\">StandardScaler</label><div class=\"sk-toggleable__content\"><pre>StandardScaler()</pre></div></div></div></div></div></div></div></div><div class=\"sk-parallel-item\"><div class=\"sk-item\"><div class=\"sk-label-container\"><div class=\"sk-label sk-toggleable\"><input class=\"sk-toggleable__control sk-hidden--visually\" id=\"e2d3fab3-6939-48e1-8b5b-025377a0c3ca\" type=\"checkbox\" ><label for=\"e2d3fab3-6939-48e1-8b5b-025377a0c3ca\" class=\"sk-toggleable__label sk-toggleable__label-arrow\">Geography</label><div class=\"sk-toggleable__content\"><pre>&lt;sklearn.compose._column_transformer.make_column_selector object at 0x7fa76f6bd370&gt;</pre></div></div></div><div class=\"sk-serial\"><div class=\"sk-item\"><div class=\"sk-serial\"><div class=\"sk-item\"><div class=\"sk-estimator sk-toggleable\"><input class=\"sk-toggleable__control sk-hidden--visually\" id=\"a3c3cda2-baa9-4a58-a7b5-f5238b04477e\" type=\"checkbox\" ><label for=\"a3c3cda2-baa9-4a58-a7b5-f5238b04477e\" class=\"sk-toggleable__label sk-toggleable__label-arrow\">SimpleImputer</label><div class=\"sk-toggleable__content\"><pre>SimpleImputer(strategy=&#x27;most_frequent&#x27;)</pre></div></div></div><div class=\"sk-item\"><div class=\"sk-estimator sk-toggleable\"><input class=\"sk-toggleable__control sk-hidden--visually\" id=\"5eadc267-5900-49ec-91c6-94cc16dfe48f\" type=\"checkbox\" ><label for=\"5eadc267-5900-49ec-91c6-94cc16dfe48f\" class=\"sk-toggleable__label sk-toggleable__label-arrow\">OneHotEncoder</label><div class=\"sk-toggleable__content\"><pre>OneHotEncoder(handle_unknown=&#x27;ignore&#x27;)</pre></div></div></div></div></div></div></div></div><div class=\"sk-parallel-item\"><div class=\"sk-item\"><div class=\"sk-label-container\"><div class=\"sk-label sk-toggleable\"><input class=\"sk-toggleable__control sk-hidden--visually\" id=\"ff894940-1f1f-48c6-a9af-05ddd202dde2\" type=\"checkbox\" ><label for=\"ff894940-1f1f-48c6-a9af-05ddd202dde2\" class=\"sk-toggleable__label sk-toggleable__label-arrow\">remainder</label><div class=\"sk-toggleable__content\"><pre>[]</pre></div></div></div><div class=\"sk-serial\"><div class=\"sk-item\"><div class=\"sk-serial\"><div class=\"sk-item\"><div class=\"sk-estimator sk-toggleable\"><input class=\"sk-toggleable__control sk-hidden--visually\" id=\"0dc258a6-e52f-4a6d-a667-1b3e339355e9\" type=\"checkbox\" ><label for=\"0dc258a6-e52f-4a6d-a667-1b3e339355e9\" class=\"sk-toggleable__label sk-toggleable__label-arrow\">SimpleImputer</label><div class=\"sk-toggleable__content\"><pre>SimpleImputer()</pre></div></div></div><div class=\"sk-item\"><div class=\"sk-estimator sk-toggleable\"><input class=\"sk-toggleable__control sk-hidden--visually\" id=\"a217e197-ec00-4c43-bf79-916a51159e33\" type=\"checkbox\" ><label for=\"a217e197-ec00-4c43-bf79-916a51159e33\" class=\"sk-toggleable__label sk-toggleable__label-arrow\">StandardScaler</label><div class=\"sk-toggleable__content\"><pre>StandardScaler()</pre></div></div></div></div></div></div></div></div></div></div><div class=\"sk-item\"><div class=\"sk-estimator sk-toggleable\"><input class=\"sk-toggleable__control sk-hidden--visually\" id=\"90b67247-fd35-4056-9d6b-34e26d0f43ff\" type=\"checkbox\" ><label for=\"90b67247-fd35-4056-9d6b-34e26d0f43ff\" class=\"sk-toggleable__label sk-toggleable__label-arrow\">ElasticNet</label><div class=\"sk-toggleable__content\"><pre>ElasticNet(random_state=42)</pre></div></div></div></div></div></div></div></div></div></div></div></div>"
      ],
      "text/plain": [
       "GridSearchCV(cv=3,\n",
       "             estimator=Pipeline(steps=[('preprocessing',\n",
       "                                        ColumnTransformer(remainder=Pipeline(steps=[('simpleimputer',\n",
       "                                                                                     SimpleImputer()),\n",
       "                                                                                    ('standardscaler',\n",
       "                                                                                     StandardScaler())]),\n",
       "                                                          transformers=[('avgAnnCount',\n",
       "                                                                         Pipeline(steps=[('simpleimputer',\n",
       "                                                                                          SimpleImputer()),\n",
       "                                                                                         ('standardscaler',\n",
       "                                                                                          StandardScaler())]),\n",
       "                                                                         ['avgAnnCount']),\n",
       "                                                                        ('avgDeathsPerYear',\n",
       "                                                                         Pipeline(steps=[('s...\n",
       "                                                                                          OneHotEncoder(handle_unknown='ignore'))]),\n",
       "                                                                         <sklearn.compose._column_transformer.make_column_selector object at 0x7fa76f6bd370>)])),\n",
       "                                       ('Elastic',\n",
       "                                        ElasticNet(random_state=42))]),\n",
       "             param_grid=[{'Elastic__alpha': [0.0001, 0.001, 0.01, 0.1, 0.3, 0.5,\n",
       "                                             0.7, 1],\n",
       "                          'Elastic__fit_intercept': [True, False],\n",
       "                          'Elastic__l1_ratio': [0.1, 0.5, 0.9],\n",
       "                          'Elastic__normalize': [True, False]}],\n",
       "             scoring='neg_root_mean_squared_error')"
      ]
     },
     "execution_count": 81,
     "metadata": {},
     "output_type": "execute_result"
    }
   ],
   "source": [
    "from sklearn.model_selection import GridSearchCV\n",
    "import warnings\n",
    "warnings.filterwarnings('ignore')\n",
    "\n",
    "full_pipeline = Pipeline([\n",
    "    (\"preprocessing\", preprocessing),\n",
    "    (\"Elastic\", ElasticNet(random_state=42)),\n",
    "])\n",
    "\n",
    "param_grid = [\n",
    "{\n",
    "    'Elastic__alpha': [0.0001, 0.001, 0.01, 0.1, 0.3, 0.5, 0.7, 1],\n",
    "    'Elastic__l1_ratio': [0.1, 0.5, 0.9],\n",
    "    'Elastic__fit_intercept': [True, False],\n",
    "    'Elastic__normalize': [True, False],\n",
    "}\n",
    "]\n",
    "\n",
    "grid_search = GridSearchCV(full_pipeline, param_grid, cv=3, scoring='neg_root_mean_squared_error')\n",
    "#grid_search.estimator.get_params().keys()\n",
    "grid_search.fit(cancer, cancer_labels)"
   ]
  },
  {
   "cell_type": "code",
   "execution_count": 82,
   "metadata": {
    "colab": {
     "base_uri": "https://localhost:8080/"
    },
    "id": "ROVdruBFhokV",
    "outputId": "04d90208-26d6-4a47-b42f-79cc69392c5a",
    "slideshow": {
     "slide_type": "slide"
    }
   },
   "outputs": [
    {
     "data": {
      "text/plain": [
       "{'Elastic__alpha': 0.1,\n",
       " 'Elastic__fit_intercept': True,\n",
       " 'Elastic__l1_ratio': 0.5,\n",
       " 'Elastic__normalize': False}"
      ]
     },
     "execution_count": 82,
     "metadata": {},
     "output_type": "execute_result"
    }
   ],
   "source": [
    "grid_search.best_params_"
   ]
  },
  {
   "cell_type": "code",
   "execution_count": 83,
   "metadata": {
    "colab": {
     "base_uri": "https://localhost:8080/",
     "height": 392
    },
    "id": "V2peVSNPiLgA",
    "outputId": "4c6b3c03-42a2-4fd6-937c-d3cf2eb8a868"
   },
   "outputs": [
    {
     "data": {
      "text/html": [
       "\n",
       "  <div id=\"df-2a5d0a69-745f-4bac-9a96-db5da4c68158\">\n",
       "    <div class=\"colab-df-container\">\n",
       "      <div>\n",
       "<style scoped>\n",
       "    .dataframe tbody tr th:only-of-type {\n",
       "        vertical-align: middle;\n",
       "    }\n",
       "\n",
       "    .dataframe tbody tr th {\n",
       "        vertical-align: top;\n",
       "    }\n",
       "\n",
       "    .dataframe thead th {\n",
       "        text-align: right;\n",
       "    }\n",
       "</style>\n",
       "<table border=\"1\" class=\"dataframe\">\n",
       "  <thead>\n",
       "    <tr style=\"text-align: right;\">\n",
       "      <th></th>\n",
       "      <th>mean_fit_time</th>\n",
       "      <th>std_fit_time</th>\n",
       "      <th>mean_score_time</th>\n",
       "      <th>std_score_time</th>\n",
       "      <th>param_Elastic__alpha</th>\n",
       "      <th>param_Elastic__fit_intercept</th>\n",
       "      <th>param_Elastic__l1_ratio</th>\n",
       "      <th>param_Elastic__normalize</th>\n",
       "      <th>params</th>\n",
       "      <th>split0_test_score</th>\n",
       "      <th>split1_test_score</th>\n",
       "      <th>split2_test_score</th>\n",
       "      <th>mean_test_score</th>\n",
       "      <th>std_test_score</th>\n",
       "      <th>rank_test_score</th>\n",
       "    </tr>\n",
       "  </thead>\n",
       "  <tbody>\n",
       "    <tr>\n",
       "      <th>39</th>\n",
       "      <td>0.272668</td>\n",
       "      <td>0.017595</td>\n",
       "      <td>0.046365</td>\n",
       "      <td>0.002000</td>\n",
       "      <td>0.1</td>\n",
       "      <td>True</td>\n",
       "      <td>0.5</td>\n",
       "      <td>False</td>\n",
       "      <td>{'Elastic__alpha': 0.1, 'Elastic__fit_intercep...</td>\n",
       "      <td>-20.414923</td>\n",
       "      <td>-19.826659</td>\n",
       "      <td>-19.313131</td>\n",
       "      <td>-19.851571</td>\n",
       "      <td>0.450149</td>\n",
       "      <td>1</td>\n",
       "    </tr>\n",
       "    <tr>\n",
       "      <th>41</th>\n",
       "      <td>0.354731</td>\n",
       "      <td>0.021678</td>\n",
       "      <td>0.059156</td>\n",
       "      <td>0.016547</td>\n",
       "      <td>0.1</td>\n",
       "      <td>True</td>\n",
       "      <td>0.9</td>\n",
       "      <td>False</td>\n",
       "      <td>{'Elastic__alpha': 0.1, 'Elastic__fit_intercep...</td>\n",
       "      <td>-20.435788</td>\n",
       "      <td>-19.801710</td>\n",
       "      <td>-19.324562</td>\n",
       "      <td>-19.854020</td>\n",
       "      <td>0.455162</td>\n",
       "      <td>2</td>\n",
       "    </tr>\n",
       "    <tr>\n",
       "      <th>37</th>\n",
       "      <td>0.400349</td>\n",
       "      <td>0.019251</td>\n",
       "      <td>0.046592</td>\n",
       "      <td>0.001885</td>\n",
       "      <td>0.1</td>\n",
       "      <td>True</td>\n",
       "      <td>0.1</td>\n",
       "      <td>False</td>\n",
       "      <td>{'Elastic__alpha': 0.1, 'Elastic__fit_intercep...</td>\n",
       "      <td>-20.411193</td>\n",
       "      <td>-19.854170</td>\n",
       "      <td>-19.313155</td>\n",
       "      <td>-19.859506</td>\n",
       "      <td>0.448288</td>\n",
       "      <td>3</td>\n",
       "    </tr>\n",
       "    <tr>\n",
       "      <th>5</th>\n",
       "      <td>8.559488</td>\n",
       "      <td>0.357152</td>\n",
       "      <td>0.049689</td>\n",
       "      <td>0.003670</td>\n",
       "      <td>0.0001</td>\n",
       "      <td>True</td>\n",
       "      <td>0.9</td>\n",
       "      <td>False</td>\n",
       "      <td>{'Elastic__alpha': 0.0001, 'Elastic__fit_inter...</td>\n",
       "      <td>-20.391663</td>\n",
       "      <td>-19.828490</td>\n",
       "      <td>-19.382991</td>\n",
       "      <td>-19.867715</td>\n",
       "      <td>0.412722</td>\n",
       "      <td>4</td>\n",
       "    </tr>\n",
       "    <tr>\n",
       "      <th>29</th>\n",
       "      <td>1.385375</td>\n",
       "      <td>0.375667</td>\n",
       "      <td>0.055188</td>\n",
       "      <td>0.013196</td>\n",
       "      <td>0.01</td>\n",
       "      <td>True</td>\n",
       "      <td>0.9</td>\n",
       "      <td>False</td>\n",
       "      <td>{'Elastic__alpha': 0.01, 'Elastic__fit_interce...</td>\n",
       "      <td>-20.408952</td>\n",
       "      <td>-19.841002</td>\n",
       "      <td>-19.370928</td>\n",
       "      <td>-19.873627</td>\n",
       "      <td>0.424399</td>\n",
       "      <td>5</td>\n",
       "    </tr>\n",
       "  </tbody>\n",
       "</table>\n",
       "</div>\n",
       "      <button class=\"colab-df-convert\" onclick=\"convertToInteractive('df-2a5d0a69-745f-4bac-9a96-db5da4c68158')\"\n",
       "              title=\"Convert this dataframe to an interactive table.\"\n",
       "              style=\"display:none;\">\n",
       "        \n",
       "  <svg xmlns=\"http://www.w3.org/2000/svg\" height=\"24px\"viewBox=\"0 0 24 24\"\n",
       "       width=\"24px\">\n",
       "    <path d=\"M0 0h24v24H0V0z\" fill=\"none\"/>\n",
       "    <path d=\"M18.56 5.44l.94 2.06.94-2.06 2.06-.94-2.06-.94-.94-2.06-.94 2.06-2.06.94zm-11 1L8.5 8.5l.94-2.06 2.06-.94-2.06-.94L8.5 2.5l-.94 2.06-2.06.94zm10 10l.94 2.06.94-2.06 2.06-.94-2.06-.94-.94-2.06-.94 2.06-2.06.94z\"/><path d=\"M17.41 7.96l-1.37-1.37c-.4-.4-.92-.59-1.43-.59-.52 0-1.04.2-1.43.59L10.3 9.45l-7.72 7.72c-.78.78-.78 2.05 0 2.83L4 21.41c.39.39.9.59 1.41.59.51 0 1.02-.2 1.41-.59l7.78-7.78 2.81-2.81c.8-.78.8-2.07 0-2.86zM5.41 20L4 18.59l7.72-7.72 1.47 1.35L5.41 20z\"/>\n",
       "  </svg>\n",
       "      </button>\n",
       "      \n",
       "  <style>\n",
       "    .colab-df-container {\n",
       "      display:flex;\n",
       "      flex-wrap:wrap;\n",
       "      gap: 12px;\n",
       "    }\n",
       "\n",
       "    .colab-df-convert {\n",
       "      background-color: #E8F0FE;\n",
       "      border: none;\n",
       "      border-radius: 50%;\n",
       "      cursor: pointer;\n",
       "      display: none;\n",
       "      fill: #1967D2;\n",
       "      height: 32px;\n",
       "      padding: 0 0 0 0;\n",
       "      width: 32px;\n",
       "    }\n",
       "\n",
       "    .colab-df-convert:hover {\n",
       "      background-color: #E2EBFA;\n",
       "      box-shadow: 0px 1px 2px rgba(60, 64, 67, 0.3), 0px 1px 3px 1px rgba(60, 64, 67, 0.15);\n",
       "      fill: #174EA6;\n",
       "    }\n",
       "\n",
       "    [theme=dark] .colab-df-convert {\n",
       "      background-color: #3B4455;\n",
       "      fill: #D2E3FC;\n",
       "    }\n",
       "\n",
       "    [theme=dark] .colab-df-convert:hover {\n",
       "      background-color: #434B5C;\n",
       "      box-shadow: 0px 1px 3px 1px rgba(0, 0, 0, 0.15);\n",
       "      filter: drop-shadow(0px 1px 2px rgba(0, 0, 0, 0.3));\n",
       "      fill: #FFFFFF;\n",
       "    }\n",
       "  </style>\n",
       "\n",
       "      <script>\n",
       "        const buttonEl =\n",
       "          document.querySelector('#df-2a5d0a69-745f-4bac-9a96-db5da4c68158 button.colab-df-convert');\n",
       "        buttonEl.style.display =\n",
       "          google.colab.kernel.accessAllowed ? 'block' : 'none';\n",
       "\n",
       "        async function convertToInteractive(key) {\n",
       "          const element = document.querySelector('#df-2a5d0a69-745f-4bac-9a96-db5da4c68158');\n",
       "          const dataTable =\n",
       "            await google.colab.kernel.invokeFunction('convertToInteractive',\n",
       "                                                     [key], {});\n",
       "          if (!dataTable) return;\n",
       "\n",
       "          const docLinkHtml = 'Like what you see? Visit the ' +\n",
       "            '<a target=\"_blank\" href=https://colab.research.google.com/notebooks/data_table.ipynb>data table notebook</a>'\n",
       "            + ' to learn more about interactive tables.';\n",
       "          element.innerHTML = '';\n",
       "          dataTable['output_type'] = 'display_data';\n",
       "          await google.colab.output.renderOutput(dataTable, element);\n",
       "          const docLink = document.createElement('div');\n",
       "          docLink.innerHTML = docLinkHtml;\n",
       "          element.appendChild(docLink);\n",
       "        }\n",
       "      </script>\n",
       "    </div>\n",
       "  </div>\n",
       "  "
      ],
      "text/plain": [
       "    mean_fit_time  std_fit_time  mean_score_time  std_score_time  \\\n",
       "39       0.272668      0.017595         0.046365        0.002000   \n",
       "41       0.354731      0.021678         0.059156        0.016547   \n",
       "37       0.400349      0.019251         0.046592        0.001885   \n",
       "5        8.559488      0.357152         0.049689        0.003670   \n",
       "29       1.385375      0.375667         0.055188        0.013196   \n",
       "\n",
       "   param_Elastic__alpha param_Elastic__fit_intercept param_Elastic__l1_ratio  \\\n",
       "39                  0.1                         True                     0.5   \n",
       "41                  0.1                         True                     0.9   \n",
       "37                  0.1                         True                     0.1   \n",
       "5                0.0001                         True                     0.9   \n",
       "29                 0.01                         True                     0.9   \n",
       "\n",
       "   param_Elastic__normalize  \\\n",
       "39                    False   \n",
       "41                    False   \n",
       "37                    False   \n",
       "5                     False   \n",
       "29                    False   \n",
       "\n",
       "                                               params  split0_test_score  \\\n",
       "39  {'Elastic__alpha': 0.1, 'Elastic__fit_intercep...         -20.414923   \n",
       "41  {'Elastic__alpha': 0.1, 'Elastic__fit_intercep...         -20.435788   \n",
       "37  {'Elastic__alpha': 0.1, 'Elastic__fit_intercep...         -20.411193   \n",
       "5   {'Elastic__alpha': 0.0001, 'Elastic__fit_inter...         -20.391663   \n",
       "29  {'Elastic__alpha': 0.01, 'Elastic__fit_interce...         -20.408952   \n",
       "\n",
       "    split1_test_score  split2_test_score  mean_test_score  std_test_score  \\\n",
       "39         -19.826659         -19.313131       -19.851571        0.450149   \n",
       "41         -19.801710         -19.324562       -19.854020        0.455162   \n",
       "37         -19.854170         -19.313155       -19.859506        0.448288   \n",
       "5          -19.828490         -19.382991       -19.867715        0.412722   \n",
       "29         -19.841002         -19.370928       -19.873627        0.424399   \n",
       "\n",
       "    rank_test_score  \n",
       "39                1  \n",
       "41                2  \n",
       "37                3  \n",
       "5                 4  \n",
       "29                5  "
      ]
     },
     "execution_count": 83,
     "metadata": {},
     "output_type": "execute_result"
    }
   ],
   "source": [
    "cv_res = pd.DataFrame(grid_search.cv_results_)\n",
    "cv_res.sort_values(by=\"mean_test_score\", ascending=False, inplace=True)\n",
    "\n",
    "cv_res.head()"
   ]
  },
  {
   "cell_type": "markdown",
   "metadata": {
    "id": "dVgcBN8Ajg-q",
    "slideshow": {
     "slide_type": "slide"
    }
   },
   "source": [
    "# Evaluation"
   ]
  },
  {
   "cell_type": "markdown",
   "metadata": {
    "id": "xPQr1U5Vji_j"
   },
   "source": [
    "## Evaluating the tuned model on the validation set"
   ]
  },
  {
   "cell_type": "markdown",
   "metadata": {
    "id": "8971HRLdHGLA"
   },
   "source": [
    "Here I am creating a pipeline with the preprocessing pipeline and the Elastic Net Model with the best parameter configurations from the Grid Search. "
   ]
  },
  {
   "cell_type": "code",
   "execution_count": 84,
   "metadata": {
    "colab": {
     "base_uri": "https://localhost:8080/",
     "height": 316
    },
    "collapsed": true,
    "id": "2Knavyixi4ih",
    "outputId": "1363b271-42cb-4d36-e62e-e4536061ccd8"
   },
   "outputs": [
    {
     "data": {
      "text/html": [
       "<style>#sk-d0f5bb4c-30af-46e5-ae6c-22c542d81744 {color: black;background-color: white;}#sk-d0f5bb4c-30af-46e5-ae6c-22c542d81744 pre{padding: 0;}#sk-d0f5bb4c-30af-46e5-ae6c-22c542d81744 div.sk-toggleable {background-color: white;}#sk-d0f5bb4c-30af-46e5-ae6c-22c542d81744 label.sk-toggleable__label {cursor: pointer;display: block;width: 100%;margin-bottom: 0;padding: 0.3em;box-sizing: border-box;text-align: center;}#sk-d0f5bb4c-30af-46e5-ae6c-22c542d81744 label.sk-toggleable__label-arrow:before {content: \"▸\";float: left;margin-right: 0.25em;color: #696969;}#sk-d0f5bb4c-30af-46e5-ae6c-22c542d81744 label.sk-toggleable__label-arrow:hover:before {color: black;}#sk-d0f5bb4c-30af-46e5-ae6c-22c542d81744 div.sk-estimator:hover label.sk-toggleable__label-arrow:before {color: black;}#sk-d0f5bb4c-30af-46e5-ae6c-22c542d81744 div.sk-toggleable__content {max-height: 0;max-width: 0;overflow: hidden;text-align: left;background-color: #f0f8ff;}#sk-d0f5bb4c-30af-46e5-ae6c-22c542d81744 div.sk-toggleable__content pre {margin: 0.2em;color: black;border-radius: 0.25em;background-color: #f0f8ff;}#sk-d0f5bb4c-30af-46e5-ae6c-22c542d81744 input.sk-toggleable__control:checked~div.sk-toggleable__content {max-height: 200px;max-width: 100%;overflow: auto;}#sk-d0f5bb4c-30af-46e5-ae6c-22c542d81744 input.sk-toggleable__control:checked~label.sk-toggleable__label-arrow:before {content: \"▾\";}#sk-d0f5bb4c-30af-46e5-ae6c-22c542d81744 div.sk-estimator input.sk-toggleable__control:checked~label.sk-toggleable__label {background-color: #d4ebff;}#sk-d0f5bb4c-30af-46e5-ae6c-22c542d81744 div.sk-label input.sk-toggleable__control:checked~label.sk-toggleable__label {background-color: #d4ebff;}#sk-d0f5bb4c-30af-46e5-ae6c-22c542d81744 input.sk-hidden--visually {border: 0;clip: rect(1px 1px 1px 1px);clip: rect(1px, 1px, 1px, 1px);height: 1px;margin: -1px;overflow: hidden;padding: 0;position: absolute;width: 1px;}#sk-d0f5bb4c-30af-46e5-ae6c-22c542d81744 div.sk-estimator {font-family: monospace;background-color: #f0f8ff;border: 1px dotted black;border-radius: 0.25em;box-sizing: border-box;margin-bottom: 0.5em;}#sk-d0f5bb4c-30af-46e5-ae6c-22c542d81744 div.sk-estimator:hover {background-color: #d4ebff;}#sk-d0f5bb4c-30af-46e5-ae6c-22c542d81744 div.sk-parallel-item::after {content: \"\";width: 100%;border-bottom: 1px solid gray;flex-grow: 1;}#sk-d0f5bb4c-30af-46e5-ae6c-22c542d81744 div.sk-label:hover label.sk-toggleable__label {background-color: #d4ebff;}#sk-d0f5bb4c-30af-46e5-ae6c-22c542d81744 div.sk-serial::before {content: \"\";position: absolute;border-left: 1px solid gray;box-sizing: border-box;top: 2em;bottom: 0;left: 50%;}#sk-d0f5bb4c-30af-46e5-ae6c-22c542d81744 div.sk-serial {display: flex;flex-direction: column;align-items: center;background-color: white;padding-right: 0.2em;padding-left: 0.2em;}#sk-d0f5bb4c-30af-46e5-ae6c-22c542d81744 div.sk-item {z-index: 1;}#sk-d0f5bb4c-30af-46e5-ae6c-22c542d81744 div.sk-parallel {display: flex;align-items: stretch;justify-content: center;background-color: white;}#sk-d0f5bb4c-30af-46e5-ae6c-22c542d81744 div.sk-parallel::before {content: \"\";position: absolute;border-left: 1px solid gray;box-sizing: border-box;top: 2em;bottom: 0;left: 50%;}#sk-d0f5bb4c-30af-46e5-ae6c-22c542d81744 div.sk-parallel-item {display: flex;flex-direction: column;position: relative;background-color: white;}#sk-d0f5bb4c-30af-46e5-ae6c-22c542d81744 div.sk-parallel-item:first-child::after {align-self: flex-end;width: 50%;}#sk-d0f5bb4c-30af-46e5-ae6c-22c542d81744 div.sk-parallel-item:last-child::after {align-self: flex-start;width: 50%;}#sk-d0f5bb4c-30af-46e5-ae6c-22c542d81744 div.sk-parallel-item:only-child::after {width: 0;}#sk-d0f5bb4c-30af-46e5-ae6c-22c542d81744 div.sk-dashed-wrapped {border: 1px dashed gray;margin: 0 0.4em 0.5em 0.4em;box-sizing: border-box;padding-bottom: 0.4em;background-color: white;position: relative;}#sk-d0f5bb4c-30af-46e5-ae6c-22c542d81744 div.sk-label label {font-family: monospace;font-weight: bold;background-color: white;display: inline-block;line-height: 1.2em;}#sk-d0f5bb4c-30af-46e5-ae6c-22c542d81744 div.sk-label-container {position: relative;z-index: 2;text-align: center;}#sk-d0f5bb4c-30af-46e5-ae6c-22c542d81744 div.sk-container {/* jupyter's `normalize.less` sets `[hidden] { display: none; }` but bootstrap.min.css set `[hidden] { display: none !important; }` so we also need the `!important` here to be able to override the default hidden behavior on the sphinx rendered scikit-learn.org. See: https://github.com/scikit-learn/scikit-learn/issues/21755 */display: inline-block !important;position: relative;}#sk-d0f5bb4c-30af-46e5-ae6c-22c542d81744 div.sk-text-repr-fallback {display: none;}</style><div id=\"sk-d0f5bb4c-30af-46e5-ae6c-22c542d81744\" class=\"sk-top-container\"><div class=\"sk-text-repr-fallback\"><pre>Pipeline(steps=[(&#x27;preprocessing&#x27;,\n",
       "                 ColumnTransformer(remainder=Pipeline(steps=[(&#x27;simpleimputer&#x27;,\n",
       "                                                              SimpleImputer()),\n",
       "                                                             (&#x27;standardscaler&#x27;,\n",
       "                                                              StandardScaler())]),\n",
       "                                   transformers=[(&#x27;avgAnnCount&#x27;,\n",
       "                                                  Pipeline(steps=[(&#x27;simpleimputer&#x27;,\n",
       "                                                                   SimpleImputer()),\n",
       "                                                                  (&#x27;standardscaler&#x27;,\n",
       "                                                                   StandardScaler())]),\n",
       "                                                  [&#x27;avgAnnCount&#x27;]),\n",
       "                                                 (&#x27;avgDeathsPerYear&#x27;,\n",
       "                                                  Pipeline(steps=[(&#x27;simpleimputer&#x27;,\n",
       "                                                                   SimpleImputer(...\n",
       "                                                                  (&#x27;standardscaler&#x27;,\n",
       "                                                                   StandardScaler())]),\n",
       "                                                  [&#x27;BirthRate&#x27;]),\n",
       "                                                 (&#x27;Geography&#x27;,\n",
       "                                                  Pipeline(steps=[(&#x27;simpleimputer&#x27;,\n",
       "                                                                   SimpleImputer(strategy=&#x27;most_frequent&#x27;)),\n",
       "                                                                  (&#x27;onehotencoder&#x27;,\n",
       "                                                                   OneHotEncoder(handle_unknown=&#x27;ignore&#x27;))]),\n",
       "                                                  &lt;sklearn.compose._column_transformer.make_column_selector object at 0x7fa76f6bd370&gt;)])),\n",
       "                (&#x27;Elastic&#x27;,\n",
       "                 ElasticNet(alpha=0.1, normalize=False, random_state=42))])</pre><b>Please rerun this cell to show the HTML repr or trust the notebook.</b></div><div class=\"sk-container\" hidden><div class=\"sk-item sk-dashed-wrapped\"><div class=\"sk-label-container\"><div class=\"sk-label sk-toggleable\"><input class=\"sk-toggleable__control sk-hidden--visually\" id=\"b1e8fc96-0ef5-4a87-a85c-126198d696d5\" type=\"checkbox\" ><label for=\"b1e8fc96-0ef5-4a87-a85c-126198d696d5\" class=\"sk-toggleable__label sk-toggleable__label-arrow\">Pipeline</label><div class=\"sk-toggleable__content\"><pre>Pipeline(steps=[(&#x27;preprocessing&#x27;,\n",
       "                 ColumnTransformer(remainder=Pipeline(steps=[(&#x27;simpleimputer&#x27;,\n",
       "                                                              SimpleImputer()),\n",
       "                                                             (&#x27;standardscaler&#x27;,\n",
       "                                                              StandardScaler())]),\n",
       "                                   transformers=[(&#x27;avgAnnCount&#x27;,\n",
       "                                                  Pipeline(steps=[(&#x27;simpleimputer&#x27;,\n",
       "                                                                   SimpleImputer()),\n",
       "                                                                  (&#x27;standardscaler&#x27;,\n",
       "                                                                   StandardScaler())]),\n",
       "                                                  [&#x27;avgAnnCount&#x27;]),\n",
       "                                                 (&#x27;avgDeathsPerYear&#x27;,\n",
       "                                                  Pipeline(steps=[(&#x27;simpleimputer&#x27;,\n",
       "                                                                   SimpleImputer(...\n",
       "                                                                  (&#x27;standardscaler&#x27;,\n",
       "                                                                   StandardScaler())]),\n",
       "                                                  [&#x27;BirthRate&#x27;]),\n",
       "                                                 (&#x27;Geography&#x27;,\n",
       "                                                  Pipeline(steps=[(&#x27;simpleimputer&#x27;,\n",
       "                                                                   SimpleImputer(strategy=&#x27;most_frequent&#x27;)),\n",
       "                                                                  (&#x27;onehotencoder&#x27;,\n",
       "                                                                   OneHotEncoder(handle_unknown=&#x27;ignore&#x27;))]),\n",
       "                                                  &lt;sklearn.compose._column_transformer.make_column_selector object at 0x7fa76f6bd370&gt;)])),\n",
       "                (&#x27;Elastic&#x27;,\n",
       "                 ElasticNet(alpha=0.1, normalize=False, random_state=42))])</pre></div></div></div><div class=\"sk-serial\"><div class=\"sk-item sk-dashed-wrapped\"><div class=\"sk-label-container\"><div class=\"sk-label sk-toggleable\"><input class=\"sk-toggleable__control sk-hidden--visually\" id=\"8645ab08-aa43-4f5e-be65-7b5f25692bff\" type=\"checkbox\" ><label for=\"8645ab08-aa43-4f5e-be65-7b5f25692bff\" class=\"sk-toggleable__label sk-toggleable__label-arrow\">preprocessing: ColumnTransformer</label><div class=\"sk-toggleable__content\"><pre>ColumnTransformer(remainder=Pipeline(steps=[(&#x27;simpleimputer&#x27;, SimpleImputer()),\n",
       "                                            (&#x27;standardscaler&#x27;,\n",
       "                                             StandardScaler())]),\n",
       "                  transformers=[(&#x27;avgAnnCount&#x27;,\n",
       "                                 Pipeline(steps=[(&#x27;simpleimputer&#x27;,\n",
       "                                                  SimpleImputer()),\n",
       "                                                 (&#x27;standardscaler&#x27;,\n",
       "                                                  StandardScaler())]),\n",
       "                                 [&#x27;avgAnnCount&#x27;]),\n",
       "                                (&#x27;avgDeathsPerYear&#x27;,\n",
       "                                 Pipeline(steps=[(&#x27;simpleimputer&#x27;,\n",
       "                                                  SimpleImputer()),\n",
       "                                                 (&#x27;standardscaler&#x27;,\n",
       "                                                  StandardScal...\n",
       "                                  &#x27;PctOtherRace&#x27;]),\n",
       "                                (&#x27;BirthRate&#x27;,\n",
       "                                 Pipeline(steps=[(&#x27;simpleimputer&#x27;,\n",
       "                                                  SimpleImputer()),\n",
       "                                                 (&#x27;standardscaler&#x27;,\n",
       "                                                  StandardScaler())]),\n",
       "                                 [&#x27;BirthRate&#x27;]),\n",
       "                                (&#x27;Geography&#x27;,\n",
       "                                 Pipeline(steps=[(&#x27;simpleimputer&#x27;,\n",
       "                                                  SimpleImputer(strategy=&#x27;most_frequent&#x27;)),\n",
       "                                                 (&#x27;onehotencoder&#x27;,\n",
       "                                                  OneHotEncoder(handle_unknown=&#x27;ignore&#x27;))]),\n",
       "                                 &lt;sklearn.compose._column_transformer.make_column_selector object at 0x7fa76f6bd370&gt;)])</pre></div></div></div><div class=\"sk-parallel\"><div class=\"sk-parallel-item\"><div class=\"sk-item\"><div class=\"sk-label-container\"><div class=\"sk-label sk-toggleable\"><input class=\"sk-toggleable__control sk-hidden--visually\" id=\"f3127488-e647-4cb0-a2d5-657bd2be4fc5\" type=\"checkbox\" ><label for=\"f3127488-e647-4cb0-a2d5-657bd2be4fc5\" class=\"sk-toggleable__label sk-toggleable__label-arrow\">avgAnnCount</label><div class=\"sk-toggleable__content\"><pre>[&#x27;avgAnnCount&#x27;]</pre></div></div></div><div class=\"sk-serial\"><div class=\"sk-item\"><div class=\"sk-serial\"><div class=\"sk-item\"><div class=\"sk-estimator sk-toggleable\"><input class=\"sk-toggleable__control sk-hidden--visually\" id=\"47a75e72-119d-4df9-98c7-a0ccd7de4b92\" type=\"checkbox\" ><label for=\"47a75e72-119d-4df9-98c7-a0ccd7de4b92\" class=\"sk-toggleable__label sk-toggleable__label-arrow\">SimpleImputer</label><div class=\"sk-toggleable__content\"><pre>SimpleImputer()</pre></div></div></div><div class=\"sk-item\"><div class=\"sk-estimator sk-toggleable\"><input class=\"sk-toggleable__control sk-hidden--visually\" id=\"4de53944-514a-44bf-808e-57f2bdcb2d08\" type=\"checkbox\" ><label for=\"4de53944-514a-44bf-808e-57f2bdcb2d08\" class=\"sk-toggleable__label sk-toggleable__label-arrow\">StandardScaler</label><div class=\"sk-toggleable__content\"><pre>StandardScaler()</pre></div></div></div></div></div></div></div></div><div class=\"sk-parallel-item\"><div class=\"sk-item\"><div class=\"sk-label-container\"><div class=\"sk-label sk-toggleable\"><input class=\"sk-toggleable__control sk-hidden--visually\" id=\"dcb7e579-e37f-4f63-8a5d-8bf1ea6dc625\" type=\"checkbox\" ><label for=\"dcb7e579-e37f-4f63-8a5d-8bf1ea6dc625\" class=\"sk-toggleable__label sk-toggleable__label-arrow\">avgDeathsPerYear</label><div class=\"sk-toggleable__content\"><pre>[&#x27;avgDeathsPerYear&#x27;]</pre></div></div></div><div class=\"sk-serial\"><div class=\"sk-item\"><div class=\"sk-serial\"><div class=\"sk-item\"><div class=\"sk-estimator sk-toggleable\"><input class=\"sk-toggleable__control sk-hidden--visually\" id=\"2575edb6-9c89-4940-a30d-8b91a37b0843\" type=\"checkbox\" ><label for=\"2575edb6-9c89-4940-a30d-8b91a37b0843\" class=\"sk-toggleable__label sk-toggleable__label-arrow\">SimpleImputer</label><div class=\"sk-toggleable__content\"><pre>SimpleImputer()</pre></div></div></div><div class=\"sk-item\"><div class=\"sk-estimator sk-toggleable\"><input class=\"sk-toggleable__control sk-hidden--visually\" id=\"5bb30e15-0103-479d-bf9c-0bb0bd643853\" type=\"checkbox\" ><label for=\"5bb30e15-0103-479d-bf9c-0bb0bd643853\" class=\"sk-toggleable__label sk-toggleable__label-arrow\">StandardScaler</label><div class=\"sk-toggleable__content\"><pre>StandardScaler()</pre></div></div></div></div></div></div></div></div><div class=\"sk-parallel-item\"><div class=\"sk-item\"><div class=\"sk-label-container\"><div class=\"sk-label sk-toggleable\"><input class=\"sk-toggleable__control sk-hidden--visually\" id=\"d957e2f4-f864-46f6-aa72-25bf48657862\" type=\"checkbox\" ><label for=\"d957e2f4-f864-46f6-aa72-25bf48657862\" class=\"sk-toggleable__label sk-toggleable__label-arrow\">incidenceRate</label><div class=\"sk-toggleable__content\"><pre>[&#x27;incidenceRate&#x27;]</pre></div></div></div><div class=\"sk-serial\"><div class=\"sk-item\"><div class=\"sk-serial\"><div class=\"sk-item\"><div class=\"sk-estimator sk-toggleable\"><input class=\"sk-toggleable__control sk-hidden--visually\" id=\"1b161439-e5f5-45dd-9496-e6dc1bd772e9\" type=\"checkbox\" ><label for=\"1b161439-e5f5-45dd-9496-e6dc1bd772e9\" class=\"sk-toggleable__label sk-toggleable__label-arrow\">SimpleImputer</label><div class=\"sk-toggleable__content\"><pre>SimpleImputer()</pre></div></div></div><div class=\"sk-item\"><div class=\"sk-estimator sk-toggleable\"><input class=\"sk-toggleable__control sk-hidden--visually\" id=\"de508378-512f-4dc6-bdd2-0627d1b0e47f\" type=\"checkbox\" ><label for=\"de508378-512f-4dc6-bdd2-0627d1b0e47f\" class=\"sk-toggleable__label sk-toggleable__label-arrow\">StandardScaler</label><div class=\"sk-toggleable__content\"><pre>StandardScaler()</pre></div></div></div></div></div></div></div></div><div class=\"sk-parallel-item\"><div class=\"sk-item\"><div class=\"sk-label-container\"><div class=\"sk-label sk-toggleable\"><input class=\"sk-toggleable__control sk-hidden--visually\" id=\"2373c6a0-1007-44d6-8f42-d2399764fa2d\" type=\"checkbox\" ><label for=\"2373c6a0-1007-44d6-8f42-d2399764fa2d\" class=\"sk-toggleable__label sk-toggleable__label-arrow\">povertyPercent</label><div class=\"sk-toggleable__content\"><pre>[&#x27;povertyPercent&#x27;]</pre></div></div></div><div class=\"sk-serial\"><div class=\"sk-item\"><div class=\"sk-serial\"><div class=\"sk-item\"><div class=\"sk-estimator sk-toggleable\"><input class=\"sk-toggleable__control sk-hidden--visually\" id=\"85c89479-b9f6-42a4-a66a-6cadbe85d323\" type=\"checkbox\" ><label for=\"85c89479-b9f6-42a4-a66a-6cadbe85d323\" class=\"sk-toggleable__label sk-toggleable__label-arrow\">SimpleImputer</label><div class=\"sk-toggleable__content\"><pre>SimpleImputer()</pre></div></div></div><div class=\"sk-item\"><div class=\"sk-estimator sk-toggleable\"><input class=\"sk-toggleable__control sk-hidden--visually\" id=\"e6dc4139-83c1-4eb7-90e7-78f206b3cd32\" type=\"checkbox\" ><label for=\"e6dc4139-83c1-4eb7-90e7-78f206b3cd32\" class=\"sk-toggleable__label sk-toggleable__label-arrow\">StandardScaler</label><div class=\"sk-toggleable__content\"><pre>StandardScaler()</pre></div></div></div></div></div></div></div></div><div class=\"sk-parallel-item\"><div class=\"sk-item\"><div class=\"sk-label-container\"><div class=\"sk-label sk-toggleable\"><input class=\"sk-toggleable__control sk-hidden--visually\" id=\"59f6d136-ac78-4911-922d-6b7fb46e99f5\" type=\"checkbox\" ><label for=\"59f6d136-ac78-4911-922d-6b7fb46e99f5\" class=\"sk-toggleable__label sk-toggleable__label-arrow\">Age</label><div class=\"sk-toggleable__content\"><pre>[&#x27;MedianAge&#x27;, &#x27;MedianAgeMale&#x27;, &#x27;MedianAgeFemale&#x27;]</pre></div></div></div><div class=\"sk-serial\"><div class=\"sk-item\"><div class=\"sk-serial\"><div class=\"sk-item\"><div class=\"sk-estimator sk-toggleable\"><input class=\"sk-toggleable__control sk-hidden--visually\" id=\"45bdd609-70ef-4304-9445-7e6ac491cc81\" type=\"checkbox\" ><label for=\"45bdd609-70ef-4304-9445-7e6ac491cc81\" class=\"sk-toggleable__label sk-toggleable__label-arrow\">SimpleImputer</label><div class=\"sk-toggleable__content\"><pre>SimpleImputer()</pre></div></div></div><div class=\"sk-item\"><div class=\"sk-estimator sk-toggleable\"><input class=\"sk-toggleable__control sk-hidden--visually\" id=\"cd0652c7-f1c2-4417-8da2-9c5bf83c9841\" type=\"checkbox\" ><label for=\"cd0652c7-f1c2-4417-8da2-9c5bf83c9841\" class=\"sk-toggleable__label sk-toggleable__label-arrow\">FunctionTransformer</label><div class=\"sk-toggleable__content\"><pre>FunctionTransformer(feature_names_out=&lt;function ratio_name at 0x7fa76c3241f0&gt;,\n",
       "                    func=&lt;function column_ratio at 0x7fa76c30f940&gt;)</pre></div></div></div><div class=\"sk-item\"><div class=\"sk-estimator sk-toggleable\"><input class=\"sk-toggleable__control sk-hidden--visually\" id=\"ed688fd5-ca4f-4005-b26f-1684ab3dc784\" type=\"checkbox\" ><label for=\"ed688fd5-ca4f-4005-b26f-1684ab3dc784\" class=\"sk-toggleable__label sk-toggleable__label-arrow\">StandardScaler</label><div class=\"sk-toggleable__content\"><pre>StandardScaler()</pre></div></div></div></div></div></div></div></div><div class=\"sk-parallel-item\"><div class=\"sk-item\"><div class=\"sk-label-container\"><div class=\"sk-label sk-toggleable\"><input class=\"sk-toggleable__control sk-hidden--visually\" id=\"ef63b5b2-7a60-4f8a-a470-0e4004f3ee7b\" type=\"checkbox\" ><label for=\"ef63b5b2-7a60-4f8a-a470-0e4004f3ee7b\" class=\"sk-toggleable__label sk-toggleable__label-arrow\">Highschool education</label><div class=\"sk-toggleable__content\"><pre>[&#x27;PctNoHS18_24&#x27;, &#x27;PctHS18_24&#x27;, &#x27;PctHS25_Over&#x27;]</pre></div></div></div><div class=\"sk-serial\"><div class=\"sk-item\"><div class=\"sk-serial\"><div class=\"sk-item\"><div class=\"sk-estimator sk-toggleable\"><input class=\"sk-toggleable__control sk-hidden--visually\" id=\"d374b8a4-a5be-4b9f-81a5-0ab976ad5763\" type=\"checkbox\" ><label for=\"d374b8a4-a5be-4b9f-81a5-0ab976ad5763\" class=\"sk-toggleable__label sk-toggleable__label-arrow\">SimpleImputer</label><div class=\"sk-toggleable__content\"><pre>SimpleImputer()</pre></div></div></div><div class=\"sk-item\"><div class=\"sk-estimator sk-toggleable\"><input class=\"sk-toggleable__control sk-hidden--visually\" id=\"0a5bee75-1c4b-40d5-b48c-9c1ce2366b04\" type=\"checkbox\" ><label for=\"0a5bee75-1c4b-40d5-b48c-9c1ce2366b04\" class=\"sk-toggleable__label sk-toggleable__label-arrow\">FunctionTransformer</label><div class=\"sk-toggleable__content\"><pre>FunctionTransformer(feature_names_out=&lt;function ratio_name at 0x7fa76c3241f0&gt;,\n",
       "                    func=&lt;function column_ratio at 0x7fa76c30f940&gt;)</pre></div></div></div><div class=\"sk-item\"><div class=\"sk-estimator sk-toggleable\"><input class=\"sk-toggleable__control sk-hidden--visually\" id=\"a38b24bb-83d9-4ef6-8eba-4a1afbb6c814\" type=\"checkbox\" ><label for=\"a38b24bb-83d9-4ef6-8eba-4a1afbb6c814\" class=\"sk-toggleable__label sk-toggleable__label-arrow\">StandardScaler</label><div class=\"sk-toggleable__content\"><pre>StandardScaler()</pre></div></div></div></div></div></div></div></div><div class=\"sk-parallel-item\"><div class=\"sk-item\"><div class=\"sk-label-container\"><div class=\"sk-label sk-toggleable\"><input class=\"sk-toggleable__control sk-hidden--visually\" id=\"f4cce95d-0437-4855-b46d-990958512c55\" type=\"checkbox\" ><label for=\"f4cce95d-0437-4855-b46d-990958512c55\" class=\"sk-toggleable__label sk-toggleable__label-arrow\">College Education</label><div class=\"sk-toggleable__content\"><pre>[&#x27;PctSomeCol18_24&#x27;, &#x27;PctBachDeg18_24&#x27;, &#x27;PctBachDeg25_Over&#x27;]</pre></div></div></div><div class=\"sk-serial\"><div class=\"sk-item\"><div class=\"sk-serial\"><div class=\"sk-item\"><div class=\"sk-estimator sk-toggleable\"><input class=\"sk-toggleable__control sk-hidden--visually\" id=\"af4f81cc-1490-4a68-8a79-4c8721d84374\" type=\"checkbox\" ><label for=\"af4f81cc-1490-4a68-8a79-4c8721d84374\" class=\"sk-toggleable__label sk-toggleable__label-arrow\">SimpleImputer</label><div class=\"sk-toggleable__content\"><pre>SimpleImputer()</pre></div></div></div><div class=\"sk-item\"><div class=\"sk-estimator sk-toggleable\"><input class=\"sk-toggleable__control sk-hidden--visually\" id=\"af4c3049-ff90-434d-b0ec-827487405663\" type=\"checkbox\" ><label for=\"af4c3049-ff90-434d-b0ec-827487405663\" class=\"sk-toggleable__label sk-toggleable__label-arrow\">FunctionTransformer</label><div class=\"sk-toggleable__content\"><pre>FunctionTransformer(feature_names_out=&lt;function ratio_name at 0x7fa76c3241f0&gt;,\n",
       "                    func=&lt;function column_ratio at 0x7fa76c30f940&gt;)</pre></div></div></div><div class=\"sk-item\"><div class=\"sk-estimator sk-toggleable\"><input class=\"sk-toggleable__control sk-hidden--visually\" id=\"b95d2528-5deb-492a-ab2a-1300e817e86d\" type=\"checkbox\" ><label for=\"b95d2528-5deb-492a-ab2a-1300e817e86d\" class=\"sk-toggleable__label sk-toggleable__label-arrow\">StandardScaler</label><div class=\"sk-toggleable__content\"><pre>StandardScaler()</pre></div></div></div></div></div></div></div></div><div class=\"sk-parallel-item\"><div class=\"sk-item\"><div class=\"sk-label-container\"><div class=\"sk-label sk-toggleable\"><input class=\"sk-toggleable__control sk-hidden--visually\" id=\"70c618c8-8550-4667-8fa6-10f2cea3b008\" type=\"checkbox\" ><label for=\"70c618c8-8550-4667-8fa6-10f2cea3b008\" class=\"sk-toggleable__label sk-toggleable__label-arrow\">Employment</label><div class=\"sk-toggleable__content\"><pre>[&#x27;PctEmployed16_Over&#x27;, &#x27;PctUnemployed16_Over&#x27;]</pre></div></div></div><div class=\"sk-serial\"><div class=\"sk-item\"><div class=\"sk-serial\"><div class=\"sk-item\"><div class=\"sk-estimator sk-toggleable\"><input class=\"sk-toggleable__control sk-hidden--visually\" id=\"2dbce1af-e16e-459d-a45d-29919874a847\" type=\"checkbox\" ><label for=\"2dbce1af-e16e-459d-a45d-29919874a847\" class=\"sk-toggleable__label sk-toggleable__label-arrow\">SimpleImputer</label><div class=\"sk-toggleable__content\"><pre>SimpleImputer()</pre></div></div></div><div class=\"sk-item\"><div class=\"sk-estimator sk-toggleable\"><input class=\"sk-toggleable__control sk-hidden--visually\" id=\"e7437752-31ff-470c-b26e-4cdca77982bf\" type=\"checkbox\" ><label for=\"e7437752-31ff-470c-b26e-4cdca77982bf\" class=\"sk-toggleable__label sk-toggleable__label-arrow\">FunctionTransformer</label><div class=\"sk-toggleable__content\"><pre>FunctionTransformer(feature_names_out=&lt;function ratio_name at 0x7fa76c3241f0&gt;,\n",
       "                    func=&lt;function column_ratio at 0x7fa76c30f940&gt;)</pre></div></div></div><div class=\"sk-item\"><div class=\"sk-estimator sk-toggleable\"><input class=\"sk-toggleable__control sk-hidden--visually\" id=\"352f2afc-1a83-45a9-8f24-d9253ee9ff82\" type=\"checkbox\" ><label for=\"352f2afc-1a83-45a9-8f24-d9253ee9ff82\" class=\"sk-toggleable__label sk-toggleable__label-arrow\">StandardScaler</label><div class=\"sk-toggleable__content\"><pre>StandardScaler()</pre></div></div></div></div></div></div></div></div><div class=\"sk-parallel-item\"><div class=\"sk-item\"><div class=\"sk-label-container\"><div class=\"sk-label sk-toggleable\"><input class=\"sk-toggleable__control sk-hidden--visually\" id=\"54fdec5b-d8c8-4e55-b023-936fc7b26733\" type=\"checkbox\" ><label for=\"54fdec5b-d8c8-4e55-b023-936fc7b26733\" class=\"sk-toggleable__label sk-toggleable__label-arrow\">Insurance Coverage</label><div class=\"sk-toggleable__content\"><pre>[&#x27;PctPrivateCoverage&#x27;, &#x27;PctPrivateCoverageAlone&#x27;, &#x27;PctEmpPrivCoverage&#x27;, &#x27;PctPublicCoverage&#x27;, &#x27;PctPublicCoverageAlone&#x27;]</pre></div></div></div><div class=\"sk-serial\"><div class=\"sk-item\"><div class=\"sk-serial\"><div class=\"sk-item\"><div class=\"sk-estimator sk-toggleable\"><input class=\"sk-toggleable__control sk-hidden--visually\" id=\"b20d79ea-d296-4a3c-93b3-247440244adf\" type=\"checkbox\" ><label for=\"b20d79ea-d296-4a3c-93b3-247440244adf\" class=\"sk-toggleable__label sk-toggleable__label-arrow\">SimpleImputer</label><div class=\"sk-toggleable__content\"><pre>SimpleImputer()</pre></div></div></div><div class=\"sk-item\"><div class=\"sk-estimator sk-toggleable\"><input class=\"sk-toggleable__control sk-hidden--visually\" id=\"87b5eecd-fb89-45ee-81f2-fa5aa1f41ca0\" type=\"checkbox\" ><label for=\"87b5eecd-fb89-45ee-81f2-fa5aa1f41ca0\" class=\"sk-toggleable__label sk-toggleable__label-arrow\">FunctionTransformer</label><div class=\"sk-toggleable__content\"><pre>FunctionTransformer(feature_names_out=&lt;function ratio_name at 0x7fa76c3241f0&gt;,\n",
       "                    func=&lt;function column_ratio at 0x7fa76c30f940&gt;)</pre></div></div></div><div class=\"sk-item\"><div class=\"sk-estimator sk-toggleable\"><input class=\"sk-toggleable__control sk-hidden--visually\" id=\"2efd1431-04cf-4cfb-9cc3-73d0cfe003d8\" type=\"checkbox\" ><label for=\"2efd1431-04cf-4cfb-9cc3-73d0cfe003d8\" class=\"sk-toggleable__label sk-toggleable__label-arrow\">StandardScaler</label><div class=\"sk-toggleable__content\"><pre>StandardScaler()</pre></div></div></div></div></div></div></div></div><div class=\"sk-parallel-item\"><div class=\"sk-item\"><div class=\"sk-label-container\"><div class=\"sk-label sk-toggleable\"><input class=\"sk-toggleable__control sk-hidden--visually\" id=\"27e6cce5-4807-43cd-8e42-256fc3e6e600\" type=\"checkbox\" ><label for=\"27e6cce5-4807-43cd-8e42-256fc3e6e600\" class=\"sk-toggleable__label sk-toggleable__label-arrow\">Race</label><div class=\"sk-toggleable__content\"><pre>[&#x27;PctWhite&#x27;, &#x27;PctBlack&#x27;, &#x27;PctAsian&#x27;, &#x27;PctOtherRace&#x27;]</pre></div></div></div><div class=\"sk-serial\"><div class=\"sk-item\"><div class=\"sk-serial\"><div class=\"sk-item\"><div class=\"sk-estimator sk-toggleable\"><input class=\"sk-toggleable__control sk-hidden--visually\" id=\"17228184-f112-44c6-9831-1f9413d988ff\" type=\"checkbox\" ><label for=\"17228184-f112-44c6-9831-1f9413d988ff\" class=\"sk-toggleable__label sk-toggleable__label-arrow\">SimpleImputer</label><div class=\"sk-toggleable__content\"><pre>SimpleImputer()</pre></div></div></div><div class=\"sk-item\"><div class=\"sk-estimator sk-toggleable\"><input class=\"sk-toggleable__control sk-hidden--visually\" id=\"0db8297d-bf1c-4314-b966-3c9b155072d4\" type=\"checkbox\" ><label for=\"0db8297d-bf1c-4314-b966-3c9b155072d4\" class=\"sk-toggleable__label sk-toggleable__label-arrow\">FunctionTransformer</label><div class=\"sk-toggleable__content\"><pre>FunctionTransformer(feature_names_out=&lt;function ratio_name at 0x7fa76c3241f0&gt;,\n",
       "                    func=&lt;function column_ratio at 0x7fa76c30f940&gt;)</pre></div></div></div><div class=\"sk-item\"><div class=\"sk-estimator sk-toggleable\"><input class=\"sk-toggleable__control sk-hidden--visually\" id=\"7d563f82-2a1b-416d-94c2-6d35269a9c4a\" type=\"checkbox\" ><label for=\"7d563f82-2a1b-416d-94c2-6d35269a9c4a\" class=\"sk-toggleable__label sk-toggleable__label-arrow\">StandardScaler</label><div class=\"sk-toggleable__content\"><pre>StandardScaler()</pre></div></div></div></div></div></div></div></div><div class=\"sk-parallel-item\"><div class=\"sk-item\"><div class=\"sk-label-container\"><div class=\"sk-label sk-toggleable\"><input class=\"sk-toggleable__control sk-hidden--visually\" id=\"276fda05-da12-44f9-b8a8-3053e7e6cc67\" type=\"checkbox\" ><label for=\"276fda05-da12-44f9-b8a8-3053e7e6cc67\" class=\"sk-toggleable__label sk-toggleable__label-arrow\">BirthRate</label><div class=\"sk-toggleable__content\"><pre>[&#x27;BirthRate&#x27;]</pre></div></div></div><div class=\"sk-serial\"><div class=\"sk-item\"><div class=\"sk-serial\"><div class=\"sk-item\"><div class=\"sk-estimator sk-toggleable\"><input class=\"sk-toggleable__control sk-hidden--visually\" id=\"a6cb5c1e-a55c-4fd9-bcdb-d0d923b65f3a\" type=\"checkbox\" ><label for=\"a6cb5c1e-a55c-4fd9-bcdb-d0d923b65f3a\" class=\"sk-toggleable__label sk-toggleable__label-arrow\">SimpleImputer</label><div class=\"sk-toggleable__content\"><pre>SimpleImputer()</pre></div></div></div><div class=\"sk-item\"><div class=\"sk-estimator sk-toggleable\"><input class=\"sk-toggleable__control sk-hidden--visually\" id=\"34f4a3ec-e29b-45fa-903c-4c7d569a15ed\" type=\"checkbox\" ><label for=\"34f4a3ec-e29b-45fa-903c-4c7d569a15ed\" class=\"sk-toggleable__label sk-toggleable__label-arrow\">StandardScaler</label><div class=\"sk-toggleable__content\"><pre>StandardScaler()</pre></div></div></div></div></div></div></div></div><div class=\"sk-parallel-item\"><div class=\"sk-item\"><div class=\"sk-label-container\"><div class=\"sk-label sk-toggleable\"><input class=\"sk-toggleable__control sk-hidden--visually\" id=\"81688d58-2dca-4953-83b5-892b006cb57b\" type=\"checkbox\" ><label for=\"81688d58-2dca-4953-83b5-892b006cb57b\" class=\"sk-toggleable__label sk-toggleable__label-arrow\">Geography</label><div class=\"sk-toggleable__content\"><pre>&lt;sklearn.compose._column_transformer.make_column_selector object at 0x7fa76f6bd370&gt;</pre></div></div></div><div class=\"sk-serial\"><div class=\"sk-item\"><div class=\"sk-serial\"><div class=\"sk-item\"><div class=\"sk-estimator sk-toggleable\"><input class=\"sk-toggleable__control sk-hidden--visually\" id=\"31c5b7ca-b904-45e2-b5d5-fdd1757cbfaa\" type=\"checkbox\" ><label for=\"31c5b7ca-b904-45e2-b5d5-fdd1757cbfaa\" class=\"sk-toggleable__label sk-toggleable__label-arrow\">SimpleImputer</label><div class=\"sk-toggleable__content\"><pre>SimpleImputer(strategy=&#x27;most_frequent&#x27;)</pre></div></div></div><div class=\"sk-item\"><div class=\"sk-estimator sk-toggleable\"><input class=\"sk-toggleable__control sk-hidden--visually\" id=\"f8e006a7-f958-458a-af70-5e5d1e7a1efe\" type=\"checkbox\" ><label for=\"f8e006a7-f958-458a-af70-5e5d1e7a1efe\" class=\"sk-toggleable__label sk-toggleable__label-arrow\">OneHotEncoder</label><div class=\"sk-toggleable__content\"><pre>OneHotEncoder(handle_unknown=&#x27;ignore&#x27;)</pre></div></div></div></div></div></div></div></div><div class=\"sk-parallel-item\"><div class=\"sk-item\"><div class=\"sk-label-container\"><div class=\"sk-label sk-toggleable\"><input class=\"sk-toggleable__control sk-hidden--visually\" id=\"a31f14c8-e0ac-4b02-97d2-2a31b0eb43c7\" type=\"checkbox\" ><label for=\"a31f14c8-e0ac-4b02-97d2-2a31b0eb43c7\" class=\"sk-toggleable__label sk-toggleable__label-arrow\">remainder</label><div class=\"sk-toggleable__content\"><pre>[]</pre></div></div></div><div class=\"sk-serial\"><div class=\"sk-item\"><div class=\"sk-serial\"><div class=\"sk-item\"><div class=\"sk-estimator sk-toggleable\"><input class=\"sk-toggleable__control sk-hidden--visually\" id=\"9a67ee66-1836-4cee-8800-a348561f1207\" type=\"checkbox\" ><label for=\"9a67ee66-1836-4cee-8800-a348561f1207\" class=\"sk-toggleable__label sk-toggleable__label-arrow\">SimpleImputer</label><div class=\"sk-toggleable__content\"><pre>SimpleImputer()</pre></div></div></div><div class=\"sk-item\"><div class=\"sk-estimator sk-toggleable\"><input class=\"sk-toggleable__control sk-hidden--visually\" id=\"5a0f866f-8e0b-47d1-a40d-b16afa82feaf\" type=\"checkbox\" ><label for=\"5a0f866f-8e0b-47d1-a40d-b16afa82feaf\" class=\"sk-toggleable__label sk-toggleable__label-arrow\">StandardScaler</label><div class=\"sk-toggleable__content\"><pre>StandardScaler()</pre></div></div></div></div></div></div></div></div></div></div><div class=\"sk-item\"><div class=\"sk-estimator sk-toggleable\"><input class=\"sk-toggleable__control sk-hidden--visually\" id=\"894683ee-efd6-4d16-8c78-9da7f4bcf4b2\" type=\"checkbox\" ><label for=\"894683ee-efd6-4d16-8c78-9da7f4bcf4b2\" class=\"sk-toggleable__label sk-toggleable__label-arrow\">ElasticNet</label><div class=\"sk-toggleable__content\"><pre>ElasticNet(alpha=0.1, normalize=False, random_state=42)</pre></div></div></div></div></div></div></div>"
      ],
      "text/plain": [
       "Pipeline(steps=[('preprocessing',\n",
       "                 ColumnTransformer(remainder=Pipeline(steps=[('simpleimputer',\n",
       "                                                              SimpleImputer()),\n",
       "                                                             ('standardscaler',\n",
       "                                                              StandardScaler())]),\n",
       "                                   transformers=[('avgAnnCount',\n",
       "                                                  Pipeline(steps=[('simpleimputer',\n",
       "                                                                   SimpleImputer()),\n",
       "                                                                  ('standardscaler',\n",
       "                                                                   StandardScaler())]),\n",
       "                                                  ['avgAnnCount']),\n",
       "                                                 ('avgDeathsPerYear',\n",
       "                                                  Pipeline(steps=[('simpleimputer',\n",
       "                                                                   SimpleImputer(...\n",
       "                                                                  ('standardscaler',\n",
       "                                                                   StandardScaler())]),\n",
       "                                                  ['BirthRate']),\n",
       "                                                 ('Geography',\n",
       "                                                  Pipeline(steps=[('simpleimputer',\n",
       "                                                                   SimpleImputer(strategy='most_frequent')),\n",
       "                                                                  ('onehotencoder',\n",
       "                                                                   OneHotEncoder(handle_unknown='ignore'))]),\n",
       "                                                  <sklearn.compose._column_transformer.make_column_selector object at 0x7fa76f6bd370>)])),\n",
       "                ('Elastic',\n",
       "                 ElasticNet(alpha=0.1, normalize=False, random_state=42))])"
      ]
     },
     "execution_count": 84,
     "metadata": {},
     "output_type": "execute_result"
    }
   ],
   "source": [
    "final_model = Pipeline([\n",
    "    (\"preprocessing\", preprocessing),\n",
    "    (\"Elastic\", ElasticNet(alpha=0.1, fit_intercept=True, l1_ratio=0.5, normalize=False, random_state=42)),\n",
    "])\n",
    "\n",
    "final_model.fit(cancer, cancer_labels)"
   ]
  },
  {
   "cell_type": "markdown",
   "metadata": {
    "id": "bC0Bms9wHaXz",
    "slideshow": {
     "slide_type": "slide"
    }
   },
   "source": [
    "Here I am saving the results from the prediction using the final model and the validation data, then using its results to calculate a performance measure score."
   ]
  },
  {
   "cell_type": "code",
   "execution_count": 85,
   "metadata": {
    "id": "_Y5Tr4ULj4US"
   },
   "outputs": [],
   "source": [
    "cancer_predictions = final_model.predict(cancer)"
   ]
  },
  {
   "cell_type": "code",
   "execution_count": 86,
   "metadata": {
    "colab": {
     "base_uri": "https://localhost:8080/"
    },
    "id": "ImhmnlswkBJQ",
    "outputId": "57445245-5932-490c-d339-1b0423b5d29b"
   },
   "outputs": [
    {
     "data": {
      "text/plain": [
       "19.51453939828682"
      ]
     },
     "execution_count": 86,
     "metadata": {},
     "output_type": "execute_result"
    }
   ],
   "source": [
    "lin_rmse = mean_squared_error(cancer_labels, cancer_predictions,\n",
    "                              squared=False)\n",
    "lin_rmse"
   ]
  },
  {
   "cell_type": "markdown",
   "metadata": {
    "id": "-3IUcjesHxIj",
    "slideshow": {
     "slide_type": "slide"
    }
   },
   "source": [
    "Here I am using the test set that I created near the begining of this project, and I and using it to fit the model and predict TARGET_deathRate values. Lastly I take a look at the final performance measure scores."
   ]
  },
  {
   "cell_type": "code",
   "execution_count": 87,
   "metadata": {
    "colab": {
     "base_uri": "https://localhost:8080/"
    },
    "id": "ZKzuRBxgl-vN",
    "outputId": "73486483-2357-4572-a12e-1fa413d62188"
   },
   "outputs": [
    {
     "name": "stdout",
     "output_type": "stream",
     "text": [
      "19.36552444029631\n"
     ]
    }
   ],
   "source": [
    "x_test = strat_test_set.drop(\"TARGET_deathRate\", axis=1)\n",
    "y_test = strat_test_set[\"TARGET_deathRate\"].copy()\n",
    "\n",
    "final_predictions = final_model.predict(x_test)\n",
    "\n",
    "final_rmse = mean_squared_error(y_test, final_predictions, squared=False)\n",
    "print(final_rmse)"
   ]
  },
  {
   "cell_type": "markdown",
   "metadata": {
    "id": "5ocLVS_8IFJK",
    "slideshow": {
     "slide_type": "slide"
    }
   },
   "source": [
    "Lastly, these are some of the predicted values of the test set compared to the actual values."
   ]
  },
  {
   "cell_type": "code",
   "execution_count": 88,
   "metadata": {
    "colab": {
     "base_uri": "https://localhost:8080/"
    },
    "id": "weHKswf7xnXj",
    "outputId": "6d058367-9af3-4ac1-ce06-0c2fce38df7a"
   },
   "outputs": [
    {
     "data": {
      "text/plain": [
       "array([178.37463274, 161.58515358, 158.42016984, 163.44348789,\n",
       "       161.96271999])"
      ]
     },
     "execution_count": 88,
     "metadata": {},
     "output_type": "execute_result"
    }
   ],
   "source": [
    "final_predictions[:5]"
   ]
  },
  {
   "cell_type": "code",
   "execution_count": 89,
   "metadata": {
    "colab": {
     "base_uri": "https://localhost:8080/"
    },
    "id": "il8wFVCextau",
    "outputId": "4fa7a4c2-3f40-48e9-c5ed-d44ab3538e35"
   },
   "outputs": [
    {
     "data": {
      "text/plain": [
       "67      172.2\n",
       "157     155.6\n",
       "1694    144.6\n",
       "2520    153.7\n",
       "2454    151.9\n",
       "Name: TARGET_deathRate, dtype: float64"
      ]
     },
     "execution_count": 89,
     "metadata": {},
     "output_type": "execute_result"
    }
   ],
   "source": [
    "y_test.iloc[:5]"
   ]
  },
  {
   "cell_type": "markdown",
   "metadata": {
    "slideshow": {
     "slide_type": "slide"
    }
   },
   "source": [
    "# Conclusion"
   ]
  }
 ],
 "metadata": {
  "celltoolbar": "Slideshow",
  "colab": {
   "provenance": []
  },
  "kernelspec": {
   "display_name": "Python 3 (ipykernel)",
   "language": "python",
   "name": "python3"
  },
  "language_info": {
   "codemirror_mode": {
    "name": "ipython",
    "version": 3
   },
   "file_extension": ".py",
   "mimetype": "text/x-python",
   "name": "python",
   "nbconvert_exporter": "python",
   "pygments_lexer": "ipython3",
   "version": "3.9.13"
  }
 },
 "nbformat": 4,
 "nbformat_minor": 1
}
